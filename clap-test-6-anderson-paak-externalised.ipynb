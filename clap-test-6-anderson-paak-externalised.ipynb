{
 "cells": [
  {
   "metadata": {
    "ExecuteTime": {
     "end_time": "2025-07-06T18:19:23.526092Z",
     "start_time": "2025-07-06T18:19:23.521198Z"
    }
   },
   "cell_type": "code",
   "source": [
    "\n",
    "#!pip install transformers librosa soundfile numpy\"<\"2 torch torchaudio fast-tsp kmedoids\n"
   ],
   "id": "b7880da606420f96",
   "outputs": [],
   "execution_count": 1
  },
  {
   "cell_type": "markdown",
   "id": "3cb23ac2-7d44-42dc-8acf-0df92184c026",
   "metadata": {},
   "source": "# Setup"
  },
  {
   "metadata": {
    "ExecuteTime": {
     "end_time": "2025-07-06T19:28:52.828867Z",
     "start_time": "2025-07-06T19:25:33.795812Z"
    }
   },
   "cell_type": "code",
   "source": [
    "import os\n",
    "%load_ext autoreload\n",
    "%autoreload 2\n",
    "\n",
    "from clap_slice import AudioOrderer, CLAPWrapper\n",
    "\n",
    "import torch\n",
    "torch.set_grad_enabled(False)\n",
    "\n",
    "clap = CLAPWrapper()"
   ],
   "id": "5a78d7169b407d7d",
   "outputs": [
    {
     "name": "stderr",
     "output_type": "stream",
     "text": [
      "objc[77660]: Class AVFFrameReceiver is implemented in both /usr/local/Cellar/ffmpeg/6.1_1/lib/libavdevice.60.3.100.dylib (0x16e697378) and /Users/damian/2.current/clapSlice/venv/lib/python3.12/site-packages/av/.dylibs/libavdevice.61.3.100.dylib (0x1867b23b0). One of the two will be used. Which one is undefined.\n",
      "objc[77660]: Class AVFAudioReceiver is implemented in both /usr/local/Cellar/ffmpeg/6.1_1/lib/libavdevice.60.3.100.dylib (0x16e6973c8) and /Users/damian/2.current/clapSlice/venv/lib/python3.12/site-packages/av/.dylibs/libavdevice.61.3.100.dylib (0x1867b2400). One of the two will be used. Which one is undefined.\n"
     ]
    },
    {
     "name": "stdout",
     "output_type": "stream",
     "text": [
      "initilizing CLAP\n"
     ]
    }
   ],
   "execution_count": 1
  },
  {
   "metadata": {},
   "cell_type": "markdown",
   "source": "# Run",
   "id": "6d42f4e095b6da6d"
  },
  {
   "metadata": {
    "ExecuteTime": {
     "end_time": "2025-07-06T19:28:53.705053Z",
     "start_time": "2025-07-06T19:28:53.059297Z"
    }
   },
   "cell_type": "code",
   "source": [
    "filename = '/Users/damian/2.current/clapSlice/outputs/Anderson .Paak - Come Down (Official Video).mp3'\n",
    "bpm = 98.4 #97.62396675\n",
    "\n",
    "audio_orderer = AudioOrderer(clap=clap, source_audio_path=filename, bpm=bpm)"
   ],
   "id": "2e4669aea3b11fe8",
   "outputs": [
    {
     "name": "stdout",
     "output_type": "stream",
     "text": [
      "loaded waveform with shape torch.Size([2, 8381475]) , sampling rate 48000\n"
     ]
    }
   ],
   "execution_count": 2
  },
  {
   "metadata": {
    "ExecuteTime": {
     "end_time": "2025-07-06T19:34:00.005036Z",
     "start_time": "2025-07-06T19:33:49.617498Z"
    }
   },
   "cell_type": "code",
   "source": [
    "chunk_beats = 8\n",
    "window_width = 0\n",
    "sort_order = audio_orderer.make_order(chunk_beats=chunk_beats, preserve_start_and_end=True)\n",
    "sort_order"
   ],
   "id": "d5d30b5e7ea5cb98",
   "outputs": [
    {
     "data": {
      "text/plain": [
       "  0%|          | 0/35 [00:00<?, ?it/s]"
      ],
      "application/vnd.jupyter.widget-view+json": {
       "version_major": 2,
       "version_minor": 0,
       "model_id": "9ea655898fc44b0180f8bc287119d651"
      }
     },
     "metadata": {},
     "output_type": "display_data"
    },
    {
     "name": "stdout",
     "output_type": "stream",
     "text": [
      "computing distance matrix\n",
      "computing route\n"
     ]
    },
    {
     "data": {
      "text/plain": [
       "AudioOrdering(source_audio='/Users/damian/2.current/clapSlice/outputs/Anderson .Paak - Come Down (Official Video).mp3', bpm=98.4, chunk_beats=8, sort_order=tensor([ 0,  1, 31, 30, 17, 29, 27, 15, 26, 14, 25, 13, 24, 23, 11, 10, 20, 12,\n",
       "        19, 21, 22,  9, 18, 32, 16, 28,  7,  8,  6,  5,  3,  4,  2, 33, 34]), window_width=0)"
      ]
     },
     "execution_count": 11,
     "metadata": {},
     "output_type": "execute_result"
    }
   ],
   "execution_count": 11
  },
  {
   "metadata": {
    "ExecuteTime": {
     "end_time": "2025-07-06T19:34:00.568264Z",
     "start_time": "2025-07-06T19:34:00.479510Z"
    }
   },
   "cell_type": "code",
   "source": [
    "from clap_slice.audio_ordering_candidates_registry import save_candidate\n",
    "#save_candidate(sort_order)"
   ],
   "id": "74c0ec5e92cebbcc",
   "outputs": [
    {
     "data": {
      "text/plain": [
       "'./audio_ordering_candidates_registry/Anderson .Paak - Come Down (Official Video).mp3/candidate_1.pkl'"
      ]
     },
     "execution_count": 12,
     "metadata": {},
     "output_type": "execute_result"
    }
   ],
   "execution_count": 12
  },
  {
   "metadata": {
    "ExecuteTime": {
     "end_time": "2025-07-06T19:34:06.472356Z",
     "start_time": "2025-07-06T19:34:05.967481Z"
    }
   },
   "cell_type": "code",
   "source": [
    "from clap_slice import SmearModifier\n",
    "\n",
    "smear_modifiers = [\n",
    "    SmearModifier(smear_width=1, spread=4, match_embedding=clap.get_text_features(\"vocal, song, emotional singing\")),\n",
    "    SmearModifier(smear_width=2, spread=1, match_embedding=clap.get_text_features(\"instrumental\"))\n",
    "]"
   ],
   "id": "4708176ec4c2d175",
   "outputs": [],
   "execution_count": 13
  },
  {
   "metadata": {
    "ExecuteTime": {
     "end_time": "2025-07-06T19:34:12.107100Z",
     "start_time": "2025-07-06T19:34:07.246442Z"
    }
   },
   "cell_type": "code",
   "source": [
    "\n",
    "\n",
    "audio_ordering_result = audio_orderer.apply_order(\n",
    "    audio_ordering=sort_order,\n",
    "    smear_width=2,\n",
    "    spread=0,\n",
    "    wrap_mode='bleed',\n",
    "    save=True,\n",
    "    smear_modifiers=smear_modifiers,\n",
    "    smooth_smear_modifiers=True\n",
    ")\n",
    "!open outputs\n",
    "#Audio(result.output_audio, rate=audio_orderer.sampling_rate)\n",
    "#print(ordered.shape)"
   ],
   "id": "2c1bf7a2001e946f",
   "outputs": [
    {
     "name": "stdout",
     "output_type": "stream",
     "text": [
      "[0, 1, 31, 30, 17, 29, 27, 15, 26, 14, 25, 13, 24, 23, 11, 10, 20, 12, 19, 21, 22, 9, 18, 32, 16, 28, 7, 8, 6, 5, 3, 4, 2, 33, 34]\n",
      "smear width: 1.586115837097168  spread: 2.241652488708496 -> 2 2\n",
      "smear width: 1.645477056503296  spread: 2.063568115234375 -> 2 2\n",
      "smear width: 1.4874804019927979  spread: 2.5375595092773438 -> 1 3\n",
      "smear width: 1.5476009845733643  spread: 2.357196569442749 -> 2 2\n",
      "smear width: 1.5516889095306396  spread: 2.344932794570923 -> 2 2\n",
      "smear width: 1.5988523960113525  spread: 2.2034430503845215 -> 2 2\n",
      "smear width: 1.6059120893478394  spread: 2.1822636127471924 -> 2 2\n",
      "smear width: 1.5897855758666992  spread: 2.2306430339813232 -> 2 2\n",
      "smear width: 1.600127100944519  spread: 2.1996185779571533 -> 2 2\n",
      "smear width: 1.585795283317566  spread: 2.242614269256592 -> 2 2\n",
      "smear width: 1.5624415874481201  spread: 2.3126754760742188 -> 2 2\n",
      "smear width: 1.5310919284820557  spread: 2.406723976135254 -> 2 2\n",
      "smear width: 1.6349599361419678  spread: 2.0951199531555176 -> 2 2\n",
      "smear width: 1.5774980783462524  spread: 2.267505407333374 -> 2 2\n",
      "smear width: 1.5024034976959229  spread: 2.4927895069122314 -> 2 2\n",
      "smear width: 1.524445652961731  spread: 2.4266626834869385 -> 2 2\n",
      "smear width: 1.5203505754470825  spread: 2.438948154449463 -> 2 2\n",
      "smear width: 1.521199345588684  spread: 2.436401844024658 -> 2 2\n",
      "smear width: 1.5443696975708008  spread: 2.3668906688690186 -> 2 2\n",
      "smear width: 1.5519905090332031  spread: 2.3440282344818115 -> 2 2\n",
      "smear width: 1.5828310251235962  spread: 2.251506805419922 -> 2 2\n",
      "smear width: 1.6698890924453735  spread: 1.990333080291748 -> 2 2\n",
      "smear width: 1.6098482608795166  spread: 2.17045521736145 -> 2 2\n",
      "smear width: 1.5552356243133545  spread: 2.3342933654785156 -> 2 2\n",
      "smear width: 1.5761520862579346  spread: 2.271543502807617 -> 2 2\n",
      "smear width: 1.579406976699829  spread: 2.261779308319092 -> 2 2\n",
      "smear width: 1.6489386558532715  spread: 2.0531840324401855 -> 2 2\n",
      "smear width: 1.6894006729125977  spread: 1.9317981004714966 -> 2 2\n",
      "smear width: 1.5395079851150513  spread: 2.3814761638641357 -> 2 2\n",
      "smear width: 1.5583893060684204  spread: 2.3248322010040283 -> 2 2\n",
      "smear width: 1.609397053718567  spread: 2.1718087196350098 -> 2 2\n",
      "smear width: 1.6055445671081543  spread: 2.1833667755126953 -> 2 2\n",
      "smear width: 1.6252260208129883  spread: 2.1243224143981934 -> 2 2\n",
      "smear width: 1.763892650604248  spread: 1.7083215713500977 -> 2 2\n",
      "smear width: 1.8207803964614868  spread: 1.5376590490341187 -> 2 2\n",
      "saved to /Users/damian/2.current/clapSlice/outputs/Anderson .Paak - Come Down (Official Video).mp3-sorted-bpm98.4-cb8-ww0-smeared-dyn.wav.mp3\n"
     ]
    },
    {
     "name": "stderr",
     "output_type": "stream",
     "text": [
      "huggingface/tokenizers: The current process just got forked, after parallelism has already been used. Disabling parallelism to avoid deadlocks...\n",
      "To disable this warning, you can either:\n",
      "\t- Avoid using `tokenizers` before the fork if possible\n",
      "\t- Explicitly set the environment variable TOKENIZERS_PARALLELISM=(true | false)\n"
     ]
    }
   ],
   "execution_count": 14
  },
  {
   "metadata": {},
   "cell_type": "markdown",
   "source": "# Video",
   "id": "ee97337e9f9f6a25"
  },
  {
   "metadata": {},
   "cell_type": "code",
   "source": [
    "from clap_slice import VideoChunkCache\n",
    "from clap_slice import VideoWriter, apply_audio_smear_to_video\n",
    "from pytorchvideo.data.encoded_video import EncodedVideo\n",
    "\n",
    "video_in_filename = 'outputs/Dua Lipa - Be The One (Official Music Video) (480p_25fps_H264-128kbit_AAC).mp4'\n",
    "\n",
    "video = EncodedVideo.from_path(video_in_filename, decode_audio=False)\n",
    "video_chunk_cache = VideoChunkCache(video=video,\n",
    "                                    chunk_size_seconds=audio_orderer.get_chunk_size_seconds(sort_order.chunk_beats),\n",
    "                                    max_cache_size=30)"
   ],
   "id": "428d46fc3f853cdd",
   "execution_count": null,
   "outputs": []
  },
  {
   "metadata": {
    "ExecuteTime": {
     "start_time": "2025-07-06T18:27:59.523834Z"
    }
   },
   "cell_type": "code",
   "source": [
    "blend_mode = 'max'\n",
    "video_writer = VideoWriter(output_path=f'outputs/Dua Lipa - Be The One (Official Music Video).mp3-sorted-bpm87.5-cb2-ww0-smeared-dyn.wav.mp3.{blend_mode}-sqrt2.mp4', fps=25, width=720, height=480)\n",
    "\n",
    "apply_audio_smear_to_video(video_chunk_cache,\n",
    "                           video_writer,\n",
    "                           smear_details=audio_ordering_result.smear_details,\n",
    "                           blend_mode=blend_mode,\n",
    "                           max_chunks_to_write=None)\n",
    "\n",
    "video_writer.close()"
   ],
   "id": "fb05c92d1ab62358",
   "outputs": [
    {
     "name": "stdout",
     "output_type": "stream",
     "text": [
      "normalization_scaling: 0.4870553945448325\n"
     ]
    },
    {
     "data": {
      "text/plain": [
       "  0%|          | 0/152 [00:00<?, ?it/s]"
      ],
      "application/vnd.jupyter.widget-view+json": {
       "version_major": 2,
       "version_minor": 0,
       "model_id": "1c7bc4533b0e43269c0e84a9908b1f8d"
      }
     },
     "metadata": {},
     "output_type": "display_data"
    },
    {
     "name": "stdout",
     "output_type": "stream",
     "text": [
      "loaded chunk 22\n",
      "loaded chunk 11\n",
      "loaded chunk 23\n",
      "loaded chunk 12\n",
      "loaded chunk 24\n",
      "loaded chunk 13\n",
      "evicting chunk 0\n",
      "loaded chunk 14\n",
      "evicting chunk 1\n",
      "loaded chunk 15\n",
      "evicting chunk 2\n",
      "loaded chunk 16\n",
      "evicting chunk 3\n",
      "loaded chunk 17\n",
      "evicting chunk 4\n",
      "loaded chunk 8\n",
      "evicting chunk 5\n",
      "loaded chunk 9\n",
      "evicting chunk 91\n",
      "loaded chunk 18\n",
      "evicting chunk 97\n",
      "loaded chunk 10\n",
      "evicting chunk 40\n",
      "loaded chunk 71\n",
      "evicting chunk 92\n",
      "loaded chunk 72\n",
      "evicting chunk 35\n",
      "loaded chunk 70\n",
      "evicting chunk 41\n",
      "loaded chunk 73\n",
      "evicting chunk 93\n",
      "loaded chunk 74\n",
      "evicting chunk 36\n",
      "loaded chunk 64\n",
      "evicting chunk 96\n",
      "loaded chunk 75\n",
      "evicting chunk 94\n",
      "loaded chunk 65\n",
      "evicting chunk 37\n",
      "loaded chunk 66\n",
      "evicting chunk 95\n",
      "loaded chunk 76\n",
      "evicting chunk 38\n",
      "loaded chunk 67\n",
      "evicting chunk 39\n",
      "loaded chunk 62\n",
      "evicting chunk 24\n",
      "loaded chunk 77\n",
      "evicting chunk 13\n",
      "loaded chunk 68\n",
      "evicting chunk 23\n",
      "loaded chunk 63\n",
      "evicting chunk 14\n",
      "loaded chunk 78\n",
      "evicting chunk 6\n",
      "loaded chunk 69\n",
      "evicting chunk 7\n",
      "loaded chunk 23\n",
      "evicting chunk 8\n",
      "loaded chunk 24\n",
      "evicting chunk 15\n",
      "loaded chunk 79\n",
      "evicting chunk 9\n",
      "loaded chunk 86\n",
      "evicting chunk 16\n",
      "loaded chunk 25\n",
      "evicting chunk 10\n",
      "loaded chunk 80\n",
      "evicting chunk 11\n",
      "loaded chunk 87\n",
      "evicting chunk 17\n",
      "loaded chunk 85\n",
      "evicting chunk 12\n",
      "loaded chunk 26\n",
      "evicting chunk 18\n",
      "loaded chunk 81\n",
      "evicting chunk 20\n",
      "loaded chunk 88\n",
      "evicting chunk 19\n",
      "loaded chunk 27\n",
      "evicting chunk 71\n",
      "loaded chunk 82\n",
      "evicting chunk 72\n",
      "loaded chunk 89\n",
      "evicting chunk 73\n",
      "loaded chunk 28\n",
      "evicting chunk 74\n",
      "loaded chunk 83\n",
      "evicting chunk 75\n",
      "loaded chunk 90\n",
      "evicting chunk 76\n",
      "loaded chunk 84\n",
      "evicting chunk 62\n",
      "loaded chunk 91\n",
      "evicting chunk 63\n",
      "loaded chunk 31\n",
      "evicting chunk 69\n",
      "loaded chunk 92\n",
      "evicting chunk 64\n",
      "loaded chunk 32\n",
      "evicting chunk 70\n",
      "loaded chunk 33\n",
      "evicting chunk 65\n",
      "loaded chunk 34\n",
      "evicting chunk 85\n",
      "loaded chunk 35\n",
      "evicting chunk 66\n",
      "loaded chunk 93\n",
      "evicting chunk 67\n",
      "loaded chunk 36\n",
      "evicting chunk 86\n",
      "loaded chunk 30\n",
      "evicting chunk 21\n",
      "loaded chunk 37\n",
      "evicting chunk 68\n",
      "loaded chunk 29\n",
      "evicting chunk 22\n",
      "loaded chunk 85\n",
      "evicting chunk 77\n",
      "loaded chunk 76\n",
      "evicting chunk 78\n",
      "loaded chunk 77\n",
      "evicting chunk 87\n",
      "loaded chunk 96\n",
      "evicting chunk 88\n",
      "loaded chunk 86\n",
      "evicting chunk 89\n",
      "loaded chunk 78\n",
      "evicting chunk 79\n",
      "loaded chunk 97\n",
      "evicting chunk 90\n",
      "loaded chunk 129\n",
      "evicting chunk 80\n",
      "loaded chunk 87\n",
      "evicting chunk 23\n",
      "loaded chunk 79\n",
      "evicting chunk 91\n",
      "loaded chunk 98\n",
      "evicting chunk 24\n",
      "loaded chunk 130\n",
      "evicting chunk 92\n",
      "loaded chunk 40\n",
      "evicting chunk 25\n",
      "loaded chunk 80\n",
      "evicting chunk 81\n",
      "loaded chunk 99\n",
      "evicting chunk 93\n",
      "loaded chunk 131\n",
      "evicting chunk 26\n",
      "loaded chunk 41\n",
      "evicting chunk 82\n",
      "loaded chunk 141\n",
      "evicting chunk 37\n",
      "loaded chunk 81\n",
      "evicting chunk 27\n",
      "loaded chunk 132\n",
      "evicting chunk 83\n",
      "loaded chunk 100\n",
      "evicting chunk 28\n",
      "loaded chunk 42\n",
      "evicting chunk 84\n",
      "loaded chunk 142\n",
      "evicting chunk 76\n",
      "loaded chunk 53\n",
      "evicting chunk 29\n",
      "loaded chunk 82\n",
      "evicting chunk 30\n",
      "loaded chunk 133\n",
      "evicting chunk 85\n",
      "loaded chunk 101\n",
      "evicting chunk 77\n",
      "loaded chunk 43\n",
      "evicting chunk 96\n",
      "loaded chunk 143\n",
      "evicting chunk 31\n",
      "loaded chunk 54\n",
      "evicting chunk 86\n",
      "loaded chunk 102\n",
      "evicting chunk 32\n",
      "loaded chunk 144\n",
      "evicting chunk 78\n",
      "loaded chunk 44\n",
      "evicting chunk 97\n",
      "loaded chunk 55\n",
      "evicting chunk 87\n",
      "loaded chunk 145\n",
      "evicting chunk 33\n",
      "loaded chunk 45\n",
      "evicting chunk 79\n",
      "loaded chunk 56\n",
      "evicting chunk 40\n",
      "loaded chunk 46\n",
      "evicting chunk 36\n",
      "loaded chunk 57\n",
      "evicting chunk 34\n",
      "loaded chunk 134\n",
      "evicting chunk 80\n",
      "loaded chunk 135\n",
      "evicting chunk 41\n",
      "loaded chunk 103\n",
      "evicting chunk 129\n",
      "loaded chunk 47\n",
      "evicting chunk 35\n",
      "loaded chunk 104\n",
      "evicting chunk 81\n",
      "loaded chunk 48\n",
      "evicting chunk 42\n",
      "loaded chunk 38\n",
      "evicting chunk 130\n",
      "loaded chunk 49\n",
      "evicting chunk 82\n",
      "loaded chunk 136\n",
      "evicting chunk 98\n",
      "loaded chunk 39\n",
      "evicting chunk 141\n",
      "loaded chunk 94\n",
      "evicting chunk 142\n",
      "loaded chunk 137\n",
      "evicting chunk 99\n",
      "loaded chunk 40\n",
      "evicting chunk 53\n",
      "loaded chunk 95\n",
      "evicting chunk 143\n",
      "loaded chunk 126\n",
      "evicting chunk 100\n",
      "loaded chunk 105\n",
      "evicting chunk 54\n",
      "loaded chunk 41\n",
      "evicting chunk 144\n",
      "loaded chunk 96\n",
      "evicting chunk 55\n",
      "loaded chunk 127\n",
      "evicting chunk 131\n",
      "loaded chunk 37\n",
      "evicting chunk 145\n",
      "loaded chunk 42\n",
      "evicting chunk 56\n",
      "loaded chunk 97\n",
      "evicting chunk 132\n",
      "loaded chunk 128\n",
      "evicting chunk 43\n",
      "loaded chunk 93\n",
      "evicting chunk 57\n",
      "loaded chunk 43\n",
      "evicting chunk 44\n",
      "loaded chunk 98\n",
      "evicting chunk 45\n",
      "loaded chunk 129\n",
      "evicting chunk 133\n",
      "loaded chunk 44\n",
      "evicting chunk 46\n",
      "loaded chunk 99\n",
      "evicting chunk 134\n",
      "loaded chunk 130\n",
      "evicting chunk 101\n",
      "loaded chunk 100\n",
      "evicting chunk 47\n",
      "loaded chunk 131\n",
      "evicting chunk 48\n",
      "loaded chunk 132\n",
      "evicting chunk 135\n",
      "loaded chunk 32\n",
      "evicting chunk 102\n",
      "loaded chunk 33\n",
      "evicting chunk 126\n",
      "loaded chunk 88\n",
      "evicting chunk 49\n",
      "loaded chunk 34\n",
      "evicting chunk 136\n",
      "loaded chunk 89\n",
      "evicting chunk 103\n",
      "loaded chunk 101\n",
      "evicting chunk 37\n",
      "loaded chunk 35\n",
      "evicting chunk 137\n",
      "loaded chunk 90\n",
      "evicting chunk 104\n",
      "loaded chunk 45\n",
      "evicting chunk 38\n",
      "loaded chunk 36\n",
      "evicting chunk 93\n"
     ]
    }
   ],
   "execution_count": null
  },
  {
   "metadata": {},
   "cell_type": "code",
   "outputs": [],
   "execution_count": null,
   "source": "",
   "id": "36274e63b0081986"
  }
 ],
 "metadata": {
  "kernelspec": {
   "display_name": "Python 3 (ipykernel)",
   "language": "python",
   "name": "python3"
  },
  "language_info": {
   "codemirror_mode": {
    "name": "ipython",
    "version": 3
   },
   "file_extension": ".py",
   "mimetype": "text/x-python",
   "name": "python",
   "nbconvert_exporter": "python",
   "pygments_lexer": "ipython3",
   "version": "3.12.1"
  }
 },
 "nbformat": 4,
 "nbformat_minor": 5
}
