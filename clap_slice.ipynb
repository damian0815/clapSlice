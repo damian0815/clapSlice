{
 "cells": [
  {
   "cell_type": "code",
   "id": "initial_id",
   "metadata": {
    "collapsed": true,
    "ExecuteTime": {
     "end_time": "2025-07-07T09:00:16.392077Z",
     "start_time": "2025-07-07T08:58:14.865524Z"
    }
   },
   "source": [
    "%load_ext autoreload\n",
    "%autoreload 2\n",
    "import torch\n",
    "\n",
    "torch.autograd.set_grad_enabled(False)\n",
    "from clap_slice import ClapSlice\n",
    "clap_slice = ClapSlice()"
   ],
   "outputs": [
    {
     "name": "stderr",
     "output_type": "stream",
     "text": [
      "objc[14399]: Class AVFFrameReceiver is implemented in both /usr/local/Cellar/ffmpeg/6.1_1/lib/libavdevice.60.3.100.dylib (0x170253378) and /Users/damian/2.current/clapSlice/venv/lib/python3.12/site-packages/av/.dylibs/libavdevice.61.3.100.dylib (0x188ba03b0). One of the two will be used. Which one is undefined.\n",
      "objc[14399]: Class AVFAudioReceiver is implemented in both /usr/local/Cellar/ffmpeg/6.1_1/lib/libavdevice.60.3.100.dylib (0x1702533c8) and /Users/damian/2.current/clapSlice/venv/lib/python3.12/site-packages/av/.dylibs/libavdevice.61.3.100.dylib (0x188ba0400). One of the two will be used. Which one is undefined.\n"
     ]
    },
    {
     "name": "stdout",
     "output_type": "stream",
     "text": [
      "initilizing CLAP\n"
     ]
    }
   ],
   "execution_count": 2
  },
  {
   "metadata": {
    "ExecuteTime": {
     "end_time": "2025-07-07T09:00:17.180518Z",
     "start_time": "2025-07-07T09:00:16.434911Z"
    }
   },
   "cell_type": "code",
   "source": [
    "from clap_slice import SmearModifier\n",
    "\n",
    "smear_modifiers = [\n",
    "    SmearModifier(smear_width=0, spread=2, match_embedding=clap_slice.clap.get_text_features(\"talking, rapping, softly speaking poetry\")),\n",
    "    SmearModifier(smear_width=2, spread=0, match_embedding=clap_slice.clap.get_text_features(\"instrumental\"))\n",
    "]\n"
   ],
   "id": "bb6110388690b2fe",
   "outputs": [],
   "execution_count": 3
  },
  {
   "metadata": {
    "ExecuteTime": {
     "end_time": "2025-07-06T22:36:50.627764Z",
     "start_time": "2025-07-06T22:36:40.764965Z"
    }
   },
   "cell_type": "code",
   "source": [
    "clap_slice.run_audio_ordering(input_filename='/Users/damian/2.current/clapSlice/outputs/Set adrift on Memory Bliss - PM Dawn (480p_30fps_H264-128kbit_AAC).mp4',\n",
    "                              bpm=101.276505960544361,\n",
    "                              chunk_size_beats=8,\n",
    "                              smear_modifiers=smear_modifiers\n",
    "                              )"
   ],
   "id": "adc2283e947b3bae",
   "outputs": [
    {
     "name": "stdout",
     "output_type": "stream",
     "text": [
      "loaded waveform with shape torch.Size([2, 11817657]) , sampling rate 48000\n"
     ]
    },
    {
     "data": {
      "text/plain": [
       "  0%|          | 0/51 [00:00<?, ?it/s]"
      ],
      "application/vnd.jupyter.widget-view+json": {
       "version_major": 2,
       "version_minor": 0,
       "model_id": "9f8c2e1960764797a1454d81bfd0c370"
      }
     },
     "metadata": {},
     "output_type": "display_data"
    },
    {
     "name": "stdout",
     "output_type": "stream",
     "text": [
      "computing route\n",
      "[0, 1, 2, 42, 8, 7, 41, 40, 22, 38, 36, 24, 48, 46, 39, 37, 23, 35, 21, 45, 49, 47, 50, 3, 43, 44, 4, 5, 6, 26, 10, 12, 25, 9, 14, 20, 18, 27, 17, 33, 28, 13, 11, 15, 16, 30, 19, 29, 34, 32, 31]\n",
      "smear width: 1.0055527687072754  spread: 0.9944471716880798 -> 1 1\n",
      "smear width: 1.225046157836914  spread: 0.7749539017677307 -> 1 1\n",
      "smear width: 1.152963399887085  spread: 0.847036600112915 -> 1 1\n",
      "smear width: 1.525022029876709  spread: 0.4749779999256134 -> 2 0\n",
      "smear width: 1.500502586364746  spread: 0.4994973838329315 -> 2 0\n",
      "smear width: 1.518029808998108  spread: 0.48197025060653687 -> 2 0\n",
      "smear width: 1.508386492729187  spread: 0.49161356687545776 -> 2 0\n",
      "smear width: 1.465010166168213  spread: 0.5349898934364319 -> 1 1\n",
      "smear width: 1.5064680576324463  spread: 0.4935319423675537 -> 2 0\n",
      "smear width: 1.5090802907943726  spread: 0.49091964960098267 -> 2 0\n",
      "smear width: 1.536997675895691  spread: 0.46300235390663147 -> 2 0\n",
      "smear width: 1.544439435005188  spread: 0.45556047558784485 -> 2 0\n",
      "smear width: 1.5088173151016235  spread: 0.4911826550960541 -> 2 0\n",
      "smear width: 1.5394684076309204  spread: 0.460531622171402 -> 2 0\n",
      "smear width: 1.5988729000091553  spread: 0.40112704038619995 -> 2 0\n",
      "smear width: 1.5550616979599  spread: 0.4449382722377777 -> 2 0\n",
      "smear width: 1.518900990486145  spread: 0.48109906911849976 -> 2 0\n",
      "smear width: 1.547316074371338  spread: 0.45268386602401733 -> 2 0\n",
      "smear width: 1.5801831483840942  spread: 0.4198167622089386 -> 2 0\n",
      "smear width: 1.6867843866348267  spread: 0.3132155239582062 -> 2 0\n",
      "smear width: 1.6583949327468872  spread: 0.34160512685775757 -> 2 0\n",
      "smear width: 1.600507378578186  spread: 0.3994925916194916 -> 2 0\n",
      "smear width: 1.4300323724746704  spread: 0.5699676275253296 -> 1 1\n",
      "smear width: 1.2150198221206665  spread: 0.7849801778793335 -> 1 1\n",
      "smear width: 1.2765812873840332  spread: 0.7234187126159668 -> 1 1\n",
      "smear width: 1.3942419290542603  spread: 0.6057581305503845 -> 1 1\n",
      "smear width: 1.3967821598052979  spread: 0.6032179594039917 -> 1 1\n",
      "smear width: 1.2939856052398682  spread: 0.7060143947601318 -> 1 1\n",
      "smear width: 1.31771719455719  spread: 0.6822828650474548 -> 1 1\n",
      "smear width: 1.3599199056625366  spread: 0.6400800943374634 -> 1 1\n",
      "smear width: 1.3427762985229492  spread: 0.6572237014770508 -> 1 1\n",
      "smear width: 1.3481662273406982  spread: 0.651833713054657 -> 1 1\n",
      "smear width: 1.411901593208313  spread: 0.5880984663963318 -> 1 1\n",
      "smear width: 1.4233320951461792  spread: 0.5766680836677551 -> 1 1\n",
      "smear width: 1.3605331182479858  spread: 0.6394668221473694 -> 1 1\n",
      "smear width: 1.3097845315933228  spread: 0.6902154684066772 -> 1 1\n",
      "smear width: 1.3522170782089233  spread: 0.6477829217910767 -> 1 1\n",
      "smear width: 1.4580936431884766  spread: 0.5419063568115234 -> 1 1\n",
      "smear width: 1.338818907737732  spread: 0.6611810326576233 -> 1 1\n",
      "smear width: 1.2458633184432983  spread: 0.7541368007659912 -> 1 1\n",
      "smear width: 1.3842469453811646  spread: 0.6157531142234802 -> 1 1\n",
      "smear width: 1.422269344329834  spread: 0.5777307152748108 -> 1 1\n",
      "smear width: 1.3651208877563477  spread: 0.6348791122436523 -> 1 1\n",
      "smear width: 1.2777258157730103  spread: 0.7222740650177002 -> 1 1\n",
      "smear width: 1.495932698249817  spread: 0.5040673017501831 -> 1 1\n",
      "smear width: 1.4510160684585571  spread: 0.5489839315414429 -> 1 1\n",
      "smear width: 1.4110867977142334  spread: 0.588913083076477 -> 1 1\n",
      "smear width: 1.3335366249084473  spread: 0.6664634346961975 -> 1 1\n",
      "smear width: 1.3641654253005981  spread: 0.6358345150947571 -> 1 1\n",
      "smear width: 1.1563671827316284  spread: 0.8436329364776611 -> 1 1\n",
      "smear width: 1.3501101732254028  spread: 0.6498899459838867 -> 1 1\n",
      "saved to /Users/damian/2.current/clapSlice/outputs/Set adrift on Memory Bliss - PM Dawn (480p_30fps_H264-128kbit_AAC).mp4-sorted-bpm101.27650596054436-cb8-ww0-smeared-dyn.wav.mp3\n"
     ]
    },
    {
     "data": {
      "text/plain": [
       "(AudioOrdering(source_audio='/Users/damian/2.current/clapSlice/outputs/Set adrift on Memory Bliss - PM Dawn (480p_30fps_H264-128kbit_AAC).mp4', bpm=101.27650596054436, chunk_beats=8, sort_order=tensor([ 0,  1,  2, 42,  8,  7, 41, 40, 22, 38, 36, 24, 48, 46, 39, 37, 23, 35,\n",
       "         21, 45, 49, 47, 50,  3, 43, 44,  4,  5,  6, 26, 10, 12, 25,  9, 14, 20,\n",
       "         18, 27, 17, 33, 28, 13, 11, 15, 16, 30, 19, 29, 34, 32, 31]), window_width=0),\n",
       " AudioOrderingResult(output_audio=tensor([[ 0.0000,  0.0000,  0.0000,  ..., -0.0077, -0.0069, -0.0078],\n",
       "         [ 0.0000,  0.0000,  0.0000,  ..., -0.0068, -0.0061, -0.0072]]), smear_details=[[Smear(0(-1.0 * 0.6324555277824402))], [Smear(0(-1.0 * 2.0)), Smear(1(-1.0 * 0.9486832618713379, ramp_out))], [Smear(0(-1.0 * 0.6324555277824402)), Smear(1(-1.0 * 3.0, ramp_out)), Smear(2(0.0 * 0.6324555277824402, ramp_out)), Smear(42(0 * 0.2154434621334076, ramp_in_out))], [Smear(1(-1.0 * 0.9486832618713379, ramp_out)), Smear(2(0.0 * 2.0, ramp_out)), Smear(3(1.0 * 0.3162277638912201, ramp_out)), Smear(8(0 * 0.2154434621334076, ramp_in_out)), Smear(42(0 * 0.4641588628292084, ramp_in_out))], [Smear(2(0.0 * 0.6324555277824402, ramp_out)), Smear(3(1.0 * 1.0, ramp_out)), Smear(7(0 * 0.2154434621334076, ramp_in_out)), Smear(8(0 * 0.4641588628292084, ramp_in_out)), Smear(42(0 * 1.0, ramp_in_out))], [Smear(3(1.0 * 0.3162277638912201, ramp_out)), Smear(7(0 * 0.4641588628292084, ramp_in_out)), Smear(8(0 * 1.0, ramp_in_out)), Smear(41(0 * 0.2154434621334076, ramp_in_out)), Smear(42(0 * 0.4641588628292084, ramp_in_out))], [Smear(7(0 * 1.0, ramp_in_out)), Smear(8(0 * 0.4641588628292084, ramp_in_out)), Smear(39(-1.0 * 0.3162277638912201, ramp_in)), Smear(41(0 * 0.4641588628292084, ramp_in_out)), Smear(42(0 * 0.2154434621334076, ramp_in_out))], [Smear(7(0 * 0.4641588628292084, ramp_in_out)), Smear(8(0 * 0.2154434621334076, ramp_in_out)), Smear(22(0 * 0.2154434621334076, ramp_in_out)), Smear(39(-1.0 * 1.0, ramp_in)), Smear(40(0.0 * 0.3162277638912201)), Smear(41(0 * 1.0, ramp_in_out))], [Smear(7(0 * 0.2154434621334076, ramp_in_out)), Smear(22(0 * 0.4641588628292084, ramp_in_out)), Smear(38(0 * 0.2154434621334076, ramp_in_out)), Smear(39(-1.0 * 0.3162277638912201, ramp_in)), Smear(40(0.0 * 1.0)), Smear(41(0 * 0.7803866267204285, ramp_in_out))], [Smear(22(0 * 1.0, ramp_in_out)), Smear(36(0 * 0.2154434621334076, ramp_in_out)), Smear(38(0 * 0.4641588628292084, ramp_in_out)), Smear(40(0.0 * 0.3162277638912201)), Smear(41(0 * 1.21544349193573, ramp_out))], [Smear(22(0 * 0.4641588628292084, ramp_in_out)), Smear(24(0 * 0.2154434621334076, ramp_in_out)), Smear(36(0 * 0.4641588628292084, ramp_in_out)), Smear(38(0 * 1.0, ramp_in_out)), Smear(41(1.0 * 0.3162277638912201, ramp_out))], [Smear(22(0 * 0.2154434621334076, ramp_in_out)), Smear(24(0 * 0.4641588628292084, ramp_in_out)), Smear(36(0 * 1.0, ramp_in_out)), Smear(38(0 * 0.4641588628292084, ramp_in_out)), Smear(48(0 * 0.2154434621334076, ramp_in_out))], [Smear(24(0 * 1.0, ramp_in_out)), Smear(36(0 * 0.4641588628292084, ramp_in_out)), Smear(38(0 * 0.2154434621334076, ramp_in_out)), Smear(46(0 * 0.2154434621334076, ramp_in_out)), Smear(48(0 * 0.4641588628292084, ramp_in_out))], [Smear(24(0 * 0.4641588628292084, ramp_in_out)), Smear(36(0 * 0.2154434621334076, ramp_in_out)), Smear(39(0 * 0.2154434621334076, ramp_in_out)), Smear(46(0 * 0.4641588628292084, ramp_in_out)), Smear(48(0 * 1.0, ramp_in_out))], [Smear(24(0 * 0.2154434621334076, ramp_in_out)), Smear(37(0 * 0.2154434621334076, ramp_in_out)), Smear(39(0 * 0.4641588628292084, ramp_in_out)), Smear(46(0 * 1.0, ramp_in_out)), Smear(48(0 * 0.4641588628292084, ramp_in_out))], [Smear(23(0 * 0.2154434621334076, ramp_in_out)), Smear(37(0 * 0.4641588628292084, ramp_in_out)), Smear(39(0 * 1.0, ramp_in_out)), Smear(46(0 * 0.4641588628292084, ramp_in_out)), Smear(48(0 * 0.2154434621334076, ramp_in_out))], [Smear(23(0 * 0.4641588628292084, ramp_in_out)), Smear(35(0 * 0.2154434621334076, ramp_in_out)), Smear(37(0 * 1.0, ramp_in_out)), Smear(39(0 * 0.4641588628292084, ramp_in_out)), Smear(46(0 * 0.2154434621334076, ramp_in_out))], [Smear(21(0 * 0.2154434621334076, ramp_in_out)), Smear(23(0 * 1.0, ramp_in_out)), Smear(35(0 * 0.4641588628292084, ramp_in_out)), Smear(37(0 * 0.4641588628292084, ramp_in_out)), Smear(39(0 * 0.2154434621334076, ramp_in_out))], [Smear(21(0 * 0.4641588628292084, ramp_in_out)), Smear(23(0 * 0.4641588628292084, ramp_in_out)), Smear(35(0 * 1.0, ramp_in_out)), Smear(37(0 * 0.2154434621334076, ramp_in_out)), Smear(45(0 * 0.2154434621334076, ramp_in_out))], [Smear(21(0 * 1.0, ramp_in_out)), Smear(23(0 * 0.2154434621334076, ramp_in_out)), Smear(35(0 * 0.4641588628292084, ramp_in_out)), Smear(45(0 * 0.4641588628292084, ramp_in_out)), Smear(49(0 * 0.2154434621334076, ramp_in_out))], [Smear(21(0 * 0.4641588628292084, ramp_in_out)), Smear(35(0 * 0.2154434621334076, ramp_in_out)), Smear(45(0 * 1.0, ramp_in_out)), Smear(47(0 * 0.2154434621334076, ramp_in_out)), Smear(49(0 * 0.4641588628292084, ramp_in_out))], [Smear(21(0 * 0.2154434621334076, ramp_in_out)), Smear(45(0 * 0.4641588628292084, ramp_in_out)), Smear(47(0 * 0.4641588628292084, ramp_in_out)), Smear(49(-1.0 * 1.3162277936935425, ramp_in_out))], [Smear(2(-1.0 * 0.3162277638912201, ramp_in)), Smear(45(0 * 0.2154434621334076, ramp_in_out)), Smear(47(0 * 1.0, ramp_in_out)), Smear(49(-1.0 * 1.4641588926315308, ramp_in)), Smear(50(0.0 * 0.3162277638912201))], [Smear(2(-1.0 * 1.0, ramp_in)), Smear(3(0.0 * 0.3162277638912201)), Smear(42(-1.0 * 0.3162277638912201, ramp_in)), Smear(47(0 * 0.4641588628292084, ramp_in_out)), Smear(49(-1.0 * 0.5316712260246277, ramp_in)), Smear(50(0.0 * 1.0))], [Smear(2(-1.0 * 0.3162277638912201, ramp_in)), Smear(3(0.0 * 1.0)), Smear(4(1.0 * 0.3162277638912201, ramp_out)), Smear(42(-1.0 * 1.0, ramp_in)), Smear(43(-1.0 * 0.6324555277824402)), Smear(47(0 * 0.2154434621334076, ramp_in_out)), Smear(50(0.0 * 0.3162277638912201))], [Smear(3(-1.0 * 0.6324555277824402)), Smear(4(1.0 * 1.0, ramp_out)), Smear(42(-1.0 * 0.3162277638912201, ramp_in)), Smear(43(-1.0 * 2.0)), Smear(44(0.0 * 0.6324555277824402, ramp_out))], [Smear(3(-1.0 * 1.0, ramp_in)), Smear(4(-1.0 * 0.9486832618713379, ramp_out)), Smear(43(-1.0 * 0.6324555277824402)), Smear(44(0.0 * 2.0, ramp_out)), Smear(45(1.0 * 0.3162277638912201, ramp_out))], [Smear(3(-1.0 * 0.3162277638912201, ramp_in)), Smear(4(-1.0 * 2.0)), Smear(5(-1.0 * 0.9486832618713379, ramp_out)), Smear(44(0.0 * 0.6324555277824402, ramp_out)), Smear(45(1.0 * 1.0, ramp_out))], [Smear(4(-1.0 * 0.6324555277824402)), Smear(5(-1.0 * 3.0, ramp_out)), Smear(6(0.0 * 0.6324555277824402, ramp_out)), Smear(25(-1.0 * 0.3162277638912201, ramp_in)), Smear(45(1.0 * 0.3162277638912201, ramp_out))], [Smear(5(-1.0 * 0.9486832618713379, ramp_out)), Smear(6(0.0 * 2.0, ramp_out)), Smear(7(1.0 * 0.3162277638912201, ramp_out)), Smear(9(-1.0 * 0.3162277638912201, ramp_in)), Smear(25(-1.0 * 1.0, ramp_in)), Smear(26(0.0 * 0.3162277638912201))], [Smear(6(0.0 * 0.6324555277824402, ramp_out)), Smear(7(1.0 * 1.0, ramp_out)), Smear(9(-1.0 * 1.0, ramp_in)), Smear(10(0.0 * 0.3162277638912201)), Smear(11(-1.0 * 0.3162277638912201, ramp_in)), Smear(25(-1.0 * 0.3162277638912201, ramp_in)), Smear(26(0.0 * 1.0)), Smear(27(1.0 * 0.3162277638912201, ramp_out))], [Smear(7(1.0 * 0.3162277638912201, ramp_out)), Smear(9(-1.0 * 0.3162277638912201, ramp_in)), Smear(10(0.0 * 1.0)), Smear(11(-1.0 * 1.3162277936935425, ramp_in)), Smear(12(0.0 * 0.3162277638912201)), Smear(24(-1.0 * 0.3162277638912201, ramp_in)), Smear(26(0.0 * 0.3162277638912201)), Smear(27(1.0 * 1.0, ramp_out))], [Smear(8(-1.0 * 0.3162277638912201, ramp_in)), Smear(10(0.0 * 0.3162277638912201)), Smear(11(-1.0 * 1.3162277936935425, ramp_out)), Smear(12(0.0 * 1.0)), Smear(13(1.0 * 0.3162277638912201, ramp_out)), Smear(24(-1.0 * 1.0, ramp_in)), Smear(25(0.0 * 0.3162277638912201)), Smear(27(1.0 * 0.3162277638912201, ramp_out))], [Smear(8(-1.0 * 1.0, ramp_in)), Smear(9(0.0 * 0.3162277638912201)), Smear(11(1.0 * 0.3162277638912201, ramp_out)), Smear(12(0.0 * 0.3162277638912201)), Smear(13(-1.0 * 1.3162277936935425, ramp_out)), Smear(24(-1.0 * 0.3162277638912201, ramp_in)), Smear(25(0.0 * 1.0)), Smear(26(1.0 * 0.3162277638912201, ramp_out))], [Smear(8(-1.0 * 0.3162277638912201, ramp_in)), Smear(9(0.0 * 1.0)), Smear(10(1.0 * 0.3162277638912201, ramp_out)), Smear(13(-1.0 * 1.3162277936935425, ramp_in)), Smear(14(0.0 * 0.3162277638912201)), Smear(19(-1.0 * 0.3162277638912201, ramp_in)), Smear(25(0.0 * 0.3162277638912201)), Smear(26(1.0 * 1.0, ramp_out))], [Smear(9(0.0 * 0.3162277638912201)), Smear(10(1.0 * 1.0, ramp_out)), Smear(13(-1.0 * 0.3162277638912201, ramp_in)), Smear(14(0.0 * 1.0)), Smear(15(1.0 * 0.3162277638912201, ramp_out)), Smear(17(-1.0 * 0.3162277638912201, ramp_in)), Smear(19(-1.0 * 1.0, ramp_in)), Smear(20(0.0 * 0.3162277638912201)), Smear(26(1.0 * 0.3162277638912201, ramp_out))], [Smear(10(1.0 * 0.3162277638912201, ramp_out)), Smear(14(0.0 * 0.3162277638912201)), Smear(15(1.0 * 1.0, ramp_out)), Smear(17(-1.0 * 1.0, ramp_in)), Smear(18(0.0 * 0.3162277638912201)), Smear(19(-1.0 * 0.3162277638912201, ramp_in)), Smear(20(0.0 * 1.0)), Smear(21(1.0 * 0.3162277638912201, ramp_out)), Smear(26(-1.0 * 0.3162277638912201, ramp_in))], [Smear(15(1.0 * 0.3162277638912201, ramp_out)), Smear(16(-1.0 * 0.3162277638912201, ramp_in)), Smear(17(-1.0 * 0.3162277638912201, ramp_in)), Smear(18(0.0 * 1.0)), Smear(19(1.0 * 0.3162277638912201, ramp_out)), Smear(20(0.0 * 0.3162277638912201)), Smear(21(1.0 * 1.0, ramp_out)), Smear(26(-1.0 * 1.0, ramp_in)), Smear(27(0.0 * 0.3162277638912201))], [Smear(16(-1.0 * 1.0, ramp_in)), Smear(17(0.0 * 0.3162277638912201)), Smear(18(0.0 * 0.3162277638912201)), Smear(19(1.0 * 1.0, ramp_out)), Smear(21(1.0 * 0.3162277638912201, ramp_out)), Smear(26(-1.0 * 0.3162277638912201, ramp_in)), Smear(27(0.0 * 1.0)), Smear(28(1.0 * 0.3162277638912201, ramp_out)), Smear(32(-1.0 * 0.3162277638912201, ramp_in))], [Smear(16(-1.0 * 0.3162277638912201, ramp_in)), Smear(17(0.0 * 1.0)), Smear(18(1.0 * 0.3162277638912201, ramp_out)), Smear(19(1.0 * 0.3162277638912201, ramp_out)), Smear(27(-1.0 * 0.6324555277824402)), Smear(28(1.0 * 1.0, ramp_out)), Smear(32(-1.0 * 1.0, ramp_in)), Smear(33(0.0 * 0.3162277638912201))], [Smear(12(-1.0 * 0.3162277638912201, ramp_in)), Smear(17(0.0 * 0.3162277638912201)), Smear(18(1.0 * 1.0, ramp_out)), Smear(27(-1.0 * 1.0, ramp_in)), Smear(28(0.0 * 0.6324555277824402, ramp_out)), Smear(32(-1.0 * 0.3162277638912201, ramp_in)), Smear(33(0.0 * 1.0)), Smear(34(1.0 * 0.3162277638912201, ramp_out))], [Smear(10(-1.0 * 0.3162277638912201, ramp_in)), Smear(12(-1.0 * 1.0, ramp_in)), Smear(13(0.0 * 0.3162277638912201)), Smear(18(1.0 * 0.3162277638912201, ramp_out)), Smear(27(-1.0 * 0.3162277638912201, ramp_in)), Smear(28(0.0 * 1.0)), Smear(29(1.0 * 0.3162277638912201, ramp_out)), Smear(33(0.0 * 0.3162277638912201)), Smear(34(1.0 * 1.0, ramp_out))], [Smear(10(-1.0 * 1.0, ramp_in)), Smear(11(0.0 * 0.3162277638912201)), Smear(12(-1.0 * 0.3162277638912201, ramp_in)), Smear(13(0.0 * 1.0)), Smear(14(-1.0 * 0.6324555277824402, ramp_out)), Smear(28(0.0 * 0.3162277638912201)), Smear(29(1.0 * 1.0, ramp_out)), Smear(34(1.0 * 0.3162277638912201, ramp_out))], [Smear(10(-1.0 * 0.3162277638912201, ramp_in)), Smear(11(0.0 * 1.0)), Smear(12(1.0 * 0.3162277638912201, ramp_out)), Smear(13(0.0 * 0.3162277638912201)), Smear(14(-1.0 * 2.0, ramp_out)), Smear(15(-1.0 * 0.6324555277824402)), Smear(29(1.0 * 0.3162277638912201, ramp_out))], [Smear(11(0.0 * 0.3162277638912201)), Smear(12(1.0 * 1.0, ramp_out)), Smear(14(-1.0 * 0.6324555277824402, ramp_out)), Smear(15(-1.0 * 2.0)), Smear(16(0.0 * 0.6324555277824402, ramp_out)), Smear(29(-1.0 * 0.3162277638912201, ramp_in))], [Smear(12(1.0 * 0.3162277638912201, ramp_out)), Smear(15(-1.0 * 0.6324555277824402)), Smear(16(0.0 * 2.0, ramp_out)), Smear(17(1.0 * 0.3162277638912201, ramp_out)), Smear(18(-1.0 * 0.3162277638912201, ramp_in)), Smear(29(-1.0 * 1.0, ramp_in)), Smear(30(0.0 * 0.3162277638912201))], [Smear(16(0.0 * 0.6324555277824402, ramp_out)), Smear(17(1.0 * 1.0, ramp_out)), Smear(18(-1.0 * 1.0, ramp_in)), Smear(19(0.0 * 0.3162277638912201)), Smear(28(-1.0 * 0.3162277638912201, ramp_in)), Smear(29(-1.0 * 0.3162277638912201, ramp_in)), Smear(30(0.0 * 1.0)), Smear(31(1.0 * 0.3162277638912201, ramp_out))], [Smear(17(1.0 * 0.3162277638912201, ramp_out)), Smear(18(-1.0 * 0.3162277638912201, ramp_in)), Smear(19(0.0 * 1.0)), Smear(20(1.0 * 0.3162277638912201, ramp_out)), Smear(28(-1.0 * 1.0, ramp_in)), Smear(29(0.0 * 0.3162277638912201)), Smear(30(0.0 * 0.3162277638912201)), Smear(31(1.0 * 1.0, ramp_out)), Smear(33(-1.0 * 0.3162277638912201, ramp_in))], [Smear(19(0.0 * 0.3162277638912201)), Smear(20(1.0 * 1.0, ramp_out)), Smear(28(-1.0 * 0.3162277638912201, ramp_in)), Smear(29(0.0 * 1.0)), Smear(30(1.0 * 0.3162277638912201, ramp_out)), Smear(31(-1.0 * 0.6324555277824402, ramp_out)), Smear(33(-1.0 * 1.0, ramp_in)), Smear(34(0.0 * 0.3162277638912201))], [Smear(20(1.0 * 0.3162277638912201, ramp_out)), Smear(29(0.0 * 0.3162277638912201)), Smear(30(-1.0 * 1.3162277936935425, ramp_out)), Smear(31(-1.0 * 1.0, ramp_in)), Smear(32(0.0 * 0.3162277638912201)), Smear(33(-1.0 * 0.3162277638912201, ramp_in)), Smear(34(0.0 * 1.0)), Smear(35(1.0 * 0.3162277638912201, ramp_out))], [Smear(30(-1.0 * 1.3162277936935425, ramp_in)), Smear(31(-1.0 * 0.6324555277824402, ramp_in)), Smear(32(0.0 * 1.0)), Smear(33(1.0 * 0.3162277638912201, ramp_out)), Smear(34(0.0 * 0.3162277638912201)), Smear(35(1.0 * 1.0, ramp_out))], [Smear(30(-1.0 * 0.3162277638912201, ramp_in)), Smear(31(0.0 * 1.0)), Smear(32(0.0 * 0.6324555277824402)), Smear(33(1.0 * 1.0, ramp_out)), Smear(35(1.0 * 0.3162277638912201, ramp_out))], [Smear(31(0.0 * 0.3162277638912201)), Smear(32(1.0 * 1.0, ramp_out)), Smear(33(1.0 * 0.3162277638912201, ramp_out))], [Smear(32(1.0 * 0.3162277638912201, ramp_out))]]))"
      ]
     },
     "execution_count": 27,
     "metadata": {},
     "output_type": "execute_result"
    }
   ],
   "execution_count": 27
  },
  {
   "metadata": {
    "ExecuteTime": {
     "end_time": "2025-07-07T09:00:27.715822Z",
     "start_time": "2025-07-07T09:00:23.034546Z"
    }
   },
   "cell_type": "code",
   "source": [
    "ordering, result = clap_slice.run_audio_ordering(input_filename=\"/Users/damian/2.current/clapSlice/outputs/Suzanne Vega, DNA - Tom's Diner (1080p_25fps_H264-128kbit_AAC).mp4\",\n",
    "                              bpm=99.144290351136028,\n",
    "                              chunk_size_beats=4,\n",
    "                              smear_modifiers=smear_modifiers\n",
    "                              )"
   ],
   "id": "4b1a53169d58b08a",
   "outputs": [
    {
     "name": "stdout",
     "output_type": "stream",
     "text": [
      "loaded waveform with shape torch.Size([2, 10902605]) , sampling rate 48000\n",
      "computing route\n",
      "[0, 1, 2, 3, 5, 4, 89, 87, 81, 77, 49, 53, 25, 47, 51, 35, 37, 66, 79, 83, 85, 82, 78, 24, 36, 52, 50, 80, 84, 13, 9, 7, 11, 23, 64, 65, 12, 48, 86, 88, 6, 8, 10, 38, 72, 74, 16, 20, 40, 28, 33, 15, 18, 41, 39, 31, 29, 62, 42, 44, 59, 32, 27, 70, 45, 61, 58, 60, 56, 57, 69, 30, 71, 17, 43, 19, 21, 46, 34, 63, 76, 22, 73, 67, 68, 75, 55, 26, 14, 54, 90, 91, 92]\n",
      "smear width: 1.1656289100646973  spread: 0.8343711495399475 -> 1 1\n",
      "smear width: 1.1779073476791382  spread: 0.822092592716217 -> 1 1\n",
      "smear width: 1.3396927118301392  spread: 0.6603072881698608 -> 1 1\n",
      "smear width: 1.5265007019042969  spread: 0.4734993577003479 -> 2 0\n",
      "smear width: 1.5316972732543945  spread: 0.46830278635025024 -> 2 0\n",
      "smear width: 1.525647521018982  spread: 0.47435247898101807 -> 2 0\n",
      "smear width: 1.5453895330429077  spread: 0.45461055636405945 -> 2 0\n",
      "smear width: 1.524491310119629  spread: 0.47550880908966064 -> 2 0\n",
      "smear width: 1.536349892616272  spread: 0.4636501669883728 -> 2 0\n",
      "smear width: 1.6031221151351929  spread: 0.3968779444694519 -> 2 0\n",
      "smear width: 1.5891993045806885  spread: 0.4108006954193115 -> 2 0\n",
      "smear width: 1.5602691173553467  spread: 0.43973085284233093 -> 2 0\n",
      "smear width: 1.5443531274795532  spread: 0.4556468427181244 -> 2 0\n",
      "smear width: 1.5792770385742188  spread: 0.4207228720188141 -> 2 0\n",
      "smear width: 1.6097112894058228  spread: 0.3902888000011444 -> 2 0\n",
      "smear width: 1.6884161233901978  spread: 0.31158384680747986 -> 2 0\n",
      "smear width: 1.6614923477172852  spread: 0.33850759267807007 -> 2 0\n",
      "smear width: 1.5282994508743286  spread: 0.471700519323349 -> 2 0\n",
      "smear width: 1.5449200868606567  spread: 0.4550798535346985 -> 2 0\n",
      "smear width: 1.5526962280273438  spread: 0.447303831577301 -> 2 0\n",
      "smear width: 1.5565381050109863  spread: 0.44346198439598083 -> 2 0\n",
      "smear width: 1.6155929565429688  spread: 0.38440704345703125 -> 2 0\n",
      "smear width: 1.7488263845443726  spread: 0.25117355585098267 -> 2 0\n",
      "smear width: 1.6933472156524658  spread: 0.3066527843475342 -> 2 0\n",
      "smear width: 1.60331392288208  spread: 0.3966860771179199 -> 2 0\n",
      "smear width: 1.592059850692749  spread: 0.40794020891189575 -> 2 0\n",
      "smear width: 1.6063413619995117  spread: 0.3936586081981659 -> 2 0\n",
      "smear width: 1.530332326889038  spread: 0.46966758370399475 -> 2 0\n",
      "smear width: 1.6407406330108643  spread: 0.3592594563961029 -> 2 0\n",
      "smear width: 1.5145704746246338  spread: 0.48542946577072144 -> 2 0\n",
      "smear width: 1.5122963190078735  spread: 0.48770371079444885 -> 2 0\n",
      "smear width: 1.5810424089431763  spread: 0.4189576208591461 -> 2 0\n",
      "smear width: 1.4843473434448242  spread: 0.5156526565551758 -> 1 1\n",
      "smear width: 1.5970730781555176  spread: 0.40292689204216003 -> 2 0\n",
      "smear width: 1.5886385440826416  spread: 0.4113613963127136 -> 2 0\n",
      "smear width: 1.5938913822174072  spread: 0.4061086177825928 -> 2 0\n",
      "smear width: 1.5682564973831177  spread: 0.43174341320991516 -> 2 0\n",
      "smear width: 1.5327699184417725  spread: 0.467229962348938 -> 2 0\n",
      "smear width: 1.5041636228561401  spread: 0.4958363473415375 -> 2 0\n",
      "smear width: 1.525876760482788  spread: 0.4741232693195343 -> 2 0\n",
      "smear width: 1.5241550207138062  spread: 0.47584500908851624 -> 2 0\n",
      "smear width: 1.537346601486206  spread: 0.46265333890914917 -> 2 0\n",
      "smear width: 1.447178840637207  spread: 0.5528210997581482 -> 1 1\n",
      "smear width: 1.31703782081604  spread: 0.68296217918396 -> 1 1\n",
      "smear width: 1.3162016868591309  spread: 0.6837984323501587 -> 1 1\n",
      "smear width: 1.3417479991912842  spread: 0.658251941204071 -> 1 1\n",
      "smear width: 1.3291230201721191  spread: 0.6708769798278809 -> 1 1\n",
      "smear width: 1.2683241367340088  spread: 0.731675922870636 -> 1 1\n",
      "smear width: 1.2044589519500732  spread: 0.795540988445282 -> 1 1\n",
      "smear width: 1.2819198369979858  spread: 0.7180801033973694 -> 1 1\n",
      "smear width: 1.302350401878357  spread: 0.6976496577262878 -> 1 1\n",
      "smear width: 1.2902991771697998  spread: 0.7097007632255554 -> 1 1\n",
      "smear width: 1.3249132633209229  spread: 0.6750868558883667 -> 1 1\n",
      "smear width: 1.3299146890640259  spread: 0.6700853109359741 -> 1 1\n",
      "smear width: 1.244084119796753  spread: 0.7559159398078918 -> 1 1\n",
      "smear width: 1.3329086303710938  spread: 0.6670913100242615 -> 1 1\n",
      "smear width: 1.3380889892578125  spread: 0.6619110107421875 -> 1 1\n",
      "smear width: 1.344547986984253  spread: 0.6554520726203918 -> 1 1\n",
      "smear width: 1.3584071397781372  spread: 0.6415929794311523 -> 1 1\n",
      "smear width: 1.4009677171707153  spread: 0.5990322828292847 -> 1 1\n",
      "smear width: 1.4272116422653198  spread: 0.5727883577346802 -> 1 1\n",
      "smear width: 1.374690294265747  spread: 0.6253097653388977 -> 1 1\n",
      "smear width: 1.3666967153549194  spread: 0.6333032846450806 -> 1 1\n",
      "smear width: 1.3438094854354858  spread: 0.6561905741691589 -> 1 1\n",
      "smear width: 1.3938097953796387  spread: 0.6061902046203613 -> 1 1\n",
      "smear width: 1.399619698524475  spread: 0.6003804206848145 -> 1 1\n",
      "smear width: 1.3464865684509277  spread: 0.6535134315490723 -> 1 1\n",
      "smear width: 1.2834266424179077  spread: 0.7165732383728027 -> 1 1\n",
      "smear width: 1.3204277753829956  spread: 0.6795721650123596 -> 1 1\n",
      "smear width: 1.2293612957000732  spread: 0.770638644695282 -> 1 1\n",
      "smear width: 1.4255945682525635  spread: 0.574405312538147 -> 1 1\n",
      "smear width: 1.291718602180481  spread: 0.7082814574241638 -> 1 1\n",
      "smear width: 1.282000184059143  spread: 0.7179998159408569 -> 1 1\n",
      "smear width: 1.2797538042068481  spread: 0.7202461957931519 -> 1 1\n",
      "smear width: 1.4353060722351074  spread: 0.5646939873695374 -> 1 1\n",
      "smear width: 1.3548201322555542  spread: 0.6451799273490906 -> 1 1\n",
      "smear width: 1.3519254922866821  spread: 0.6480745077133179 -> 1 1\n",
      "smear width: 1.502782940864563  spread: 0.4972170889377594 -> 2 0\n",
      "smear width: 1.573981523513794  spread: 0.42601847648620605 -> 2 0\n",
      "smear width: 1.48615300655365  spread: 0.5138469338417053 -> 1 1\n",
      "smear width: 1.4679569005966187  spread: 0.5320430397987366 -> 1 1\n",
      "smear width: 1.4634040594100952  spread: 0.5365960597991943 -> 1 1\n",
      "smear width: 1.4097415208816528  spread: 0.5902585387229919 -> 1 1\n",
      "smear width: 1.2966125011444092  spread: 0.7033875584602356 -> 1 1\n",
      "smear width: 1.1801029443740845  spread: 0.8198970556259155 -> 1 1\n",
      "smear width: 1.1590397357940674  spread: 0.8409602642059326 -> 1 1\n",
      "smear width: 1.3934381008148193  spread: 0.6065617799758911 -> 1 1\n",
      "smear width: 1.449486494064331  spread: 0.550513505935669 -> 1 1\n",
      "smear width: 1.3987181186676025  spread: 0.6012818217277527 -> 1 1\n",
      "smear width: 1.399969458580017  spread: 0.6000305414199829 -> 1 1\n",
      "smear width: 1.4034491777420044  spread: 0.5965506434440613 -> 1 1\n",
      "smear width: 1.3077354431152344  spread: 0.6922646760940552 -> 1 1\n",
      "smear width: 1.2510064840316772  spread: 0.7489936351776123 -> 1 1\n",
      "saved to /Users/damian/2.current/clapSlice/outputs/Suzanne Vega, DNA - Tom's Diner (1080p_25fps_H264-128kbit_AAC).mp4-sorted-bpm99.14429035113602-cb4-ww0-smeared-dyn.wav.mp3\n"
     ]
    },
    {
     "data": {
      "text/plain": [
       "(AudioOrdering(source_audio=\"/Users/damian/2.current/clapSlice/outputs/Suzanne Vega, DNA - Tom's Diner (1080p_25fps_H264-128kbit_AAC).mp4\", bpm=99.14429035113602, chunk_beats=4, sort_order=tensor([ 0,  1,  2,  3,  5,  4, 89, 87, 81, 77, 49, 53, 25, 47, 51, 35, 37, 66,\n",
       "         79, 83, 85, 82, 78, 24, 36, 52, 50, 80, 84, 13,  9,  7, 11, 23, 64, 65,\n",
       "         12, 48, 86, 88,  6,  8, 10, 38, 72, 74, 16, 20, 40, 28, 33, 15, 18, 41,\n",
       "         39, 31, 29, 62, 42, 44, 59, 32, 27, 70, 45, 61, 58, 60, 56, 57, 69, 30,\n",
       "         71, 17, 43, 19, 21, 46, 34, 63, 76, 22, 73, 67, 68, 75, 55, 26, 14, 54,\n",
       "         90, 91, 92]), window_width=0),\n",
       " AudioOrderingResult(output_audio=tensor([[ 0.0000e+00,  0.0000e+00,  0.0000e+00,  ...,  1.1027e-04,\n",
       "          -2.3845e-04, -4.7063e-04],\n",
       "         [ 0.0000e+00,  0.0000e+00,  0.0000e+00,  ..., -9.6200e-05,\n",
       "          -1.1124e-05,  4.2201e-05]]), smear_details=[[Smear(0(-1.0 * 0.6324555277824402))], [Smear(0(-1.0 * 2.0)), Smear(1(-1.0 * 0.9486832618713379, ramp_out))], [Smear(0(-1.0 * 0.6324555277824402)), Smear(1(-1.0 * 3.0, ramp_out)), Smear(2(0.0 * 0.6324555277824402, ramp_out)), Smear(3(0 * 0.2154434621334076, ramp_in_out))], [Smear(1(-1.0 * 0.9486832618713379, ramp_out)), Smear(2(0.0 * 2.0, ramp_out)), Smear(3(0 * 0.7803866267204285, ramp_in_out)), Smear(5(0 * 0.2154434621334076, ramp_in_out))], [Smear(2(0.0 * 0.6324555277824402, ramp_out)), Smear(3(0 * 2.0, ramp_out)), Smear(4(0 * 0.2154434621334076, ramp_in_out)), Smear(5(0 * 0.4641588628292084, ramp_in_out))], [Smear(3(0 * 0.7803866267204285, ramp_in_out)), Smear(4(0 * 0.4641588628292084, ramp_in_out)), Smear(5(0 * 1.0, ramp_in_out)), Smear(89(0 * 0.2154434621334076, ramp_in_out))], [Smear(3(0 * 0.2154434621334076, ramp_in_out)), Smear(4(0 * 1.0, ramp_in_out)), Smear(5(0 * 0.4641588628292084, ramp_in_out)), Smear(87(0 * 0.2154434621334076, ramp_in_out)), Smear(89(0 * 0.4641588628292084, ramp_in_out))], [Smear(4(0 * 0.4641588628292084, ramp_in_out)), Smear(5(0 * 0.2154434621334076, ramp_in_out)), Smear(81(0 * 0.2154434621334076, ramp_in_out)), Smear(87(0 * 0.4641588628292084, ramp_in_out)), Smear(89(0 * 1.0, ramp_in_out))], [Smear(4(0 * 0.2154434621334076, ramp_in_out)), Smear(77(0 * 0.2154434621334076, ramp_in_out)), Smear(81(0 * 0.4641588628292084, ramp_in_out)), Smear(87(0 * 1.0, ramp_in_out)), Smear(89(0 * 0.4641588628292084, ramp_in_out))], [Smear(49(0 * 0.2154434621334076, ramp_in_out)), Smear(77(0 * 0.4641588628292084, ramp_in_out)), Smear(81(0 * 1.0, ramp_in_out)), Smear(87(0 * 0.4641588628292084, ramp_in_out)), Smear(89(0 * 0.2154434621334076, ramp_in_out))], [Smear(49(0 * 0.4641588628292084, ramp_in_out)), Smear(53(0 * 0.2154434621334076, ramp_in_out)), Smear(77(0 * 1.0, ramp_in_out)), Smear(81(0 * 0.4641588628292084, ramp_in_out)), Smear(87(0 * 0.2154434621334076, ramp_in_out))], [Smear(25(0 * 0.2154434621334076, ramp_in_out)), Smear(49(0 * 1.0, ramp_in_out)), Smear(53(0 * 0.4641588628292084, ramp_in_out)), Smear(77(0 * 0.4641588628292084, ramp_in_out)), Smear(81(0 * 0.2154434621334076, ramp_in_out))], [Smear(25(0 * 0.4641588628292084, ramp_in_out)), Smear(47(0 * 0.2154434621334076, ramp_in_out)), Smear(49(0 * 0.4641588628292084, ramp_in_out)), Smear(53(0 * 1.0, ramp_in_out)), Smear(77(0 * 0.2154434621334076, ramp_in_out))], [Smear(25(0 * 1.0, ramp_in_out)), Smear(47(0 * 0.4641588628292084, ramp_in_out)), Smear(49(0 * 0.2154434621334076, ramp_in_out)), Smear(51(0 * 0.2154434621334076, ramp_in_out)), Smear(53(0 * 0.4641588628292084, ramp_in_out))], [Smear(25(0 * 0.4641588628292084, ramp_in_out)), Smear(35(0 * 0.2154434621334076, ramp_in_out)), Smear(47(0 * 1.0, ramp_in_out)), Smear(51(0 * 0.4641588628292084, ramp_in_out)), Smear(53(0 * 0.2154434621334076, ramp_in_out))], [Smear(25(0 * 0.2154434621334076, ramp_in_out)), Smear(35(0 * 0.4641588628292084, ramp_in_out)), Smear(37(0 * 0.2154434621334076, ramp_in_out)), Smear(47(0 * 0.4641588628292084, ramp_in_out)), Smear(51(0 * 1.0, ramp_in_out))], [Smear(35(0 * 1.0, ramp_in_out)), Smear(37(0 * 0.4641588628292084, ramp_in_out)), Smear(47(0 * 0.2154434621334076, ramp_in_out)), Smear(51(0 * 0.4641588628292084, ramp_in_out)), Smear(66(0 * 0.2154434621334076, ramp_in_out))], [Smear(35(0 * 0.4641588628292084, ramp_in_out)), Smear(37(0 * 1.0, ramp_in_out)), Smear(51(0 * 0.2154434621334076, ramp_in_out)), Smear(66(0 * 0.4641588628292084, ramp_in_out)), Smear(79(0 * 0.2154434621334076, ramp_in_out))], [Smear(35(0 * 0.2154434621334076, ramp_in_out)), Smear(37(0 * 0.4641588628292084, ramp_in_out)), Smear(66(0 * 1.0, ramp_in_out)), Smear(79(0 * 0.4641588628292084, ramp_in_out)), Smear(83(0 * 0.2154434621334076, ramp_in_out))], [Smear(37(0 * 0.2154434621334076, ramp_in_out)), Smear(66(0 * 0.4641588628292084, ramp_in_out)), Smear(79(0 * 1.0, ramp_in_out)), Smear(83(0 * 0.4641588628292084, ramp_in_out)), Smear(85(0 * 0.2154434621334076, ramp_in_out))], [Smear(66(0 * 0.2154434621334076, ramp_in_out)), Smear(79(0 * 0.4641588628292084, ramp_in_out)), Smear(82(0 * 0.2154434621334076, ramp_in_out)), Smear(83(0 * 1.0, ramp_in_out)), Smear(85(0 * 0.4641588628292084, ramp_in_out))], [Smear(78(0 * 0.2154434621334076, ramp_in_out)), Smear(79(0 * 0.2154434621334076, ramp_in_out)), Smear(82(0 * 0.4641588628292084, ramp_in_out)), Smear(83(0 * 0.4641588628292084, ramp_in_out)), Smear(85(0 * 1.0, ramp_in_out))], [Smear(24(0 * 0.2154434621334076, ramp_in_out)), Smear(78(0 * 0.4641588628292084, ramp_in_out)), Smear(82(0 * 1.0, ramp_in_out)), Smear(83(0 * 0.2154434621334076, ramp_in_out)), Smear(85(0 * 0.4641588628292084, ramp_in_out))], [Smear(24(0 * 0.4641588628292084, ramp_in_out)), Smear(36(0 * 0.2154434621334076, ramp_in_out)), Smear(78(0 * 1.0, ramp_in_out)), Smear(82(0 * 0.4641588628292084, ramp_in_out)), Smear(85(0 * 0.2154434621334076, ramp_in_out))], [Smear(24(0 * 1.0, ramp_in_out)), Smear(36(0 * 0.4641588628292084, ramp_in_out)), Smear(52(0 * 0.2154434621334076, ramp_in_out)), Smear(78(0 * 0.4641588628292084, ramp_in_out)), Smear(82(0 * 0.2154434621334076, ramp_in_out))], [Smear(24(0 * 0.4641588628292084, ramp_in_out)), Smear(36(0 * 1.0, ramp_in_out)), Smear(50(0 * 0.2154434621334076, ramp_in_out)), Smear(52(0 * 0.4641588628292084, ramp_in_out)), Smear(78(0 * 0.2154434621334076, ramp_in_out))], [Smear(24(0 * 0.2154434621334076, ramp_in_out)), Smear(36(0 * 0.4641588628292084, ramp_in_out)), Smear(50(0 * 0.4641588628292084, ramp_in_out)), Smear(52(0 * 1.0, ramp_in_out)), Smear(80(0 * 0.2154434621334076, ramp_in_out))], [Smear(36(0 * 0.2154434621334076, ramp_in_out)), Smear(50(0 * 1.0, ramp_in_out)), Smear(52(0 * 0.4641588628292084, ramp_in_out)), Smear(80(0 * 0.4641588628292084, ramp_in_out)), Smear(84(0 * 0.2154434621334076, ramp_in_out))], [Smear(13(0 * 0.2154434621334076, ramp_in_out)), Smear(50(0 * 0.4641588628292084, ramp_in_out)), Smear(52(0 * 0.2154434621334076, ramp_in_out)), Smear(80(0 * 1.0, ramp_in_out)), Smear(84(0 * 0.4641588628292084, ramp_in_out))], [Smear(9(0 * 0.2154434621334076, ramp_in_out)), Smear(13(0 * 0.4641588628292084, ramp_in_out)), Smear(50(0 * 0.2154434621334076, ramp_in_out)), Smear(80(0 * 0.4641588628292084, ramp_in_out)), Smear(84(0 * 1.0, ramp_in_out))], [Smear(7(0 * 0.2154434621334076, ramp_in_out)), Smear(9(0 * 0.4641588628292084, ramp_in_out)), Smear(13(0 * 1.0, ramp_in_out)), Smear(80(0 * 0.2154434621334076, ramp_in_out)), Smear(84(0 * 0.4641588628292084, ramp_in_out))], [Smear(7(0 * 0.4641588628292084, ramp_in_out)), Smear(9(0 * 1.0, ramp_in_out)), Smear(10(-1.0 * 0.3162277638912201, ramp_in)), Smear(13(0 * 0.4641588628292084, ramp_in_out)), Smear(84(0 * 0.2154434621334076, ramp_in_out))], [Smear(7(0 * 1.0, ramp_in_out)), Smear(9(0 * 0.4641588628292084, ramp_in_out)), Smear(10(-1.0 * 1.0, ramp_in)), Smear(11(0.0 * 0.3162277638912201)), Smear(13(0 * 0.2154434621334076, ramp_in_out)), Smear(23(0 * 0.2154434621334076, ramp_in_out))], [Smear(7(0 * 0.4641588628292084, ramp_in_out)), Smear(9(0 * 0.2154434621334076, ramp_in_out)), Smear(10(-1.0 * 0.3162277638912201, ramp_in)), Smear(11(0.0 * 1.0)), Smear(12(1.0 * 0.3162277638912201, ramp_out)), Smear(23(0 * 0.4641588628292084, ramp_in_out)), Smear(64(0 * 0.2154434621334076, ramp_in_out))], [Smear(7(0 * 0.2154434621334076, ramp_in_out)), Smear(11(0.0 * 0.3162277638912201)), Smear(12(1.0 * 1.0, ramp_out)), Smear(23(0 * 1.0, ramp_in_out)), Smear(64(0 * 0.4641588628292084, ramp_in_out)), Smear(65(0 * 0.2154434621334076, ramp_in_out))], [Smear(12(0 * 0.5316712260246277, ramp_out)), Smear(23(0 * 0.4641588628292084, ramp_in_out)), Smear(64(0 * 1.0, ramp_in_out)), Smear(65(0 * 0.4641588628292084, ramp_in_out))], [Smear(12(0 * 0.4641588628292084, ramp_in_out)), Smear(23(0 * 0.2154434621334076, ramp_in_out)), Smear(48(0 * 0.2154434621334076, ramp_in_out)), Smear(64(0 * 0.4641588628292084, ramp_in_out)), Smear(65(0 * 1.0, ramp_in_out))], [Smear(12(0 * 1.0, ramp_in_out)), Smear(48(0 * 0.4641588628292084, ramp_in_out)), Smear(64(0 * 0.2154434621334076, ramp_in_out)), Smear(65(0 * 0.4641588628292084, ramp_in_out)), Smear(86(0 * 0.2154434621334076, ramp_in_out))], [Smear(12(0 * 0.4641588628292084, ramp_in_out)), Smear(48(0 * 1.0, ramp_in_out)), Smear(65(0 * 0.2154434621334076, ramp_in_out)), Smear(86(0 * 0.4641588628292084, ramp_in_out)), Smear(88(0 * 0.2154434621334076, ramp_in_out))], [Smear(6(0 * 0.2154434621334076, ramp_in_out)), Smear(12(0 * 0.2154434621334076, ramp_in_out)), Smear(48(0 * 0.4641588628292084, ramp_in_out)), Smear(86(0 * 1.0, ramp_in_out)), Smear(88(0 * 0.4641588628292084, ramp_in_out))], [Smear(6(0 * 0.4641588628292084, ramp_in_out)), Smear(8(0 * 0.2154434621334076, ramp_in_out)), Smear(48(0 * 0.2154434621334076, ramp_in_out)), Smear(86(0 * 0.4641588628292084, ramp_in_out)), Smear(88(0 * 1.0, ramp_in_out))], [Smear(6(0 * 1.0, ramp_in_out)), Smear(8(0 * 0.4641588628292084, ramp_in_out)), Smear(9(-1.0 * 0.3162277638912201, ramp_in)), Smear(86(0 * 0.2154434621334076, ramp_in_out)), Smear(88(0 * 0.4641588628292084, ramp_in_out))], [Smear(6(0 * 0.4641588628292084, ramp_in_out)), Smear(8(0 * 1.0, ramp_in_out)), Smear(9(-1.0 * 1.0, ramp_in)), Smear(10(0.0 * 0.3162277638912201)), Smear(37(-1.0 * 0.3162277638912201, ramp_in)), Smear(88(0 * 0.2154434621334076, ramp_in_out))], [Smear(6(0 * 0.2154434621334076, ramp_in_out)), Smear(8(0 * 0.4641588628292084, ramp_in_out)), Smear(9(-1.0 * 0.3162277638912201, ramp_in)), Smear(10(0.0 * 1.0)), Smear(11(1.0 * 0.3162277638912201, ramp_out)), Smear(37(-1.0 * 1.0, ramp_in)), Smear(38(0.0 * 0.3162277638912201)), Smear(71(-1.0 * 0.3162277638912201, ramp_in))], [Smear(8(0 * 0.2154434621334076, ramp_in_out)), Smear(10(0.0 * 0.3162277638912201)), Smear(11(1.0 * 1.0, ramp_out)), Smear(37(-1.0 * 0.3162277638912201, ramp_in)), Smear(38(0.0 * 1.0)), Smear(39(1.0 * 0.3162277638912201, ramp_out)), Smear(71(-1.0 * 1.0, ramp_in)), Smear(72(0.0 * 0.3162277638912201)), Smear(73(-1.0 * 0.3162277638912201, ramp_in))], [Smear(11(1.0 * 0.3162277638912201, ramp_out)), Smear(15(-1.0 * 0.3162277638912201, ramp_in)), Smear(38(0.0 * 0.3162277638912201)), Smear(39(1.0 * 1.0, ramp_out)), Smear(71(-1.0 * 0.3162277638912201, ramp_in)), Smear(72(0.0 * 1.0)), Smear(73(-1.0 * 1.3162277936935425, ramp_in)), Smear(74(0.0 * 0.3162277638912201))], [Smear(15(-1.0 * 1.0, ramp_in)), Smear(16(0.0 * 0.3162277638912201)), Smear(19(-1.0 * 0.3162277638912201, ramp_in)), Smear(39(1.0 * 0.3162277638912201, ramp_out)), Smear(72(0.0 * 0.3162277638912201)), Smear(73(-1.0 * 1.3162277936935425, ramp_out)), Smear(74(0.0 * 1.0)), Smear(75(1.0 * 0.3162277638912201, ramp_out))], [Smear(15(-1.0 * 0.3162277638912201, ramp_in)), Smear(16(0.0 * 1.0)), Smear(17(1.0 * 0.3162277638912201, ramp_out)), Smear(19(-1.0 * 1.0, ramp_in)), Smear(20(0.0 * 0.3162277638912201)), Smear(39(-1.0 * 0.3162277638912201, ramp_in)), Smear(73(1.0 * 0.3162277638912201, ramp_out)), Smear(74(0.0 * 0.3162277638912201)), Smear(75(1.0 * 1.0, ramp_out))], [Smear(16(0.0 * 0.3162277638912201)), Smear(17(1.0 * 1.0, ramp_out)), Smear(19(-1.0 * 0.3162277638912201, ramp_in)), Smear(20(0.0 * 1.0)), Smear(21(1.0 * 0.3162277638912201, ramp_out)), Smear(27(-1.0 * 0.3162277638912201, ramp_in)), Smear(39(-1.0 * 1.0, ramp_in)), Smear(40(0.0 * 0.3162277638912201)), Smear(75(1.0 * 0.3162277638912201, ramp_out))], [Smear(17(1.0 * 0.3162277638912201, ramp_out)), Smear(20(0.0 * 0.3162277638912201)), Smear(21(1.0 * 1.0, ramp_out)), Smear(27(-1.0 * 1.0, ramp_in)), Smear(28(0.0 * 0.3162277638912201)), Smear(32(-1.0 * 0.3162277638912201, ramp_in)), Smear(39(-1.0 * 0.3162277638912201, ramp_in)), Smear(40(0.0 * 1.0)), Smear(41(1.0 * 0.3162277638912201, ramp_out))], [Smear(14(-1.0 * 0.3162277638912201, ramp_in)), Smear(21(1.0 * 0.3162277638912201, ramp_out)), Smear(27(-1.0 * 0.3162277638912201, ramp_in)), Smear(28(0.0 * 1.0)), Smear(29(1.0 * 0.3162277638912201, ramp_out)), Smear(32(-1.0 * 1.0, ramp_in)), Smear(33(0.0 * 0.3162277638912201)), Smear(40(0.0 * 0.3162277638912201)), Smear(41(1.0 * 1.0, ramp_out))], [Smear(14(-1.0 * 1.0, ramp_in)), Smear(15(0.0 * 0.3162277638912201)), Smear(17(-1.0 * 0.3162277638912201, ramp_in)), Smear(28(0.0 * 0.3162277638912201)), Smear(29(1.0 * 1.0, ramp_out)), Smear(32(-1.0 * 0.3162277638912201, ramp_in)), Smear(33(0.0 * 1.0)), Smear(34(1.0 * 0.3162277638912201, ramp_out)), Smear(41(1.0 * 0.3162277638912201, ramp_out))], [Smear(14(-1.0 * 0.3162277638912201, ramp_in)), Smear(15(0.0 * 1.0)), Smear(16(1.0 * 0.3162277638912201, ramp_out)), Smear(17(-1.0 * 1.0, ramp_in)), Smear(18(0.0 * 0.3162277638912201)), Smear(29(1.0 * 0.3162277638912201, ramp_out)), Smear(33(0.0 * 0.3162277638912201)), Smear(34(1.0 * 1.0, ramp_out)), Smear(40(-1.0 * 0.3162277638912201, ramp_in))], [Smear(15(0.0 * 0.3162277638912201)), Smear(16(1.0 * 1.0, ramp_out)), Smear(17(-1.0 * 0.3162277638912201, ramp_in)), Smear(18(0.0 * 1.0)), Smear(19(1.0 * 0.3162277638912201, ramp_out)), Smear(34(1.0 * 0.3162277638912201, ramp_out)), Smear(38(-1.0 * 0.3162277638912201, ramp_in)), Smear(40(-1.0 * 1.0, ramp_in)), Smear(41(0.0 * 0.3162277638912201))], [Smear(16(1.0 * 0.3162277638912201, ramp_out)), Smear(18(0.0 * 0.3162277638912201)), Smear(19(1.0 * 1.0, ramp_out)), Smear(30(-1.0 * 0.3162277638912201, ramp_in)), Smear(38(-1.0 * 1.0, ramp_in)), Smear(39(0.0 * 0.3162277638912201)), Smear(40(-1.0 * 0.3162277638912201, ramp_in)), Smear(41(0.0 * 1.0)), Smear(42(1.0 * 0.3162277638912201, ramp_out))], [Smear(19(1.0 * 0.3162277638912201, ramp_out)), Smear(28(-1.0 * 0.3162277638912201, ramp_in)), Smear(30(-1.0 * 1.0, ramp_in)), Smear(31(0.0 * 0.3162277638912201)), Smear(38(-1.0 * 0.3162277638912201, ramp_in)), Smear(39(0.0 * 1.0)), Smear(40(1.0 * 0.3162277638912201, ramp_out)), Smear(41(0.0 * 0.3162277638912201)), Smear(42(1.0 * 1.0, ramp_out))], [Smear(28(-1.0 * 1.0, ramp_in)), Smear(29(0.0 * 0.3162277638912201)), Smear(30(-1.0 * 0.3162277638912201, ramp_in)), Smear(31(0.0 * 1.0)), Smear(32(1.0 * 0.3162277638912201, ramp_out)), Smear(39(0.0 * 0.3162277638912201)), Smear(40(1.0 * 1.0, ramp_out)), Smear(42(1.0 * 0.3162277638912201, ramp_out)), Smear(61(-1.0 * 0.3162277638912201, ramp_in))], [Smear(28(-1.0 * 0.3162277638912201, ramp_in)), Smear(29(0.0 * 1.0)), Smear(30(1.0 * 0.3162277638912201, ramp_out)), Smear(31(0.0 * 0.3162277638912201)), Smear(32(1.0 * 1.0, ramp_out)), Smear(40(1.0 * 0.3162277638912201, ramp_out)), Smear(41(-1.0 * 0.3162277638912201, ramp_in)), Smear(61(-1.0 * 1.0, ramp_in)), Smear(62(0.0 * 0.3162277638912201))], [Smear(29(0.0 * 0.3162277638912201)), Smear(30(1.0 * 1.0, ramp_out)), Smear(32(1.0 * 0.3162277638912201, ramp_out)), Smear(41(-1.0 * 1.0, ramp_in)), Smear(42(0.0 * 0.3162277638912201)), Smear(43(-1.0 * 0.3162277638912201, ramp_in)), Smear(61(-1.0 * 0.3162277638912201, ramp_in)), Smear(62(0.0 * 1.0)), Smear(63(1.0 * 0.3162277638912201, ramp_out))], [Smear(30(1.0 * 0.3162277638912201, ramp_out)), Smear(41(-1.0 * 0.3162277638912201, ramp_in)), Smear(42(0.0 * 1.0)), Smear(43(-1.0 * 1.3162277936935425, ramp_in)), Smear(44(0.0 * 0.3162277638912201)), Smear(58(-1.0 * 0.3162277638912201, ramp_in)), Smear(62(0.0 * 0.3162277638912201)), Smear(63(1.0 * 1.0, ramp_out))], [Smear(31(-1.0 * 0.3162277638912201, ramp_in)), Smear(42(0.0 * 0.3162277638912201)), Smear(43(-1.0 * 1.3162277936935425, ramp_out)), Smear(44(0.0 * 1.0)), Smear(45(1.0 * 0.3162277638912201, ramp_out)), Smear(58(-1.0 * 1.0, ramp_in)), Smear(59(0.0 * 0.3162277638912201)), Smear(63(1.0 * 0.3162277638912201, ramp_out))], [Smear(26(-1.0 * 0.3162277638912201, ramp_in)), Smear(31(-1.0 * 1.0, ramp_in)), Smear(32(0.0 * 0.3162277638912201)), Smear(43(1.0 * 0.3162277638912201, ramp_out)), Smear(44(0.0 * 0.3162277638912201)), Smear(45(1.0 * 1.0, ramp_out)), Smear(58(-1.0 * 0.3162277638912201, ramp_in)), Smear(59(0.0 * 1.0)), Smear(60(1.0 * 0.3162277638912201, ramp_out))], [Smear(26(-1.0 * 1.0, ramp_in)), Smear(27(0.0 * 0.3162277638912201)), Smear(31(-1.0 * 0.3162277638912201, ramp_in)), Smear(32(0.0 * 1.0)), Smear(33(1.0 * 0.3162277638912201, ramp_out)), Smear(45(1.0 * 0.3162277638912201, ramp_out)), Smear(59(0.0 * 0.3162277638912201)), Smear(60(1.0 * 1.0, ramp_out)), Smear(69(-1.0 * 0.3162277638912201, ramp_in))], [Smear(26(-1.0 * 0.3162277638912201, ramp_in)), Smear(27(0.0 * 1.0)), Smear(28(1.0 * 0.3162277638912201, ramp_out)), Smear(32(0.0 * 0.3162277638912201)), Smear(33(1.0 * 1.0, ramp_out)), Smear(44(-1.0 * 0.3162277638912201, ramp_in)), Smear(60(1.0 * 0.3162277638912201, ramp_out)), Smear(69(-1.0 * 1.0, ramp_in)), Smear(70(0.0 * 0.3162277638912201))], [Smear(27(0.0 * 0.3162277638912201)), Smear(28(1.0 * 1.0, ramp_out)), Smear(33(1.0 * 0.3162277638912201, ramp_out)), Smear(44(-1.0 * 1.0, ramp_in)), Smear(45(0.0 * 0.3162277638912201)), Smear(60(-1.0 * 0.3162277638912201, ramp_in)), Smear(69(-1.0 * 0.3162277638912201, ramp_in)), Smear(70(0.0 * 1.0)), Smear(71(1.0 * 0.3162277638912201, ramp_out))], [Smear(28(1.0 * 0.3162277638912201, ramp_out)), Smear(44(-1.0 * 0.3162277638912201, ramp_in)), Smear(45(0.0 * 1.0)), Smear(46(1.0 * 0.3162277638912201, ramp_out)), Smear(57(-1.0 * 0.3162277638912201, ramp_in)), Smear(60(-1.0 * 1.0, ramp_in)), Smear(61(0.0 * 0.3162277638912201)), Smear(70(0.0 * 0.3162277638912201)), Smear(71(1.0 * 1.0, ramp_out))], [Smear(45(0.0 * 0.3162277638912201)), Smear(46(1.0 * 1.0, ramp_out)), Smear(57(-1.0 * 1.0, ramp_in)), Smear(58(0.0 * 0.3162277638912201)), Smear(59(-1.0 * 0.3162277638912201, ramp_in)), Smear(60(-1.0 * 0.3162277638912201, ramp_in)), Smear(61(0.0 * 1.0)), Smear(62(1.0 * 0.3162277638912201, ramp_out)), Smear(71(1.0 * 0.3162277638912201, ramp_out))], [Smear(46(1.0 * 0.3162277638912201, ramp_out)), Smear(55(-1.0 * 0.3162277638912201, ramp_in)), Smear(57(-1.0 * 0.3162277638912201, ramp_in)), Smear(58(0.0 * 1.0)), Smear(59(-1.0 * 1.3162277936935425, ramp_in)), Smear(60(0.0 * 0.3162277638912201)), Smear(61(0.0 * 0.3162277638912201)), Smear(62(1.0 * 1.0, ramp_out))], [Smear(55(-1.0 * 1.0, ramp_in)), Smear(56(-1.0 * 0.6324555277824402)), Smear(58(0.0 * 0.3162277638912201)), Smear(59(-1.0 * 1.3162277936935425, ramp_out)), Smear(60(0.0 * 1.0)), Smear(61(1.0 * 0.3162277638912201, ramp_out)), Smear(62(1.0 * 0.3162277638912201, ramp_out))], [Smear(55(-1.0 * 0.3162277638912201, ramp_in)), Smear(56(-1.0 * 2.0)), Smear(57(0.0 * 0.6324555277824402, ramp_out)), Smear(59(1.0 * 0.3162277638912201, ramp_out)), Smear(60(0.0 * 0.3162277638912201)), Smear(61(1.0 * 1.0, ramp_out)), Smear(68(-1.0 * 0.3162277638912201, ramp_in))], [Smear(29(-1.0 * 0.3162277638912201, ramp_in)), Smear(56(-1.0 * 0.6324555277824402)), Smear(57(0.0 * 2.0, ramp_out)), Smear(58(1.0 * 0.3162277638912201, ramp_out)), Smear(61(1.0 * 0.3162277638912201, ramp_out)), Smear(68(-1.0 * 1.0, ramp_in)), Smear(69(0.0 * 0.3162277638912201))], [Smear(29(-1.0 * 1.0, ramp_in)), Smear(30(0.0 * 0.3162277638912201)), Smear(57(0.0 * 0.6324555277824402, ramp_out)), Smear(58(1.0 * 1.0, ramp_out)), Smear(68(-1.0 * 0.3162277638912201, ramp_in)), Smear(69(0.0 * 1.0)), Smear(70(-1.0 * 0.6324555277824402, ramp_out))], [Smear(16(-1.0 * 0.3162277638912201, ramp_in)), Smear(29(-1.0 * 0.3162277638912201, ramp_in)), Smear(30(0.0 * 1.0)), Smear(31(1.0 * 0.3162277638912201, ramp_out)), Smear(58(1.0 * 0.3162277638912201, ramp_out)), Smear(69(0.0 * 0.3162277638912201)), Smear(70(-1.0 * 2.0, ramp_out)), Smear(71(0.0 * 0.3162277638912201))], [Smear(16(-1.0 * 1.0, ramp_in)), Smear(17(0.0 * 0.3162277638912201)), Smear(30(0.0 * 0.3162277638912201)), Smear(31(1.0 * 1.0, ramp_out)), Smear(42(-1.0 * 0.3162277638912201, ramp_in)), Smear(70(-1.0 * 0.6324555277824402, ramp_out)), Smear(71(0.0 * 1.0)), Smear(72(1.0 * 0.3162277638912201, ramp_out))], [Smear(16(-1.0 * 0.3162277638912201, ramp_in)), Smear(17(0.0 * 1.0)), Smear(18(-1.0 * 0.6324555277824402, ramp_out)), Smear(31(1.0 * 0.3162277638912201, ramp_out)), Smear(42(-1.0 * 1.0, ramp_in)), Smear(43(0.0 * 0.3162277638912201)), Smear(71(0.0 * 0.3162277638912201)), Smear(72(1.0 * 1.0, ramp_out))], [Smear(17(0.0 * 0.3162277638912201)), Smear(18(-1.0 * 2.0, ramp_out)), Smear(19(0.0 * 0.3162277638912201)), Smear(20(-1.0 * 0.3162277638912201, ramp_in)), Smear(42(-1.0 * 0.3162277638912201, ramp_in)), Smear(43(0.0 * 1.0)), Smear(44(1.0 * 0.3162277638912201, ramp_out)), Smear(72(1.0 * 0.3162277638912201, ramp_out))], [Smear(18(-1.0 * 0.6324555277824402, ramp_out)), Smear(19(0.0 * 1.0)), Smear(20(-1.0 * 1.3162277936935425, ramp_in)), Smear(21(0.0 * 0.3162277638912201)), Smear(43(0.0 * 0.3162277638912201)), Smear(44(1.0 * 1.0, ramp_out)), Smear(46(0 * 0.2154434621334076, ramp_in_out))], [Smear(19(0.0 * 0.3162277638912201)), Smear(20(-1.0 * 1.3162277936935425, ramp_out)), Smear(21(0.0 * 1.0)), Smear(22(1.0 * 0.3162277638912201, ramp_out)), Smear(34(0 * 0.2154434621334076, ramp_in_out)), Smear(44(1.0 * 0.3162277638912201, ramp_out)), Smear(46(0 * 0.4641588628292084, ramp_in_out))], [Smear(20(1.0 * 0.3162277638912201, ramp_out)), Smear(21(0.0 * 0.3162277638912201)), Smear(22(1.0 * 1.0, ramp_out)), Smear(34(0 * 0.4641588628292084, ramp_in_out)), Smear(46(0 * 1.0, ramp_in_out)), Smear(62(-1.0 * 0.3162277638912201, ramp_in))], [Smear(22(1.0 * 0.3162277638912201, ramp_out)), Smear(34(0 * 1.0, ramp_in_out)), Smear(46(0 * 0.4641588628292084, ramp_in_out)), Smear(62(-1.0 * 1.0, ramp_in)), Smear(63(0.0 * 0.3162277638912201)), Smear(75(-1.0 * 0.3162277638912201, ramp_in))], [Smear(21(-1.0 * 0.3162277638912201, ramp_in)), Smear(34(0 * 0.4641588628292084, ramp_in_out)), Smear(46(0 * 0.2154434621334076, ramp_in_out)), Smear(62(-1.0 * 0.3162277638912201, ramp_in)), Smear(63(0.0 * 1.0)), Smear(64(1.0 * 0.3162277638912201, ramp_out)), Smear(75(-1.0 * 1.0, ramp_in)), Smear(76(0.0 * 0.3162277638912201))], [Smear(21(-1.0 * 1.0, ramp_in)), Smear(22(0.0 * 0.3162277638912201)), Smear(34(0 * 0.2154434621334076, ramp_in_out)), Smear(63(0.0 * 0.3162277638912201)), Smear(64(1.0 * 1.0, ramp_out)), Smear(72(-1.0 * 0.3162277638912201, ramp_in)), Smear(75(-1.0 * 0.3162277638912201, ramp_in)), Smear(76(0.0 * 1.0)), Smear(77(1.0 * 0.3162277638912201, ramp_out))], [Smear(21(-1.0 * 0.3162277638912201, ramp_in)), Smear(22(0.0 * 1.0)), Smear(23(1.0 * 0.3162277638912201, ramp_out)), Smear(64(1.0 * 0.3162277638912201, ramp_out)), Smear(66(-1.0 * 0.3162277638912201, ramp_in)), Smear(72(-1.0 * 1.0, ramp_in)), Smear(73(0.0 * 0.3162277638912201)), Smear(76(0.0 * 0.3162277638912201)), Smear(77(1.0 * 1.0, ramp_out))], [Smear(22(0.0 * 0.3162277638912201)), Smear(23(1.0 * 1.0, ramp_out)), Smear(66(-1.0 * 1.0, ramp_in)), Smear(67(-1.0 * 0.6324555277824402)), Smear(72(-1.0 * 0.3162277638912201, ramp_in)), Smear(73(0.0 * 1.0)), Smear(74(1.0 * 0.3162277638912201, ramp_out)), Smear(77(1.0 * 0.3162277638912201, ramp_out))], [Smear(23(1.0 * 0.3162277638912201, ramp_out)), Smear(66(-1.0 * 0.3162277638912201, ramp_in)), Smear(67(-1.0 * 2.0)), Smear(68(0.0 * 0.6324555277824402, ramp_out)), Smear(73(0.0 * 0.3162277638912201)), Smear(74(-1.0 * 1.3162277936935425, ramp_out))], [Smear(54(-1.0 * 0.3162277638912201, ramp_in)), Smear(67(-1.0 * 0.6324555277824402)), Smear(68(0.0 * 2.0, ramp_out)), Smear(69(1.0 * 0.3162277638912201, ramp_out)), Smear(74(-1.0 * 1.3162277936935425, ramp_in)), Smear(75(0.0 * 0.3162277638912201))], [Smear(25(-1.0 * 0.3162277638912201, ramp_in)), Smear(54(-1.0 * 1.0, ramp_in)), Smear(55(0.0 * 0.3162277638912201)), Smear(68(0.0 * 0.6324555277824402, ramp_out)), Smear(69(1.0 * 1.0, ramp_out)), Smear(74(-1.0 * 0.3162277638912201, ramp_in)), Smear(75(0.0 * 1.0)), Smear(76(1.0 * 0.3162277638912201, ramp_out))], [Smear(13(-1.0 * 0.3162277638912201, ramp_in)), Smear(25(-1.0 * 1.0, ramp_in)), Smear(26(0.0 * 0.3162277638912201)), Smear(54(-1.0 * 0.3162277638912201, ramp_in)), Smear(55(0.0 * 1.0)), Smear(56(1.0 * 0.3162277638912201, ramp_out)), Smear(69(1.0 * 0.3162277638912201, ramp_out)), Smear(75(0.0 * 0.3162277638912201)), Smear(76(1.0 * 1.0, ramp_out))], [Smear(13(-1.0 * 1.0, ramp_in)), Smear(14(0.0 * 0.3162277638912201)), Smear(25(-1.0 * 0.3162277638912201, ramp_in)), Smear(26(0.0 * 1.0)), Smear(27(1.0 * 0.3162277638912201, ramp_out)), Smear(53(-1.0 * 0.3162277638912201, ramp_in)), Smear(55(0.0 * 0.3162277638912201)), Smear(56(1.0 * 1.0, ramp_out)), Smear(76(1.0 * 0.3162277638912201, ramp_out))], [Smear(13(-1.0 * 0.3162277638912201, ramp_in)), Smear(14(0.0 * 1.0)), Smear(15(1.0 * 0.3162277638912201, ramp_out)), Smear(26(0.0 * 0.3162277638912201)), Smear(27(1.0 * 1.0, ramp_out)), Smear(53(-1.0 * 1.0, ramp_in)), Smear(54(0.0 * 0.3162277638912201)), Smear(56(1.0 * 0.3162277638912201, ramp_out)), Smear(89(-1.0 * 0.3162277638912201, ramp_in))], [Smear(14(0.0 * 0.3162277638912201)), Smear(15(1.0 * 1.0, ramp_out)), Smear(27(1.0 * 0.3162277638912201, ramp_out)), Smear(53(-1.0 * 0.3162277638912201, ramp_in)), Smear(54(0.0 * 1.0)), Smear(55(1.0 * 0.3162277638912201, ramp_out)), Smear(89(-1.0 * 1.0, ramp_in)), Smear(90(-1.0 * 0.6324555277824402))], [Smear(15(1.0 * 0.3162277638912201, ramp_out)), Smear(54(0.0 * 0.3162277638912201)), Smear(55(1.0 * 1.0, ramp_out)), Smear(89(-1.0 * 0.3162277638912201, ramp_in)), Smear(90(-1.0 * 2.0)), Smear(91(-1.0 * 0.9486832618713379, ramp_out))], [Smear(55(1.0 * 0.3162277638912201, ramp_out)), Smear(90(-1.0 * 0.6324555277824402)), Smear(91(-1.0 * 3.0, ramp_out)), Smear(92(0.0 * 0.6324555277824402, ramp_out))], [Smear(91(-1.0 * 0.9486832618713379, ramp_out)), Smear(92(0.0 * 2.0, ramp_out))], [Smear(92(0.0 * 0.6324555277824402, ramp_out))]]))"
      ]
     },
     "execution_count": 5,
     "metadata": {},
     "output_type": "execute_result"
    }
   ],
   "execution_count": 5
  },
  {
   "metadata": {
    "ExecuteTime": {
     "end_time": "2025-07-07T09:44:51.103931Z",
     "start_time": "2025-07-07T09:44:43.897926Z"
    }
   },
   "cell_type": "code",
   "source": [
    "ordering, result = clap_slice.run_audio_ordering(input_filename=\"/Users/damian/2.current/clapSlice/outputs/Suzanne Vega, DNA - Tom's Diner (1080p_25fps_H264-128kbit_AAC).mp4\",\n",
    "                              bpm=99.144290351136028,\n",
    "                              chunk_size_beats=4,\n",
    "                              smear_modifiers=smear_modifiers\n",
    "                              )\n",
    "from clap_slice.audio_ordering_candidates_registry import save_candidate\n",
    "save_candidate(ordering)"
   ],
   "id": "21047e7b74c2a706",
   "outputs": [
    {
     "name": "stdout",
     "output_type": "stream",
     "text": [
      "loaded waveform with shape torch.Size([2, 10902605]) , sampling rate 48000\n",
      "computing route\n",
      "[0, 1, 2, 3, 5, 4, 89, 87, 81, 77, 49, 53, 25, 47, 51, 35, 37, 66, 79, 83, 85, 82, 78, 24, 36, 52, 50, 80, 84, 13, 9, 7, 11, 23, 64, 65, 12, 48, 86, 88, 6, 8, 10, 38, 72, 74, 16, 20, 40, 28, 33, 15, 18, 41, 39, 31, 29, 62, 42, 44, 59, 32, 27, 70, 45, 61, 58, 60, 56, 57, 69, 30, 71, 17, 43, 19, 21, 46, 34, 63, 76, 22, 73, 67, 68, 75, 55, 26, 14, 54, 90, 91, 92]\n",
      "smear width: 1.1656289100646973  spread: 0.8343711495399475 -> 1 1\n",
      "smear width: 1.1779073476791382  spread: 0.822092592716217 -> 1 1\n",
      "smear width: 1.3396927118301392  spread: 0.6603072881698608 -> 1 1\n",
      "smear width: 1.5265007019042969  spread: 0.4734993577003479 -> 2 0\n",
      "smear width: 1.5316972732543945  spread: 0.46830278635025024 -> 2 0\n",
      "smear width: 1.525647521018982  spread: 0.47435247898101807 -> 2 0\n",
      "smear width: 1.5453895330429077  spread: 0.45461055636405945 -> 2 0\n",
      "smear width: 1.524491310119629  spread: 0.47550880908966064 -> 2 0\n",
      "smear width: 1.536349892616272  spread: 0.4636501669883728 -> 2 0\n",
      "smear width: 1.6031221151351929  spread: 0.3968779444694519 -> 2 0\n",
      "smear width: 1.5891993045806885  spread: 0.4108006954193115 -> 2 0\n",
      "smear width: 1.5602691173553467  spread: 0.43973085284233093 -> 2 0\n",
      "smear width: 1.5443531274795532  spread: 0.4556468427181244 -> 2 0\n",
      "smear width: 1.5792770385742188  spread: 0.4207228720188141 -> 2 0\n",
      "smear width: 1.6097112894058228  spread: 0.3902888000011444 -> 2 0\n",
      "smear width: 1.6884161233901978  spread: 0.31158384680747986 -> 2 0\n",
      "smear width: 1.6614923477172852  spread: 0.33850759267807007 -> 2 0\n",
      "smear width: 1.5282994508743286  spread: 0.471700519323349 -> 2 0\n",
      "smear width: 1.5449200868606567  spread: 0.4550798535346985 -> 2 0\n",
      "smear width: 1.5526962280273438  spread: 0.447303831577301 -> 2 0\n",
      "smear width: 1.5565381050109863  spread: 0.44346198439598083 -> 2 0\n",
      "smear width: 1.6155929565429688  spread: 0.38440704345703125 -> 2 0\n",
      "smear width: 1.7488263845443726  spread: 0.25117355585098267 -> 2 0\n",
      "smear width: 1.6933472156524658  spread: 0.3066527843475342 -> 2 0\n",
      "smear width: 1.60331392288208  spread: 0.3966860771179199 -> 2 0\n",
      "smear width: 1.592059850692749  spread: 0.40794020891189575 -> 2 0\n",
      "smear width: 1.6063413619995117  spread: 0.3936586081981659 -> 2 0\n",
      "smear width: 1.530332326889038  spread: 0.46966758370399475 -> 2 0\n",
      "smear width: 1.6407406330108643  spread: 0.3592594563961029 -> 2 0\n",
      "smear width: 1.5145704746246338  spread: 0.48542946577072144 -> 2 0\n",
      "smear width: 1.5122963190078735  spread: 0.48770371079444885 -> 2 0\n",
      "smear width: 1.5810424089431763  spread: 0.4189576208591461 -> 2 0\n",
      "smear width: 1.4843473434448242  spread: 0.5156526565551758 -> 1 1\n",
      "smear width: 1.5970730781555176  spread: 0.40292689204216003 -> 2 0\n",
      "smear width: 1.5886385440826416  spread: 0.4113613963127136 -> 2 0\n",
      "smear width: 1.5938913822174072  spread: 0.4061086177825928 -> 2 0\n",
      "smear width: 1.5682564973831177  spread: 0.43174341320991516 -> 2 0\n",
      "smear width: 1.5327699184417725  spread: 0.467229962348938 -> 2 0\n",
      "smear width: 1.5041636228561401  spread: 0.4958363473415375 -> 2 0\n",
      "smear width: 1.525876760482788  spread: 0.4741232693195343 -> 2 0\n",
      "smear width: 1.5241550207138062  spread: 0.47584500908851624 -> 2 0\n",
      "smear width: 1.537346601486206  spread: 0.46265333890914917 -> 2 0\n",
      "smear width: 1.447178840637207  spread: 0.5528210997581482 -> 1 1\n",
      "smear width: 1.31703782081604  spread: 0.68296217918396 -> 1 1\n",
      "smear width: 1.3162016868591309  spread: 0.6837984323501587 -> 1 1\n",
      "smear width: 1.3417479991912842  spread: 0.658251941204071 -> 1 1\n",
      "smear width: 1.3291230201721191  spread: 0.6708769798278809 -> 1 1\n",
      "smear width: 1.2683241367340088  spread: 0.731675922870636 -> 1 1\n",
      "smear width: 1.2044589519500732  spread: 0.795540988445282 -> 1 1\n",
      "smear width: 1.2819198369979858  spread: 0.7180801033973694 -> 1 1\n",
      "smear width: 1.302350401878357  spread: 0.6976496577262878 -> 1 1\n",
      "smear width: 1.2902991771697998  spread: 0.7097007632255554 -> 1 1\n",
      "smear width: 1.3249132633209229  spread: 0.6750868558883667 -> 1 1\n",
      "smear width: 1.3299146890640259  spread: 0.6700853109359741 -> 1 1\n",
      "smear width: 1.244084119796753  spread: 0.7559159398078918 -> 1 1\n",
      "smear width: 1.3329086303710938  spread: 0.6670913100242615 -> 1 1\n",
      "smear width: 1.3380889892578125  spread: 0.6619110107421875 -> 1 1\n",
      "smear width: 1.344547986984253  spread: 0.6554520726203918 -> 1 1\n",
      "smear width: 1.3584071397781372  spread: 0.6415929794311523 -> 1 1\n",
      "smear width: 1.4009677171707153  spread: 0.5990322828292847 -> 1 1\n",
      "smear width: 1.4272116422653198  spread: 0.5727883577346802 -> 1 1\n",
      "smear width: 1.374690294265747  spread: 0.6253097653388977 -> 1 1\n",
      "smear width: 1.3666967153549194  spread: 0.6333032846450806 -> 1 1\n",
      "smear width: 1.3438094854354858  spread: 0.6561905741691589 -> 1 1\n",
      "smear width: 1.3938097953796387  spread: 0.6061902046203613 -> 1 1\n",
      "smear width: 1.399619698524475  spread: 0.6003804206848145 -> 1 1\n",
      "smear width: 1.3464865684509277  spread: 0.6535134315490723 -> 1 1\n",
      "smear width: 1.2834266424179077  spread: 0.7165732383728027 -> 1 1\n",
      "smear width: 1.3204277753829956  spread: 0.6795721650123596 -> 1 1\n",
      "smear width: 1.2293612957000732  spread: 0.770638644695282 -> 1 1\n",
      "smear width: 1.4255945682525635  spread: 0.574405312538147 -> 1 1\n",
      "smear width: 1.291718602180481  spread: 0.7082814574241638 -> 1 1\n",
      "smear width: 1.282000184059143  spread: 0.7179998159408569 -> 1 1\n",
      "smear width: 1.2797538042068481  spread: 0.7202461957931519 -> 1 1\n",
      "smear width: 1.4353060722351074  spread: 0.5646939873695374 -> 1 1\n",
      "smear width: 1.3548201322555542  spread: 0.6451799273490906 -> 1 1\n",
      "smear width: 1.3519254922866821  spread: 0.6480745077133179 -> 1 1\n",
      "smear width: 1.502782940864563  spread: 0.4972170889377594 -> 2 0\n",
      "smear width: 1.573981523513794  spread: 0.42601847648620605 -> 2 0\n",
      "smear width: 1.48615300655365  spread: 0.5138469338417053 -> 1 1\n",
      "smear width: 1.4679569005966187  spread: 0.5320430397987366 -> 1 1\n",
      "smear width: 1.4634040594100952  spread: 0.5365960597991943 -> 1 1\n",
      "smear width: 1.4097415208816528  spread: 0.5902585387229919 -> 1 1\n",
      "smear width: 1.2966125011444092  spread: 0.7033875584602356 -> 1 1\n",
      "smear width: 1.1801029443740845  spread: 0.8198970556259155 -> 1 1\n",
      "smear width: 1.1590397357940674  spread: 0.8409602642059326 -> 1 1\n",
      "smear width: 1.3934381008148193  spread: 0.6065617799758911 -> 1 1\n",
      "smear width: 1.449486494064331  spread: 0.550513505935669 -> 1 1\n",
      "smear width: 1.3987181186676025  spread: 0.6012818217277527 -> 1 1\n",
      "smear width: 1.399969458580017  spread: 0.6000305414199829 -> 1 1\n",
      "smear width: 1.4034491777420044  spread: 0.5965506434440613 -> 1 1\n",
      "smear width: 1.3077354431152344  spread: 0.6922646760940552 -> 1 1\n",
      "smear width: 1.2510064840316772  spread: 0.7489936351776123 -> 1 1\n",
      "saved to /Users/damian/2.current/clapSlice/outputs/Suzanne Vega, DNA - Tom's Diner (1080p_25fps_H264-128kbit_AAC).mp4-sorted-bpm99.14429035113602-cb4-ww0-smeared-dyn.wav.mp3\n"
     ]
    },
    {
     "data": {
      "text/plain": [
       "\"./audio_ordering_candidates_registry/Suzanne Vega, DNA - Tom's Diner (1080p_25fps_H264-128kbit_AAC).mp4/candidate_0.pkl\""
      ]
     },
     "execution_count": 7,
     "metadata": {},
     "output_type": "execute_result"
    }
   ],
   "execution_count": 7
  },
  {
   "metadata": {
    "ExecuteTime": {
     "end_time": "2025-07-07T09:47:43.872580Z",
     "start_time": "2025-07-07T09:47:43.766606Z"
    }
   },
   "cell_type": "code",
   "source": [
    "from clap_slice.audio_ordering_candidates_registry import load_candidate\n",
    "load_candidate(ordering.source_audio, candidate_index=0)"
   ],
   "id": "e2e261e361ab90ea",
   "outputs": [
    {
     "data": {
      "text/plain": [
       "AudioOrdering(source_audio=\"/Users/damian/2.current/clapSlice/outputs/Suzanne Vega, DNA - Tom's Diner (1080p_25fps_H264-128kbit_AAC).mp4\", bpm=99.14429035113602, chunk_beats=4, sort_order=tensor([ 0,  1,  2,  3,  5,  4, 89, 87, 81, 77, 49, 53, 25, 47, 51, 35, 37, 66,\n",
       "        79, 83, 85, 82, 78, 24, 36, 52, 50, 80, 84, 13,  9,  7, 11, 23, 64, 65,\n",
       "        12, 48, 86, 88,  6,  8, 10, 38, 72, 74, 16, 20, 40, 28, 33, 15, 18, 41,\n",
       "        39, 31, 29, 62, 42, 44, 59, 32, 27, 70, 45, 61, 58, 60, 56, 57, 69, 30,\n",
       "        71, 17, 43, 19, 21, 46, 34, 63, 76, 22, 73, 67, 68, 75, 55, 26, 14, 54,\n",
       "        90, 91, 92]), window_width=0)"
      ]
     },
     "execution_count": 8,
     "metadata": {},
     "output_type": "execute_result"
    }
   ],
   "execution_count": 8
  },
  {
   "metadata": {},
   "cell_type": "code",
   "outputs": [],
   "execution_count": null,
   "source": "",
   "id": "c86d07c41a194675"
  }
 ],
 "metadata": {
  "kernelspec": {
   "display_name": "Python 3",
   "language": "python",
   "name": "python3"
  },
  "language_info": {
   "codemirror_mode": {
    "name": "ipython",
    "version": 2
   },
   "file_extension": ".py",
   "mimetype": "text/x-python",
   "name": "python",
   "nbconvert_exporter": "python",
   "pygments_lexer": "ipython2",
   "version": "2.7.6"
  }
 },
 "nbformat": 4,
 "nbformat_minor": 5
}
