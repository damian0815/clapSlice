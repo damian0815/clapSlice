{
 "cells": [
  {
   "cell_type": "code",
   "id": "initial_id",
   "metadata": {
    "collapsed": true,
    "ExecuteTime": {
     "end_time": "2025-07-06T22:15:15.343033Z",
     "start_time": "2025-07-06T22:15:10.341417Z"
    }
   },
   "source": [
    "%load_ext autoreload\n",
    "%autoreload 2\n",
    "import torch\n",
    "\n",
    "torch.autograd.set_grad_enabled(False)\n",
    "from clap_slice import ClapSlice\n",
    "clap_slice = ClapSlice()"
   ],
   "outputs": [
    {
     "name": "stdout",
     "output_type": "stream",
     "text": [
      "The autoreload extension is already loaded. To reload it, use:\n",
      "  %reload_ext autoreload\n",
      "initilizing CLAP\n"
     ]
    }
   ],
   "execution_count": 14
  },
  {
   "metadata": {
    "ExecuteTime": {
     "end_time": "2025-07-06T22:36:50.627764Z",
     "start_time": "2025-07-06T22:36:40.764965Z"
    }
   },
   "cell_type": "code",
   "source": [
    "from clap_slice import SmearModifier\n",
    "\n",
    "smear_modifiers = [\n",
    "    SmearModifier(smear_width=0, spread=2, match_embedding=clap_slice.clap.get_text_features(\"talking, rapping, softly speaking poetry\")),\n",
    "    SmearModifier(smear_width=2, spread=0, match_embedding=clap_slice.clap.get_text_features(\"instrumental\"))\n",
    "]\n",
    "\n",
    "clap_slice.run_audio_ordering(input_filename='/Users/damian/2.current/clapSlice/outputs/Set adrift on Memory Bliss - PM Dawn (480p_30fps_H264-128kbit_AAC).mp4',\n",
    "                              bpm=101.276505960544361,\n",
    "                              chunk_size_beats=8,\n",
    "                              smear_modifiers=smear_modifiers\n",
    "                              )"
   ],
   "id": "adc2283e947b3bae",
   "outputs": [
    {
     "name": "stdout",
     "output_type": "stream",
     "text": [
      "loaded waveform with shape torch.Size([2, 11817657]) , sampling rate 48000\n"
     ]
    },
    {
     "data": {
      "text/plain": [
       "  0%|          | 0/51 [00:00<?, ?it/s]"
      ],
      "application/vnd.jupyter.widget-view+json": {
       "version_major": 2,
       "version_minor": 0,
       "model_id": "9f8c2e1960764797a1454d81bfd0c370"
      }
     },
     "metadata": {},
     "output_type": "display_data"
    },
    {
     "name": "stdout",
     "output_type": "stream",
     "text": [
      "computing route\n",
      "[0, 1, 2, 42, 8, 7, 41, 40, 22, 38, 36, 24, 48, 46, 39, 37, 23, 35, 21, 45, 49, 47, 50, 3, 43, 44, 4, 5, 6, 26, 10, 12, 25, 9, 14, 20, 18, 27, 17, 33, 28, 13, 11, 15, 16, 30, 19, 29, 34, 32, 31]\n",
      "smear width: 1.0055527687072754  spread: 0.9944471716880798 -> 1 1\n",
      "smear width: 1.225046157836914  spread: 0.7749539017677307 -> 1 1\n",
      "smear width: 1.152963399887085  spread: 0.847036600112915 -> 1 1\n",
      "smear width: 1.525022029876709  spread: 0.4749779999256134 -> 2 0\n",
      "smear width: 1.500502586364746  spread: 0.4994973838329315 -> 2 0\n",
      "smear width: 1.518029808998108  spread: 0.48197025060653687 -> 2 0\n",
      "smear width: 1.508386492729187  spread: 0.49161356687545776 -> 2 0\n",
      "smear width: 1.465010166168213  spread: 0.5349898934364319 -> 1 1\n",
      "smear width: 1.5064680576324463  spread: 0.4935319423675537 -> 2 0\n",
      "smear width: 1.5090802907943726  spread: 0.49091964960098267 -> 2 0\n",
      "smear width: 1.536997675895691  spread: 0.46300235390663147 -> 2 0\n",
      "smear width: 1.544439435005188  spread: 0.45556047558784485 -> 2 0\n",
      "smear width: 1.5088173151016235  spread: 0.4911826550960541 -> 2 0\n",
      "smear width: 1.5394684076309204  spread: 0.460531622171402 -> 2 0\n",
      "smear width: 1.5988729000091553  spread: 0.40112704038619995 -> 2 0\n",
      "smear width: 1.5550616979599  spread: 0.4449382722377777 -> 2 0\n",
      "smear width: 1.518900990486145  spread: 0.48109906911849976 -> 2 0\n",
      "smear width: 1.547316074371338  spread: 0.45268386602401733 -> 2 0\n",
      "smear width: 1.5801831483840942  spread: 0.4198167622089386 -> 2 0\n",
      "smear width: 1.6867843866348267  spread: 0.3132155239582062 -> 2 0\n",
      "smear width: 1.6583949327468872  spread: 0.34160512685775757 -> 2 0\n",
      "smear width: 1.600507378578186  spread: 0.3994925916194916 -> 2 0\n",
      "smear width: 1.4300323724746704  spread: 0.5699676275253296 -> 1 1\n",
      "smear width: 1.2150198221206665  spread: 0.7849801778793335 -> 1 1\n",
      "smear width: 1.2765812873840332  spread: 0.7234187126159668 -> 1 1\n",
      "smear width: 1.3942419290542603  spread: 0.6057581305503845 -> 1 1\n",
      "smear width: 1.3967821598052979  spread: 0.6032179594039917 -> 1 1\n",
      "smear width: 1.2939856052398682  spread: 0.7060143947601318 -> 1 1\n",
      "smear width: 1.31771719455719  spread: 0.6822828650474548 -> 1 1\n",
      "smear width: 1.3599199056625366  spread: 0.6400800943374634 -> 1 1\n",
      "smear width: 1.3427762985229492  spread: 0.6572237014770508 -> 1 1\n",
      "smear width: 1.3481662273406982  spread: 0.651833713054657 -> 1 1\n",
      "smear width: 1.411901593208313  spread: 0.5880984663963318 -> 1 1\n",
      "smear width: 1.4233320951461792  spread: 0.5766680836677551 -> 1 1\n",
      "smear width: 1.3605331182479858  spread: 0.6394668221473694 -> 1 1\n",
      "smear width: 1.3097845315933228  spread: 0.6902154684066772 -> 1 1\n",
      "smear width: 1.3522170782089233  spread: 0.6477829217910767 -> 1 1\n",
      "smear width: 1.4580936431884766  spread: 0.5419063568115234 -> 1 1\n",
      "smear width: 1.338818907737732  spread: 0.6611810326576233 -> 1 1\n",
      "smear width: 1.2458633184432983  spread: 0.7541368007659912 -> 1 1\n",
      "smear width: 1.3842469453811646  spread: 0.6157531142234802 -> 1 1\n",
      "smear width: 1.422269344329834  spread: 0.5777307152748108 -> 1 1\n",
      "smear width: 1.3651208877563477  spread: 0.6348791122436523 -> 1 1\n",
      "smear width: 1.2777258157730103  spread: 0.7222740650177002 -> 1 1\n",
      "smear width: 1.495932698249817  spread: 0.5040673017501831 -> 1 1\n",
      "smear width: 1.4510160684585571  spread: 0.5489839315414429 -> 1 1\n",
      "smear width: 1.4110867977142334  spread: 0.588913083076477 -> 1 1\n",
      "smear width: 1.3335366249084473  spread: 0.6664634346961975 -> 1 1\n",
      "smear width: 1.3641654253005981  spread: 0.6358345150947571 -> 1 1\n",
      "smear width: 1.1563671827316284  spread: 0.8436329364776611 -> 1 1\n",
      "smear width: 1.3501101732254028  spread: 0.6498899459838867 -> 1 1\n",
      "saved to /Users/damian/2.current/clapSlice/outputs/Set adrift on Memory Bliss - PM Dawn (480p_30fps_H264-128kbit_AAC).mp4-sorted-bpm101.27650596054436-cb8-ww0-smeared-dyn.wav.mp3\n"
     ]
    },
    {
     "data": {
      "text/plain": [
       "(AudioOrdering(source_audio='/Users/damian/2.current/clapSlice/outputs/Set adrift on Memory Bliss - PM Dawn (480p_30fps_H264-128kbit_AAC).mp4', bpm=101.27650596054436, chunk_beats=8, sort_order=tensor([ 0,  1,  2, 42,  8,  7, 41, 40, 22, 38, 36, 24, 48, 46, 39, 37, 23, 35,\n",
       "         21, 45, 49, 47, 50,  3, 43, 44,  4,  5,  6, 26, 10, 12, 25,  9, 14, 20,\n",
       "         18, 27, 17, 33, 28, 13, 11, 15, 16, 30, 19, 29, 34, 32, 31]), window_width=0),\n",
       " AudioOrderingResult(output_audio=tensor([[ 0.0000,  0.0000,  0.0000,  ..., -0.0077, -0.0069, -0.0078],\n",
       "         [ 0.0000,  0.0000,  0.0000,  ..., -0.0068, -0.0061, -0.0072]]), smear_details=[[Smear(0(-1.0 * 0.6324555277824402))], [Smear(0(-1.0 * 2.0)), Smear(1(-1.0 * 0.9486832618713379, ramp_out))], [Smear(0(-1.0 * 0.6324555277824402)), Smear(1(-1.0 * 3.0, ramp_out)), Smear(2(0.0 * 0.6324555277824402, ramp_out)), Smear(42(0 * 0.2154434621334076, ramp_in_out))], [Smear(1(-1.0 * 0.9486832618713379, ramp_out)), Smear(2(0.0 * 2.0, ramp_out)), Smear(3(1.0 * 0.3162277638912201, ramp_out)), Smear(8(0 * 0.2154434621334076, ramp_in_out)), Smear(42(0 * 0.4641588628292084, ramp_in_out))], [Smear(2(0.0 * 0.6324555277824402, ramp_out)), Smear(3(1.0 * 1.0, ramp_out)), Smear(7(0 * 0.2154434621334076, ramp_in_out)), Smear(8(0 * 0.4641588628292084, ramp_in_out)), Smear(42(0 * 1.0, ramp_in_out))], [Smear(3(1.0 * 0.3162277638912201, ramp_out)), Smear(7(0 * 0.4641588628292084, ramp_in_out)), Smear(8(0 * 1.0, ramp_in_out)), Smear(41(0 * 0.2154434621334076, ramp_in_out)), Smear(42(0 * 0.4641588628292084, ramp_in_out))], [Smear(7(0 * 1.0, ramp_in_out)), Smear(8(0 * 0.4641588628292084, ramp_in_out)), Smear(39(-1.0 * 0.3162277638912201, ramp_in)), Smear(41(0 * 0.4641588628292084, ramp_in_out)), Smear(42(0 * 0.2154434621334076, ramp_in_out))], [Smear(7(0 * 0.4641588628292084, ramp_in_out)), Smear(8(0 * 0.2154434621334076, ramp_in_out)), Smear(22(0 * 0.2154434621334076, ramp_in_out)), Smear(39(-1.0 * 1.0, ramp_in)), Smear(40(0.0 * 0.3162277638912201)), Smear(41(0 * 1.0, ramp_in_out))], [Smear(7(0 * 0.2154434621334076, ramp_in_out)), Smear(22(0 * 0.4641588628292084, ramp_in_out)), Smear(38(0 * 0.2154434621334076, ramp_in_out)), Smear(39(-1.0 * 0.3162277638912201, ramp_in)), Smear(40(0.0 * 1.0)), Smear(41(0 * 0.7803866267204285, ramp_in_out))], [Smear(22(0 * 1.0, ramp_in_out)), Smear(36(0 * 0.2154434621334076, ramp_in_out)), Smear(38(0 * 0.4641588628292084, ramp_in_out)), Smear(40(0.0 * 0.3162277638912201)), Smear(41(0 * 1.21544349193573, ramp_out))], [Smear(22(0 * 0.4641588628292084, ramp_in_out)), Smear(24(0 * 0.2154434621334076, ramp_in_out)), Smear(36(0 * 0.4641588628292084, ramp_in_out)), Smear(38(0 * 1.0, ramp_in_out)), Smear(41(1.0 * 0.3162277638912201, ramp_out))], [Smear(22(0 * 0.2154434621334076, ramp_in_out)), Smear(24(0 * 0.4641588628292084, ramp_in_out)), Smear(36(0 * 1.0, ramp_in_out)), Smear(38(0 * 0.4641588628292084, ramp_in_out)), Smear(48(0 * 0.2154434621334076, ramp_in_out))], [Smear(24(0 * 1.0, ramp_in_out)), Smear(36(0 * 0.4641588628292084, ramp_in_out)), Smear(38(0 * 0.2154434621334076, ramp_in_out)), Smear(46(0 * 0.2154434621334076, ramp_in_out)), Smear(48(0 * 0.4641588628292084, ramp_in_out))], [Smear(24(0 * 0.4641588628292084, ramp_in_out)), Smear(36(0 * 0.2154434621334076, ramp_in_out)), Smear(39(0 * 0.2154434621334076, ramp_in_out)), Smear(46(0 * 0.4641588628292084, ramp_in_out)), Smear(48(0 * 1.0, ramp_in_out))], [Smear(24(0 * 0.2154434621334076, ramp_in_out)), Smear(37(0 * 0.2154434621334076, ramp_in_out)), Smear(39(0 * 0.4641588628292084, ramp_in_out)), Smear(46(0 * 1.0, ramp_in_out)), Smear(48(0 * 0.4641588628292084, ramp_in_out))], [Smear(23(0 * 0.2154434621334076, ramp_in_out)), Smear(37(0 * 0.4641588628292084, ramp_in_out)), Smear(39(0 * 1.0, ramp_in_out)), Smear(46(0 * 0.4641588628292084, ramp_in_out)), Smear(48(0 * 0.2154434621334076, ramp_in_out))], [Smear(23(0 * 0.4641588628292084, ramp_in_out)), Smear(35(0 * 0.2154434621334076, ramp_in_out)), Smear(37(0 * 1.0, ramp_in_out)), Smear(39(0 * 0.4641588628292084, ramp_in_out)), Smear(46(0 * 0.2154434621334076, ramp_in_out))], [Smear(21(0 * 0.2154434621334076, ramp_in_out)), Smear(23(0 * 1.0, ramp_in_out)), Smear(35(0 * 0.4641588628292084, ramp_in_out)), Smear(37(0 * 0.4641588628292084, ramp_in_out)), Smear(39(0 * 0.2154434621334076, ramp_in_out))], [Smear(21(0 * 0.4641588628292084, ramp_in_out)), Smear(23(0 * 0.4641588628292084, ramp_in_out)), Smear(35(0 * 1.0, ramp_in_out)), Smear(37(0 * 0.2154434621334076, ramp_in_out)), Smear(45(0 * 0.2154434621334076, ramp_in_out))], [Smear(21(0 * 1.0, ramp_in_out)), Smear(23(0 * 0.2154434621334076, ramp_in_out)), Smear(35(0 * 0.4641588628292084, ramp_in_out)), Smear(45(0 * 0.4641588628292084, ramp_in_out)), Smear(49(0 * 0.2154434621334076, ramp_in_out))], [Smear(21(0 * 0.4641588628292084, ramp_in_out)), Smear(35(0 * 0.2154434621334076, ramp_in_out)), Smear(45(0 * 1.0, ramp_in_out)), Smear(47(0 * 0.2154434621334076, ramp_in_out)), Smear(49(0 * 0.4641588628292084, ramp_in_out))], [Smear(21(0 * 0.2154434621334076, ramp_in_out)), Smear(45(0 * 0.4641588628292084, ramp_in_out)), Smear(47(0 * 0.4641588628292084, ramp_in_out)), Smear(49(-1.0 * 1.3162277936935425, ramp_in_out))], [Smear(2(-1.0 * 0.3162277638912201, ramp_in)), Smear(45(0 * 0.2154434621334076, ramp_in_out)), Smear(47(0 * 1.0, ramp_in_out)), Smear(49(-1.0 * 1.4641588926315308, ramp_in)), Smear(50(0.0 * 0.3162277638912201))], [Smear(2(-1.0 * 1.0, ramp_in)), Smear(3(0.0 * 0.3162277638912201)), Smear(42(-1.0 * 0.3162277638912201, ramp_in)), Smear(47(0 * 0.4641588628292084, ramp_in_out)), Smear(49(-1.0 * 0.5316712260246277, ramp_in)), Smear(50(0.0 * 1.0))], [Smear(2(-1.0 * 0.3162277638912201, ramp_in)), Smear(3(0.0 * 1.0)), Smear(4(1.0 * 0.3162277638912201, ramp_out)), Smear(42(-1.0 * 1.0, ramp_in)), Smear(43(-1.0 * 0.6324555277824402)), Smear(47(0 * 0.2154434621334076, ramp_in_out)), Smear(50(0.0 * 0.3162277638912201))], [Smear(3(-1.0 * 0.6324555277824402)), Smear(4(1.0 * 1.0, ramp_out)), Smear(42(-1.0 * 0.3162277638912201, ramp_in)), Smear(43(-1.0 * 2.0)), Smear(44(0.0 * 0.6324555277824402, ramp_out))], [Smear(3(-1.0 * 1.0, ramp_in)), Smear(4(-1.0 * 0.9486832618713379, ramp_out)), Smear(43(-1.0 * 0.6324555277824402)), Smear(44(0.0 * 2.0, ramp_out)), Smear(45(1.0 * 0.3162277638912201, ramp_out))], [Smear(3(-1.0 * 0.3162277638912201, ramp_in)), Smear(4(-1.0 * 2.0)), Smear(5(-1.0 * 0.9486832618713379, ramp_out)), Smear(44(0.0 * 0.6324555277824402, ramp_out)), Smear(45(1.0 * 1.0, ramp_out))], [Smear(4(-1.0 * 0.6324555277824402)), Smear(5(-1.0 * 3.0, ramp_out)), Smear(6(0.0 * 0.6324555277824402, ramp_out)), Smear(25(-1.0 * 0.3162277638912201, ramp_in)), Smear(45(1.0 * 0.3162277638912201, ramp_out))], [Smear(5(-1.0 * 0.9486832618713379, ramp_out)), Smear(6(0.0 * 2.0, ramp_out)), Smear(7(1.0 * 0.3162277638912201, ramp_out)), Smear(9(-1.0 * 0.3162277638912201, ramp_in)), Smear(25(-1.0 * 1.0, ramp_in)), Smear(26(0.0 * 0.3162277638912201))], [Smear(6(0.0 * 0.6324555277824402, ramp_out)), Smear(7(1.0 * 1.0, ramp_out)), Smear(9(-1.0 * 1.0, ramp_in)), Smear(10(0.0 * 0.3162277638912201)), Smear(11(-1.0 * 0.3162277638912201, ramp_in)), Smear(25(-1.0 * 0.3162277638912201, ramp_in)), Smear(26(0.0 * 1.0)), Smear(27(1.0 * 0.3162277638912201, ramp_out))], [Smear(7(1.0 * 0.3162277638912201, ramp_out)), Smear(9(-1.0 * 0.3162277638912201, ramp_in)), Smear(10(0.0 * 1.0)), Smear(11(-1.0 * 1.3162277936935425, ramp_in)), Smear(12(0.0 * 0.3162277638912201)), Smear(24(-1.0 * 0.3162277638912201, ramp_in)), Smear(26(0.0 * 0.3162277638912201)), Smear(27(1.0 * 1.0, ramp_out))], [Smear(8(-1.0 * 0.3162277638912201, ramp_in)), Smear(10(0.0 * 0.3162277638912201)), Smear(11(-1.0 * 1.3162277936935425, ramp_out)), Smear(12(0.0 * 1.0)), Smear(13(1.0 * 0.3162277638912201, ramp_out)), Smear(24(-1.0 * 1.0, ramp_in)), Smear(25(0.0 * 0.3162277638912201)), Smear(27(1.0 * 0.3162277638912201, ramp_out))], [Smear(8(-1.0 * 1.0, ramp_in)), Smear(9(0.0 * 0.3162277638912201)), Smear(11(1.0 * 0.3162277638912201, ramp_out)), Smear(12(0.0 * 0.3162277638912201)), Smear(13(-1.0 * 1.3162277936935425, ramp_out)), Smear(24(-1.0 * 0.3162277638912201, ramp_in)), Smear(25(0.0 * 1.0)), Smear(26(1.0 * 0.3162277638912201, ramp_out))], [Smear(8(-1.0 * 0.3162277638912201, ramp_in)), Smear(9(0.0 * 1.0)), Smear(10(1.0 * 0.3162277638912201, ramp_out)), Smear(13(-1.0 * 1.3162277936935425, ramp_in)), Smear(14(0.0 * 0.3162277638912201)), Smear(19(-1.0 * 0.3162277638912201, ramp_in)), Smear(25(0.0 * 0.3162277638912201)), Smear(26(1.0 * 1.0, ramp_out))], [Smear(9(0.0 * 0.3162277638912201)), Smear(10(1.0 * 1.0, ramp_out)), Smear(13(-1.0 * 0.3162277638912201, ramp_in)), Smear(14(0.0 * 1.0)), Smear(15(1.0 * 0.3162277638912201, ramp_out)), Smear(17(-1.0 * 0.3162277638912201, ramp_in)), Smear(19(-1.0 * 1.0, ramp_in)), Smear(20(0.0 * 0.3162277638912201)), Smear(26(1.0 * 0.3162277638912201, ramp_out))], [Smear(10(1.0 * 0.3162277638912201, ramp_out)), Smear(14(0.0 * 0.3162277638912201)), Smear(15(1.0 * 1.0, ramp_out)), Smear(17(-1.0 * 1.0, ramp_in)), Smear(18(0.0 * 0.3162277638912201)), Smear(19(-1.0 * 0.3162277638912201, ramp_in)), Smear(20(0.0 * 1.0)), Smear(21(1.0 * 0.3162277638912201, ramp_out)), Smear(26(-1.0 * 0.3162277638912201, ramp_in))], [Smear(15(1.0 * 0.3162277638912201, ramp_out)), Smear(16(-1.0 * 0.3162277638912201, ramp_in)), Smear(17(-1.0 * 0.3162277638912201, ramp_in)), Smear(18(0.0 * 1.0)), Smear(19(1.0 * 0.3162277638912201, ramp_out)), Smear(20(0.0 * 0.3162277638912201)), Smear(21(1.0 * 1.0, ramp_out)), Smear(26(-1.0 * 1.0, ramp_in)), Smear(27(0.0 * 0.3162277638912201))], [Smear(16(-1.0 * 1.0, ramp_in)), Smear(17(0.0 * 0.3162277638912201)), Smear(18(0.0 * 0.3162277638912201)), Smear(19(1.0 * 1.0, ramp_out)), Smear(21(1.0 * 0.3162277638912201, ramp_out)), Smear(26(-1.0 * 0.3162277638912201, ramp_in)), Smear(27(0.0 * 1.0)), Smear(28(1.0 * 0.3162277638912201, ramp_out)), Smear(32(-1.0 * 0.3162277638912201, ramp_in))], [Smear(16(-1.0 * 0.3162277638912201, ramp_in)), Smear(17(0.0 * 1.0)), Smear(18(1.0 * 0.3162277638912201, ramp_out)), Smear(19(1.0 * 0.3162277638912201, ramp_out)), Smear(27(-1.0 * 0.6324555277824402)), Smear(28(1.0 * 1.0, ramp_out)), Smear(32(-1.0 * 1.0, ramp_in)), Smear(33(0.0 * 0.3162277638912201))], [Smear(12(-1.0 * 0.3162277638912201, ramp_in)), Smear(17(0.0 * 0.3162277638912201)), Smear(18(1.0 * 1.0, ramp_out)), Smear(27(-1.0 * 1.0, ramp_in)), Smear(28(0.0 * 0.6324555277824402, ramp_out)), Smear(32(-1.0 * 0.3162277638912201, ramp_in)), Smear(33(0.0 * 1.0)), Smear(34(1.0 * 0.3162277638912201, ramp_out))], [Smear(10(-1.0 * 0.3162277638912201, ramp_in)), Smear(12(-1.0 * 1.0, ramp_in)), Smear(13(0.0 * 0.3162277638912201)), Smear(18(1.0 * 0.3162277638912201, ramp_out)), Smear(27(-1.0 * 0.3162277638912201, ramp_in)), Smear(28(0.0 * 1.0)), Smear(29(1.0 * 0.3162277638912201, ramp_out)), Smear(33(0.0 * 0.3162277638912201)), Smear(34(1.0 * 1.0, ramp_out))], [Smear(10(-1.0 * 1.0, ramp_in)), Smear(11(0.0 * 0.3162277638912201)), Smear(12(-1.0 * 0.3162277638912201, ramp_in)), Smear(13(0.0 * 1.0)), Smear(14(-1.0 * 0.6324555277824402, ramp_out)), Smear(28(0.0 * 0.3162277638912201)), Smear(29(1.0 * 1.0, ramp_out)), Smear(34(1.0 * 0.3162277638912201, ramp_out))], [Smear(10(-1.0 * 0.3162277638912201, ramp_in)), Smear(11(0.0 * 1.0)), Smear(12(1.0 * 0.3162277638912201, ramp_out)), Smear(13(0.0 * 0.3162277638912201)), Smear(14(-1.0 * 2.0, ramp_out)), Smear(15(-1.0 * 0.6324555277824402)), Smear(29(1.0 * 0.3162277638912201, ramp_out))], [Smear(11(0.0 * 0.3162277638912201)), Smear(12(1.0 * 1.0, ramp_out)), Smear(14(-1.0 * 0.6324555277824402, ramp_out)), Smear(15(-1.0 * 2.0)), Smear(16(0.0 * 0.6324555277824402, ramp_out)), Smear(29(-1.0 * 0.3162277638912201, ramp_in))], [Smear(12(1.0 * 0.3162277638912201, ramp_out)), Smear(15(-1.0 * 0.6324555277824402)), Smear(16(0.0 * 2.0, ramp_out)), Smear(17(1.0 * 0.3162277638912201, ramp_out)), Smear(18(-1.0 * 0.3162277638912201, ramp_in)), Smear(29(-1.0 * 1.0, ramp_in)), Smear(30(0.0 * 0.3162277638912201))], [Smear(16(0.0 * 0.6324555277824402, ramp_out)), Smear(17(1.0 * 1.0, ramp_out)), Smear(18(-1.0 * 1.0, ramp_in)), Smear(19(0.0 * 0.3162277638912201)), Smear(28(-1.0 * 0.3162277638912201, ramp_in)), Smear(29(-1.0 * 0.3162277638912201, ramp_in)), Smear(30(0.0 * 1.0)), Smear(31(1.0 * 0.3162277638912201, ramp_out))], [Smear(17(1.0 * 0.3162277638912201, ramp_out)), Smear(18(-1.0 * 0.3162277638912201, ramp_in)), Smear(19(0.0 * 1.0)), Smear(20(1.0 * 0.3162277638912201, ramp_out)), Smear(28(-1.0 * 1.0, ramp_in)), Smear(29(0.0 * 0.3162277638912201)), Smear(30(0.0 * 0.3162277638912201)), Smear(31(1.0 * 1.0, ramp_out)), Smear(33(-1.0 * 0.3162277638912201, ramp_in))], [Smear(19(0.0 * 0.3162277638912201)), Smear(20(1.0 * 1.0, ramp_out)), Smear(28(-1.0 * 0.3162277638912201, ramp_in)), Smear(29(0.0 * 1.0)), Smear(30(1.0 * 0.3162277638912201, ramp_out)), Smear(31(-1.0 * 0.6324555277824402, ramp_out)), Smear(33(-1.0 * 1.0, ramp_in)), Smear(34(0.0 * 0.3162277638912201))], [Smear(20(1.0 * 0.3162277638912201, ramp_out)), Smear(29(0.0 * 0.3162277638912201)), Smear(30(-1.0 * 1.3162277936935425, ramp_out)), Smear(31(-1.0 * 1.0, ramp_in)), Smear(32(0.0 * 0.3162277638912201)), Smear(33(-1.0 * 0.3162277638912201, ramp_in)), Smear(34(0.0 * 1.0)), Smear(35(1.0 * 0.3162277638912201, ramp_out))], [Smear(30(-1.0 * 1.3162277936935425, ramp_in)), Smear(31(-1.0 * 0.6324555277824402, ramp_in)), Smear(32(0.0 * 1.0)), Smear(33(1.0 * 0.3162277638912201, ramp_out)), Smear(34(0.0 * 0.3162277638912201)), Smear(35(1.0 * 1.0, ramp_out))], [Smear(30(-1.0 * 0.3162277638912201, ramp_in)), Smear(31(0.0 * 1.0)), Smear(32(0.0 * 0.6324555277824402)), Smear(33(1.0 * 1.0, ramp_out)), Smear(35(1.0 * 0.3162277638912201, ramp_out))], [Smear(31(0.0 * 0.3162277638912201)), Smear(32(1.0 * 1.0, ramp_out)), Smear(33(1.0 * 0.3162277638912201, ramp_out))], [Smear(32(1.0 * 0.3162277638912201, ramp_out))]]))"
      ]
     },
     "execution_count": 27,
     "metadata": {},
     "output_type": "execute_result"
    }
   ],
   "execution_count": 27
  },
  {
   "metadata": {
    "ExecuteTime": {
     "end_time": "2025-07-06T22:37:00.230790Z",
     "start_time": "2025-07-06T22:36:50.868900Z"
    }
   },
   "cell_type": "code",
   "source": [
    "clap_slice.run_audio_ordering(input_filename=\"/Users/damian/2.current/clapSlice/outputs/Suzanne Vega, DNA - Tom's Diner (1080p_25fps_H264-128kbit_AAC).mp4\",\n",
    "                              bpm=99.144290351136028,\n",
    "                              chunk_size_beats=8,\n",
    "                              smear_modifiers=smear_modifiers\n",
    "                              )"
   ],
   "id": "4b1a53169d58b08a",
   "outputs": [
    {
     "name": "stdout",
     "output_type": "stream",
     "text": [
      "loaded waveform with shape torch.Size([2, 10902605]) , sampling rate 48000\n"
     ]
    },
    {
     "data": {
      "text/plain": [
       "  0%|          | 0/46 [00:00<?, ?it/s]"
      ],
      "application/vnd.jupyter.widget-view+json": {
       "version_major": 2,
       "version_minor": 0,
       "model_id": "26cd346acec4446faae778c4ee637364"
      }
     },
     "metadata": {},
     "output_type": "display_data"
    },
    {
     "name": "stdout",
     "output_type": "stream",
     "text": [
      "computing route\n",
      "[0, 1, 2, 13, 22, 35, 16, 10, 20, 9, 21, 30, 29, 15, 14, 28, 8, 37, 34, 19, 31, 7, 36, 33, 42, 43, 44, 6, 24, 26, 12, 18, 39, 41, 25, 40, 32, 17, 38, 11, 23, 3, 4, 5, 27, 45]\n",
      "smear width: 1.0878989696502686  spread: 0.9121009707450867 -> 1 1\n",
      "smear width: 1.3443697690963745  spread: 0.6556302905082703 -> 1 1\n",
      "smear width: 1.4417989253997803  spread: 0.5582011342048645 -> 1 1\n",
      "smear width: 1.3393745422363281  spread: 0.6606254577636719 -> 1 1\n",
      "smear width: 1.3727130889892578  spread: 0.627286970615387 -> 1 1\n",
      "smear width: 1.3372079133987427  spread: 0.6627920269966125 -> 1 1\n",
      "smear width: 1.2944812774658203  spread: 0.7055187225341797 -> 1 1\n",
      "smear width: 1.3279259204864502  spread: 0.6720741391181946 -> 1 1\n",
      "smear width: 1.2719870805740356  spread: 0.7280129194259644 -> 1 1\n",
      "smear width: 1.3290743827819824  spread: 0.670925498008728 -> 1 1\n",
      "smear width: 1.3964954614639282  spread: 0.6035045385360718 -> 1 1\n",
      "smear width: 1.2875910997390747  spread: 0.7124090194702148 -> 1 1\n",
      "smear width: 1.3517264127731323  spread: 0.6482735872268677 -> 1 1\n",
      "smear width: 1.320378303527832  spread: 0.6796215772628784 -> 1 1\n",
      "smear width: 1.333624243736267  spread: 0.6663756966590881 -> 1 1\n",
      "smear width: 1.2533355951309204  spread: 0.7466643452644348 -> 1 1\n",
      "smear width: 1.2933894395828247  spread: 0.7066105008125305 -> 1 1\n",
      "smear width: 1.2923237085342407  spread: 0.707676351070404 -> 1 1\n",
      "smear width: 1.3350473642349243  spread: 0.6649526953697205 -> 1 1\n",
      "smear width: 1.2205476760864258  spread: 0.779452383518219 -> 1 1\n",
      "smear width: 1.3299425840377808  spread: 0.6700575351715088 -> 1 1\n",
      "smear width: 1.2976884841918945  spread: 0.7023115158081055 -> 1 1\n",
      "smear width: 1.3334988355636597  spread: 0.6665011644363403 -> 1 1\n",
      "smear width: 1.3518186807632446  spread: 0.6481813192367554 -> 1 1\n",
      "smear width: 1.5315049886703491  spread: 0.4684950113296509 -> 2 0\n",
      "smear width: 1.4773393869400024  spread: 0.5226606726646423 -> 1 1\n",
      "smear width: 1.517910361289978  spread: 0.48208966851234436 -> 2 0\n",
      "smear width: 1.4718470573425293  spread: 0.5281530022621155 -> 1 1\n",
      "smear width: 1.5356000661849976  spread: 0.46439996361732483 -> 2 0\n",
      "smear width: 1.5352733135223389  spread: 0.46472662687301636 -> 2 0\n",
      "smear width: 1.5470317602157593  spread: 0.4529682695865631 -> 2 0\n",
      "smear width: 1.588639259338379  spread: 0.41136083006858826 -> 2 0\n",
      "smear width: 1.597840666770935  spread: 0.40215927362442017 -> 2 0\n",
      "smear width: 1.5258692502975464  spread: 0.4741308093070984 -> 2 0\n",
      "smear width: 1.5957213640213013  spread: 0.4042786955833435 -> 2 0\n",
      "smear width: 1.5999265909194946  spread: 0.4000733494758606 -> 2 0\n",
      "smear width: 1.5527058839797974  spread: 0.4472941756248474 -> 2 0\n",
      "smear width: 1.5503860712051392  spread: 0.449614018201828 -> 2 0\n",
      "smear width: 1.4987187385559082  spread: 0.5012812614440918 -> 1 1\n",
      "smear width: 1.4950429201126099  spread: 0.5049570202827454 -> 1 1\n",
      "smear width: 1.5046017169952393  spread: 0.49539828300476074 -> 2 0\n",
      "smear width: 1.4966017007827759  spread: 0.5033982992172241 -> 1 1\n",
      "smear width: 1.5174007415771484  spread: 0.4825991988182068 -> 2 0\n",
      "smear width: 1.425639271736145  spread: 0.5743606686592102 -> 1 1\n",
      "smear width: 1.3784456253051758  spread: 0.6215543150901794 -> 1 1\n",
      "smear width: 1.3565475940704346  spread: 0.6434523463249207 -> 1 1\n",
      "saved to /Users/damian/2.current/clapSlice/outputs/Suzanne Vega, DNA - Tom's Diner (1080p_25fps_H264-128kbit_AAC).mp4-sorted-bpm99.14429035113602-cb8-ww0-smeared-dyn.wav.mp3\n"
     ]
    },
    {
     "data": {
      "text/plain": [
       "(AudioOrdering(source_audio=\"/Users/damian/2.current/clapSlice/outputs/Suzanne Vega, DNA - Tom's Diner (1080p_25fps_H264-128kbit_AAC).mp4\", bpm=99.14429035113602, chunk_beats=8, sort_order=tensor([ 0,  1,  2, 13, 22, 35, 16, 10, 20,  9, 21, 30, 29, 15, 14, 28,  8, 37,\n",
       "         34, 19, 31,  7, 36, 33, 42, 43, 44,  6, 24, 26, 12, 18, 39, 41, 25, 40,\n",
       "         32, 17, 38, 11, 23,  3,  4,  5, 27, 45]), window_width=0),\n",
       " AudioOrderingResult(output_audio=tensor([[ 0.0000,  0.0000,  0.0000,  ..., -0.0117, -0.0116, -0.0124],\n",
       "         [ 0.0000,  0.0000,  0.0000,  ..., -0.0134, -0.0125, -0.0120]]), smear_details=[[Smear(0(-1.0 * 0.6324555277824402))], [Smear(0(-1.0 * 2.0)), Smear(1(-1.0 * 0.9486832618713379, ramp_out))], [Smear(0(-1.0 * 0.6324555277824402)), Smear(1(-1.0 * 3.0, ramp_out)), Smear(2(0.0 * 0.6324555277824402, ramp_out)), Smear(12(-1.0 * 0.3162277638912201, ramp_in))], [Smear(1(-1.0 * 0.9486832618713379, ramp_out)), Smear(2(0.0 * 2.0, ramp_out)), Smear(3(1.0 * 0.3162277638912201, ramp_out)), Smear(12(-1.0 * 1.0, ramp_in)), Smear(13(0.0 * 0.3162277638912201)), Smear(21(-1.0 * 0.3162277638912201, ramp_in))], [Smear(2(0.0 * 0.6324555277824402, ramp_out)), Smear(3(1.0 * 1.0, ramp_out)), Smear(12(-1.0 * 0.3162277638912201, ramp_in)), Smear(13(0.0 * 1.0)), Smear(14(1.0 * 0.3162277638912201, ramp_out)), Smear(21(-1.0 * 1.0, ramp_in)), Smear(22(0.0 * 0.3162277638912201)), Smear(34(-1.0 * 0.3162277638912201, ramp_in))], [Smear(3(1.0 * 0.3162277638912201, ramp_out)), Smear(13(0.0 * 0.3162277638912201)), Smear(14(1.0 * 1.0, ramp_out)), Smear(15(-1.0 * 0.3162277638912201, ramp_in)), Smear(21(-1.0 * 0.3162277638912201, ramp_in)), Smear(22(0.0 * 1.0)), Smear(23(1.0 * 0.3162277638912201, ramp_out)), Smear(34(-1.0 * 1.0, ramp_in)), Smear(35(0.0 * 0.3162277638912201))], [Smear(9(-1.0 * 0.3162277638912201, ramp_in)), Smear(14(1.0 * 0.3162277638912201, ramp_out)), Smear(15(-1.0 * 1.0, ramp_in)), Smear(16(0.0 * 0.3162277638912201)), Smear(22(0.0 * 0.3162277638912201)), Smear(23(1.0 * 1.0, ramp_out)), Smear(34(-1.0 * 0.3162277638912201, ramp_in)), Smear(35(0.0 * 1.0)), Smear(36(1.0 * 0.3162277638912201, ramp_out))], [Smear(9(-1.0 * 1.0, ramp_in)), Smear(10(0.0 * 0.3162277638912201)), Smear(15(-1.0 * 0.3162277638912201, ramp_in)), Smear(16(0.0 * 1.0)), Smear(17(1.0 * 0.3162277638912201, ramp_out)), Smear(19(-1.0 * 0.3162277638912201, ramp_in)), Smear(23(1.0 * 0.3162277638912201, ramp_out)), Smear(35(0.0 * 0.3162277638912201)), Smear(36(1.0 * 1.0, ramp_out))], [Smear(8(-1.0 * 0.3162277638912201, ramp_in)), Smear(9(-1.0 * 0.3162277638912201, ramp_in)), Smear(10(0.0 * 1.0)), Smear(11(1.0 * 0.3162277638912201, ramp_out)), Smear(16(0.0 * 0.3162277638912201)), Smear(17(1.0 * 1.0, ramp_out)), Smear(19(-1.0 * 1.0, ramp_in)), Smear(20(0.0 * 0.3162277638912201)), Smear(36(1.0 * 0.3162277638912201, ramp_out))], [Smear(8(-1.0 * 1.0, ramp_in)), Smear(9(0.0 * 0.3162277638912201)), Smear(10(0.0 * 0.3162277638912201)), Smear(11(1.0 * 1.0, ramp_out)), Smear(17(1.0 * 0.3162277638912201, ramp_out)), Smear(19(-1.0 * 0.3162277638912201, ramp_in)), Smear(20(-1.0 * 1.3162277936935425)), Smear(21(1.0 * 0.3162277638912201, ramp_out))], [Smear(8(-1.0 * 0.3162277638912201, ramp_in)), Smear(9(0.0 * 1.0)), Smear(10(1.0 * 0.3162277638912201, ramp_out)), Smear(11(1.0 * 0.3162277638912201, ramp_out)), Smear(20(-1.0 * 1.3162277936935425, ramp_in)), Smear(21(0.0 * 1.3162277936935425, ramp_out)), Smear(29(-1.0 * 0.3162277638912201, ramp_in))], [Smear(9(0.0 * 0.3162277638912201)), Smear(10(1.0 * 1.0, ramp_out)), Smear(20(-1.0 * 0.3162277638912201, ramp_in)), Smear(21(0.0 * 1.3162277936935425)), Smear(22(1.0 * 0.3162277638912201, ramp_out)), Smear(28(-1.0 * 0.3162277638912201, ramp_in)), Smear(29(-1.0 * 1.0, ramp_in)), Smear(30(0.0 * 0.3162277638912201))], [Smear(10(1.0 * 0.3162277638912201, ramp_out)), Smear(14(-1.0 * 0.3162277638912201, ramp_in)), Smear(21(0.0 * 0.3162277638912201)), Smear(22(1.0 * 1.0, ramp_out)), Smear(28(-1.0 * 1.0, ramp_in)), Smear(29(-1.0 * 0.6324555277824402, ramp_in)), Smear(30(0.0 * 1.0)), Smear(31(1.0 * 0.3162277638912201, ramp_out))], [Smear(13(-1.0 * 0.3162277638912201, ramp_in)), Smear(14(-1.0 * 1.0, ramp_in)), Smear(15(0.0 * 0.3162277638912201)), Smear(22(1.0 * 0.3162277638912201, ramp_out)), Smear(28(-1.0 * 0.3162277638912201, ramp_in)), Smear(29(0.0 * 1.0)), Smear(30(0.0 * 0.6324555277824402)), Smear(31(1.0 * 1.0, ramp_out))], [Smear(13(-1.0 * 1.0, ramp_in)), Smear(14(-1.0 * 0.6324555277824402, ramp_in)), Smear(15(0.0 * 1.0)), Smear(16(1.0 * 0.3162277638912201, ramp_out)), Smear(27(-1.0 * 0.3162277638912201, ramp_in)), Smear(29(0.0 * 0.3162277638912201)), Smear(30(1.0 * 1.0, ramp_out)), Smear(31(1.0 * 0.3162277638912201, ramp_out))], [Smear(7(-1.0 * 0.3162277638912201, ramp_in)), Smear(13(-1.0 * 0.3162277638912201, ramp_in)), Smear(14(0.0 * 1.0)), Smear(15(0.0 * 0.6324555277824402)), Smear(16(1.0 * 1.0, ramp_out)), Smear(27(-1.0 * 1.0, ramp_in)), Smear(28(0.0 * 0.3162277638912201)), Smear(30(1.0 * 0.3162277638912201, ramp_out))], [Smear(7(-1.0 * 1.0, ramp_in)), Smear(8(0.0 * 0.3162277638912201)), Smear(14(0.0 * 0.3162277638912201)), Smear(15(1.0 * 1.0, ramp_out)), Smear(16(1.0 * 0.3162277638912201, ramp_out)), Smear(27(-1.0 * 0.3162277638912201, ramp_in)), Smear(28(0.0 * 1.0)), Smear(29(1.0 * 0.3162277638912201, ramp_out)), Smear(36(-1.0 * 0.3162277638912201, ramp_in))], [Smear(7(-1.0 * 0.3162277638912201, ramp_in)), Smear(8(0.0 * 1.0)), Smear(9(1.0 * 0.3162277638912201, ramp_out)), Smear(15(1.0 * 0.3162277638912201, ramp_out)), Smear(28(0.0 * 0.3162277638912201)), Smear(29(1.0 * 1.0, ramp_out)), Smear(33(-1.0 * 0.3162277638912201, ramp_in)), Smear(36(-1.0 * 1.0, ramp_in)), Smear(37(0.0 * 0.3162277638912201))], [Smear(8(0.0 * 0.3162277638912201)), Smear(9(1.0 * 1.0, ramp_out)), Smear(18(-1.0 * 0.3162277638912201, ramp_in)), Smear(29(1.0 * 0.3162277638912201, ramp_out)), Smear(33(-1.0 * 1.0, ramp_in)), Smear(34(0.0 * 0.3162277638912201)), Smear(36(-1.0 * 0.3162277638912201, ramp_in)), Smear(37(0.0 * 1.0)), Smear(38(1.0 * 0.3162277638912201, ramp_out))], [Smear(9(1.0 * 0.3162277638912201, ramp_out)), Smear(18(-1.0 * 1.0, ramp_in)), Smear(19(0.0 * 0.3162277638912201)), Smear(30(-1.0 * 0.3162277638912201, ramp_in)), Smear(33(-1.0 * 0.3162277638912201, ramp_in)), Smear(34(0.0 * 1.0)), Smear(35(1.0 * 0.3162277638912201, ramp_out)), Smear(37(0.0 * 0.3162277638912201)), Smear(38(1.0 * 1.0, ramp_out))], [Smear(6(-1.0 * 0.3162277638912201, ramp_in)), Smear(18(-1.0 * 0.3162277638912201, ramp_in)), Smear(19(0.0 * 1.0)), Smear(20(1.0 * 0.3162277638912201, ramp_out)), Smear(30(-1.0 * 1.0, ramp_in)), Smear(31(0.0 * 0.3162277638912201)), Smear(34(0.0 * 0.3162277638912201)), Smear(35(1.0 * 1.0, ramp_out)), Smear(38(1.0 * 0.3162277638912201, ramp_out))], [Smear(6(-1.0 * 1.0, ramp_in)), Smear(7(0.0 * 0.3162277638912201)), Smear(19(0.0 * 0.3162277638912201)), Smear(20(1.0 * 1.0, ramp_out)), Smear(30(-1.0 * 0.3162277638912201, ramp_in)), Smear(31(0.0 * 1.0)), Smear(32(1.0 * 0.3162277638912201, ramp_out)), Smear(35(-1.0 * 0.6324555277824402, ramp_out))], [Smear(6(-1.0 * 0.3162277638912201, ramp_in)), Smear(7(0.0 * 1.0)), Smear(8(1.0 * 0.3162277638912201, ramp_out)), Smear(20(1.0 * 0.3162277638912201, ramp_out)), Smear(31(0.0 * 0.3162277638912201)), Smear(32(-1.0 * 1.3162277936935425, ramp_out)), Smear(35(-1.0 * 1.0, ramp_in)), Smear(36(0.0 * 0.3162277638912201))], [Smear(7(0.0 * 0.3162277638912201)), Smear(8(1.0 * 1.0, ramp_out)), Smear(32(-1.0 * 1.3162277936935425, ramp_in)), Smear(33(0.0 * 0.3162277638912201)), Smear(35(-1.0 * 0.3162277638912201, ramp_in)), Smear(36(0.0 * 1.0)), Smear(37(1.0 * 0.3162277638912201, ramp_out)), Smear(42(0 * 0.2154434621334076, ramp_in_out))], [Smear(8(1.0 * 0.3162277638912201, ramp_out)), Smear(32(-1.0 * 0.3162277638912201, ramp_in)), Smear(33(0.0 * 1.0)), Smear(34(1.0 * 0.3162277638912201, ramp_out)), Smear(36(0.0 * 0.3162277638912201)), Smear(37(1.0 * 1.0, ramp_out)), Smear(42(-1.0 * 0.7803866267204285, ramp_in_out))], [Smear(33(0.0 * 0.3162277638912201)), Smear(34(1.0 * 1.0, ramp_out)), Smear(37(1.0 * 0.3162277638912201, ramp_out)), Smear(42(-1.0 * 2.0, ramp_in_out)), Smear(43(0.0 * 0.3162277638912201)), Smear(44(0 * 0.2154434621334076, ramp_in_out))], [Smear(5(-1.0 * 0.3162277638912201, ramp_in)), Smear(34(1.0 * 0.3162277638912201, ramp_out)), Smear(42(-1.0 * 0.7803866267204285, ramp_in_out)), Smear(43(0.0 * 1.0)), Smear(44(0 * 0.7803866267204285, ramp_in_out))], [Smear(5(-1.0 * 1.0, ramp_in)), Smear(6(0.0 * 0.3162277638912201)), Smear(24(0 * 0.2154434621334076, ramp_in_out)), Smear(42(0 * 0.2154434621334076, ramp_in_out)), Smear(43(0.0 * 0.3162277638912201)), Smear(44(0 * 2.0, ramp_out))], [Smear(5(-1.0 * 0.3162277638912201, ramp_in)), Smear(6(0.0 * 1.0)), Smear(7(1.0 * 0.3162277638912201, ramp_out)), Smear(24(0 * 0.4641588628292084, ramp_in_out)), Smear(26(0 * 0.2154434621334076, ramp_in_out)), Smear(44(0 * 0.7803866267204285, ramp_in_out))], [Smear(6(0.0 * 0.3162277638912201)), Smear(7(1.0 * 1.0, ramp_out)), Smear(12(0 * 0.2154434621334076, ramp_in_out)), Smear(24(0 * 1.0, ramp_in_out)), Smear(26(0 * 0.4641588628292084, ramp_in_out)), Smear(44(0 * 0.2154434621334076, ramp_in_out))], [Smear(7(1.0 * 0.3162277638912201, ramp_out)), Smear(12(0 * 0.4641588628292084, ramp_in_out)), Smear(18(0 * 0.2154434621334076, ramp_in_out)), Smear(24(0 * 0.4641588628292084, ramp_in_out)), Smear(26(0 * 1.0, ramp_in_out))], [Smear(12(0 * 1.0, ramp_in_out)), Smear(18(0 * 0.4641588628292084, ramp_in_out)), Smear(24(0 * 0.2154434621334076, ramp_in_out)), Smear(26(0 * 0.4641588628292084, ramp_in_out)), Smear(39(0 * 0.2154434621334076, ramp_in_out))], [Smear(12(0 * 0.4641588628292084, ramp_in_out)), Smear(18(0 * 1.0, ramp_in_out)), Smear(26(0 * 0.2154434621334076, ramp_in_out)), Smear(39(0 * 0.4641588628292084, ramp_in_out)), Smear(41(0 * 0.2154434621334076, ramp_in_out))], [Smear(12(0 * 0.2154434621334076, ramp_in_out)), Smear(18(0 * 0.4641588628292084, ramp_in_out)), Smear(25(0 * 0.2154434621334076, ramp_in_out)), Smear(39(0 * 1.0, ramp_in_out)), Smear(41(0 * 0.4641588628292084, ramp_in_out))], [Smear(18(0 * 0.2154434621334076, ramp_in_out)), Smear(25(0 * 0.4641588628292084, ramp_in_out)), Smear(39(0 * 0.4641588628292084, ramp_in_out)), Smear(40(0 * 0.2154434621334076, ramp_in_out)), Smear(41(0 * 1.0, ramp_in_out))], [Smear(25(0 * 1.0, ramp_in_out)), Smear(32(0 * 0.2154434621334076, ramp_in_out)), Smear(39(0 * 0.2154434621334076, ramp_in_out)), Smear(40(0 * 0.4641588628292084, ramp_in_out)), Smear(41(0 * 0.4641588628292084, ramp_in_out))], [Smear(17(0 * 0.2154434621334076, ramp_in_out)), Smear(25(0 * 0.4641588628292084, ramp_in_out)), Smear(32(0 * 0.4641588628292084, ramp_in_out)), Smear(40(0 * 1.0, ramp_in_out)), Smear(41(0 * 0.2154434621334076, ramp_in_out))], [Smear(17(0 * 0.4641588628292084, ramp_in_out)), Smear(25(0 * 0.2154434621334076, ramp_in_out)), Smear(32(0 * 1.0, ramp_in_out)), Smear(37(-1.0 * 0.3162277638912201, ramp_in)), Smear(40(0 * 0.4641588628292084, ramp_in_out))], [Smear(10(-1.0 * 0.3162277638912201, ramp_in)), Smear(17(0 * 1.0, ramp_in_out)), Smear(32(0 * 0.4641588628292084, ramp_in_out)), Smear(37(-1.0 * 1.0, ramp_in)), Smear(38(0.0 * 0.3162277638912201)), Smear(40(0 * 0.2154434621334076, ramp_in_out))], [Smear(10(-1.0 * 1.0, ramp_in)), Smear(11(0.0 * 0.3162277638912201)), Smear(17(0 * 0.4641588628292084, ramp_in_out)), Smear(23(0 * 0.2154434621334076, ramp_in_out)), Smear(32(0 * 0.2154434621334076, ramp_in_out)), Smear(37(-1.0 * 0.3162277638912201, ramp_in)), Smear(38(0.0 * 1.0)), Smear(39(1.0 * 0.3162277638912201, ramp_out))], [Smear(2(-1.0 * 0.3162277638912201, ramp_in)), Smear(10(-1.0 * 0.3162277638912201, ramp_in)), Smear(11(0.0 * 1.0)), Smear(12(1.0 * 0.3162277638912201, ramp_out)), Smear(17(0 * 0.2154434621334076, ramp_in_out)), Smear(23(0 * 0.4641588628292084, ramp_in_out)), Smear(38(0.0 * 0.3162277638912201)), Smear(39(1.0 * 1.0, ramp_out))], [Smear(2(-1.0 * 1.0, ramp_in)), Smear(3(0.0 * 0.3162277638912201)), Smear(4(0 * 0.2154434621334076, ramp_in_out)), Smear(11(0.0 * 0.3162277638912201)), Smear(12(1.0 * 1.0, ramp_out)), Smear(23(0 * 1.0, ramp_in_out)), Smear(39(1.0 * 0.3162277638912201, ramp_out))], [Smear(2(-1.0 * 0.3162277638912201, ramp_in)), Smear(3(0.0 * 1.0)), Smear(4(-1.0 * 1.0966143608093262, ramp_in_out)), Smear(12(1.0 * 0.3162277638912201, ramp_out)), Smear(23(0 * 0.4641588628292084, ramp_in_out))], [Smear(3(0.0 * 0.3162277638912201)), Smear(4(-1.0 * 3.0, ramp_out)), Smear(5(0.0 * 0.3162277638912201)), Smear(23(0 * 0.2154434621334076, ramp_in_out)), Smear(26(-1.0 * 0.3162277638912201, ramp_in))], [Smear(4(-1.0 * 1.0966143608093262, ramp_in_out)), Smear(5(0.0 * 1.0)), Smear(6(1.0 * 0.3162277638912201, ramp_out)), Smear(26(-1.0 * 1.0, ramp_in)), Smear(27(0.0 * 0.3162277638912201)), Smear(44(-1.0 * 0.3162277638912201, ramp_in))], [Smear(4(0 * 0.2154434621334076, ramp_in_out)), Smear(5(0.0 * 0.3162277638912201)), Smear(6(1.0 * 1.0, ramp_out)), Smear(26(-1.0 * 0.3162277638912201, ramp_in)), Smear(27(0.0 * 1.0)), Smear(28(1.0 * 0.3162277638912201, ramp_out)), Smear(44(-1.0 * 1.0, ramp_in)), Smear(45(0.0 * 0.3162277638912201))], [Smear(6(1.0 * 0.3162277638912201, ramp_out)), Smear(27(0.0 * 0.3162277638912201)), Smear(28(1.0 * 1.0, ramp_out)), Smear(44(-1.0 * 0.3162277638912201, ramp_in)), Smear(45(0.0 * 1.0))], [Smear(28(1.0 * 0.3162277638912201, ramp_out)), Smear(45(0.0 * 0.3162277638912201))]]))"
      ]
     },
     "execution_count": 28,
     "metadata": {},
     "output_type": "execute_result"
    }
   ],
   "execution_count": 28
  },
  {
   "metadata": {},
   "cell_type": "code",
   "outputs": [],
   "execution_count": null,
   "source": "",
   "id": "21047e7b74c2a706"
  }
 ],
 "metadata": {
  "kernelspec": {
   "display_name": "Python 3",
   "language": "python",
   "name": "python3"
  },
  "language_info": {
   "codemirror_mode": {
    "name": "ipython",
    "version": 2
   },
   "file_extension": ".py",
   "mimetype": "text/x-python",
   "name": "python",
   "nbconvert_exporter": "python",
   "pygments_lexer": "ipython2",
   "version": "2.7.6"
  }
 },
 "nbformat": 4,
 "nbformat_minor": 5
}
