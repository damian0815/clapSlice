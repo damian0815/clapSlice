{
 "cells": [
  {
   "cell_type": "code",
   "id": "initial_id",
   "metadata": {
    "collapsed": true,
    "ExecuteTime": {
     "end_time": "2025-07-07T14:22:09.516318Z",
     "start_time": "2025-07-07T14:21:57.639768Z"
    }
   },
   "source": [
    "%load_ext autoreload\n",
    "%autoreload 2\n",
    "import torch\n",
    "\n",
    "torch.autograd.set_grad_enabled(False)\n",
    "from clap_slice import ClapSlice\n",
    "clap_slice = ClapSlice()"
   ],
   "outputs": [
    {
     "name": "stderr",
     "output_type": "stream",
     "text": [
      "objc[19305]: Class AVFFrameReceiver is implemented in both /usr/local/Cellar/ffmpeg/6.1_1/lib/libavdevice.60.3.100.dylib (0x17cf26378) and /Users/damian/2.current/clapSlice/venv/lib/python3.12/site-packages/av/.dylibs/libavdevice.61.3.100.dylib (0x18d06e3b0). One of the two will be used. Which one is undefined.\n",
      "objc[19305]: Class AVFAudioReceiver is implemented in both /usr/local/Cellar/ffmpeg/6.1_1/lib/libavdevice.60.3.100.dylib (0x17cf263c8) and /Users/damian/2.current/clapSlice/venv/lib/python3.12/site-packages/av/.dylibs/libavdevice.61.3.100.dylib (0x18d06e400). One of the two will be used. Which one is undefined.\n"
     ]
    },
    {
     "name": "stdout",
     "output_type": "stream",
     "text": [
      "initilizing CLAP\n"
     ]
    }
   ],
   "execution_count": 2
  },
  {
   "metadata": {
    "ExecuteTime": {
     "end_time": "2025-07-07T14:22:10.373583Z",
     "start_time": "2025-07-07T14:22:09.535844Z"
    }
   },
   "cell_type": "code",
   "source": [
    "from clap_slice import SmearModifier\n",
    "\n",
    "smear_modifiers = [\n",
    "    SmearModifier(smear_width=0, spread=2, match_embedding=clap_slice.clap.get_text_features(\"talking, rapping, softly speaking poetry\")),\n",
    "    SmearModifier(smear_width=2, spread=0, match_embedding=clap_slice.clap.get_text_features(\"instrumental\"))\n",
    "]\n"
   ],
   "id": "bb6110388690b2fe",
   "outputs": [],
   "execution_count": 3
  },
  {
   "metadata": {
    "ExecuteTime": {
     "end_time": "2025-07-07T14:27:07.140088Z",
     "start_time": "2025-07-07T14:26:59.831090Z"
    }
   },
   "cell_type": "code",
   "source": [
    "clap_slice.run_audio_ordering(input_filename='/Users/damian/2.current/clapSlice/outputs/Set adrift on Memory Bliss - PM Dawn (480p_30fps_H264-128kbit_AAC).mp4',\n",
    "                              bpm=101.276505960544361,\n",
    "                              first_beat_offset_seconds=5.097,\n",
    "                              chunk_size_beats=4,\n",
    "                              smear_modifiers=smear_modifiers\n",
    "                              )"
   ],
   "id": "adc2283e947b3bae",
   "outputs": [
    {
     "name": "stdout",
     "output_type": "stream",
     "text": [
      "loaded waveform with shape torch.Size([2, 11817657]) , sampling rate 48000\n",
      "computing route\n",
      "padding waveform by torch.Size([96576])\n",
      "padding waveform by torch.Size([96576])\n",
      "[12, 14, 26, 35, 38, 29, 54, 31, 23, 39, 51, 42, 25, 22, 21, 69, 27, 28, 20, 24, 67, 41, 58, 57, 53, 56, 62, 32, 55, 52, 30, 63, 64, 66, 65, 34, 19, 33, 60, 59, 36, 37, 68, 40, 61, 86, 18, 15, 83, 16, 84, 17, 85, 6, 5, 4, 2, 3, 1, 103, 102, 98, 50, 46, 78, 82, 74, 94, 70, 101, 97, 93, 92, 96, 100, 99, 95, 91, 49, 81, 77, 73, 45, 72, 44, 48, 80, 76, 47, 75, 79, 43, 71, 87, 7, 90, 88, 89, 9, 10, 8, 0, 11, 13]\n",
      "smear width: 1.3001083135604858  spread: 0.6998916268348694 -> 1 1\n",
      "smear width: 1.423164963722229  spread: 0.5768352150917053 -> 1 1\n",
      "smear width: 1.2898986339569092  spread: 0.7101013660430908 -> 1 1\n",
      "smear width: 1.259838342666626  spread: 0.7401615977287292 -> 1 1\n",
      "smear width: 1.3394259214401245  spread: 0.6605740189552307 -> 1 1\n",
      "smear width: 1.3776640892028809  spread: 0.6223357319831848 -> 1 1\n",
      "smear width: 1.4143357276916504  spread: 0.5856642723083496 -> 1 1\n",
      "smear width: 1.29774010181427  spread: 0.7022599577903748 -> 1 1\n",
      "smear width: 1.4437083005905151  spread: 0.5562916398048401 -> 1 1\n",
      "smear width: 1.4198178052902222  spread: 0.5801823139190674 -> 1 1\n",
      "smear width: 1.3756747245788574  spread: 0.624325156211853 -> 1 1\n",
      "smear width: 1.4581592082977295  spread: 0.5418407917022705 -> 1 1\n",
      "smear width: 1.3644605875015259  spread: 0.6355394721031189 -> 1 1\n",
      "smear width: 1.389296054840088  spread: 0.6107038855552673 -> 1 1\n",
      "smear width: 1.4189929962158203  spread: 0.5810070633888245 -> 1 1\n",
      "smear width: 1.3794751167297363  spread: 0.6205249428749084 -> 1 1\n",
      "smear width: 1.3665777444839478  spread: 0.6334222555160522 -> 1 1\n",
      "smear width: 1.3748399019241333  spread: 0.6251602172851562 -> 1 1\n",
      "smear width: 1.3719314336776733  spread: 0.6280685663223267 -> 1 1\n",
      "smear width: 1.3660166263580322  spread: 0.6339834332466125 -> 1 1\n",
      "smear width: 1.3175392150878906  spread: 0.6824607253074646 -> 1 1\n",
      "smear width: 1.366092324256897  spread: 0.6339076161384583 -> 1 1\n",
      "smear width: 1.3467270135879517  spread: 0.6532729864120483 -> 1 1\n",
      "smear width: 1.4475743770599365  spread: 0.5524256229400635 -> 1 1\n",
      "smear width: 1.3455729484558105  spread: 0.6544269919395447 -> 1 1\n",
      "smear width: 1.5629857778549194  spread: 0.4370141923427582 -> 2 0\n",
      "smear width: 1.5098413228988647  spread: 0.4901585578918457 -> 2 0\n",
      "smear width: 1.4786784648895264  spread: 0.5213214755058289 -> 1 1\n",
      "smear width: 1.5062236785888672  spread: 0.4937763810157776 -> 2 0\n",
      "smear width: 1.4123607873916626  spread: 0.5876392722129822 -> 1 1\n",
      "smear width: 1.4003547430038452  spread: 0.59964519739151 -> 1 1\n",
      "smear width: 1.4869098663330078  spread: 0.513090193271637 -> 1 1\n",
      "smear width: 1.387696385383606  spread: 0.6123035550117493 -> 1 1\n",
      "smear width: 1.3597047328948975  spread: 0.6402952671051025 -> 1 1\n",
      "smear width: 1.3923776149749756  spread: 0.6076223850250244 -> 1 1\n",
      "smear width: 1.4856542348861694  spread: 0.5143458247184753 -> 1 1\n",
      "smear width: 1.492132306098938  spread: 0.5078675746917725 -> 1 1\n",
      "smear width: 1.534805417060852  spread: 0.46519461274147034 -> 2 0\n",
      "smear width: 1.611669659614563  spread: 0.3883303105831146 -> 2 0\n",
      "smear width: 1.4019763469696045  spread: 0.598023533821106 -> 1 1\n",
      "smear width: 1.3377463817596436  spread: 0.6622534990310669 -> 1 1\n",
      "smear width: 1.3453717231750488  spread: 0.654628336429596 -> 1 1\n",
      "smear width: 1.3199940919876099  spread: 0.6800059080123901 -> 1 1\n",
      "smear width: 1.398894190788269  spread: 0.601105809211731 -> 1 1\n",
      "smear width: 1.5249778032302856  spread: 0.47502216696739197 -> 2 0\n",
      "smear width: 1.5798366069793701  spread: 0.42016342282295227 -> 2 0\n",
      "smear width: 1.4432402849197388  spread: 0.556759774684906 -> 1 1\n",
      "smear width: 1.4694271087646484  spread: 0.5305730104446411 -> 1 1\n",
      "smear width: 1.4215443134307861  spread: 0.5784556269645691 -> 1 1\n",
      "smear width: 1.6165565252304077  spread: 0.3834435045719147 -> 2 0\n",
      "smear width: 1.5753251314163208  spread: 0.4246748685836792 -> 2 0\n",
      "smear width: 1.5945414304733276  spread: 0.4054586589336395 -> 2 0\n",
      "smear width: 1.638643741607666  spread: 0.3613561987876892 -> 2 0\n",
      "smear width: 1.2123568058013916  spread: 0.7876431941986084 -> 1 1\n",
      "smear width: 1.1938952207565308  spread: 0.8061047196388245 -> 1 1\n",
      "smear width: 1.3200197219848633  spread: 0.6799802184104919 -> 1 1\n",
      "smear width: 1.3462270498275757  spread: 0.6537729501724243 -> 1 1\n",
      "smear width: 1.1391925811767578  spread: 0.8608073592185974 -> 1 1\n",
      "smear width: 1.0622339248657227  spread: 0.9377660155296326 -> 1 1\n",
      "smear width: 1.3486946821212769  spread: 0.6513054370880127 -> 1 1\n",
      "smear width: 1.4559197425842285  spread: 0.5440801978111267 -> 1 1\n",
      "smear width: 1.6084283590316772  spread: 0.3915715515613556 -> 2 0\n",
      "smear width: 1.5709750652313232  spread: 0.42902490496635437 -> 2 0\n",
      "smear width: 1.617648720741272  spread: 0.382351279258728 -> 2 0\n",
      "smear width: 1.61931574344635  spread: 0.3806842267513275 -> 2 0\n",
      "smear width: 1.6280181407928467  spread: 0.37198176980018616 -> 2 0\n",
      "smear width: 1.6045554876327515  spread: 0.3954445421695709 -> 2 0\n",
      "smear width: 1.672844409942627  spread: 0.3271556496620178 -> 2 0\n",
      "smear width: 1.6623739004135132  spread: 0.3376261293888092 -> 2 0\n",
      "smear width: 1.5655245780944824  spread: 0.4344754219055176 -> 2 0\n",
      "smear width: 1.6184535026550293  spread: 0.3815465271472931 -> 2 0\n",
      "smear width: 1.6147198677062988  spread: 0.38528016209602356 -> 2 0\n",
      "smear width: 1.9837439060211182  spread: 0.016256112605333328 -> 2 0\n",
      "smear width: 1.8573771715164185  spread: 0.14262273907661438 -> 2 0\n",
      "smear width: 1.8526077270507812  spread: 0.14739228785037994 -> 2 0\n",
      "smear width: 1.7597821950912476  spread: 0.24021784961223602 -> 2 0\n",
      "smear width: 1.7457329034805298  spread: 0.2542671263217926 -> 2 0\n",
      "smear width: 1.7212529182434082  spread: 0.278747022151947 -> 2 0\n",
      "smear width: 1.6001324653625488  spread: 0.39986756443977356 -> 2 0\n",
      "smear width: 1.6325427293777466  spread: 0.3674573302268982 -> 2 0\n",
      "smear width: 1.6706140041351318  spread: 0.32938602566719055 -> 2 0\n",
      "smear width: 1.5558513402938843  spread: 0.44414862990379333 -> 2 0\n",
      "smear width: 1.6050437688827515  spread: 0.39495623111724854 -> 2 0\n",
      "smear width: 1.6613264083862305  spread: 0.33867350220680237 -> 2 0\n",
      "smear width: 1.6984103918075562  spread: 0.30158960819244385 -> 2 0\n",
      "smear width: 1.7415649890899658  spread: 0.25843504071235657 -> 2 0\n",
      "smear width: 1.8891628980636597  spread: 0.11083701252937317 -> 2 0\n",
      "smear width: 1.8113147020339966  spread: 0.1886853128671646 -> 2 0\n",
      "smear width: 1.6217910051345825  spread: 0.37820905447006226 -> 2 0\n",
      "smear width: 1.6073323488235474  spread: 0.3926677107810974 -> 2 0\n",
      "smear width: 1.689988374710083  spread: 0.31001171469688416 -> 2 0\n",
      "smear width: 1.6167194843292236  spread: 0.38328057527542114 -> 2 0\n",
      "smear width: 1.6211085319519043  spread: 0.3788915276527405 -> 2 0\n",
      "smear width: 1.5887200832366943  spread: 0.4112798571586609 -> 2 0\n",
      "smear width: 1.4578776359558105  spread: 0.5421223640441895 -> 1 1\n",
      "smear width: 1.4364088773727417  spread: 0.5635910034179688 -> 1 1\n",
      "smear width: 1.3911529779434204  spread: 0.6088470816612244 -> 1 1\n",
      "smear width: 1.3861805200576782  spread: 0.613819420337677 -> 1 1\n",
      "smear width: 1.4572293758392334  spread: 0.542770504951477 -> 1 1\n",
      "smear width: 1.3857241868972778  spread: 0.6142758727073669 -> 1 1\n",
      "smear width: 1.3384467363357544  spread: 0.6615532040596008 -> 1 1\n",
      "smear width: 0.8071127533912659  spread: 1.1928871870040894 -> 1 1\n",
      "smear width: 1.2554631233215332  spread: 0.7445369362831116 -> 1 1\n",
      "smear width: 1.2958379983901978  spread: 0.7041620016098022 -> 1 1\n",
      "saved to /Users/damian/2.current/clapSlice/outputs/Set adrift on Memory Bliss - PM Dawn (480p_30fps_H264-128kbit_AAC).mp4-sorted-bpm101.27650596054436-cb4-ww0-smeared-dyn.wav.mp3\n"
     ]
    },
    {
     "data": {
      "text/plain": [
       "(AudioOrdering(source_audio='/Users/damian/2.current/clapSlice/outputs/Set adrift on Memory Bliss - PM Dawn (480p_30fps_H264-128kbit_AAC).mp4', bpm=101.27650596054436, chunk_beats=4, sort_order=tensor([ 12,  14,  26,  35,  38,  29,  54,  31,  23,  39,  51,  42,  25,  22,\n",
       "          21,  69,  27,  28,  20,  24,  67,  41,  58,  57,  53,  56,  62,  32,\n",
       "          55,  52,  30,  63,  64,  66,  65,  34,  19,  33,  60,  59,  36,  37,\n",
       "          68,  40,  61,  86,  18,  15,  83,  16,  84,  17,  85,   6,   5,   4,\n",
       "           2,   3,   1, 103, 102,  98,  50,  46,  78,  82,  74,  94,  70, 101,\n",
       "          97,  93,  92,  96, 100,  99,  95,  91,  49,  81,  77,  73,  45,  72,\n",
       "          44,  48,  80,  76,  47,  75,  79,  43,  71,  87,   7,  90,  88,  89,\n",
       "           9,  10,   8,   0,  11,  13]), window_width=0, first_beat_offset_seconds=5.097),\n",
       " AudioOrderingResult(output_audio=tensor([[ 0.0000e+00, -1.0798e-05, -1.7463e-05,  ...,  4.2021e-03,\n",
       "          -2.2409e-03, -4.7225e-03],\n",
       "         [ 0.0000e+00, -9.1629e-06, -1.4152e-05,  ...,  4.5715e-03,\n",
       "          -1.2522e-03, -4.4034e-03]]), smear_details=[[Smear(11(-1.0 * 0.3162277638912201, ramp_in))], [Smear(11(-1.0 * 1.0, ramp_in)), Smear(12(0.0 * 0.3162277638912201)), Smear(13(-1.0 * 0.3162277638912201, ramp_in))], [Smear(11(-1.0 * 0.3162277638912201, ramp_in)), Smear(12(0.0 * 1.0)), Smear(13(-1.0 * 1.3162277936935425, ramp_in)), Smear(14(0.0 * 0.3162277638912201)), Smear(25(-1.0 * 0.3162277638912201, ramp_in))], [Smear(12(0.0 * 0.3162277638912201)), Smear(13(-1.0 * 1.3162277936935425, ramp_out)), Smear(14(0.0 * 1.0)), Smear(15(1.0 * 0.3162277638912201, ramp_out)), Smear(25(-1.0 * 1.0, ramp_in)), Smear(26(0.0 * 0.3162277638912201)), Smear(34(-1.0 * 0.3162277638912201, ramp_in))], [Smear(13(1.0 * 0.3162277638912201, ramp_out)), Smear(14(0.0 * 0.3162277638912201)), Smear(15(1.0 * 1.0, ramp_out)), Smear(25(-1.0 * 0.3162277638912201, ramp_in)), Smear(26(0.0 * 1.0)), Smear(27(1.0 * 0.3162277638912201, ramp_out)), Smear(34(-1.0 * 1.0, ramp_in)), Smear(35(0.0 * 0.3162277638912201)), Smear(37(-1.0 * 0.3162277638912201, ramp_in))], [Smear(15(1.0 * 0.3162277638912201, ramp_out)), Smear(26(0.0 * 0.3162277638912201)), Smear(27(1.0 * 1.0, ramp_out)), Smear(28(-1.0 * 0.3162277638912201, ramp_in)), Smear(34(-1.0 * 0.3162277638912201, ramp_in)), Smear(35(0.0 * 1.0)), Smear(36(1.0 * 0.3162277638912201, ramp_out)), Smear(37(-1.0 * 1.0, ramp_in)), Smear(38(0.0 * 0.3162277638912201))], [Smear(27(1.0 * 0.3162277638912201, ramp_out)), Smear(28(-1.0 * 1.0, ramp_in)), Smear(29(0.0 * 0.3162277638912201)), Smear(35(0.0 * 0.3162277638912201)), Smear(36(1.0 * 1.0, ramp_out)), Smear(37(-1.0 * 0.3162277638912201, ramp_in)), Smear(38(0.0 * 1.0)), Smear(39(1.0 * 0.3162277638912201, ramp_out)), Smear(53(-1.0 * 0.3162277638912201, ramp_in))], [Smear(28(-1.0 * 0.3162277638912201, ramp_in)), Smear(29(0.0 * 1.0)), Smear(30(-1.0 * 0.6324555277824402, ramp_out)), Smear(36(1.0 * 0.3162277638912201, ramp_out)), Smear(38(0.0 * 0.3162277638912201)), Smear(39(1.0 * 1.0, ramp_out)), Smear(53(-1.0 * 1.0, ramp_in)), Smear(54(0.0 * 0.3162277638912201))], [Smear(22(-1.0 * 0.3162277638912201, ramp_in)), Smear(29(0.0 * 0.3162277638912201)), Smear(30(-1.0 * 2.0, ramp_out)), Smear(31(0.0 * 0.3162277638912201)), Smear(39(1.0 * 0.3162277638912201, ramp_out)), Smear(53(-1.0 * 0.3162277638912201, ramp_in)), Smear(54(0.0 * 1.0)), Smear(55(1.0 * 0.3162277638912201, ramp_out))], [Smear(22(-1.0 * 1.0, ramp_in)), Smear(23(0.0 * 0.3162277638912201)), Smear(30(-1.0 * 0.6324555277824402, ramp_out)), Smear(31(0.0 * 1.0)), Smear(32(1.0 * 0.3162277638912201, ramp_out)), Smear(38(-1.0 * 0.3162277638912201, ramp_in)), Smear(54(0.0 * 0.3162277638912201)), Smear(55(1.0 * 1.0, ramp_out))], [Smear(22(-1.0 * 0.3162277638912201, ramp_in)), Smear(23(0.0 * 1.0)), Smear(24(1.0 * 0.3162277638912201, ramp_out)), Smear(31(0.0 * 0.3162277638912201)), Smear(32(1.0 * 1.0, ramp_out)), Smear(38(-1.0 * 1.0, ramp_in)), Smear(39(0.0 * 0.3162277638912201)), Smear(50(-1.0 * 0.3162277638912201, ramp_in)), Smear(55(1.0 * 0.3162277638912201, ramp_out))], [Smear(23(0.0 * 0.3162277638912201)), Smear(24(1.0 * 1.0, ramp_out)), Smear(32(1.0 * 0.3162277638912201, ramp_out)), Smear(38(-1.0 * 0.3162277638912201, ramp_in)), Smear(39(0.0 * 1.0)), Smear(40(1.0 * 0.3162277638912201, ramp_out)), Smear(41(-1.0 * 0.3162277638912201, ramp_in)), Smear(50(-1.0 * 1.0, ramp_in)), Smear(51(0.0 * 0.3162277638912201))], [Smear(24(-1.0 * 0.6324555277824402, ramp_out)), Smear(39(0.0 * 0.3162277638912201)), Smear(40(1.0 * 1.0, ramp_out)), Smear(41(-1.0 * 1.0, ramp_in)), Smear(42(0.0 * 0.3162277638912201)), Smear(50(-1.0 * 0.3162277638912201, ramp_in)), Smear(51(0.0 * 1.0)), Smear(52(1.0 * 0.3162277638912201, ramp_out))], [Smear(21(-1.0 * 0.3162277638912201, ramp_in)), Smear(24(-1.0 * 1.0, ramp_in)), Smear(25(0.0 * 0.3162277638912201)), Smear(40(1.0 * 0.3162277638912201, ramp_out)), Smear(41(-1.0 * 0.3162277638912201, ramp_in)), Smear(42(0.0 * 1.0)), Smear(43(1.0 * 0.3162277638912201, ramp_out)), Smear(51(0.0 * 0.3162277638912201)), Smear(52(1.0 * 1.0, ramp_out))], [Smear(20(-1.0 * 0.3162277638912201, ramp_in)), Smear(21(-1.0 * 1.0, ramp_in)), Smear(22(0.0 * 0.3162277638912201)), Smear(24(-1.0 * 0.3162277638912201, ramp_in)), Smear(25(0.0 * 1.0)), Smear(26(1.0 * 0.3162277638912201, ramp_out)), Smear(42(0.0 * 0.3162277638912201)), Smear(43(1.0 * 1.0, ramp_out)), Smear(52(1.0 * 0.3162277638912201, ramp_out))], [Smear(20(-1.0 * 1.0, ramp_in)), Smear(21(-1.0 * 0.6324555277824402, ramp_in)), Smear(22(0.0 * 1.0)), Smear(23(1.0 * 0.3162277638912201, ramp_out)), Smear(25(0.0 * 0.3162277638912201)), Smear(26(1.0 * 1.0, ramp_out)), Smear(43(1.0 * 0.3162277638912201, ramp_out)), Smear(68(-1.0 * 0.3162277638912201, ramp_in))], [Smear(20(-1.0 * 0.3162277638912201, ramp_in)), Smear(21(0.0 * 1.0)), Smear(22(0.0 * 0.6324555277824402)), Smear(23(1.0 * 1.0, ramp_out)), Smear(26(-1.0 * 0.6324555277824402, ramp_out)), Smear(68(-1.0 * 1.0, ramp_in)), Smear(69(0.0 * 0.3162277638912201))], [Smear(21(0.0 * 0.3162277638912201)), Smear(22(1.0 * 1.0, ramp_out)), Smear(23(1.0 * 0.3162277638912201, ramp_out)), Smear(26(-1.0 * 1.0, ramp_in)), Smear(27(-1.0 * 0.6324555277824402)), Smear(68(-1.0 * 0.3162277638912201, ramp_in)), Smear(69(0.0 * 1.0)), Smear(70(1.0 * 0.3162277638912201, ramp_out))], [Smear(19(-1.0 * 0.3162277638912201, ramp_in)), Smear(22(1.0 * 0.3162277638912201, ramp_out)), Smear(26(-1.0 * 0.3162277638912201, ramp_in)), Smear(27(-1.0 * 2.0)), Smear(28(0.0 * 0.6324555277824402, ramp_out)), Smear(69(0.0 * 0.3162277638912201)), Smear(70(1.0 * 1.0, ramp_out))], [Smear(19(-1.0 * 1.0, ramp_in)), Smear(20(0.0 * 0.3162277638912201)), Smear(23(-1.0 * 0.3162277638912201, ramp_in)), Smear(27(-1.0 * 0.6324555277824402)), Smear(28(0.0 * 2.0, ramp_out)), Smear(29(1.0 * 0.3162277638912201, ramp_out)), Smear(70(1.0 * 0.3162277638912201, ramp_out))], [Smear(19(-1.0 * 0.3162277638912201, ramp_in)), Smear(20(0.0 * 1.0)), Smear(21(1.0 * 0.3162277638912201, ramp_out)), Smear(23(-1.0 * 1.0, ramp_in)), Smear(24(0.0 * 0.3162277638912201)), Smear(28(0.0 * 0.6324555277824402, ramp_out)), Smear(29(1.0 * 1.0, ramp_out)), Smear(66(-1.0 * 0.3162277638912201, ramp_in))], [Smear(20(0.0 * 0.3162277638912201)), Smear(21(1.0 * 1.0, ramp_out)), Smear(23(-1.0 * 0.3162277638912201, ramp_in)), Smear(24(0.0 * 1.0)), Smear(25(1.0 * 0.3162277638912201, ramp_out)), Smear(29(1.0 * 0.3162277638912201, ramp_out)), Smear(40(-1.0 * 0.3162277638912201, ramp_in)), Smear(66(-1.0 * 1.0, ramp_in)), Smear(67(0.0 * 0.3162277638912201))], [Smear(21(1.0 * 0.3162277638912201, ramp_out)), Smear(24(0.0 * 0.3162277638912201)), Smear(25(1.0 * 1.0, ramp_out)), Smear(40(-1.0 * 1.0, ramp_in)), Smear(41(0.0 * 0.3162277638912201)), Smear(57(-1.0 * 0.3162277638912201, ramp_in)), Smear(66(-1.0 * 0.3162277638912201, ramp_in)), Smear(67(0.0 * 1.0)), Smear(68(1.0 * 0.3162277638912201, ramp_out))], [Smear(25(1.0 * 0.3162277638912201, ramp_out)), Smear(40(-1.0 * 0.3162277638912201, ramp_in)), Smear(41(0.0 * 1.0)), Smear(42(1.0 * 0.3162277638912201, ramp_out)), Smear(56(-1.0 * 0.3162277638912201, ramp_in)), Smear(57(-1.0 * 1.0, ramp_in)), Smear(58(0.0 * 0.3162277638912201)), Smear(67(0.0 * 0.3162277638912201)), Smear(68(1.0 * 1.0, ramp_out))], [Smear(41(0.0 * 0.3162277638912201)), Smear(42(1.0 * 1.0, ramp_out)), Smear(52(-1.0 * 0.3162277638912201, ramp_in)), Smear(56(-1.0 * 1.0, ramp_in)), Smear(57(-1.0 * 0.6324555277824402, ramp_in)), Smear(58(0.0 * 1.0)), Smear(59(1.0 * 0.3162277638912201, ramp_out)), Smear(68(1.0 * 0.3162277638912201, ramp_out))], [Smear(42(1.0 * 0.3162277638912201, ramp_out)), Smear(52(-1.0 * 1.0, ramp_in)), Smear(53(0.0 * 0.3162277638912201)), Smear(56(-1.0 * 0.5316712260246277, ramp_in)), Smear(57(0.0 * 1.0)), Smear(58(0.0 * 0.6324555277824402)), Smear(59(1.0 * 1.0, ramp_out))], [Smear(52(-1.0 * 0.3162277638912201, ramp_in)), Smear(53(0.0 * 1.0)), Smear(54(1.0 * 0.3162277638912201, ramp_out)), Smear(56(0 * 0.4641588628292084, ramp_in_out)), Smear(57(0.0 * 0.3162277638912201)), Smear(58(1.0 * 1.0, ramp_out)), Smear(59(1.0 * 0.3162277638912201, ramp_out)), Smear(62(0 * 0.2154434621334076, ramp_in_out))], [Smear(31(-1.0 * 0.3162277638912201, ramp_in)), Smear(53(0.0 * 0.3162277638912201)), Smear(54(1.0 * 1.0, ramp_out)), Smear(56(0 * 1.0, ramp_in_out)), Smear(58(1.0 * 0.3162277638912201, ramp_out)), Smear(62(0 * 0.4641588628292084, ramp_in_out))], [Smear(31(-1.0 * 1.0, ramp_in)), Smear(32(0.0 * 0.3162277638912201)), Smear(54(1.0 * 0.3162277638912201, ramp_out)), Smear(55(0 * 0.2154434621334076, ramp_in_out)), Smear(56(0 * 0.4641588628292084, ramp_in_out)), Smear(62(0 * 1.0, ramp_in_out))], [Smear(31(-1.0 * 0.3162277638912201, ramp_in)), Smear(32(0.0 * 1.0)), Smear(33(1.0 * 0.3162277638912201, ramp_out)), Smear(51(-1.0 * 0.3162277638912201, ramp_in)), Smear(55(0 * 0.4641588628292084, ramp_in_out)), Smear(56(0 * 0.2154434621334076, ramp_in_out)), Smear(62(0 * 0.4641588628292084, ramp_in_out))], [Smear(29(-1.0 * 0.3162277638912201, ramp_in)), Smear(32(0.0 * 0.3162277638912201)), Smear(33(1.0 * 1.0, ramp_out)), Smear(51(-1.0 * 1.0, ramp_in)), Smear(52(0.0 * 0.3162277638912201)), Smear(55(0 * 1.0, ramp_in_out)), Smear(62(0 * 0.2154434621334076, ramp_in_out))], [Smear(29(-1.0 * 1.0, ramp_in)), Smear(30(0.0 * 0.3162277638912201)), Smear(33(1.0 * 0.3162277638912201, ramp_out)), Smear(51(-1.0 * 0.3162277638912201, ramp_in)), Smear(52(0.0 * 1.0)), Smear(53(1.0 * 0.3162277638912201, ramp_out)), Smear(55(0 * 0.4641588628292084, ramp_in_out)), Smear(62(-1.0 * 0.3162277638912201, ramp_in))], [Smear(29(-1.0 * 0.3162277638912201, ramp_in)), Smear(30(0.0 * 1.0)), Smear(31(1.0 * 0.3162277638912201, ramp_out)), Smear(52(0.0 * 0.3162277638912201)), Smear(53(1.0 * 1.0, ramp_out)), Smear(55(0 * 0.2154434621334076, ramp_in_out)), Smear(62(-1.0 * 1.0, ramp_in)), Smear(63(-1.0 * 0.6324555277824402))], [Smear(30(0.0 * 0.3162277638912201)), Smear(31(1.0 * 1.0, ramp_out)), Smear(53(1.0 * 0.3162277638912201, ramp_out)), Smear(62(-1.0 * 0.3162277638912201, ramp_in)), Smear(63(-1.0 * 2.0)), Smear(64(0.0 * 0.6324555277824402, ramp_out)), Smear(65(-1.0 * 0.3162277638912201, ramp_in))], [Smear(31(1.0 * 0.3162277638912201, ramp_out)), Smear(63(-1.0 * 0.6324555277824402)), Smear(64(-1.0 * 2.316227674484253, ramp_out)), Smear(65(-1.0 * 1.3162277936935425, ramp_in)), Smear(66(0.0 * 0.3162277638912201))], [Smear(33(-1.0 * 0.3162277638912201, ramp_in)), Smear(64(-1.0 * 1.632455587387085, ramp_in)), Smear(65(-1.0 * 1.632455587387085, ramp_out)), Smear(66(0.0 * 1.0)), Smear(67(1.0 * 0.3162277638912201, ramp_out))], [Smear(18(-1.0 * 0.3162277638912201, ramp_in)), Smear(33(-1.0 * 1.0, ramp_in)), Smear(34(0.0 * 0.3162277638912201)), Smear(64(-1.0 * 0.3162277638912201, ramp_in)), Smear(65(0.0 * 1.3162277936935425)), Smear(66(0.0 * 0.6324555277824402)), Smear(67(1.0 * 1.0, ramp_out))], [Smear(18(-1.0 * 1.0, ramp_in)), Smear(19(0.0 * 0.3162277638912201)), Smear(33(-1.0 * 0.5316712260246277, ramp_in)), Smear(34(0.0 * 1.0)), Smear(35(1.0 * 0.3162277638912201, ramp_out)), Smear(65(0.0 * 0.3162277638912201)), Smear(66(1.0 * 1.0, ramp_out)), Smear(67(1.0 * 0.3162277638912201, ramp_out))], [Smear(18(-1.0 * 0.3162277638912201, ramp_in)), Smear(19(0.0 * 1.0)), Smear(20(1.0 * 0.3162277638912201, ramp_out)), Smear(33(0 * 0.4641588628292084, ramp_in_out)), Smear(34(0.0 * 0.3162277638912201)), Smear(35(1.0 * 1.0, ramp_out)), Smear(60(0 * 0.2154434621334076, ramp_in_out)), Smear(66(1.0 * 0.3162277638912201, ramp_out))], [Smear(19(0.0 * 0.3162277638912201)), Smear(20(1.0 * 1.0, ramp_out)), Smear(33(0 * 1.0, ramp_in_out)), Smear(35(1.0 * 0.3162277638912201, ramp_out)), Smear(58(-1.0 * 0.3162277638912201, ramp_in)), Smear(60(0 * 0.4641588628292084, ramp_in_out))], [Smear(20(1.0 * 0.3162277638912201, ramp_out)), Smear(33(0 * 0.4641588628292084, ramp_in_out)), Smear(35(-1.0 * 0.3162277638912201, ramp_in)), Smear(58(-1.0 * 1.0, ramp_in)), Smear(59(0.0 * 0.3162277638912201)), Smear(60(0 * 1.0, ramp_in_out))], [Smear(33(0 * 0.2154434621334076, ramp_in_out)), Smear(35(-1.0 * 1.0, ramp_in)), Smear(36(-1.0 * 0.6324555277824402)), Smear(58(-1.0 * 0.3162277638912201, ramp_in)), Smear(59(0.0 * 1.0)), Smear(60(0 * 0.7803866267204285, ramp_in_out))], [Smear(35(-1.0 * 0.3162277638912201, ramp_in)), Smear(36(-1.0 * 2.0)), Smear(37(0.0 * 0.6324555277824402, ramp_out)), Smear(59(0.0 * 0.3162277638912201)), Smear(60(0 * 1.21544349193573, ramp_out)), Smear(67(-1.0 * 0.3162277638912201, ramp_in))], [Smear(36(-1.0 * 0.6324555277824402)), Smear(37(0.0 * 2.0, ramp_out)), Smear(38(1.0 * 0.3162277638912201, ramp_out)), Smear(39(-1.0 * 0.3162277638912201, ramp_in)), Smear(60(1.0 * 0.3162277638912201, ramp_out)), Smear(67(-1.0 * 1.0, ramp_in)), Smear(68(0.0 * 0.3162277638912201))], [Smear(37(0.0 * 0.6324555277824402, ramp_out)), Smear(38(1.0 * 1.0, ramp_out)), Smear(39(-1.0 * 1.0, ramp_in)), Smear(40(0.0 * 0.3162277638912201)), Smear(61(0 * 0.2154434621334076, ramp_in_out)), Smear(67(-1.0 * 0.3162277638912201, ramp_in)), Smear(68(0.0 * 1.0)), Smear(69(1.0 * 0.3162277638912201, ramp_out))], [Smear(38(1.0 * 0.3162277638912201, ramp_out)), Smear(39(-1.0 * 0.3162277638912201, ramp_in)), Smear(40(0.0 * 1.0)), Smear(41(1.0 * 0.3162277638912201, ramp_out)), Smear(61(0 * 0.4641588628292084, ramp_in_out)), Smear(68(0.0 * 0.3162277638912201)), Smear(69(1.0 * 1.0, ramp_out)), Smear(86(0 * 0.2154434621334076, ramp_in_out))], [Smear(17(-1.0 * 0.3162277638912201, ramp_in)), Smear(40(0.0 * 0.3162277638912201)), Smear(41(1.0 * 1.0, ramp_out)), Smear(61(0 * 1.0, ramp_in_out)), Smear(69(1.0 * 0.3162277638912201, ramp_out)), Smear(86(0 * 0.4641588628292084, ramp_in_out))], [Smear(14(-1.0 * 0.3162277638912201, ramp_in)), Smear(17(-1.0 * 1.0, ramp_in)), Smear(18(0.0 * 0.3162277638912201)), Smear(41(1.0 * 0.3162277638912201, ramp_out)), Smear(61(0 * 0.4641588628292084, ramp_in_out)), Smear(86(0 * 1.0, ramp_in_out))], [Smear(14(-1.0 * 1.0, ramp_in)), Smear(15(0.0 * 0.3162277638912201)), Smear(17(-1.0 * 0.3162277638912201, ramp_in)), Smear(18(0.0 * 1.0)), Smear(19(1.0 * 0.3162277638912201, ramp_out)), Smear(61(0 * 0.2154434621334076, ramp_in_out)), Smear(82(-1.0 * 0.3162277638912201, ramp_in)), Smear(86(0 * 0.4641588628292084, ramp_in_out))], [Smear(14(-1.0 * 0.3162277638912201, ramp_in)), Smear(15(0.0 * 1.0)), Smear(16(0 * 0.5316712260246277, ramp_out)), Smear(18(0.0 * 0.3162277638912201)), Smear(19(1.0 * 1.0, ramp_out)), Smear(82(-1.0 * 1.0, ramp_in)), Smear(83(0.0 * 0.3162277638912201)), Smear(86(0 * 0.2154434621334076, ramp_in_out))], [Smear(15(0.0 * 0.3162277638912201)), Smear(16(0 * 1.4641588926315308, ramp_out)), Smear(19(1.0 * 0.3162277638912201, ramp_out)), Smear(82(-1.0 * 0.3162277638912201, ramp_in)), Smear(83(0.0 * 1.0)), Smear(84(0 * 0.5316712260246277, ramp_out))], [Smear(16(0 * 1.3162277936935425, ramp_in_out)), Smear(17(0 * 0.2154434621334076, ramp_in_out)), Smear(83(0.0 * 0.3162277638912201)), Smear(84(0 * 1.4641588926315308, ramp_out))], [Smear(16(0 * 0.4641588628292084, ramp_in_out)), Smear(17(0 * 0.4641588628292084, ramp_in_out)), Smear(84(0 * 1.3162277936935425, ramp_in_out)), Smear(85(0 * 0.2154434621334076, ramp_in_out))], [Smear(5(-1.0 * 0.3162277638912201, ramp_in)), Smear(16(0 * 0.2154434621334076, ramp_in_out)), Smear(17(0 * 1.0, ramp_in_out)), Smear(84(0 * 0.4641588628292084, ramp_in_out)), Smear(85(0 * 0.4641588628292084, ramp_in_out))], [Smear(4(-1.0 * 0.3162277638912201, ramp_in)), Smear(5(-1.0 * 1.0, ramp_in)), Smear(6(0.0 * 0.3162277638912201)), Smear(17(0 * 0.4641588628292084, ramp_in_out)), Smear(84(0 * 0.2154434621334076, ramp_in_out)), Smear(85(0 * 1.0, ramp_in_out))], [Smear(3(-1.0 * 0.3162277638912201, ramp_in)), Smear(4(-1.0 * 1.0, ramp_in)), Smear(5(-1.0 * 0.6324555277824402, ramp_in)), Smear(6(0.0 * 1.0)), Smear(7(1.0 * 0.3162277638912201, ramp_out)), Smear(17(0 * 0.2154434621334076, ramp_in_out)), Smear(85(0 * 0.4641588628292084, ramp_in_out))], [Smear(1(-1.0 * 0.3162277638912201, ramp_in)), Smear(3(-1.0 * 1.0, ramp_in)), Smear(4(-1.0 * 0.6324555277824402, ramp_in)), Smear(5(0.0 * 1.0)), Smear(6(0.0 * 0.6324555277824402)), Smear(7(1.0 * 1.0, ramp_out)), Smear(85(0 * 0.2154434621334076, ramp_in_out))], [Smear(1(-1.0 * 1.0, ramp_in)), Smear(2(-1.0 * 0.6324555277824402)), Smear(3(-1.0 * 0.3162277638912201, ramp_in)), Smear(4(0.0 * 1.0)), Smear(5(0.0 * 0.6324555277824402)), Smear(6(1.0 * 1.0, ramp_out)), Smear(7(1.0 * 0.3162277638912201, ramp_out))], [Smear(0(-1.0 * 0.3162277638912201, ramp_in)), Smear(1(-1.0 * 0.3162277638912201, ramp_in)), Smear(2(-1.0 * 2.0)), Smear(3(0.0 * 0.6324555277824402, ramp_out)), Smear(4(0.0 * 0.3162277638912201)), Smear(5(1.0 * 1.0, ramp_out)), Smear(6(1.0 * 0.3162277638912201, ramp_out))], [Smear(0(-1.0 * 1.0, ramp_in)), Smear(1(0.0 * 0.3162277638912201)), Smear(2(-1.0 * 0.6324555277824402)), Smear(3(0.0 * 2.0, ramp_out)), Smear(4(1.0 * 0.3162277638912201, ramp_out)), Smear(5(1.0 * 0.3162277638912201, ramp_out)), Smear(102(-1.0 * 0.3162277638912201, ramp_in))], [Smear(0(-1.0 * 0.3162277638912201, ramp_in)), Smear(1(0.0 * 1.0)), Smear(2(1.0 * 0.3162277638912201, ramp_out)), Smear(3(0.0 * 0.6324555277824402, ramp_out)), Smear(4(1.0 * 1.0, ramp_out)), Smear(101(-1.0 * 0.3162277638912201, ramp_in)), Smear(102(-1.0 * 1.0, ramp_in)), Smear(103(0.0 * 0.3162277638912201))], [Smear(1(0.0 * 0.3162277638912201)), Smear(2(1.0 * 1.0, ramp_out)), Smear(4(1.0 * 0.3162277638912201, ramp_out)), Smear(98(0 * 0.2154434621334076, ramp_in_out)), Smear(101(-1.0 * 1.0, ramp_in)), Smear(102(-1.0 * 0.6324555277824402, ramp_in)), Smear(103(0.0 * 1.0))], [Smear(2(1.0 * 0.3162277638912201, ramp_out)), Smear(50(0 * 0.2154434621334076, ramp_in_out)), Smear(98(0 * 0.4641588628292084, ramp_in_out)), Smear(101(-1.0 * 0.3162277638912201, ramp_in)), Smear(102(0.0 * 1.0)), Smear(103(0.0 * 0.6324555277824402))], [Smear(46(0 * 0.2154434621334076, ramp_in_out)), Smear(50(0 * 0.4641588628292084, ramp_in_out)), Smear(98(0 * 1.0, ramp_in_out)), Smear(102(0.0 * 0.3162277638912201)), Smear(103(1.0 * 1.0, ramp_out))], [Smear(46(0 * 0.4641588628292084, ramp_in_out)), Smear(50(0 * 1.0, ramp_in_out)), Smear(78(0 * 0.2154434621334076, ramp_in_out)), Smear(98(0 * 0.4641588628292084, ramp_in_out)), Smear(103(1.0 * 0.3162277638912201, ramp_out))], [Smear(46(0 * 1.0, ramp_in_out)), Smear(50(0 * 0.4641588628292084, ramp_in_out)), Smear(78(0 * 0.4641588628292084, ramp_in_out)), Smear(82(0 * 0.2154434621334076, ramp_in_out)), Smear(98(0 * 0.2154434621334076, ramp_in_out))], [Smear(46(0 * 0.4641588628292084, ramp_in_out)), Smear(50(0 * 0.2154434621334076, ramp_in_out)), Smear(74(0 * 0.2154434621334076, ramp_in_out)), Smear(78(0 * 1.0, ramp_in_out)), Smear(82(0 * 0.4641588628292084, ramp_in_out))], [Smear(46(0 * 0.2154434621334076, ramp_in_out)), Smear(74(0 * 0.4641588628292084, ramp_in_out)), Smear(78(0 * 0.4641588628292084, ramp_in_out)), Smear(82(0 * 1.0, ramp_in_out)), Smear(94(0 * 0.2154434621334076, ramp_in_out))], [Smear(70(0 * 0.2154434621334076, ramp_in_out)), Smear(74(0 * 1.0, ramp_in_out)), Smear(78(0 * 0.2154434621334076, ramp_in_out)), Smear(82(0 * 0.4641588628292084, ramp_in_out)), Smear(94(0 * 0.4641588628292084, ramp_in_out))], [Smear(70(0 * 0.4641588628292084, ramp_in_out)), Smear(74(0 * 0.4641588628292084, ramp_in_out)), Smear(82(0 * 0.2154434621334076, ramp_in_out)), Smear(94(0 * 1.0, ramp_in_out)), Smear(101(0 * 0.2154434621334076, ramp_in_out))], [Smear(70(0 * 1.0, ramp_in_out)), Smear(74(0 * 0.2154434621334076, ramp_in_out)), Smear(94(0 * 0.4641588628292084, ramp_in_out)), Smear(97(0 * 0.2154434621334076, ramp_in_out)), Smear(101(0 * 0.4641588628292084, ramp_in_out))], [Smear(70(0 * 0.4641588628292084, ramp_in_out)), Smear(93(0 * 0.2154434621334076, ramp_in_out)), Smear(94(0 * 0.2154434621334076, ramp_in_out)), Smear(97(0 * 0.4641588628292084, ramp_in_out)), Smear(101(0 * 1.0, ramp_in_out))], [Smear(70(0 * 0.2154434621334076, ramp_in_out)), Smear(92(0 * 0.2154434621334076, ramp_in_out)), Smear(93(0 * 0.4641588628292084, ramp_in_out)), Smear(97(0 * 1.0, ramp_in_out)), Smear(101(0 * 0.4641588628292084, ramp_in_out))], [Smear(92(0 * 0.4641588628292084, ramp_in_out)), Smear(93(0 * 1.0, ramp_in_out)), Smear(96(0 * 0.2154434621334076, ramp_in_out)), Smear(97(0 * 0.4641588628292084, ramp_in_out)), Smear(101(0 * 0.2154434621334076, ramp_in_out))], [Smear(92(0 * 1.0, ramp_in_out)), Smear(93(0 * 0.4641588628292084, ramp_in_out)), Smear(96(0 * 0.4641588628292084, ramp_in_out)), Smear(97(0 * 0.2154434621334076, ramp_in_out)), Smear(100(0 * 0.2154434621334076, ramp_in_out))], [Smear(92(0 * 0.4641588628292084, ramp_in_out)), Smear(93(0 * 0.2154434621334076, ramp_in_out)), Smear(96(0 * 1.0, ramp_in_out)), Smear(99(0 * 0.2154434621334076, ramp_in_out)), Smear(100(0 * 0.4641588628292084, ramp_in_out))], [Smear(92(0 * 0.2154434621334076, ramp_in_out)), Smear(95(0 * 0.2154434621334076, ramp_in_out)), Smear(96(0 * 0.4641588628292084, ramp_in_out)), Smear(99(0 * 0.4641588628292084, ramp_in_out)), Smear(100(0 * 1.0, ramp_in_out))], [Smear(91(0 * 0.2154434621334076, ramp_in_out)), Smear(95(0 * 0.4641588628292084, ramp_in_out)), Smear(96(0 * 0.2154434621334076, ramp_in_out)), Smear(99(0 * 1.0, ramp_in_out)), Smear(100(0 * 0.4641588628292084, ramp_in_out))], [Smear(49(0 * 0.2154434621334076, ramp_in_out)), Smear(91(0 * 0.4641588628292084, ramp_in_out)), Smear(95(0 * 1.0, ramp_in_out)), Smear(99(0 * 0.4641588628292084, ramp_in_out)), Smear(100(0 * 0.2154434621334076, ramp_in_out))], [Smear(49(0 * 0.4641588628292084, ramp_in_out)), Smear(81(0 * 0.2154434621334076, ramp_in_out)), Smear(91(0 * 1.0, ramp_in_out)), Smear(95(0 * 0.4641588628292084, ramp_in_out)), Smear(99(0 * 0.2154434621334076, ramp_in_out))], [Smear(49(0 * 1.0, ramp_in_out)), Smear(77(0 * 0.2154434621334076, ramp_in_out)), Smear(81(0 * 0.4641588628292084, ramp_in_out)), Smear(91(0 * 0.4641588628292084, ramp_in_out)), Smear(95(0 * 0.2154434621334076, ramp_in_out))], [Smear(49(0 * 0.4641588628292084, ramp_in_out)), Smear(73(0 * 0.2154434621334076, ramp_in_out)), Smear(77(0 * 0.4641588628292084, ramp_in_out)), Smear(81(0 * 1.0, ramp_in_out)), Smear(91(0 * 0.2154434621334076, ramp_in_out))], [Smear(45(0 * 0.2154434621334076, ramp_in_out)), Smear(49(0 * 0.2154434621334076, ramp_in_out)), Smear(73(0 * 0.4641588628292084, ramp_in_out)), Smear(77(0 * 1.0, ramp_in_out)), Smear(81(0 * 0.4641588628292084, ramp_in_out))], [Smear(45(0 * 0.4641588628292084, ramp_in_out)), Smear(72(0 * 0.2154434621334076, ramp_in_out)), Smear(73(0 * 1.0, ramp_in_out)), Smear(77(0 * 0.4641588628292084, ramp_in_out)), Smear(81(0 * 0.2154434621334076, ramp_in_out))], [Smear(44(0 * 0.2154434621334076, ramp_in_out)), Smear(45(0 * 1.0, ramp_in_out)), Smear(72(0 * 0.4641588628292084, ramp_in_out)), Smear(73(0 * 0.4641588628292084, ramp_in_out)), Smear(77(0 * 0.2154434621334076, ramp_in_out))], [Smear(44(0 * 0.4641588628292084, ramp_in_out)), Smear(45(0 * 0.4641588628292084, ramp_in_out)), Smear(48(0 * 0.2154434621334076, ramp_in_out)), Smear(72(0 * 1.0, ramp_in_out)), Smear(73(0 * 0.2154434621334076, ramp_in_out))], [Smear(44(0 * 1.0, ramp_in_out)), Smear(45(0 * 0.2154434621334076, ramp_in_out)), Smear(48(0 * 0.4641588628292084, ramp_in_out)), Smear(72(0 * 0.4641588628292084, ramp_in_out)), Smear(80(0 * 0.2154434621334076, ramp_in_out))], [Smear(44(0 * 0.4641588628292084, ramp_in_out)), Smear(48(0 * 1.0, ramp_in_out)), Smear(72(0 * 0.2154434621334076, ramp_in_out)), Smear(76(0 * 0.2154434621334076, ramp_in_out)), Smear(80(0 * 0.4641588628292084, ramp_in_out))], [Smear(44(0 * 0.2154434621334076, ramp_in_out)), Smear(47(0 * 0.2154434621334076, ramp_in_out)), Smear(48(0 * 0.4641588628292084, ramp_in_out)), Smear(76(0 * 0.4641588628292084, ramp_in_out)), Smear(80(0 * 1.0, ramp_in_out))], [Smear(47(0 * 0.4641588628292084, ramp_in_out)), Smear(48(0 * 0.2154434621334076, ramp_in_out)), Smear(75(0 * 0.2154434621334076, ramp_in_out)), Smear(76(0 * 1.0, ramp_in_out)), Smear(80(0 * 0.4641588628292084, ramp_in_out))], [Smear(47(0 * 1.0, ramp_in_out)), Smear(75(0 * 0.4641588628292084, ramp_in_out)), Smear(76(0 * 0.4641588628292084, ramp_in_out)), Smear(79(0 * 0.2154434621334076, ramp_in_out)), Smear(80(0 * 0.2154434621334076, ramp_in_out))], [Smear(43(0 * 0.2154434621334076, ramp_in_out)), Smear(47(0 * 0.4641588628292084, ramp_in_out)), Smear(75(0 * 1.0, ramp_in_out)), Smear(76(0 * 0.2154434621334076, ramp_in_out)), Smear(79(0 * 0.4641588628292084, ramp_in_out))], [Smear(43(0 * 0.4641588628292084, ramp_in_out)), Smear(47(0 * 0.2154434621334076, ramp_in_out)), Smear(71(0 * 0.2154434621334076, ramp_in_out)), Smear(75(0 * 0.4641588628292084, ramp_in_out)), Smear(79(0 * 1.0, ramp_in_out))], [Smear(43(0 * 1.0, ramp_in_out)), Smear(71(0 * 0.4641588628292084, ramp_in_out)), Smear(75(0 * 0.2154434621334076, ramp_in_out)), Smear(79(0 * 0.4641588628292084, ramp_in_out)), Smear(87(0 * 0.2154434621334076, ramp_in_out))], [Smear(6(-1.0 * 0.3162277638912201, ramp_in)), Smear(43(0 * 0.4641588628292084, ramp_in_out)), Smear(71(0 * 1.0, ramp_in_out)), Smear(79(0 * 0.2154434621334076, ramp_in_out)), Smear(87(0 * 0.4641588628292084, ramp_in_out))], [Smear(6(-1.0 * 1.0, ramp_in)), Smear(7(0.0 * 0.3162277638912201)), Smear(43(0 * 0.2154434621334076, ramp_in_out)), Smear(71(0 * 0.4641588628292084, ramp_in_out)), Smear(87(0 * 1.0, ramp_in_out)), Smear(89(-1.0 * 0.3162277638912201, ramp_in))], [Smear(6(-1.0 * 0.3162277638912201, ramp_in)), Smear(7(0.0 * 1.0)), Smear(8(1.0 * 0.3162277638912201, ramp_out)), Smear(71(0 * 0.2154434621334076, ramp_in_out)), Smear(87(-1.0 * 0.7803866267204285, ramp_in_out)), Smear(89(-1.0 * 1.0, ramp_in)), Smear(90(0.0 * 0.3162277638912201))], [Smear(7(0.0 * 0.3162277638912201)), Smear(8(1.0 * 1.0, ramp_out)), Smear(87(-1.0 * 1.21544349193573, ramp_in)), Smear(88(-1.0 * 0.6324555277824402)), Smear(89(-1.0 * 0.3162277638912201, ramp_in)), Smear(90(0.0 * 1.0)), Smear(91(1.0 * 0.3162277638912201, ramp_out))], [Smear(8(-1.0 * 0.6324555277824402, ramp_out)), Smear(87(-1.0 * 0.3162277638912201, ramp_in)), Smear(88(-1.0 * 2.0)), Smear(89(0.0 * 0.6324555277824402, ramp_out)), Smear(90(0.0 * 0.3162277638912201)), Smear(91(1.0 * 1.0, ramp_out))], [Smear(8(-1.0 * 1.0, ramp_in)), Smear(9(-1.0 * 0.6324555277824402)), Smear(88(-1.0 * 0.6324555277824402)), Smear(89(0.0 * 2.0, ramp_out)), Smear(90(1.0 * 0.3162277638912201, ramp_out)), Smear(91(1.0 * 0.3162277638912201, ramp_out))], [Smear(7(-1.0 * 0.3162277638912201, ramp_in)), Smear(8(-1.0 * 0.3162277638912201, ramp_in)), Smear(9(-1.0 * 2.0)), Smear(10(0.0 * 0.6324555277824402, ramp_out)), Smear(89(0.0 * 0.6324555277824402, ramp_out)), Smear(90(1.0 * 1.0, ramp_out))], [Smear(7(-1.0 * 1.0, ramp_in)), Smear(8(0.0 * 0.3162277638912201)), Smear(9(-1.0 * 0.6324555277824402)), Smear(10(0.0 * 2.0, ramp_out)), Smear(11(1.0 * 0.3162277638912201, ramp_out)), Smear(90(1.0 * 0.3162277638912201, ramp_out))], [Smear(0(0.0 * 0.3162277638912201)), Smear(7(-1.0 * 0.3162277638912201, ramp_in)), Smear(8(0.0 * 1.0)), Smear(9(1.0 * 0.3162277638912201, ramp_out)), Smear(10(-1.0 * 0.9486832618713379, ramp_out)), Smear(11(1.0 * 1.0, ramp_out))], [Smear(0(0.0 * 1.0)), Smear(1(1.0 * 0.3162277638912201, ramp_out)), Smear(8(0.0 * 0.3162277638912201)), Smear(9(1.0 * 1.0, ramp_out)), Smear(10(-1.0 * 1.0, ramp_in)), Smear(11(0.0 * 0.6324555277824402, ramp_out)), Smear(12(-1.0 * 0.3162277638912201, ramp_in))], [Smear(0(0.0 * 0.3162277638912201)), Smear(1(1.0 * 1.0, ramp_out)), Smear(9(1.0 * 0.3162277638912201, ramp_out)), Smear(10(-1.0 * 0.3162277638912201, ramp_in)), Smear(11(0.0 * 1.0)), Smear(12(-1.0 * 1.3162277936935425, ramp_in)), Smear(13(0.0 * 0.3162277638912201))], [Smear(1(1.0 * 0.3162277638912201, ramp_out)), Smear(11(0.0 * 0.3162277638912201)), Smear(12(-1.0 * 1.3162277936935425, ramp_out)), Smear(13(0.0 * 1.0)), Smear(14(1.0 * 0.3162277638912201, ramp_out))], [Smear(12(1.0 * 0.3162277638912201, ramp_out)), Smear(13(0.0 * 0.3162277638912201)), Smear(14(1.0 * 1.0, ramp_out))], [Smear(14(1.0 * 0.3162277638912201, ramp_out))]]))"
      ]
     },
     "execution_count": 8,
     "metadata": {},
     "output_type": "execute_result"
    }
   ],
   "execution_count": 8
  },
  {
   "metadata": {
    "ExecuteTime": {
     "end_time": "2025-07-07T14:27:39.140033Z",
     "start_time": "2025-07-07T14:27:13.142332Z"
    }
   },
   "cell_type": "code",
   "source": [
    "ordering, result = clap_slice.run_audio_ordering(\n",
    "    input_filename=\"/Users/damian/2.current/clapSlice/outputs/Suzanne Vega, DNA - Tom's Diner (1080p_25fps_H264-128kbit_AAC).mp4\",\n",
    "    bpm=99.144290351136028,\n",
    "    first_beat_offset_seconds=1.067,\n",
    "    chunk_size_beats=4,\n",
    "    smear_modifiers=smear_modifiers\n",
    "                              )\n",
    "from clap_slice.audio_ordering_candidates_registry import save_candidate\n",
    "save_candidate(ordering)"
   ],
   "id": "21047e7b74c2a706",
   "outputs": [
    {
     "name": "stdout",
     "output_type": "stream",
     "text": [
      "loaded waveform with shape torch.Size([2, 10902605]) , sampling rate 48000\n",
      "padding waveform by torch.Size([64976])\n",
      "padding waveform by torch.Size([64976])\n"
     ]
    },
    {
     "name": "stderr",
     "output_type": "stream",
     "text": [
      "huggingface/tokenizers: The current process just got forked, after parallelism has already been used. Disabling parallelism to avoid deadlocks...\n",
      "To disable this warning, you can either:\n",
      "\t- Avoid using `tokenizers` before the fork if possible\n",
      "\t- Explicitly set the environment variable TOKENIZERS_PARALLELISM=(true | false)\n"
     ]
    },
    {
     "data": {
      "text/plain": [
       "  0%|          | 0/94 [00:00<?, ?it/s]"
      ],
      "application/vnd.jupyter.widget-view+json": {
       "version_major": 2,
       "version_minor": 0,
       "model_id": "9781fcede16c4000befcceba17612659"
      }
     },
     "metadata": {},
     "output_type": "display_data"
    },
    {
     "name": "stderr",
     "output_type": "stream",
     "text": [
      "/Users/damian/2.current/clapSlice/venv/lib/python3.12/site-packages/torch/nn/functional.py:4046: UserWarning: The operator 'aten::upsample_bicubic2d.out' is not currently supported on the MPS backend and will fall back to run on the CPU. This may have performance implications. (Triggered internally at /Users/runner/work/pytorch/pytorch/pytorch/aten/src/ATen/mps/MPSFallback.mm:13.)\n",
      "  return torch._C._nn.upsample_bicubic2d(input, output_size, align_corners, scale_factors)\n"
     ]
    },
    {
     "name": "stdout",
     "output_type": "stream",
     "text": [
      "computing route\n",
      "padding waveform by torch.Size([64976])\n",
      "padding waveform by torch.Size([64976])\n",
      "[0, 1, 2, 3, 5, 6, 4, 91, 90, 88, 84, 80, 67, 65, 78, 82, 50, 48, 52, 36, 54, 24, 26, 38, 11, 7, 9, 13, 79, 83, 77, 81, 51, 53, 35, 47, 37, 49, 64, 66, 87, 85, 23, 25, 89, 74, 56, 29, 41, 58, 39, 31, 33, 21, 40, 28, 16, 42, 62, 44, 32, 27, 70, 15, 71, 57, 60, 19, 46, 63, 34, 75, 30, 18, 17, 43, 55, 59, 69, 76, 68, 73, 10, 8, 12, 86, 14, 45, 61, 20, 72, 22, 92, 93]\n",
      "smear width: 0.587364673614502  spread: 1.4126352071762085 -> 1 1\n",
      "smear width: 1.13894784450531  spread: 0.8610521554946899 -> 1 1\n",
      "smear width: 1.2084662914276123  spread: 0.7915336489677429 -> 1 1\n",
      "smear width: 1.4336248636245728  spread: 0.566375195980072 -> 1 1\n",
      "smear width: 1.569595217704773  spread: 0.43040481209754944 -> 2 0\n",
      "smear width: 1.6033202409744263  spread: 0.39667990803718567 -> 2 0\n",
      "smear width: 1.5372694730758667  spread: 0.4627305567264557 -> 2 0\n",
      "smear width: 1.4561680555343628  spread: 0.5438318848609924 -> 1 1\n",
      "smear width: 1.4203009605407715  spread: 0.5796990990638733 -> 1 1\n",
      "smear width: 1.456895351409912  spread: 0.5431045889854431 -> 1 1\n",
      "smear width: 1.5431755781173706  spread: 0.4568244218826294 -> 2 0\n",
      "smear width: 1.5288485288619995  spread: 0.4711515009403229 -> 2 0\n",
      "smear width: 1.5003377199172974  spread: 0.49966225028038025 -> 2 0\n",
      "smear width: 1.5543709993362427  spread: 0.4456290006637573 -> 2 0\n",
      "smear width: 1.6255011558532715  spread: 0.37449881434440613 -> 2 0\n",
      "smear width: 1.5058026313781738  spread: 0.494197279214859 -> 2 0\n",
      "smear width: 1.6475250720977783  spread: 0.3524748682975769 -> 2 0\n",
      "smear width: 1.6026464700698853  spread: 0.39735350012779236 -> 2 0\n",
      "smear width: 1.5721080303192139  spread: 0.4278920888900757 -> 2 0\n",
      "smear width: 1.5551341772079468  spread: 0.44486573338508606 -> 2 0\n",
      "smear width: 1.474424958229065  spread: 0.5255750417709351 -> 1 1\n",
      "smear width: 1.5720667839050293  spread: 0.4279331564903259 -> 2 0\n",
      "smear width: 1.5344634056091309  spread: 0.46553653478622437 -> 2 0\n",
      "smear width: 1.4615155458450317  spread: 0.538484513759613 -> 1 1\n",
      "smear width: 1.5015778541564941  spread: 0.4984220266342163 -> 2 0\n",
      "smear width: 1.569444179534912  spread: 0.4305557608604431 -> 2 0\n",
      "smear width: 1.614029049873352  spread: 0.3859708905220032 -> 2 0\n",
      "smear width: 1.678907871246338  spread: 0.3210921287536621 -> 2 0\n",
      "smear width: 1.6305458545684814  spread: 0.3694540560245514 -> 2 0\n",
      "smear width: 1.617801308631897  spread: 0.3821987211704254 -> 2 0\n",
      "smear width: 1.5919995307922363  spread: 0.4080003499984741 -> 2 0\n",
      "smear width: 1.4846163988113403  spread: 0.5153836011886597 -> 1 1\n",
      "smear width: 1.5976500511169434  spread: 0.40234997868537903 -> 2 0\n",
      "smear width: 1.5937927961349487  spread: 0.4062071442604065 -> 2 0\n",
      "smear width: 1.587936282157898  spread: 0.4120636582374573 -> 2 0\n",
      "smear width: 1.5776759386062622  spread: 0.422324001789093 -> 2 0\n",
      "smear width: 1.6158350706100464  spread: 0.3841650187969208 -> 2 0\n",
      "smear width: 1.5542004108428955  spread: 0.4457995295524597 -> 2 0\n",
      "smear width: 1.5751501321792603  spread: 0.42484980821609497 -> 2 0\n",
      "smear width: 1.5849031209945679  spread: 0.4150969088077545 -> 2 0\n",
      "smear width: 1.636426568031311  spread: 0.36357343196868896 -> 2 0\n",
      "smear width: 1.631388545036316  spread: 0.3686113953590393 -> 2 0\n",
      "smear width: 1.4913301467895508  spread: 0.508669912815094 -> 1 1\n",
      "smear width: 1.61371648311615  spread: 0.3862834870815277 -> 2 0\n",
      "smear width: 1.6127817630767822  spread: 0.387218177318573 -> 2 0\n",
      "smear width: 1.4222913980484009  spread: 0.5777086019515991 -> 1 1\n",
      "smear width: 1.3813097476959229  spread: 0.6186901926994324 -> 1 1\n",
      "smear width: 1.3608224391937256  spread: 0.6391775608062744 -> 1 1\n",
      "smear width: 1.2714948654174805  spread: 0.7285051345825195 -> 1 1\n",
      "smear width: 1.302586555480957  spread: 0.697413444519043 -> 1 1\n",
      "smear width: 1.2432414293289185  spread: 0.7567585706710815 -> 1 1\n",
      "smear width: 1.272519588470459  spread: 0.727480411529541 -> 1 1\n",
      "smear width: 1.2244619131088257  spread: 0.7755381464958191 -> 1 1\n",
      "smear width: 1.2986464500427246  spread: 0.7013535499572754 -> 1 1\n",
      "smear width: 1.2106852531433105  spread: 0.7893146872520447 -> 1 1\n",
      "smear width: 1.322637915611267  spread: 0.6773620843887329 -> 1 1\n",
      "smear width: 1.3998054265975952  spread: 0.6001946926116943 -> 1 1\n",
      "smear width: 1.2622244358062744  spread: 0.7377755641937256 -> 1 1\n",
      "smear width: 1.3327867984771729  spread: 0.6672132015228271 -> 1 1\n",
      "smear width: 1.3027304410934448  spread: 0.6972696185112 -> 1 1\n",
      "smear width: 1.3671159744262695  spread: 0.6328839659690857 -> 1 1\n",
      "smear width: 1.2933313846588135  spread: 0.7066686153411865 -> 1 1\n",
      "smear width: 1.2250189781188965  spread: 0.7749810218811035 -> 1 1\n",
      "smear width: 1.3187063932418823  spread: 0.6812936663627625 -> 1 1\n",
      "smear width: 1.2866106033325195  spread: 0.7133893966674805 -> 1 1\n",
      "smear width: 1.2181365489959717  spread: 0.7818634510040283 -> 1 1\n",
      "smear width: 1.262182354927063  spread: 0.737817645072937 -> 1 1\n",
      "smear width: 1.375638723373413  spread: 0.6243612170219421 -> 1 1\n",
      "smear width: 1.3062148094177246  spread: 0.6937851905822754 -> 1 1\n",
      "smear width: 1.3159459829330444  spread: 0.6840540170669556 -> 1 1\n",
      "smear width: 1.2993119955062866  spread: 0.7006880640983582 -> 1 1\n",
      "smear width: 1.2516635656356812  spread: 0.7483364939689636 -> 1 1\n",
      "smear width: 1.1889067888259888  spread: 0.8110931515693665 -> 1 1\n",
      "smear width: 1.3187954425811768  spread: 0.6812045574188232 -> 1 1\n",
      "smear width: 1.2908254861831665  spread: 0.7091745138168335 -> 1 1\n",
      "smear width: 1.3984935283660889  spread: 0.6015064716339111 -> 1 1\n",
      "smear width: 1.4026055335998535  spread: 0.5973944067955017 -> 1 1\n",
      "smear width: 1.3828282356262207  spread: 0.6171717643737793 -> 1 1\n",
      "smear width: 1.3736673593521118  spread: 0.6263325810432434 -> 1 1\n",
      "smear width: 1.22391939163208  spread: 0.7760806679725647 -> 1 1\n",
      "smear width: 1.2793537378311157  spread: 0.7206462025642395 -> 1 1\n",
      "smear width: 1.3410567045211792  spread: 0.6589432954788208 -> 1 1\n",
      "smear width: 1.4447603225708008  spread: 0.5552395582199097 -> 1 1\n",
      "smear width: 1.4702537059783936  spread: 0.5297463536262512 -> 1 1\n",
      "smear width: 1.3617891073226929  spread: 0.6382107734680176 -> 1 1\n",
      "smear width: 1.5067853927612305  spread: 0.49321454763412476 -> 2 0\n",
      "smear width: 1.3261641263961792  spread: 0.6738358736038208 -> 1 1\n",
      "smear width: 1.4072648286819458  spread: 0.5927351713180542 -> 1 1\n",
      "smear width: 1.2794957160949707  spread: 0.7205042243003845 -> 1 1\n",
      "smear width: 1.3933056592941284  spread: 0.606694221496582 -> 1 1\n",
      "smear width: 1.3945128917694092  spread: 0.6054871678352356 -> 1 1\n",
      "smear width: 1.2802575826644897  spread: 0.719742476940155 -> 1 1\n",
      "smear width: 1.2798174619674683  spread: 0.720182478427887 -> 1 1\n",
      "smear width: 1.1905421018600464  spread: 0.8094578385353088 -> 1 1\n",
      "saved to /Users/damian/2.current/clapSlice/outputs/Suzanne Vega, DNA - Tom's Diner (1080p_25fps_H264-128kbit_AAC).mp4-sorted-bpm99.14429035113602-cb4-ww0-smeared-dyn.wav.mp3\n"
     ]
    },
    {
     "data": {
      "text/plain": [
       "\"./audio_ordering_candidates_registry/Suzanne Vega, DNA - Tom's Diner (1080p_25fps_H264-128kbit_AAC).mp4/candidate_1.pkl\""
      ]
     },
     "execution_count": 9,
     "metadata": {},
     "output_type": "execute_result"
    }
   ],
   "execution_count": 9
  },
  {
   "metadata": {
    "ExecuteTime": {
     "end_time": "2025-07-07T09:47:43.872580Z",
     "start_time": "2025-07-07T09:47:43.766606Z"
    }
   },
   "cell_type": "code",
   "source": [
    "from clap_slice.audio_ordering_candidates_registry import load_candidate\n",
    "load_candidate(ordering.source_audio, candidate_index=0)"
   ],
   "id": "e2e261e361ab90ea",
   "outputs": [
    {
     "data": {
      "text/plain": [
       "AudioOrdering(source_audio=\"/Users/damian/2.current/clapSlice/outputs/Suzanne Vega, DNA - Tom's Diner (1080p_25fps_H264-128kbit_AAC).mp4\", bpm=99.14429035113602, chunk_beats=4, sort_order=tensor([ 0,  1,  2,  3,  5,  4, 89, 87, 81, 77, 49, 53, 25, 47, 51, 35, 37, 66,\n",
       "        79, 83, 85, 82, 78, 24, 36, 52, 50, 80, 84, 13,  9,  7, 11, 23, 64, 65,\n",
       "        12, 48, 86, 88,  6,  8, 10, 38, 72, 74, 16, 20, 40, 28, 33, 15, 18, 41,\n",
       "        39, 31, 29, 62, 42, 44, 59, 32, 27, 70, 45, 61, 58, 60, 56, 57, 69, 30,\n",
       "        71, 17, 43, 19, 21, 46, 34, 63, 76, 22, 73, 67, 68, 75, 55, 26, 14, 54,\n",
       "        90, 91, 92]), window_width=0)"
      ]
     },
     "execution_count": 8,
     "metadata": {},
     "output_type": "execute_result"
    }
   ],
   "execution_count": 8
  },
  {
   "metadata": {},
   "cell_type": "code",
   "outputs": [],
   "execution_count": null,
   "source": "",
   "id": "c86d07c41a194675"
  }
 ],
 "metadata": {
  "kernelspec": {
   "display_name": "Python 3",
   "language": "python",
   "name": "python3"
  },
  "language_info": {
   "codemirror_mode": {
    "name": "ipython",
    "version": 2
   },
   "file_extension": ".py",
   "mimetype": "text/x-python",
   "name": "python",
   "nbconvert_exporter": "python",
   "pygments_lexer": "ipython2",
   "version": "2.7.6"
  }
 },
 "nbformat": 4,
 "nbformat_minor": 5
}
