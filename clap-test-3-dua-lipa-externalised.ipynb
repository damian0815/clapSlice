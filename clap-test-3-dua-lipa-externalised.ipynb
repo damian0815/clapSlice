{
 "cells": [
  {
   "metadata": {
    "ExecuteTime": {
     "end_time": "2025-07-06T16:09:17.612432Z",
     "start_time": "2025-07-06T16:09:17.606561Z"
    }
   },
   "cell_type": "code",
   "source": [
    "\n",
    "#!pip install transformers librosa soundfile numpy\"<\"2 torch torchaudio fast-tsp kmedoids\n"
   ],
   "id": "b7880da606420f96",
   "outputs": [],
   "execution_count": 1
  },
  {
   "cell_type": "markdown",
   "id": "3cb23ac2-7d44-42dc-8acf-0df92184c026",
   "metadata": {},
   "source": "# Setup"
  },
  {
   "metadata": {
    "ExecuteTime": {
     "end_time": "2025-07-06T16:52:26.979218Z",
     "start_time": "2025-07-06T16:52:13.416882Z"
    }
   },
   "cell_type": "code",
   "source": [
    "%load_ext autoreload\n",
    "%autoreload 2\n",
    "\n",
    "from clap_slice import AudioOrderer, CLAPWrapper\n",
    "\n",
    "import torch\n",
    "torch.set_grad_enabled(False)\n",
    "\n",
    "clap = CLAPWrapper()"
   ],
   "id": "5a78d7169b407d7d",
   "outputs": [
    {
     "name": "stderr",
     "output_type": "stream",
     "text": [
      "objc[58701]: Class AVFFrameReceiver is implemented in both /usr/local/Cellar/ffmpeg/6.1_1/lib/libavdevice.60.3.100.dylib (0x179c91378) and /Users/damian/2.current/clapSlice/venv/lib/python3.12/site-packages/av/.dylibs/libavdevice.61.3.100.dylib (0x1894403b0). One of the two will be used. Which one is undefined.\n",
      "objc[58701]: Class AVFAudioReceiver is implemented in both /usr/local/Cellar/ffmpeg/6.1_1/lib/libavdevice.60.3.100.dylib (0x179c913c8) and /Users/damian/2.current/clapSlice/venv/lib/python3.12/site-packages/av/.dylibs/libavdevice.61.3.100.dylib (0x189440400). One of the two will be used. Which one is undefined.\n"
     ]
    },
    {
     "name": "stdout",
     "output_type": "stream",
     "text": [
      "initilizing CLAP\n"
     ]
    }
   ],
   "execution_count": 1
  },
  {
   "metadata": {},
   "cell_type": "markdown",
   "source": "# Run",
   "id": "6d42f4e095b6da6d"
  },
  {
   "metadata": {
    "ExecuteTime": {
     "end_time": "2025-07-06T16:52:27.740743Z",
     "start_time": "2025-07-06T16:52:26.987507Z"
    }
   },
   "cell_type": "code",
   "source": [
    "filename = '/Users/damian/2.current/clapSlice/outputs/Dua Lipa - Be The One (Official Music Video).mp3'\n",
    "bpm = 87.5\n",
    "\n",
    "audio_orderer = AudioOrderer(clap=clap, source_audio_path=filename, bpm=bpm)"
   ],
   "id": "2e4669aea3b11fe8",
   "outputs": [
    {
     "name": "stdout",
     "output_type": "stream",
     "text": [
      "loaded waveform with shape torch.Size([2, 9805880]) , sampling rate 48000\n"
     ]
    }
   ],
   "execution_count": 2
  },
  {
   "metadata": {
    "ExecuteTime": {
     "end_time": "2025-07-06T16:52:30.401953Z",
     "start_time": "2025-07-06T16:52:27.956502Z"
    }
   },
   "cell_type": "code",
   "source": [
    "chunk_beats = 2\n",
    "window_width = 0\n",
    "sort_order = audio_orderer.make_order(chunk_beats=chunk_beats, preserve_start_and_end=True)\n",
    "sort_order"
   ],
   "id": "d5d30b5e7ea5cb98",
   "outputs": [
    {
     "name": "stdout",
     "output_type": "stream",
     "text": [
      "computing distance matrix\n",
      "computing route\n"
     ]
    },
    {
     "data": {
      "text/plain": [
       "AudioOrdering(source_audio='/Users/damian/2.current/clapSlice/outputs/Dua Lipa - Be The One (Official Music Video).mp3', bpm=87.5, chunk_beats=2, sort_order=tensor([  0,   1,   2,   3,   4,   6,   5,  38,  95,  39,  94,  93,  37,  22,\n",
       "         21,  13,  14,  15,  16,   8,   9,  17,  20,  73,  72,  74,  66,  76,\n",
       "         68,  64,  65,  25,  81,  89,  88,  24,  80,  90,  34,  82,  26,  28,\n",
       "         84,  33,  32,  79,  99, 131,  43, 143,  55, 101, 133,  45,  47, 135,\n",
       "        103,  41,  97, 129,  40,  96,  98,  42, 130,  35,  91, 100,  44, 132,\n",
       "        134,  46, 102,  75,  71,  67,  31,  87,  27,  83,  11, 123, 115, 126,\n",
       "         19,  36,  92, 112, 117, 113, 114, 118, 121, 125, 120, 124, 116, 119,\n",
       "        128,  51, 139, 107, 108, 140,  52,  48, 104, 136, 138, 105, 137,  49,\n",
       "        141, 109,  53,  54, 142, 106,  50, 110,  78,  77,  69,  85,  29,  30,\n",
       "         86,  70,  60,  56,  57,  62,  61,  58,  59,  63,  18, 122,  12,  10,\n",
       "         23, 111, 127,   7, 144, 145, 146, 147]), window_width=0)"
      ]
     },
     "execution_count": 3,
     "metadata": {},
     "output_type": "execute_result"
    }
   ],
   "execution_count": 3
  },
  {
   "metadata": {
    "ExecuteTime": {
     "end_time": "2025-07-06T16:52:30.482232Z",
     "start_time": "2025-07-06T16:52:30.435269Z"
    }
   },
   "cell_type": "code",
   "source": [
    "sort_order.source_audio = filename\n",
    "sort_order.bpm = bpm\n",
    "from clap_slice.audio_ordering_candidates_registry import save_candidate\n",
    "#save_candidate(sort_order)"
   ],
   "id": "74c0ec5e92cebbcc",
   "outputs": [],
   "execution_count": 4
  },
  {
   "metadata": {
    "ExecuteTime": {
     "end_time": "2025-07-06T16:52:31.347002Z",
     "start_time": "2025-07-06T16:52:30.497576Z"
    }
   },
   "cell_type": "code",
   "source": [
    "from clap_slice import SmearModifier\n",
    "\n",
    "smear_modifiers = [\n",
    "    SmearModifier(smear_width=1, spread=4, match_embedding=clap.get_text_features(\"vocal, song, emotional singing\")),\n",
    "    SmearModifier(smear_width=2, spread=1, match_embedding=clap.get_text_features(\"instrumental\"))\n",
    "]"
   ],
   "id": "4708176ec4c2d175",
   "outputs": [],
   "execution_count": 5
  },
  {
   "metadata": {
    "ExecuteTime": {
     "end_time": "2025-07-06T17:11:51.791596Z",
     "start_time": "2025-07-06T17:11:43.484685Z"
    }
   },
   "cell_type": "code",
   "source": [
    "\n",
    "\n",
    "audio_ordering_result = audio_orderer.apply_order(\n",
    "    audio_ordering=sort_order,\n",
    "    smear_width=2,\n",
    "    spread=0,\n",
    "    wrap_mode='bleed',\n",
    "    save=True,\n",
    "    smear_modifiers=smear_modifiers,\n",
    "    smooth_smear_modifiers=True\n",
    ")\n",
    "!open outputs\n",
    "#Audio(result.output_audio, rate=audio_orderer.sampling_rate)\n",
    "#print(ordered.shape)"
   ],
   "id": "2c1bf7a2001e946f",
   "outputs": [
    {
     "name": "stdout",
     "output_type": "stream",
     "text": [
      "[0, 1, 2, 3, 4, 6, 5, 38, 95, 39, 94, 93, 37, 22, 21, 13, 14, 15, 16, 8, 9, 17, 20, 73, 72, 74, 66, 76, 68, 64, 65, 25, 81, 89, 88, 24, 80, 90, 34, 82, 26, 28, 84, 33, 32, 79, 99, 131, 43, 143, 55, 101, 133, 45, 47, 135, 103, 41, 97, 129, 40, 96, 98, 42, 130, 35, 91, 100, 44, 132, 134, 46, 102, 75, 71, 67, 31, 87, 27, 83, 11, 123, 115, 126, 19, 36, 92, 112, 117, 113, 114, 118, 121, 125, 120, 124, 116, 119, 128, 51, 139, 107, 108, 140, 52, 48, 104, 136, 138, 105, 137, 49, 141, 109, 53, 54, 142, 106, 50, 110, 78, 77, 69, 85, 29, 30, 86, 70, 60, 56, 57, 62, 61, 58, 59, 63, 18, 122, 12, 10, 23, 111, 127, 7, 144, 145, 146, 147]\n",
      "smear width: 2.085270404815674  spread: 0.7441884279251099 -> 2 1\n",
      "smear width: 2.086822271347046  spread: 0.7395330667495728 -> 2 1\n",
      "smear width: 2.2614548206329346  spread: 0.21563565731048584 -> 2 1\n",
      "smear width: 2.113037586212158  spread: 0.6608871221542358 -> 2 1\n",
      "smear width: 2.078572988510132  spread: 0.7642813324928284 -> 2 1\n",
      "smear width: 2.0363149642944336  spread: 0.891054630279541 -> 2 1\n",
      "smear width: 2.331608772277832  spread: 0.005173206329345703 -> 2 1\n",
      "smear width: 1.5895392894744873  spread: 2.231381416320801 -> 2 2\n",
      "smear width: 1.7084529399871826  spread: 1.8746414184570312 -> 2 2\n",
      "smear width: 1.7471871376037598  spread: 1.7584388256072998 -> 2 2\n",
      "smear width: 1.6268426179885864  spread: 2.119472026824951 -> 2 2\n",
      "smear width: 1.5926448106765747  spread: 2.2220659255981445 -> 2 2\n",
      "smear width: 1.6779069900512695  spread: 1.9662785530090332 -> 2 2\n",
      "smear width: 1.676215648651123  spread: 1.971353530883789 -> 2 2\n",
      "smear width: 1.6327474117279053  spread: 2.1017580032348633 -> 2 2\n",
      "smear width: 1.713663101196289  spread: 1.8590104579925537 -> 2 2\n",
      "smear width: 1.738839864730835  spread: 1.7834798097610474 -> 2 2\n",
      "smear width: 1.5515931844711304  spread: 2.3452205657958984 -> 2 2\n",
      "smear width: 1.4892871379852295  spread: 2.5321388244628906 -> 1 3\n",
      "smear width: 1.5643857717514038  spread: 2.3068430423736572 -> 2 2\n",
      "smear width: 1.4976348876953125  spread: 2.5070950984954834 -> 1 3\n",
      "smear width: 1.5156588554382324  spread: 2.4530229568481445 -> 2 2\n",
      "smear width: 1.623710036277771  spread: 2.1288700103759766 -> 2 2\n",
      "smear width: 1.5681089162826538  spread: 2.29567289352417 -> 2 2\n",
      "smear width: 1.5010497570037842  spread: 2.4968502521514893 -> 2 2\n",
      "smear width: 1.4894790649414062  spread: 2.5315628051757812 -> 1 3\n",
      "smear width: 1.5241552591323853  spread: 2.4275341033935547 -> 2 2\n",
      "smear width: 1.5100138187408447  spread: 2.469958782196045 -> 2 2\n",
      "smear width: 1.5580434799194336  spread: 2.32586932182312 -> 2 2\n",
      "smear width: 1.501392126083374  spread: 2.495823383331299 -> 2 2\n",
      "smear width: 1.4865624904632568  spread: 2.5403125286102295 -> 1 3\n",
      "smear width: 1.4397410154342651  spread: 2.680777072906494 -> 1 3\n",
      "smear width: 1.466883659362793  spread: 2.5993494987487793 -> 1 3\n",
      "smear width: 1.4145636558532715  spread: 2.7563092708587646 -> 1 3\n",
      "smear width: 1.357545256614685  spread: 2.9273641109466553 -> 1 3\n",
      "smear width: 1.3172154426574707  spread: 3.048353910446167 -> 1 3\n",
      "smear width: 1.3307178020477295  spread: 3.007845878601074 -> 1 3\n",
      "smear width: 1.3282151222229004  spread: 3.015355110168457 -> 1 3\n",
      "smear width: 1.3548585176467896  spread: 2.935424327850342 -> 1 3\n",
      "smear width: 1.3470609188079834  spread: 2.9588170051574707 -> 1 3\n",
      "smear width: 1.340895175933838  spread: 2.9773142337799072 -> 1 3\n",
      "smear width: 1.4064159393310547  spread: 2.780752420425415 -> 1 3\n",
      "smear width: 1.4408674240112305  spread: 2.6773979663848877 -> 1 3\n",
      "smear width: 1.4056830406188965  spread: 2.7829513549804688 -> 1 3\n",
      "smear width: 1.3996469974517822  spread: 2.8010590076446533 -> 1 3\n",
      "smear width: 1.3880894184112549  spread: 2.8357322216033936 -> 1 3\n",
      "smear width: 1.4318647384643555  spread: 2.7044057846069336 -> 1 3\n",
      "smear width: 1.50177001953125  spread: 2.494690418243408 -> 2 2\n",
      "smear width: 1.4464681148529053  spread: 2.660595417022705 -> 1 3\n",
      "smear width: 1.5231558084487915  spread: 2.430532693862915 -> 2 2\n",
      "smear width: 1.5190808773040771  spread: 2.4427576065063477 -> 2 2\n",
      "smear width: 1.4979342222213745  spread: 2.506197452545166 -> 1 3\n",
      "smear width: 1.5268011093139648  spread: 2.4195971488952637 -> 2 2\n",
      "smear width: 1.5099657773971558  spread: 2.4701030254364014 -> 2 2\n",
      "smear width: 1.5358524322509766  spread: 2.392442464828491 -> 2 2\n",
      "smear width: 1.5565478801727295  spread: 2.3303565979003906 -> 2 2\n",
      "smear width: 1.530508041381836  spread: 2.408475399017334 -> 2 2\n",
      "smear width: 1.4337422847747803  spread: 2.698773145675659 -> 1 3\n",
      "smear width: 1.4595715999603271  spread: 2.6212852001190186 -> 1 3\n",
      "smear width: 1.489297866821289  spread: 2.5321059226989746 -> 1 3\n",
      "smear width: 1.453139305114746  spread: 2.6405820846557617 -> 1 3\n",
      "smear width: 1.4579105377197266  spread: 2.6262688636779785 -> 1 3\n",
      "smear width: 1.398230791091919  spread: 2.805307388305664 -> 1 3\n",
      "smear width: 1.4041428565979004  spread: 2.7875707149505615 -> 1 3\n",
      "smear width: 1.3999214172363281  spread: 2.8002355098724365 -> 1 3\n",
      "smear width: 1.412638545036316  spread: 2.762084722518921 -> 1 3\n",
      "smear width: 1.3787062168121338  spread: 2.8638811111450195 -> 1 3\n",
      "smear width: 1.4785521030426025  spread: 2.5643441677093506 -> 1 3\n",
      "smear width: 1.511589765548706  spread: 2.465230703353882 -> 2 2\n",
      "smear width: 1.4952517747879028  spread: 2.514244794845581 -> 1 3\n",
      "smear width: 1.4695487022399902  spread: 2.5913541316986084 -> 1 3\n",
      "smear width: 1.5151739120483398  spread: 2.4544782638549805 -> 2 2\n",
      "smear width: 1.5945897102355957  spread: 2.216231107711792 -> 2 2\n",
      "smear width: 1.4507534503936768  spread: 2.6477396488189697 -> 1 3\n",
      "smear width: 1.473142385482788  spread: 2.5805726051330566 -> 1 3\n",
      "smear width: 1.5046496391296387  spread: 2.486050605773926 -> 2 2\n",
      "smear width: 1.4705350399017334  spread: 2.588395357131958 -> 1 3\n",
      "smear width: 1.3969855308532715  spread: 2.8090431690216064 -> 1 3\n",
      "smear width: 1.4695963859558105  spread: 2.5912106037139893 -> 1 3\n",
      "smear width: 1.489344596862793  spread: 2.531966209411621 -> 1 3\n",
      "smear width: 1.4929075241088867  spread: 2.5212769508361816 -> 1 3\n",
      "smear width: 1.5503121614456177  spread: 2.3490633964538574 -> 2 2\n",
      "smear width: 1.5208854675292969  spread: 2.4373435974121094 -> 2 2\n",
      "smear width: 1.5123449563980103  spread: 2.462965250015259 -> 2 2\n",
      "smear width: 1.4081933498382568  spread: 2.7754199504852295 -> 1 3\n",
      "smear width: 1.434414029121399  spread: 2.6967575550079346 -> 1 3\n",
      "smear width: 1.4291965961456299  spread: 2.7124102115631104 -> 1 3\n",
      "smear width: 1.5165553092956543  spread: 2.450333595275879 -> 2 2\n",
      "smear width: 1.5796401500701904  spread: 2.2610793113708496 -> 2 2\n",
      "smear width: 1.5264045000076294  spread: 2.4207863807678223 -> 2 2\n",
      "smear width: 1.546644687652588  spread: 2.3600661754608154 -> 2 2\n",
      "smear width: 1.6045650243759155  spread: 2.186305522918701 -> 2 2\n",
      "smear width: 1.6018112897872925  spread: 2.194566488265991 -> 2 2\n",
      "smear width: 1.5873993635177612  spread: 2.2378015518188477 -> 2 2\n",
      "smear width: 1.562517523765564  spread: 2.3124475479125977 -> 2 2\n",
      "smear width: 1.562479019165039  spread: 2.312563180923462 -> 2 2\n",
      "smear width: 1.5752323865890503  spread: 2.2743027210235596 -> 2 2\n",
      "smear width: 1.4948697090148926  spread: 2.515390634536743 -> 1 3\n",
      "smear width: 1.5539156198501587  spread: 2.3382532596588135 -> 2 2\n",
      "smear width: 1.3975472450256348  spread: 2.8073582649230957 -> 1 3\n",
      "smear width: 1.42350435256958  spread: 2.7294867038726807 -> 1 3\n",
      "smear width: 1.4132627248764038  spread: 2.760211706161499 -> 1 3\n",
      "smear width: 1.4298174381256104  spread: 2.710547685623169 -> 1 3\n",
      "smear width: 1.473081350326538  spread: 2.580756187438965 -> 1 3\n",
      "smear width: 1.442270278930664  spread: 2.6731886863708496 -> 1 3\n",
      "smear width: 1.4106156826019287  spread: 2.7681527137756348 -> 1 3\n",
      "smear width: 1.4540694952011108  spread: 2.637791633605957 -> 1 3\n",
      "smear width: 1.5161868333816528  spread: 2.451439380645752 -> 2 2\n",
      "smear width: 1.6671843528747559  spread: 1.9984467029571533 -> 2 2\n",
      "smear width: 1.6289311647415161  spread: 2.113206386566162 -> 2 2\n",
      "smear width: 1.7271100282669067  spread: 1.8186695575714111 -> 2 2\n",
      "smear width: 1.6607297658920288  spread: 2.017810821533203 -> 2 2\n",
      "smear width: 1.6861872673034668  spread: 1.9414384365081787 -> 2 2\n",
      "smear width: 1.7225031852722168  spread: 1.8324902057647705 -> 2 2\n",
      "smear width: 1.7126240730285645  spread: 1.8621277809143066 -> 2 2\n",
      "smear width: 1.6260664463043213  spread: 2.1218008995056152 -> 2 2\n",
      "smear width: 1.6112570762634277  spread: 2.166228771209717 -> 2 2\n",
      "smear width: 1.6719696521759033  spread: 1.9840912818908691 -> 2 2\n",
      "smear width: 1.5654969215393066  spread: 2.303509473800659 -> 2 2\n",
      "smear width: 1.5629796981811523  spread: 2.311060667037964 -> 2 2\n",
      "smear width: 1.582423448562622  spread: 2.2527294158935547 -> 2 2\n",
      "smear width: 1.5421674251556396  spread: 2.373497486114502 -> 2 2\n",
      "smear width: 1.5478661060333252  spread: 2.3564019203186035 -> 2 2\n",
      "smear width: 1.5279372930526733  spread: 2.4161882400512695 -> 2 2\n",
      "smear width: 1.4897156953811646  spread: 2.530852794647217 -> 1 3\n",
      "smear width: 1.4247909784317017  spread: 2.7256269454956055 -> 1 3\n",
      "smear width: 1.445899486541748  spread: 2.662301778793335 -> 1 3\n",
      "smear width: 1.5418057441711426  spread: 2.3745832443237305 -> 2 2\n",
      "smear width: 1.4564290046691895  spread: 2.6307132244110107 -> 1 3\n",
      "smear width: 1.5533649921417236  spread: 2.339905261993408 -> 2 2\n",
      "smear width: 1.6271443367004395  spread: 2.1185667514801025 -> 2 2\n",
      "smear width: 1.6420979499816895  spread: 2.0737061500549316 -> 2 2\n",
      "smear width: 1.6079022884368896  spread: 2.176292896270752 -> 2 2\n",
      "smear width: 1.6367406845092773  spread: 2.089777946472168 -> 2 2\n",
      "smear width: 1.5490776300430298  spread: 2.352766752243042 -> 2 2\n",
      "smear width: 1.4608876705169678  spread: 2.6173369884490967 -> 1 3\n",
      "smear width: 1.4492783546447754  spread: 2.652165174484253 -> 1 3\n",
      "smear width: 1.5521633625030518  spread: 2.3435096740722656 -> 2 2\n",
      "smear width: 1.5440516471862793  spread: 2.367845058441162 -> 2 2\n",
      "smear width: 1.5595042705535889  spread: 2.3214869499206543 -> 2 2\n",
      "smear width: 1.3343476057052612  spread: 2.9969570636749268 -> 1 3\n",
      "smear width: 1.4443575143814087  spread: 2.6669273376464844 -> 1 3\n",
      "smear width: 1.4570850133895874  spread: 2.6287453174591064 -> 1 3\n",
      "smear width: 1.6148748397827148  spread: 2.1553754806518555 -> 2 2\n",
      "smear width: 2.097245693206787  spread: 0.7082633972167969 -> 2 1\n",
      "smear width: 2.260829210281372  spread: 0.21751248836517334 -> 2 1\n",
      "smear width: 2.0168910026550293  spread: 0.9493265748023987 -> 2 1\n",
      "smear width: 1.8209670782089233  spread: 1.5370984077453613 -> 2 2\n",
      "saved to /Users/damian/2.current/clapSlice/outputs/Dua Lipa - Be The One (Official Music Video).mp3-sorted-bpm87.5-cb2-ww0-smeared-dyn.wav.mp3\n"
     ]
    },
    {
     "name": "stderr",
     "output_type": "stream",
     "text": [
      "huggingface/tokenizers: The current process just got forked, after parallelism has already been used. Disabling parallelism to avoid deadlocks...\n",
      "To disable this warning, you can either:\n",
      "\t- Avoid using `tokenizers` before the fork if possible\n",
      "\t- Explicitly set the environment variable TOKENIZERS_PARALLELISM=(true | false)\n"
     ]
    }
   ],
   "execution_count": 17
  },
  {
   "metadata": {},
   "cell_type": "markdown",
   "source": "# Video",
   "id": "ee97337e9f9f6a25"
  },
  {
   "metadata": {
    "ExecuteTime": {
     "end_time": "2025-07-06T17:16:38.540811Z",
     "start_time": "2025-07-06T17:15:30.311939Z"
    }
   },
   "cell_type": "code",
   "source": [
    "from clap_slice import VideoChunkCache\n",
    "from clap_slice import VideoWriter, apply_audio_smear_to_video\n",
    "from pytorchvideo.data.encoded_video import EncodedVideo\n",
    "\n",
    "video_in_filename = 'outputs/Dua Lipa - Be The One (Official Music Video) (480p_25fps_H264-128kbit_AAC).mp4'\n",
    "\n",
    "video = EncodedVideo.from_path(video_in_filename, decode_audio=False)\n",
    "video_chunk_cache = VideoChunkCache(video=video,\n",
    "                                    chunk_size_seconds=audio_orderer.get_chunk_size_seconds(sort_order.chunk_beats),\n",
    "                                    max_cache_size=20)\n",
    "video_writer = VideoWriter(output_path='outputs/Dua Lipa - Be The One (Official Music Video).mp3-sorted-bpm87.5-cb2-ww0-smeared-dyn.wav.mp3.mp4', fps=25, width=720, height=480)\n",
    "\n",
    "apply_audio_smear_to_video(video_chunk_cache,\n",
    "                           video_writer,\n",
    "                           smear_details=audio_ordering_result.smear_details,\n",
    "                           blend_mode='max',\n",
    "                           max_chunks_to_write=14)\n",
    "\n",
    "video_writer.close()"
   ],
   "id": "fb05c92d1ab62358",
   "outputs": [
    {
     "data": {
      "text/plain": [
       "  0%|          | 0/152 [00:00<?, ?it/s]"
      ],
      "application/vnd.jupyter.widget-view+json": {
       "version_major": 2,
       "version_minor": 0,
       "model_id": "11f79d2de1504e92b72d15b715436117"
      }
     },
     "metadata": {},
     "output_type": "display_data"
    },
    {
     "name": "stdout",
     "output_type": "stream",
     "text": [
      "[tensor(0.2154), tensor(0.2154)]\n",
      "loaded chunk 0\n",
      "evicting chunk 6\n",
      "[tensor(0.4642), tensor(0.4642), tensor(0.2154), tensor(0.2154), tensor(0.2154)]\n",
      "loaded chunk 1\n",
      "evicting chunk 11\n",
      "[tensor(1.), tensor(1.), tensor(0.4642), tensor(0.4642), tensor(0.4642), tensor(0.2154), tensor(0.2154), tensor(0.2154)]\n",
      "loaded chunk 2\n",
      "evicting chunk 19\n",
      "[tensor(0.4642), tensor(0.4642), tensor(1.), tensor(1.), tensor(1.), tensor(0.4642), tensor(0.4642), tensor(0.4642), tensor(0.2154), tensor(0.2154), tensor(0.2154)]\n",
      "loaded chunk 3\n",
      "evicting chunk 20\n",
      "[tensor(0.2154), tensor(0.2154), tensor(0.4642), tensor(0.4642), tensor(0.4642), tensor(1.), tensor(1.), tensor(1.), tensor(0.4642), tensor(0.4642), tensor(0.4642), tensor(0.2154), tensor(0.2154), tensor(0.2154)]\n",
      "loaded chunk 4\n",
      "evicting chunk 21\n",
      "loaded chunk 5\n",
      "evicting chunk 22\n",
      "[tensor(0.2154), tensor(0.2154), tensor(0.2154), tensor(0.4642), tensor(0.4642), tensor(0.4642), tensor(1.), tensor(1.), tensor(1.), tensor(0.4642), tensor(0.2154), tensor(0.4642), tensor(0.4642), tensor(0.2154), tensor(0.2154), tensor(0.2154)]\n",
      "loaded chunk 6\n",
      "evicting chunk 35\n",
      "[tensor(0.2154), tensor(0.2154), tensor(0.2154), tensor(0.4642), tensor(0.4642), tensor(0.4642), tensor(1.), tensor(0.4642), tensor(1.), tensor(0.2154), tensor(1.), tensor(0.4642), tensor(0.4642), tensor(0.2154), tensor(0.4642), tensor(0.2154), tensor(0.2154)]\n",
      "loaded chunk 7\n",
      "evicting chunk 37\n",
      "loaded chunk 37\n",
      "evicting chunk 38\n",
      "[tensor(0.2154), tensor(0.2154), tensor(0.2154), tensor(0.4642), tensor(1.), tensor(0.4642), tensor(0.4642), tensor(0.4642), tensor(1.), tensor(1.), tensor(0.2154), tensor(0.4642), tensor(1.), tensor(0.4642), tensor(0.2154), tensor(0.2154), tensor(0.4642), tensor(0.2154)]\n",
      "loaded chunk 38\n",
      "evicting chunk 39\n",
      "[tensor(0.2154), tensor(0.4642), tensor(0.2154), tensor(1.), tensor(0.2154), tensor(0.4642), tensor(0.4642), tensor(0.4642), tensor(1.), tensor(0.4642), tensor(1.), tensor(0.4642), tensor(0.4642), tensor(0.2154), tensor(0.2154), tensor(1.), tensor(0.4642), tensor(0.2154)]\n",
      "loaded chunk 39\n",
      "evicting chunk 40\n",
      "[tensor(0.2154), tensor(0.4642), tensor(0.2154), tensor(0.2154), tensor(1.), tensor(0.4642), tensor(0.2154), tensor(0.4642), tensor(1.), tensor(1.), tensor(0.4642), tensor(0.2154), tensor(0.2154), tensor(0.4642), tensor(0.2154), tensor(0.4642), tensor(1.), tensor(0.4642), tensor(0.2154)]\n",
      "loaded chunk 40\n",
      "evicting chunk 41\n",
      "[tensor(0.2154), tensor(0.4642), tensor(0.2154), tensor(0.2154), tensor(0.2154), tensor(0.4642), tensor(1.), tensor(1.), tensor(0.2154), tensor(0.4642), tensor(0.4642), tensor(0.2154), tensor(1.), tensor(0.4642), tensor(0.2154), tensor(0.4642), tensor(1.), tensor(0.4642), tensor(0.2154)]\n",
      "loaded chunk 35\n",
      "evicting chunk 97\n",
      "loaded chunk 97\n",
      "evicting chunk 0\n",
      "[tensor(0.2154), tensor(0.2154), tensor(0.4642), tensor(0.2154), tensor(0.2154), tensor(0.4642), tensor(1.), tensor(0.4642), tensor(1.), tensor(0.2154), tensor(1.), tensor(0.4642), tensor(0.4642), tensor(1.), tensor(0.4642), tensor(0.4642), tensor(1.), tensor(0.4642)]\n",
      "loaded chunk 20\n",
      "evicting chunk 1\n",
      "loaded chunk 41\n",
      "evicting chunk 2\n",
      "[tensor(0.2154), tensor(0.4642), tensor(0.2154), tensor(1.), tensor(0.4642), tensor(0.2154), tensor(0.2154), tensor(0.4642), tensor(1.), tensor(0.4642), tensor(0.4642), tensor(0.4642), tensor(1.), tensor(0.2154), tensor(0.4642), tensor(1.), tensor(0.4642), tensor(0.4642), tensor(0.2154), tensor(1.)]\n",
      "loaded chunk 19\n",
      "evicting chunk 3\n",
      "loaded chunk 21\n",
      "evicting chunk 4\n",
      "[tensor(0.2154), tensor(0.4642), tensor(0.2154), tensor(1.), tensor(0.4642), tensor(0.2154), tensor(0.4642), tensor(1.), tensor(0.4642), tensor(0.2154), tensor(0.2154), tensor(0.4642), tensor(0.2154), tensor(1.), tensor(0.2154), tensor(0.4642), tensor(1.), tensor(0.4642), tensor(1.), tensor(0.2154), tensor(0.2154), tensor(0.4642), tensor(0.4642)]\n",
      "loaded chunk 11\n",
      "evicting chunk 5\n",
      "loaded chunk 22\n",
      "evicting chunk 7\n"
     ]
    }
   ],
   "execution_count": 18
  },
  {
   "metadata": {},
   "cell_type": "code",
   "outputs": [],
   "execution_count": null,
   "source": "",
   "id": "36274e63b0081986"
  }
 ],
 "metadata": {
  "kernelspec": {
   "display_name": "Python 3 (ipykernel)",
   "language": "python",
   "name": "python3"
  },
  "language_info": {
   "codemirror_mode": {
    "name": "ipython",
    "version": 3
   },
   "file_extension": ".py",
   "mimetype": "text/x-python",
   "name": "python",
   "nbconvert_exporter": "python",
   "pygments_lexer": "ipython3",
   "version": "3.12.1"
  }
 },
 "nbformat": 4,
 "nbformat_minor": 5
}
