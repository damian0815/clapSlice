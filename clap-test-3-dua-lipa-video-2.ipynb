{
 "cells": [
  {
   "metadata": {
    "ExecuteTime": {
     "end_time": "2025-07-05T17:00:55.015580Z",
     "start_time": "2025-07-05T16:59:59.254970Z"
    }
   },
   "cell_type": "code",
   "source": [
    "import os.path\n",
    "!pip install datasets transformers librosa soundfile numpy\"<\"2 torch torchaudio fast-tsp kmedoids torchvision pytorchvideo torch_linear_assignment\n"
   ],
   "id": "b7880da606420f96",
   "outputs": [
    {
     "name": "stdout",
     "output_type": "stream",
     "text": [
      "Collecting datasets\r\n",
      "  Obtaining dependency information for datasets from https://files.pythonhosted.org/packages/20/34/a08b0ee99715eaba118cbe19a71f7b5e2425c2718ef96007c325944a1152/datasets-3.6.0-py3-none-any.whl.metadata\r\n",
      "  Using cached datasets-3.6.0-py3-none-any.whl.metadata (19 kB)\r\n",
      "Collecting transformers\r\n",
      "  Obtaining dependency information for transformers from https://files.pythonhosted.org/packages/8d/10/8cef2288810a3210659eb3a20711e8387cc35a881a7762ae387806e2d651/transformers-4.53.1-py3-none-any.whl.metadata\r\n",
      "  Downloading transformers-4.53.1-py3-none-any.whl.metadata (40 kB)\r\n",
      "\u001B[2K     \u001B[90m━━━━━━━━━━━━━━━━━━━━━━━━━━━━━━━━━━━━━━━━\u001B[0m \u001B[32m40.9/40.9 kB\u001B[0m \u001B[31m2.9 MB/s\u001B[0m eta \u001B[36m0:00:00\u001B[0m\r\n",
      "\u001B[?25hCollecting librosa\r\n",
      "  Obtaining dependency information for librosa from https://files.pythonhosted.org/packages/b5/ba/c63c5786dfee4c3417094c4b00966e61e4a63efecee22cb7b4c0387dda83/librosa-0.11.0-py3-none-any.whl.metadata\r\n",
      "  Downloading librosa-0.11.0-py3-none-any.whl.metadata (8.7 kB)\r\n",
      "Collecting soundfile\r\n",
      "  Obtaining dependency information for soundfile from https://files.pythonhosted.org/packages/a0/e5/58fd1a8d7b26fc113af244f966ee3aecf03cb9293cb935daaddc1e455e18/soundfile-0.13.1-py2.py3-none-macosx_11_0_arm64.whl.metadata\r\n",
      "  Downloading soundfile-0.13.1-py2.py3-none-macosx_11_0_arm64.whl.metadata (16 kB)\r\n",
      "Collecting numpy<2\r\n",
      "  Obtaining dependency information for numpy<2 from https://files.pythonhosted.org/packages/75/5b/ca6c8bd14007e5ca171c7c03102d17b4f4e0ceb53957e8c44343a9546dcc/numpy-1.26.4-cp312-cp312-macosx_11_0_arm64.whl.metadata\r\n",
      "  Downloading numpy-1.26.4-cp312-cp312-macosx_11_0_arm64.whl.metadata (61 kB)\r\n",
      "\u001B[2K     \u001B[90m━━━━━━━━━━━━━━━━━━━━━━━━━━━━━━━━━━━━━━━━\u001B[0m \u001B[32m61.1/61.1 kB\u001B[0m \u001B[31m6.1 MB/s\u001B[0m eta \u001B[36m0:00:00\u001B[0m\r\n",
      "\u001B[?25hCollecting torch\r\n",
      "  Obtaining dependency information for torch from https://files.pythonhosted.org/packages/3a/60/04b77281c730bb13460628e518c52721257814ac6c298acd25757f6a175c/torch-2.7.1-cp312-none-macosx_11_0_arm64.whl.metadata\r\n",
      "  Downloading torch-2.7.1-cp312-none-macosx_11_0_arm64.whl.metadata (29 kB)\r\n",
      "Collecting torchaudio\r\n",
      "  Obtaining dependency information for torchaudio from https://files.pythonhosted.org/packages/0b/d1/eb8bc3b3502dddb1b789567b7b19668b1d32817266887b9f381494cfe463/torchaudio-2.7.1-cp312-cp312-macosx_11_0_arm64.whl.metadata\r\n",
      "  Downloading torchaudio-2.7.1-cp312-cp312-macosx_11_0_arm64.whl.metadata (6.6 kB)\r\n",
      "Collecting fast-tsp\r\n",
      "  Obtaining dependency information for fast-tsp from https://files.pythonhosted.org/packages/93/59/ea8ddfe896d0004ab534e763678c0c7d5cfbfaac2dffdf2f999067915ecc/fast_tsp-0.1.4-cp312-cp312-macosx_11_0_arm64.whl.metadata\r\n",
      "  Downloading fast_tsp-0.1.4-cp312-cp312-macosx_11_0_arm64.whl.metadata (2.5 kB)\r\n",
      "Collecting kmedoids\r\n",
      "  Obtaining dependency information for kmedoids from https://files.pythonhosted.org/packages/6e/b4/457e552aa362cc746fbf0c461ab1a9bd7794db3321f82586601769f27112/kmedoids-0.5.3.1-cp312-cp312-macosx_10_12_x86_64.macosx_11_0_arm64.macosx_10_12_universal2.whl.metadata\r\n",
      "  Downloading kmedoids-0.5.3.1-cp312-cp312-macosx_10_12_x86_64.macosx_11_0_arm64.macosx_10_12_universal2.whl.metadata (9.6 kB)\r\n",
      "Collecting torchvision\r\n",
      "  Obtaining dependency information for torchvision from https://files.pythonhosted.org/packages/02/90/f4e99a5112dc221cf68a485e853cc3d9f3f1787cb950b895f3ea26d1ea98/torchvision-0.22.1-cp312-cp312-macosx_11_0_arm64.whl.metadata\r\n",
      "  Downloading torchvision-0.22.1-cp312-cp312-macosx_11_0_arm64.whl.metadata (6.1 kB)\r\n",
      "Collecting pytorchvideo\r\n",
      "  Downloading pytorchvideo-0.1.5.tar.gz (132 kB)\r\n",
      "\u001B[2K     \u001B[90m━━━━━━━━━━━━━━━━━━━━━━━━━━━━━━━━━━━━━━━\u001B[0m \u001B[32m132.7/132.7 kB\u001B[0m \u001B[31m9.5 MB/s\u001B[0m eta \u001B[36m0:00:00\u001B[0m\r\n",
      "\u001B[?25h  Installing build dependencies ... \u001B[?25ldone\r\n",
      "\u001B[?25h  Getting requirements to build wheel ... \u001B[?25ldone\r\n",
      "\u001B[?25h  Preparing metadata (pyproject.toml) ... \u001B[?25ldone\r\n",
      "\u001B[?25hCollecting filelock (from datasets)\r\n",
      "  Obtaining dependency information for filelock from https://files.pythonhosted.org/packages/4d/36/2a115987e2d8c300a974597416d9de88f2444426de9571f4b59b2cca3acc/filelock-3.18.0-py3-none-any.whl.metadata\r\n",
      "  Using cached filelock-3.18.0-py3-none-any.whl.metadata (2.9 kB)\r\n",
      "Collecting pyarrow>=15.0.0 (from datasets)\r\n",
      "  Obtaining dependency information for pyarrow>=15.0.0 from https://files.pythonhosted.org/packages/a1/d6/0c10e0d54f6c13eb464ee9b67a68b8c71bcf2f67760ef5b6fbcddd2ab05f/pyarrow-20.0.0-cp312-cp312-macosx_12_0_arm64.whl.metadata\r\n",
      "  Using cached pyarrow-20.0.0-cp312-cp312-macosx_12_0_arm64.whl.metadata (3.3 kB)\r\n",
      "Collecting dill<0.3.9,>=0.3.0 (from datasets)\r\n",
      "  Obtaining dependency information for dill<0.3.9,>=0.3.0 from https://files.pythonhosted.org/packages/c9/7a/cef76fd8438a42f96db64ddaa85280485a9c395e7df3db8158cfec1eee34/dill-0.3.8-py3-none-any.whl.metadata\r\n",
      "  Using cached dill-0.3.8-py3-none-any.whl.metadata (10 kB)\r\n",
      "Collecting pandas (from datasets)\r\n",
      "  Obtaining dependency information for pandas from https://files.pythonhosted.org/packages/9f/cc/ae8ea3b800757a70c9fdccc68b67dc0280a6e814efcf74e4211fd5dea1ca/pandas-2.3.0-cp312-cp312-macosx_11_0_arm64.whl.metadata\r\n",
      "  Downloading pandas-2.3.0-cp312-cp312-macosx_11_0_arm64.whl.metadata (91 kB)\r\n",
      "\u001B[2K     \u001B[90m━━━━━━━━━━━━━━━━━━━━━━━━━━━━━━━━━━━━━━━━\u001B[0m \u001B[32m91.2/91.2 kB\u001B[0m \u001B[31m16.2 MB/s\u001B[0m eta \u001B[36m0:00:00\u001B[0m\r\n",
      "\u001B[?25hRequirement already satisfied: requests>=2.32.2 in ./venv/lib/python3.12/site-packages (from datasets) (2.32.4)\r\n",
      "Collecting tqdm>=4.66.3 (from datasets)\r\n",
      "  Obtaining dependency information for tqdm>=4.66.3 from https://files.pythonhosted.org/packages/d0/30/dc54f88dd4a2b5dc8a0279bdd7270e735851848b762aeb1c1184ed1f6b14/tqdm-4.67.1-py3-none-any.whl.metadata\r\n",
      "  Using cached tqdm-4.67.1-py3-none-any.whl.metadata (57 kB)\r\n",
      "Collecting xxhash (from datasets)\r\n",
      "  Obtaining dependency information for xxhash from https://files.pythonhosted.org/packages/3f/d6/8ca450d6fe5b71ce521b4e5db69622383d039e2b253e9b2f24f93265b52c/xxhash-3.5.0-cp312-cp312-macosx_11_0_arm64.whl.metadata\r\n",
      "  Using cached xxhash-3.5.0-cp312-cp312-macosx_11_0_arm64.whl.metadata (12 kB)\r\n",
      "Collecting multiprocess<0.70.17 (from datasets)\r\n",
      "  Obtaining dependency information for multiprocess<0.70.17 from https://files.pythonhosted.org/packages/0a/7d/a988f258104dcd2ccf1ed40fdc97e26c4ac351eeaf81d76e266c52d84e2f/multiprocess-0.70.16-py312-none-any.whl.metadata\r\n",
      "  Using cached multiprocess-0.70.16-py312-none-any.whl.metadata (7.2 kB)\r\n",
      "Collecting fsspec[http]<=2025.3.0,>=2023.1.0 (from datasets)\r\n",
      "  Obtaining dependency information for fsspec[http]<=2025.3.0,>=2023.1.0 from https://files.pythonhosted.org/packages/56/53/eb690efa8513166adef3e0669afd31e95ffde69fb3c52ec2ac7223ed6018/fsspec-2025.3.0-py3-none-any.whl.metadata\r\n",
      "  Using cached fsspec-2025.3.0-py3-none-any.whl.metadata (11 kB)\r\n",
      "Collecting huggingface-hub>=0.24.0 (from datasets)\r\n",
      "  Obtaining dependency information for huggingface-hub>=0.24.0 from https://files.pythonhosted.org/packages/44/f4/5f3f22e762ad1965f01122b42dae5bf0e009286e2dba601ce1d0dba72424/huggingface_hub-0.33.2-py3-none-any.whl.metadata\r\n",
      "  Downloading huggingface_hub-0.33.2-py3-none-any.whl.metadata (14 kB)\r\n",
      "Requirement already satisfied: packaging in ./venv/lib/python3.12/site-packages (from datasets) (25.0)\r\n",
      "Requirement already satisfied: pyyaml>=5.1 in ./venv/lib/python3.12/site-packages (from datasets) (6.0.2)\r\n",
      "Collecting regex!=2019.12.17 (from transformers)\r\n",
      "  Obtaining dependency information for regex!=2019.12.17 from https://files.pythonhosted.org/packages/60/85/cebcc0aff603ea0a201667b203f13ba75d9fc8668fab917ac5b2de3967bc/regex-2024.11.6-cp312-cp312-macosx_11_0_arm64.whl.metadata\r\n",
      "  Using cached regex-2024.11.6-cp312-cp312-macosx_11_0_arm64.whl.metadata (40 kB)\r\n",
      "Collecting tokenizers<0.22,>=0.21 (from transformers)\r\n",
      "  Obtaining dependency information for tokenizers<0.22,>=0.21 from https://files.pythonhosted.org/packages/6c/e6/33f41f2cc7861faeba8988e7a77601407bf1d9d28fc79c5903f8f77df587/tokenizers-0.21.2-cp39-abi3-macosx_11_0_arm64.whl.metadata\r\n",
      "  Downloading tokenizers-0.21.2-cp39-abi3-macosx_11_0_arm64.whl.metadata (6.8 kB)\r\n",
      "Collecting safetensors>=0.4.3 (from transformers)\r\n",
      "  Obtaining dependency information for safetensors>=0.4.3 from https://files.pythonhosted.org/packages/b8/3b/11f1b4a2f5d2ab7da34ecc062b0bc301f2be024d110a6466726bec8c055c/safetensors-0.5.3-cp38-abi3-macosx_11_0_arm64.whl.metadata\r\n",
      "  Using cached safetensors-0.5.3-cp38-abi3-macosx_11_0_arm64.whl.metadata (3.8 kB)\r\n",
      "Collecting audioread>=2.1.9 (from librosa)\r\n",
      "  Obtaining dependency information for audioread>=2.1.9 from https://files.pythonhosted.org/packages/57/8d/30aa32745af16af0a9a650115fbe81bde7c610ed5c21b381fca0196f3a7f/audioread-3.0.1-py3-none-any.whl.metadata\r\n",
      "  Downloading audioread-3.0.1-py3-none-any.whl.metadata (8.4 kB)\r\n",
      "Collecting numba>=0.51.0 (from librosa)\r\n",
      "  Obtaining dependency information for numba>=0.51.0 from https://files.pythonhosted.org/packages/92/4a/fe4e3c2ecad72d88f5f8cd04e7f7cff49e718398a2fac02d2947480a00ca/numba-0.61.2-cp312-cp312-macosx_11_0_arm64.whl.metadata\r\n",
      "  Downloading numba-0.61.2-cp312-cp312-macosx_11_0_arm64.whl.metadata (2.8 kB)\r\n",
      "Collecting scipy>=1.6.0 (from librosa)\r\n",
      "  Obtaining dependency information for scipy>=1.6.0 from https://files.pythonhosted.org/packages/1c/22/01d7ddb07cff937d4326198ec8d10831367a708c3da72dfd9b7ceaf13028/scipy-1.16.0-cp312-cp312-macosx_14_0_arm64.whl.metadata\r\n",
      "  Downloading scipy-1.16.0-cp312-cp312-macosx_14_0_arm64.whl.metadata (61 kB)\r\n",
      "\u001B[2K     \u001B[90m━━━━━━━━━━━━━━━━━━━━━━━━━━━━━━━━━━━━━━━━\u001B[0m \u001B[32m61.9/61.9 kB\u001B[0m \u001B[31m10.4 MB/s\u001B[0m eta \u001B[36m0:00:00\u001B[0m\r\n",
      "\u001B[?25hCollecting scikit-learn>=1.1.0 (from librosa)\r\n",
      "  Obtaining dependency information for scikit-learn>=1.1.0 from https://files.pythonhosted.org/packages/58/d8/f3249232fa79a70cb40595282813e61453c1e76da3e1a44b77a63dd8d0cb/scikit_learn-1.7.0-cp312-cp312-macosx_12_0_arm64.whl.metadata\r\n",
      "  Downloading scikit_learn-1.7.0-cp312-cp312-macosx_12_0_arm64.whl.metadata (31 kB)\r\n",
      "Collecting joblib>=1.0 (from librosa)\r\n",
      "  Obtaining dependency information for joblib>=1.0 from https://files.pythonhosted.org/packages/7d/4f/1195bbac8e0c2acc5f740661631d8d750dc38d4a32b23ee5df3cde6f4e0d/joblib-1.5.1-py3-none-any.whl.metadata\r\n",
      "  Downloading joblib-1.5.1-py3-none-any.whl.metadata (5.6 kB)\r\n",
      "Requirement already satisfied: decorator>=4.3.0 in ./venv/lib/python3.12/site-packages (from librosa) (5.2.1)\r\n",
      "Collecting pooch>=1.1 (from librosa)\r\n",
      "  Obtaining dependency information for pooch>=1.1 from https://files.pythonhosted.org/packages/a8/87/77cc11c7a9ea9fd05503def69e3d18605852cd0d4b0d3b8f15bbeb3ef1d1/pooch-1.8.2-py3-none-any.whl.metadata\r\n",
      "  Downloading pooch-1.8.2-py3-none-any.whl.metadata (10 kB)\r\n",
      "Collecting soxr>=0.3.2 (from librosa)\r\n",
      "  Obtaining dependency information for soxr>=0.3.2 from https://files.pythonhosted.org/packages/20/f1/88adaca3c52e03bcb66b63d295df2e2d35bf355d19598c6ce84b20be7fca/soxr-0.5.0.post1-cp312-abi3-macosx_11_0_arm64.whl.metadata\r\n",
      "  Downloading soxr-0.5.0.post1-cp312-abi3-macosx_11_0_arm64.whl.metadata (5.6 kB)\r\n",
      "Requirement already satisfied: typing_extensions>=4.1.1 in ./venv/lib/python3.12/site-packages (from librosa) (4.14.1)\r\n",
      "Collecting lazy_loader>=0.1 (from librosa)\r\n",
      "  Obtaining dependency information for lazy_loader>=0.1 from https://files.pythonhosted.org/packages/83/60/d497a310bde3f01cb805196ac61b7ad6dc5dcf8dce66634dc34364b20b4f/lazy_loader-0.4-py3-none-any.whl.metadata\r\n",
      "  Downloading lazy_loader-0.4-py3-none-any.whl.metadata (7.6 kB)\r\n",
      "Collecting msgpack>=1.0 (from librosa)\r\n",
      "  Obtaining dependency information for msgpack>=1.0 from https://files.pythonhosted.org/packages/ab/65/7d1de38c8a22cf8b1551469159d4b6cf49be2126adc2482de50976084d78/msgpack-1.1.1-cp312-cp312-macosx_11_0_arm64.whl.metadata\r\n",
      "  Downloading msgpack-1.1.1-cp312-cp312-macosx_11_0_arm64.whl.metadata (8.4 kB)\r\n",
      "Requirement already satisfied: cffi>=1.0 in ./venv/lib/python3.12/site-packages (from soundfile) (1.17.1)\r\n",
      "Requirement already satisfied: setuptools in ./venv/lib/python3.12/site-packages (from torch) (80.9.0)\r\n",
      "Collecting sympy>=1.13.3 (from torch)\r\n",
      "  Obtaining dependency information for sympy>=1.13.3 from https://files.pythonhosted.org/packages/a2/09/77d55d46fd61b4a135c444fc97158ef34a095e5681d0a6c10b75bf356191/sympy-1.14.0-py3-none-any.whl.metadata\r\n",
      "  Using cached sympy-1.14.0-py3-none-any.whl.metadata (12 kB)\r\n",
      "Collecting networkx (from torch)\r\n",
      "  Obtaining dependency information for networkx from https://files.pythonhosted.org/packages/eb/8d/776adee7bbf76365fdd7f2552710282c79a4ead5d2a46408c9043a2b70ba/networkx-3.5-py3-none-any.whl.metadata\r\n",
      "  Downloading networkx-3.5-py3-none-any.whl.metadata (6.3 kB)\r\n",
      "Requirement already satisfied: jinja2 in ./venv/lib/python3.12/site-packages (from torch) (3.1.6)\r\n",
      "Collecting fsspec (from torch)\r\n",
      "  Obtaining dependency information for fsspec from https://files.pythonhosted.org/packages/bb/61/78c7b3851add1481b048b5fdc29067397a1784e2910592bc81bb3f608635/fsspec-2025.5.1-py3-none-any.whl.metadata\r\n",
      "  Downloading fsspec-2025.5.1-py3-none-any.whl.metadata (11 kB)\r\n",
      "Collecting pillow!=8.3.*,>=5.3.0 (from torchvision)\r\n",
      "  Obtaining dependency information for pillow!=8.3.*,>=5.3.0 from https://files.pythonhosted.org/packages/2c/32/7e2ac19b5713657384cec55f89065fb306b06af008cfd87e572035b27119/pillow-11.3.0-cp312-cp312-macosx_11_0_arm64.whl.metadata\r\n",
      "  Downloading pillow-11.3.0-cp312-cp312-macosx_11_0_arm64.whl.metadata (9.0 kB)\r\n",
      "Collecting fvcore (from pytorchvideo)\r\n",
      "  Downloading fvcore-0.1.5.post20221221.tar.gz (50 kB)\r\n",
      "\u001B[2K     \u001B[90m━━━━━━━━━━━━━━━━━━━━━━━━━━━━━━━━━━━━━━━━\u001B[0m \u001B[32m50.2/50.2 kB\u001B[0m \u001B[31m3.2 MB/s\u001B[0m eta \u001B[36m0:00:00\u001B[0m\r\n",
      "\u001B[?25h  Installing build dependencies ... \u001B[?25ldone\r\n",
      "\u001B[?25h  Getting requirements to build wheel ... \u001B[?25ldone\r\n",
      "\u001B[?25h  Preparing metadata (pyproject.toml) ... \u001B[?25ldone\r\n",
      "\u001B[?25hCollecting av (from pytorchvideo)\r\n",
      "  Obtaining dependency information for av from https://files.pythonhosted.org/packages/89/81/c5d009ea9c01a513b7af6aac2ac49c0f2f7193345071cd6dd4d91bef3ab9/av-15.0.0-cp312-cp312-macosx_13_0_arm64.whl.metadata\r\n",
      "  Downloading av-15.0.0-cp312-cp312-macosx_13_0_arm64.whl.metadata (4.6 kB)\r\n",
      "Collecting parameterized (from pytorchvideo)\r\n",
      "  Obtaining dependency information for parameterized from https://files.pythonhosted.org/packages/00/2f/804f58f0b856ab3bf21617cccf5b39206e6c4c94c2cd227bde125ea6105f/parameterized-0.9.0-py2.py3-none-any.whl.metadata\r\n",
      "  Downloading parameterized-0.9.0-py2.py3-none-any.whl.metadata (18 kB)\r\n",
      "Collecting iopath (from pytorchvideo)\r\n",
      "  Downloading iopath-0.1.10.tar.gz (42 kB)\r\n",
      "\u001B[2K     \u001B[90m━━━━━━━━━━━━━━━━━━━━━━━━━━━━━━━━━━━━━━━━\u001B[0m \u001B[32m42.2/42.2 kB\u001B[0m \u001B[31m5.1 MB/s\u001B[0m eta \u001B[36m0:00:00\u001B[0m\r\n",
      "\u001B[?25h  Installing build dependencies ... \u001B[?25ldone\r\n",
      "\u001B[?25h  Getting requirements to build wheel ... \u001B[?25ldone\r\n",
      "\u001B[?25h  Preparing metadata (pyproject.toml) ... \u001B[?25ldone\r\n",
      "\u001B[?25hRequirement already satisfied: pycparser in ./venv/lib/python3.12/site-packages (from cffi>=1.0->soundfile) (2.22)\r\n",
      "Collecting aiohttp!=4.0.0a0,!=4.0.0a1 (from fsspec[http]<=2025.3.0,>=2023.1.0->datasets)\r\n",
      "  Obtaining dependency information for aiohttp!=4.0.0a0,!=4.0.0a1 from https://files.pythonhosted.org/packages/f8/91/d42ba4aed039ce6e449b3e2db694328756c152a79804e64e3da5bc19dffc/aiohttp-3.12.13-cp312-cp312-macosx_11_0_arm64.whl.metadata\r\n",
      "  Downloading aiohttp-3.12.13-cp312-cp312-macosx_11_0_arm64.whl.metadata (7.6 kB)\r\n",
      "Collecting hf-xet<2.0.0,>=1.1.2 (from huggingface-hub>=0.24.0->datasets)\r\n",
      "  Obtaining dependency information for hf-xet<2.0.0,>=1.1.2 from https://files.pythonhosted.org/packages/de/5f/2c78e28f309396e71ec8e4e9304a6483dcbc36172b5cea8f291994163425/hf_xet-1.1.5-cp37-abi3-macosx_11_0_arm64.whl.metadata\r\n",
      "  Downloading hf_xet-1.1.5-cp37-abi3-macosx_11_0_arm64.whl.metadata (879 bytes)\r\n",
      "Collecting llvmlite<0.45,>=0.44.0dev0 (from numba>=0.51.0->librosa)\r\n",
      "  Obtaining dependency information for llvmlite<0.45,>=0.44.0dev0 from https://files.pythonhosted.org/packages/d6/53/373b6b8be67b9221d12b24125fd0ec56b1078b660eeae266ec388a6ac9a0/llvmlite-0.44.0-cp312-cp312-macosx_11_0_arm64.whl.metadata\r\n",
      "  Downloading llvmlite-0.44.0-cp312-cp312-macosx_11_0_arm64.whl.metadata (4.8 kB)\r\n",
      "Requirement already satisfied: platformdirs>=2.5.0 in ./venv/lib/python3.12/site-packages (from pooch>=1.1->librosa) (4.3.8)\r\n",
      "Requirement already satisfied: charset_normalizer<4,>=2 in ./venv/lib/python3.12/site-packages (from requests>=2.32.2->datasets) (3.4.2)\r\n",
      "Requirement already satisfied: idna<4,>=2.5 in ./venv/lib/python3.12/site-packages (from requests>=2.32.2->datasets) (3.10)\r\n",
      "Requirement already satisfied: urllib3<3,>=1.21.1 in ./venv/lib/python3.12/site-packages (from requests>=2.32.2->datasets) (2.5.0)\r\n",
      "Requirement already satisfied: certifi>=2017.4.17 in ./venv/lib/python3.12/site-packages (from requests>=2.32.2->datasets) (2025.6.15)\r\n",
      "Collecting threadpoolctl>=3.1.0 (from scikit-learn>=1.1.0->librosa)\r\n",
      "  Obtaining dependency information for threadpoolctl>=3.1.0 from https://files.pythonhosted.org/packages/32/d5/f9a850d79b0851d1d4ef6456097579a9005b31fea68726a4ae5f2d82ddd9/threadpoolctl-3.6.0-py3-none-any.whl.metadata\r\n",
      "  Using cached threadpoolctl-3.6.0-py3-none-any.whl.metadata (13 kB)\r\n",
      "Collecting mpmath<1.4,>=1.1.0 (from sympy>=1.13.3->torch)\r\n",
      "  Obtaining dependency information for mpmath<1.4,>=1.1.0 from https://files.pythonhosted.org/packages/43/e3/7d92a15f894aa0c9c4b49b8ee9ac9850d6e63b03c9c32c0367a13ae62209/mpmath-1.3.0-py3-none-any.whl.metadata\r\n",
      "  Using cached mpmath-1.3.0-py3-none-any.whl.metadata (8.6 kB)\r\n",
      "Collecting yacs>=0.1.6 (from fvcore->pytorchvideo)\r\n",
      "  Obtaining dependency information for yacs>=0.1.6 from https://files.pythonhosted.org/packages/38/4f/fe9a4d472aa867878ce3bb7efb16654c5d63672b86dc0e6e953a67018433/yacs-0.1.8-py3-none-any.whl.metadata\r\n",
      "  Downloading yacs-0.1.8-py3-none-any.whl.metadata (639 bytes)\r\n",
      "Collecting termcolor>=1.1 (from fvcore->pytorchvideo)\r\n",
      "  Obtaining dependency information for termcolor>=1.1 from https://files.pythonhosted.org/packages/4f/bd/de8d508070629b6d84a30d01d57e4a65c69aa7f5abe7560b8fad3b50ea59/termcolor-3.1.0-py3-none-any.whl.metadata\r\n",
      "  Downloading termcolor-3.1.0-py3-none-any.whl.metadata (6.4 kB)\r\n",
      "Collecting tabulate (from fvcore->pytorchvideo)\r\n",
      "  Obtaining dependency information for tabulate from https://files.pythonhosted.org/packages/40/44/4a5f08c96eb108af5cb50b41f76142f0afa346dfa99d5296fe7202a11854/tabulate-0.9.0-py3-none-any.whl.metadata\r\n",
      "  Using cached tabulate-0.9.0-py3-none-any.whl.metadata (34 kB)\r\n",
      "Collecting portalocker (from iopath->pytorchvideo)\r\n",
      "  Obtaining dependency information for portalocker from https://files.pythonhosted.org/packages/4b/a6/38c8e2f318bf67d338f4d629e93b0b4b9af331f455f0390ea8ce4a099b26/portalocker-3.2.0-py3-none-any.whl.metadata\r\n",
      "  Downloading portalocker-3.2.0-py3-none-any.whl.metadata (8.7 kB)\r\n",
      "Requirement already satisfied: MarkupSafe>=2.0 in ./venv/lib/python3.12/site-packages (from jinja2->torch) (3.0.2)\r\n",
      "Requirement already satisfied: python-dateutil>=2.8.2 in ./venv/lib/python3.12/site-packages (from pandas->datasets) (2.9.0.post0)\r\n",
      "Collecting pytz>=2020.1 (from pandas->datasets)\r\n",
      "  Obtaining dependency information for pytz>=2020.1 from https://files.pythonhosted.org/packages/81/c4/34e93fe5f5429d7570ec1fa436f1986fb1f00c3e0f43a589fe2bbcd22c3f/pytz-2025.2-py2.py3-none-any.whl.metadata\r\n",
      "  Using cached pytz-2025.2-py2.py3-none-any.whl.metadata (22 kB)\r\n",
      "Collecting tzdata>=2022.7 (from pandas->datasets)\r\n",
      "  Obtaining dependency information for tzdata>=2022.7 from https://files.pythonhosted.org/packages/5c/23/c7abc0ca0a1526a0774eca151daeb8de62ec457e77262b66b359c3c7679e/tzdata-2025.2-py2.py3-none-any.whl.metadata\r\n",
      "  Using cached tzdata-2025.2-py2.py3-none-any.whl.metadata (1.4 kB)\r\n",
      "Collecting aiohappyeyeballs>=2.5.0 (from aiohttp!=4.0.0a0,!=4.0.0a1->fsspec[http]<=2025.3.0,>=2023.1.0->datasets)\r\n",
      "  Obtaining dependency information for aiohappyeyeballs>=2.5.0 from https://files.pythonhosted.org/packages/0f/15/5bf3b99495fb160b63f95972b81750f18f7f4e02ad051373b669d17d44f2/aiohappyeyeballs-2.6.1-py3-none-any.whl.metadata\r\n",
      "  Using cached aiohappyeyeballs-2.6.1-py3-none-any.whl.metadata (5.9 kB)\r\n",
      "Collecting aiosignal>=1.1.2 (from aiohttp!=4.0.0a0,!=4.0.0a1->fsspec[http]<=2025.3.0,>=2023.1.0->datasets)\r\n",
      "  Obtaining dependency information for aiosignal>=1.1.2 from https://files.pythonhosted.org/packages/fb/76/641ae371508676492379f16e2fa48f4e2c11741bd63c48be4b12a6b09cba/aiosignal-1.4.0-py3-none-any.whl.metadata\r\n",
      "  Downloading aiosignal-1.4.0-py3-none-any.whl.metadata (3.7 kB)\r\n",
      "Requirement already satisfied: attrs>=17.3.0 in ./venv/lib/python3.12/site-packages (from aiohttp!=4.0.0a0,!=4.0.0a1->fsspec[http]<=2025.3.0,>=2023.1.0->datasets) (25.3.0)\r\n",
      "Collecting frozenlist>=1.1.1 (from aiohttp!=4.0.0a0,!=4.0.0a1->fsspec[http]<=2025.3.0,>=2023.1.0->datasets)\r\n",
      "  Obtaining dependency information for frozenlist>=1.1.1 from https://files.pythonhosted.org/packages/01/7a/0046ef1bd6699b40acd2067ed6d6670b4db2f425c56980fa21c982c2a9db/frozenlist-1.7.0-cp312-cp312-macosx_11_0_arm64.whl.metadata\r\n",
      "  Downloading frozenlist-1.7.0-cp312-cp312-macosx_11_0_arm64.whl.metadata (18 kB)\r\n",
      "Collecting multidict<7.0,>=4.5 (from aiohttp!=4.0.0a0,!=4.0.0a1->fsspec[http]<=2025.3.0,>=2023.1.0->datasets)\r\n",
      "  Obtaining dependency information for multidict<7.0,>=4.5 from https://files.pythonhosted.org/packages/52/6f/dd104490e01be6ef8bf9573705d8572f8c2d2c561f06e3826b081d9e6591/multidict-6.6.3-cp312-cp312-macosx_11_0_arm64.whl.metadata\r\n",
      "  Downloading multidict-6.6.3-cp312-cp312-macosx_11_0_arm64.whl.metadata (5.3 kB)\r\n",
      "Collecting propcache>=0.2.0 (from aiohttp!=4.0.0a0,!=4.0.0a1->fsspec[http]<=2025.3.0,>=2023.1.0->datasets)\r\n",
      "  Obtaining dependency information for propcache>=0.2.0 from https://files.pythonhosted.org/packages/0c/c8/0393a0a3a2b8760eb3bde3c147f62b20044f0ddac81e9d6ed7318ec0d852/propcache-0.3.2-cp312-cp312-macosx_11_0_arm64.whl.metadata\r\n",
      "  Downloading propcache-0.3.2-cp312-cp312-macosx_11_0_arm64.whl.metadata (12 kB)\r\n",
      "Collecting yarl<2.0,>=1.17.0 (from aiohttp!=4.0.0a0,!=4.0.0a1->fsspec[http]<=2025.3.0,>=2023.1.0->datasets)\r\n",
      "  Obtaining dependency information for yarl<2.0,>=1.17.0 from https://files.pythonhosted.org/packages/50/ec/72991ae51febeb11a42813fc259f0d4c8e0507f2b74b5514618d8b640365/yarl-1.20.1-cp312-cp312-macosx_11_0_arm64.whl.metadata\r\n",
      "  Downloading yarl-1.20.1-cp312-cp312-macosx_11_0_arm64.whl.metadata (73 kB)\r\n",
      "\u001B[2K     \u001B[90m━━━━━━━━━━━━━━━━━━━━━━━━━━━━━━━━━━━━━━━━\u001B[0m \u001B[32m73.9/73.9 kB\u001B[0m \u001B[31m2.4 MB/s\u001B[0m eta \u001B[36m0:00:00\u001B[0m\r\n",
      "\u001B[?25hRequirement already satisfied: six>=1.5 in ./venv/lib/python3.12/site-packages (from python-dateutil>=2.8.2->pandas->datasets) (1.17.0)\r\n",
      "Using cached datasets-3.6.0-py3-none-any.whl (491 kB)\r\n",
      "Downloading transformers-4.53.1-py3-none-any.whl (10.8 MB)\r\n",
      "\u001B[2K   \u001B[90m━━━━━━━━━━━━━━━━━━━━━━━━━━━━━━━━━━━━━━━━\u001B[0m \u001B[32m10.8/10.8 MB\u001B[0m \u001B[31m16.7 MB/s\u001B[0m eta \u001B[36m0:00:00\u001B[0m00:01\u001B[0m0:01\u001B[0m\r\n",
      "\u001B[?25hDownloading librosa-0.11.0-py3-none-any.whl (260 kB)\r\n",
      "\u001B[2K   \u001B[90m━━━━━━━━━━━━━━━━━━━━━━━━━━━━━━━━━━━━━━━━\u001B[0m \u001B[32m260.7/260.7 kB\u001B[0m \u001B[31m16.6 MB/s\u001B[0m eta \u001B[36m0:00:00\u001B[0m\r\n",
      "\u001B[?25hDownloading soundfile-0.13.1-py2.py3-none-macosx_11_0_arm64.whl (1.1 MB)\r\n",
      "\u001B[2K   \u001B[90m━━━━━━━━━━━━━━━━━━━━━━━━━━━━━━━━━━━━━━━━\u001B[0m \u001B[32m1.1/1.1 MB\u001B[0m \u001B[31m16.0 MB/s\u001B[0m eta \u001B[36m0:00:00\u001B[0ma \u001B[36m0:00:01\u001B[0m\r\n",
      "\u001B[?25hDownloading numpy-1.26.4-cp312-cp312-macosx_11_0_arm64.whl (13.7 MB)\r\n",
      "\u001B[2K   \u001B[90m━━━━━━━━━━━━━━━━━━━━━━━━━━━━━━━━━━━━━━━━\u001B[0m \u001B[32m13.7/13.7 MB\u001B[0m \u001B[31m21.5 MB/s\u001B[0m eta \u001B[36m0:00:00\u001B[0ma \u001B[36m0:00:01\u001B[0m\r\n",
      "\u001B[?25hDownloading torch-2.7.1-cp312-none-macosx_11_0_arm64.whl (68.6 MB)\r\n",
      "\u001B[2K   \u001B[90m━━━━━━━━━━━━━━━━━━━━━━━━━━━━━━━━━━━━━━━━\u001B[0m \u001B[32m68.6/68.6 MB\u001B[0m \u001B[31m28.7 MB/s\u001B[0m eta \u001B[36m0:00:00\u001B[0m00:01\u001B[0m00:01\u001B[0m\r\n",
      "\u001B[?25hDownloading torchaudio-2.7.1-cp312-cp312-macosx_11_0_arm64.whl (1.8 MB)\r\n",
      "\u001B[2K   \u001B[90m━━━━━━━━━━━━━━━━━━━━━━━━━━━━━━━━━━━━━━━━\u001B[0m \u001B[32m1.8/1.8 MB\u001B[0m \u001B[31m31.7 MB/s\u001B[0m eta \u001B[36m0:00:00\u001B[0ma \u001B[36m0:00:01\u001B[0m\r\n",
      "\u001B[?25hDownloading fast_tsp-0.1.4-cp312-cp312-macosx_11_0_arm64.whl (61 kB)\r\n",
      "\u001B[2K   \u001B[90m━━━━━━━━━━━━━━━━━━━━━━━━━━━━━━━━━━━━━━━━\u001B[0m \u001B[32m61.6/61.6 kB\u001B[0m \u001B[31m6.6 MB/s\u001B[0m eta \u001B[36m0:00:00\u001B[0m\r\n",
      "\u001B[?25hDownloading kmedoids-0.5.3.1-cp312-cp312-macosx_10_12_x86_64.macosx_11_0_arm64.macosx_10_12_universal2.whl (915 kB)\r\n",
      "\u001B[2K   \u001B[90m━━━━━━━━━━━━━━━━━━━━━━━━━━━━━━━━━━━━━━━━\u001B[0m \u001B[32m915.7/915.7 kB\u001B[0m \u001B[31m25.8 MB/s\u001B[0m eta \u001B[36m0:00:00\u001B[0m\r\n",
      "\u001B[?25hDownloading torchvision-0.22.1-cp312-cp312-macosx_11_0_arm64.whl (1.9 MB)\r\n",
      "\u001B[2K   \u001B[90m━━━━━━━━━━━━━━━━━━━━━━━━━━━━━━━━━━━━━━━━\u001B[0m \u001B[32m1.9/1.9 MB\u001B[0m \u001B[31m30.2 MB/s\u001B[0m eta \u001B[36m0:00:00\u001B[0ma \u001B[36m0:00:01\u001B[0m\r\n",
      "\u001B[?25hDownloading audioread-3.0.1-py3-none-any.whl (23 kB)\r\n",
      "Using cached dill-0.3.8-py3-none-any.whl (116 kB)\r\n",
      "Downloading huggingface_hub-0.33.2-py3-none-any.whl (515 kB)\r\n",
      "\u001B[2K   \u001B[90m━━━━━━━━━━━━━━━━━━━━━━━━━━━━━━━━━━━━━━━━\u001B[0m \u001B[32m515.4/515.4 kB\u001B[0m \u001B[31m25.8 MB/s\u001B[0m eta \u001B[36m0:00:00\u001B[0m\r\n",
      "\u001B[?25hUsing cached fsspec-2025.3.0-py3-none-any.whl (193 kB)\r\n",
      "Downloading joblib-1.5.1-py3-none-any.whl (307 kB)\r\n",
      "\u001B[2K   \u001B[90m━━━━━━━━━━━━━━━━━━━━━━━━━━━━━━━━━━━━━━━━\u001B[0m \u001B[32m307.7/307.7 kB\u001B[0m \u001B[31m17.8 MB/s\u001B[0m eta \u001B[36m0:00:00\u001B[0m\r\n",
      "\u001B[?25hDownloading lazy_loader-0.4-py3-none-any.whl (12 kB)\r\n",
      "Downloading msgpack-1.1.1-cp312-cp312-macosx_11_0_arm64.whl (79 kB)\r\n",
      "\u001B[2K   \u001B[90m━━━━━━━━━━━━━━━━━━━━━━━━━━━━━━━━━━━━━━━━\u001B[0m \u001B[32m79.2/79.2 kB\u001B[0m \u001B[31m9.7 MB/s\u001B[0m eta \u001B[36m0:00:00\u001B[0m\r\n",
      "\u001B[?25hUsing cached multiprocess-0.70.16-py312-none-any.whl (146 kB)\r\n",
      "Downloading numba-0.61.2-cp312-cp312-macosx_11_0_arm64.whl (2.8 MB)\r\n",
      "\u001B[2K   \u001B[90m━━━━━━━━━━━━━━━━━━━━━━━━━━━━━━━━━━━━━━━━\u001B[0m \u001B[32m2.8/2.8 MB\u001B[0m \u001B[31m29.6 MB/s\u001B[0m eta \u001B[36m0:00:00\u001B[0ma \u001B[36m0:00:01\u001B[0m\r\n",
      "\u001B[?25hDownloading pillow-11.3.0-cp312-cp312-macosx_11_0_arm64.whl (4.7 MB)\r\n",
      "\u001B[2K   \u001B[90m━━━━━━━━━━━━━━━━━━━━━━━━━━━━━━━━━━━━━━━━\u001B[0m \u001B[32m4.7/4.7 MB\u001B[0m \u001B[31m30.8 MB/s\u001B[0m eta \u001B[36m0:00:00\u001B[0ma \u001B[36m0:00:01\u001B[0m\r\n",
      "\u001B[?25hDownloading pooch-1.8.2-py3-none-any.whl (64 kB)\r\n",
      "\u001B[2K   \u001B[90m━━━━━━━━━━━━━━━━━━━━━━━━━━━━━━━━━━━━━━━━\u001B[0m \u001B[32m64.6/64.6 kB\u001B[0m \u001B[31m7.8 MB/s\u001B[0m eta \u001B[36m0:00:00\u001B[0m\r\n",
      "\u001B[?25hUsing cached pyarrow-20.0.0-cp312-cp312-macosx_12_0_arm64.whl (30.8 MB)\r\n",
      "Using cached regex-2024.11.6-cp312-cp312-macosx_11_0_arm64.whl (284 kB)\r\n",
      "Using cached safetensors-0.5.3-cp38-abi3-macosx_11_0_arm64.whl (418 kB)\r\n",
      "Downloading scikit_learn-1.7.0-cp312-cp312-macosx_12_0_arm64.whl (10.7 MB)\r\n",
      "\u001B[2K   \u001B[90m━━━━━━━━━━━━━━━━━━━━━━━━━━━━━━━━━━━━━━━━\u001B[0m \u001B[32m10.7/10.7 MB\u001B[0m \u001B[31m31.2 MB/s\u001B[0m eta \u001B[36m0:00:00\u001B[0m00:01\u001B[0m0:01\u001B[0m\r\n",
      "\u001B[?25hDownloading scipy-1.16.0-cp312-cp312-macosx_14_0_arm64.whl (20.8 MB)\r\n",
      "\u001B[2K   \u001B[90m━━━━━━━━━━━━━━━━━━━━━━━━━━━━━━━━━━━━━━━━\u001B[0m \u001B[32m20.8/20.8 MB\u001B[0m \u001B[31m31.9 MB/s\u001B[0m eta \u001B[36m0:00:00\u001B[0m00:01\u001B[0m00:01\u001B[0m\r\n",
      "\u001B[?25hDownloading soxr-0.5.0.post1-cp312-abi3-macosx_11_0_arm64.whl (156 kB)\r\n",
      "\u001B[2K   \u001B[90m━━━━━━━━━━━━━━━━━━━━━━━━━━━━━━━━━━━━━━━━\u001B[0m \u001B[32m156.4/156.4 kB\u001B[0m \u001B[31m17.8 MB/s\u001B[0m eta \u001B[36m0:00:00\u001B[0m\r\n",
      "\u001B[?25hUsing cached sympy-1.14.0-py3-none-any.whl (6.3 MB)\r\n",
      "Downloading tokenizers-0.21.2-cp39-abi3-macosx_11_0_arm64.whl (2.7 MB)\r\n",
      "\u001B[2K   \u001B[90m━━━━━━━━━━━━━━━━━━━━━━━━━━━━━━━━━━━━━━━━\u001B[0m \u001B[32m2.7/2.7 MB\u001B[0m \u001B[31m29.6 MB/s\u001B[0m eta \u001B[36m0:00:00\u001B[0ma \u001B[36m0:00:01\u001B[0m\r\n",
      "\u001B[?25hUsing cached tqdm-4.67.1-py3-none-any.whl (78 kB)\r\n",
      "Downloading av-15.0.0-cp312-cp312-macosx_13_0_arm64.whl (21.8 MB)\r\n",
      "\u001B[2K   \u001B[90m━━━━━━━━━━━━━━━━━━━━━━━━━━━━━━━━━━━━━━━━\u001B[0m \u001B[32m21.8/21.8 MB\u001B[0m \u001B[31m19.4 MB/s\u001B[0m eta \u001B[36m0:00:00\u001B[0m00:01\u001B[0m00:01\u001B[0m\r\n",
      "\u001B[?25hUsing cached filelock-3.18.0-py3-none-any.whl (16 kB)\r\n",
      "Downloading networkx-3.5-py3-none-any.whl (2.0 MB)\r\n",
      "\u001B[2K   \u001B[90m━━━━━━━━━━━━━━━━━━━━━━━━━━━━━━━━━━━━━━━━\u001B[0m \u001B[32m2.0/2.0 MB\u001B[0m \u001B[31m33.6 MB/s\u001B[0m eta \u001B[36m0:00:00\u001B[0ma \u001B[36m0:00:01\u001B[0m\r\n",
      "\u001B[?25hDownloading pandas-2.3.0-cp312-cp312-macosx_11_0_arm64.whl (10.7 MB)\r\n",
      "\u001B[2K   \u001B[90m━━━━━━━━━━━━━━━━━━━━━━━━━━━━━━━━━━━━━━━━\u001B[0m \u001B[32m10.7/10.7 MB\u001B[0m \u001B[31m33.1 MB/s\u001B[0m eta \u001B[36m0:00:00\u001B[0ma \u001B[36m0:00:01\u001B[0m\r\n",
      "\u001B[?25hDownloading parameterized-0.9.0-py2.py3-none-any.whl (20 kB)\r\n",
      "Using cached xxhash-3.5.0-cp312-cp312-macosx_11_0_arm64.whl (30 kB)\r\n",
      "Downloading aiohttp-3.12.13-cp312-cp312-macosx_11_0_arm64.whl (467 kB)\r\n",
      "\u001B[2K   \u001B[90m━━━━━━━━━━━━━━━━━━━━━━━━━━━━━━━━━━━━━━━━\u001B[0m \u001B[32m467.9/467.9 kB\u001B[0m \u001B[31m36.1 MB/s\u001B[0m eta \u001B[36m0:00:00\u001B[0m\r\n",
      "\u001B[?25hDownloading hf_xet-1.1.5-cp37-abi3-macosx_11_0_arm64.whl (2.6 MB)\r\n",
      "\u001B[2K   \u001B[90m━━━━━━━━━━━━━━━━━━━━━━━━━━━━━━━━━━━━━━━━\u001B[0m \u001B[32m2.6/2.6 MB\u001B[0m \u001B[31m34.3 MB/s\u001B[0m eta \u001B[36m0:00:00\u001B[0m00:01\u001B[0m00:01\u001B[0m\r\n",
      "\u001B[?25hDownloading llvmlite-0.44.0-cp312-cp312-macosx_11_0_arm64.whl (26.2 MB)\r\n",
      "\u001B[2K   \u001B[90m━━━━━━━━━━━━━━━━━━━━━━━━━━━━━━━━━━━━━━━━\u001B[0m \u001B[32m26.2/26.2 MB\u001B[0m \u001B[31m30.9 MB/s\u001B[0m eta \u001B[36m0:00:00\u001B[0m00:01\u001B[0m00:01\u001B[0m\r\n",
      "\u001B[?25hUsing cached mpmath-1.3.0-py3-none-any.whl (536 kB)\r\n",
      "Using cached pytz-2025.2-py2.py3-none-any.whl (509 kB)\r\n",
      "Downloading termcolor-3.1.0-py3-none-any.whl (7.7 kB)\r\n",
      "Using cached threadpoolctl-3.6.0-py3-none-any.whl (18 kB)\r\n",
      "Using cached tzdata-2025.2-py2.py3-none-any.whl (347 kB)\r\n",
      "Downloading yacs-0.1.8-py3-none-any.whl (14 kB)\r\n",
      "Downloading portalocker-3.2.0-py3-none-any.whl (22 kB)\r\n",
      "Using cached tabulate-0.9.0-py3-none-any.whl (35 kB)\r\n",
      "Using cached aiohappyeyeballs-2.6.1-py3-none-any.whl (15 kB)\r\n",
      "Downloading aiosignal-1.4.0-py3-none-any.whl (7.5 kB)\r\n",
      "Downloading frozenlist-1.7.0-cp312-cp312-macosx_11_0_arm64.whl (46 kB)\r\n",
      "\u001B[2K   \u001B[90m━━━━━━━━━━━━━━━━━━━━━━━━━━━━━━━━━━━━━━━━\u001B[0m \u001B[32m46.7/46.7 kB\u001B[0m \u001B[31m6.4 MB/s\u001B[0m eta \u001B[36m0:00:00\u001B[0m\r\n",
      "\u001B[?25hDownloading multidict-6.6.3-cp312-cp312-macosx_11_0_arm64.whl (43 kB)\r\n",
      "\u001B[2K   \u001B[90m━━━━━━━━━━━━━━━━━━━━━━━━━━━━━━━━━━━━━━━━\u001B[0m \u001B[32m43.6/43.6 kB\u001B[0m \u001B[31m5.5 MB/s\u001B[0m eta \u001B[36m0:00:00\u001B[0m\r\n",
      "\u001B[?25hDownloading propcache-0.3.2-cp312-cp312-macosx_11_0_arm64.whl (43 kB)\r\n",
      "\u001B[2K   \u001B[90m━━━━━━━━━━━━━━━━━━━━━━━━━━━━━━━━━━━━━━━━\u001B[0m \u001B[32m43.1/43.1 kB\u001B[0m \u001B[31m5.0 MB/s\u001B[0m eta \u001B[36m0:00:00\u001B[0m\r\n",
      "\u001B[?25hDownloading yarl-1.20.1-cp312-cp312-macosx_11_0_arm64.whl (89 kB)\r\n",
      "\u001B[2K   \u001B[90m━━━━━━━━━━━━━━━━━━━━━━━━━━━━━━━━━━━━━━━━\u001B[0m \u001B[32m89.7/89.7 kB\u001B[0m \u001B[31m10.4 MB/s\u001B[0m eta \u001B[36m0:00:00\u001B[0m\r\n",
      "\u001B[?25hBuilding wheels for collected packages: pytorchvideo, fvcore, iopath\r\n",
      "  Building wheel for pytorchvideo (pyproject.toml) ... \u001B[?25ldone\r\n",
      "\u001B[?25h  Created wheel for pytorchvideo: filename=pytorchvideo-0.1.5-py3-none-any.whl size=188757 sha256=9dce2193c12d994f55156b688ffcf11d9d8a9f9c43a6ccb8c24a6fc6677044ab\r\n",
      "  Stored in directory: /Users/damian/Library/Caches/pip/wheels/b3/49/dc/aab2dce83e38b59849db13a4f4ddd220e568e24b58332fb0f9\r\n",
      "  Building wheel for fvcore (pyproject.toml) ... \u001B[?25ldone\r\n",
      "\u001B[?25h  Created wheel for fvcore: filename=fvcore-0.1.5.post20221221-py3-none-any.whl size=61445 sha256=26a7e4f70dcd89b7a26953718627348d75b9d15c6b35b876be6e803501b7dd9d\r\n",
      "  Stored in directory: /Users/damian/Library/Caches/pip/wheels/ed/9f/a5/e4f5b27454ccd4596bd8b62432c7d6b1ca9fa22aef9d70a16a\r\n",
      "  Building wheel for iopath (pyproject.toml) ... \u001B[?25ldone\r\n",
      "\u001B[?25h  Created wheel for iopath: filename=iopath-0.1.10-py3-none-any.whl size=31600 sha256=492c12cb81129c5a8e3ce50ef4880b9561793ec7de15d1ed197c63183452f204\r\n",
      "  Stored in directory: /Users/damian/Library/Caches/pip/wheels/7c/96/04/4f5f31ff812f684f69f40cb1634357812220aac58d4698048c\r\n",
      "Successfully built pytorchvideo fvcore iopath\r\n",
      "Installing collected packages: pytz, mpmath, kmedoids, yacs, xxhash, tzdata, tqdm, threadpoolctl, termcolor, tabulate, sympy, safetensors, regex, pyarrow, propcache, portalocker, pillow, parameterized, numpy, networkx, multidict, msgpack, llvmlite, lazy_loader, joblib, hf-xet, fsspec, frozenlist, filelock, dill, av, audioread, aiohappyeyeballs, yarl, torch, soxr, soundfile, scipy, pooch, pandas, numba, multiprocess, iopath, huggingface-hub, fast-tsp, aiosignal, torchvision, torchaudio, tokenizers, scikit-learn, fvcore, aiohttp, transformers, pytorchvideo, librosa, datasets\r\n",
      "Successfully installed aiohappyeyeballs-2.6.1 aiohttp-3.12.13 aiosignal-1.4.0 audioread-3.0.1 av-15.0.0 datasets-3.6.0 dill-0.3.8 fast-tsp-0.1.4 filelock-3.18.0 frozenlist-1.7.0 fsspec-2025.3.0 fvcore-0.1.5.post20221221 hf-xet-1.1.5 huggingface-hub-0.33.2 iopath-0.1.10 joblib-1.5.1 kmedoids-0.5.3.1 lazy_loader-0.4 librosa-0.11.0 llvmlite-0.44.0 mpmath-1.3.0 msgpack-1.1.1 multidict-6.6.3 multiprocess-0.70.16 networkx-3.5 numba-0.61.2 numpy-1.26.4 pandas-2.3.0 parameterized-0.9.0 pillow-11.3.0 pooch-1.8.2 portalocker-3.2.0 propcache-0.3.2 pyarrow-20.0.0 pytorchvideo-0.1.5 pytz-2025.2 regex-2024.11.6 safetensors-0.5.3 scikit-learn-1.7.0 scipy-1.16.0 soundfile-0.13.1 soxr-0.5.0.post1 sympy-1.14.0 tabulate-0.9.0 termcolor-3.1.0 threadpoolctl-3.6.0 tokenizers-0.21.2 torch-2.7.1 torchaudio-2.7.1 torchvision-0.22.1 tqdm-4.67.1 transformers-4.53.1 tzdata-2025.2 xxhash-3.5.0 yacs-0.1.8 yarl-1.20.1\r\n",
      "\r\n",
      "\u001B[1m[\u001B[0m\u001B[34;49mnotice\u001B[0m\u001B[1;39;49m]\u001B[0m\u001B[39;49m A new release of pip is available: \u001B[0m\u001B[31;49m23.2.1\u001B[0m\u001B[39;49m -> \u001B[0m\u001B[32;49m25.1.1\u001B[0m\r\n",
      "\u001B[1m[\u001B[0m\u001B[34;49mnotice\u001B[0m\u001B[1;39;49m]\u001B[0m\u001B[39;49m To update, run: \u001B[0m\u001B[32;49mpip install --upgrade pip\u001B[0m\r\n"
     ]
    }
   ],
   "execution_count": 1
  },
  {
   "metadata": {},
   "cell_type": "markdown",
   "source": "# Setup",
   "id": "3cb23ac2-7d44-42dc-8acf-0df92184c026"
  },
  {
   "metadata": {
    "ExecuteTime": {
     "end_time": "2025-07-05T17:02:05.569027Z",
     "start_time": "2025-07-05T17:02:04.295149Z"
    }
   },
   "cell_type": "code",
   "source": "!pip install ipywidgets",
   "id": "12510213a05a04af",
   "outputs": [
    {
     "name": "stdout",
     "output_type": "stream",
     "text": [
      "Collecting ipywidgets\r\n",
      "  Obtaining dependency information for ipywidgets from https://files.pythonhosted.org/packages/58/6a/9166369a2f092bd286d24e6307de555d63616e8ddb373ebad2b5635ca4cd/ipywidgets-8.1.7-py3-none-any.whl.metadata\r\n",
      "  Using cached ipywidgets-8.1.7-py3-none-any.whl.metadata (2.4 kB)\r\n",
      "Requirement already satisfied: comm>=0.1.3 in ./venv/lib/python3.12/site-packages (from ipywidgets) (0.2.2)\r\n",
      "Requirement already satisfied: ipython>=6.1.0 in ./venv/lib/python3.12/site-packages (from ipywidgets) (9.4.0)\r\n",
      "Requirement already satisfied: traitlets>=4.3.1 in ./venv/lib/python3.12/site-packages (from ipywidgets) (5.14.3)\r\n",
      "Collecting widgetsnbextension~=4.0.14 (from ipywidgets)\r\n",
      "  Obtaining dependency information for widgetsnbextension~=4.0.14 from https://files.pythonhosted.org/packages/ca/51/5447876806d1088a0f8f71e16542bf350918128d0a69437df26047c8e46f/widgetsnbextension-4.0.14-py3-none-any.whl.metadata\r\n",
      "  Using cached widgetsnbextension-4.0.14-py3-none-any.whl.metadata (1.6 kB)\r\n",
      "Collecting jupyterlab_widgets~=3.0.15 (from ipywidgets)\r\n",
      "  Obtaining dependency information for jupyterlab_widgets~=3.0.15 from https://files.pythonhosted.org/packages/43/6a/ca128561b22b60bd5a0c4ea26649e68c8556b82bc70a0c396eebc977fe86/jupyterlab_widgets-3.0.15-py3-none-any.whl.metadata\r\n",
      "  Using cached jupyterlab_widgets-3.0.15-py3-none-any.whl.metadata (20 kB)\r\n",
      "Requirement already satisfied: decorator in ./venv/lib/python3.12/site-packages (from ipython>=6.1.0->ipywidgets) (5.2.1)\r\n",
      "Requirement already satisfied: ipython-pygments-lexers in ./venv/lib/python3.12/site-packages (from ipython>=6.1.0->ipywidgets) (1.1.1)\r\n",
      "Requirement already satisfied: jedi>=0.16 in ./venv/lib/python3.12/site-packages (from ipython>=6.1.0->ipywidgets) (0.19.2)\r\n",
      "Requirement already satisfied: matplotlib-inline in ./venv/lib/python3.12/site-packages (from ipython>=6.1.0->ipywidgets) (0.1.7)\r\n",
      "Requirement already satisfied: pexpect>4.3 in ./venv/lib/python3.12/site-packages (from ipython>=6.1.0->ipywidgets) (4.9.0)\r\n",
      "Requirement already satisfied: prompt_toolkit<3.1.0,>=3.0.41 in ./venv/lib/python3.12/site-packages (from ipython>=6.1.0->ipywidgets) (3.0.51)\r\n",
      "Requirement already satisfied: pygments>=2.4.0 in ./venv/lib/python3.12/site-packages (from ipython>=6.1.0->ipywidgets) (2.19.2)\r\n",
      "Requirement already satisfied: stack_data in ./venv/lib/python3.12/site-packages (from ipython>=6.1.0->ipywidgets) (0.6.3)\r\n",
      "Requirement already satisfied: parso<0.9.0,>=0.8.4 in ./venv/lib/python3.12/site-packages (from jedi>=0.16->ipython>=6.1.0->ipywidgets) (0.8.4)\r\n",
      "Requirement already satisfied: ptyprocess>=0.5 in ./venv/lib/python3.12/site-packages (from pexpect>4.3->ipython>=6.1.0->ipywidgets) (0.7.0)\r\n",
      "Requirement already satisfied: wcwidth in ./venv/lib/python3.12/site-packages (from prompt_toolkit<3.1.0,>=3.0.41->ipython>=6.1.0->ipywidgets) (0.2.13)\r\n",
      "Requirement already satisfied: executing>=1.2.0 in ./venv/lib/python3.12/site-packages (from stack_data->ipython>=6.1.0->ipywidgets) (2.2.0)\r\n",
      "Requirement already satisfied: asttokens>=2.1.0 in ./venv/lib/python3.12/site-packages (from stack_data->ipython>=6.1.0->ipywidgets) (3.0.0)\r\n",
      "Requirement already satisfied: pure-eval in ./venv/lib/python3.12/site-packages (from stack_data->ipython>=6.1.0->ipywidgets) (0.2.3)\r\n",
      "Using cached ipywidgets-8.1.7-py3-none-any.whl (139 kB)\r\n",
      "Using cached jupyterlab_widgets-3.0.15-py3-none-any.whl (216 kB)\r\n",
      "Using cached widgetsnbextension-4.0.14-py3-none-any.whl (2.2 MB)\r\n",
      "Installing collected packages: widgetsnbextension, jupyterlab_widgets, ipywidgets\r\n",
      "Successfully installed ipywidgets-8.1.7 jupyterlab_widgets-3.0.15 widgetsnbextension-4.0.14\r\n",
      "\r\n",
      "\u001B[1m[\u001B[0m\u001B[34;49mnotice\u001B[0m\u001B[1;39;49m]\u001B[0m\u001B[39;49m A new release of pip is available: \u001B[0m\u001B[31;49m23.2.1\u001B[0m\u001B[39;49m -> \u001B[0m\u001B[32;49m25.1.1\u001B[0m\r\n",
      "\u001B[1m[\u001B[0m\u001B[34;49mnotice\u001B[0m\u001B[1;39;49m]\u001B[0m\u001B[39;49m To update, run: \u001B[0m\u001B[32;49mpip install --upgrade pip\u001B[0m\r\n"
     ]
    }
   ],
   "execution_count": 3
  },
  {
   "metadata": {
    "ExecuteTime": {
     "end_time": "2025-07-05T17:22:08.878295Z",
     "start_time": "2025-07-05T17:22:03.782563Z"
    }
   },
   "cell_type": "code",
   "source": [
    "%load_ext autoreload\n",
    "%autoreload 2\n",
    "\n",
    "from transformers import ClapModel, ClapFeatureExtractor, AutoTokenizer\n",
    "\n",
    "device='mps'\n",
    "model = ClapModel.from_pretrained(\"laion/clap-htsat-unfused\", use_safetensors=True).to(device)\n",
    "feature_extractor: ClapFeatureExtractor = ClapFeatureExtractor.from_pretrained(\"laion/clap-htsat-unfused\")\n",
    "tokenizer = AutoTokenizer.from_pretrained(\"laion/clap-htsat-unfused\")\n"
   ],
   "id": "5a78d7169b407d7d",
   "outputs": [],
   "execution_count": 1
  },
  {
   "metadata": {
    "ExecuteTime": {
     "end_time": "2025-07-05T17:22:15.377828Z",
     "start_time": "2025-07-05T17:22:15.340661Z"
    }
   },
   "cell_type": "code",
   "source": [
    "from typing import Generator\n",
    "import torch\n",
    "torch.set_grad_enabled(False)\n",
    "from tqdm.auto import tqdm\n",
    "\n",
    "def wrap(idx, total):\n",
    "    if idx < 0:\n",
    "        return total + idx\n",
    "    elif idx >= total:\n",
    "        return idx - total\n",
    "    else:\n",
    "        return idx\n",
    "    \n",
    "def get_audio_chunks(waveform, chunk_size_seconds: float=0.25, \n",
    "                     window_width: float=0, include_window: bool=True\n",
    "             ) -> Generator[torch.Tensor, None, None]:\n",
    "    if len(waveform.shape) != 1:\n",
    "        raise ValueError(\"waveform should have shape [num_samples]\")\n",
    "    chunk_size = int(8 * ((sampling_rate * chunk_size_seconds) // 8))\n",
    "    window_width_samples = int(chunk_size * window_width)\n",
    "    for offset in range(window_width_samples, waveform.shape[0]-window_width_samples, chunk_size):\n",
    "        if include_window:\n",
    "            start = wrap(offset-window_width_samples, waveform.shape[0])\n",
    "            end = wrap(offset+chunk_size+window_width_samples, waveform.shape[0])\n",
    "        else:\n",
    "            start = offset\n",
    "            end = offset + chunk_size\n",
    "        yield waveform[start:end]\n",
    "    \n",
    "\n",
    "def get_audio_features(waveform: torch.Tensor, sampling_rate):\n",
    "    inputs = feature_extractor(waveform, sampling_rate=sampling_rate, return_tensors=\"pt\")\n",
    "    #print(inputs.keys())\n",
    "    audio_features = model.get_audio_features(input_features=inputs.input_features.to(device))\n",
    "    return audio_features / torch.norm(audio_features, p=2, dim=1, keepdim=True)\n",
    "\n",
    "def get_text_features(text: str):\n",
    "    inputs = tokenizer(text, padding=True, return_tensors='pt')\n",
    "    text_features =  model.get_text_features(input_ids = inputs.input_ids.to(device))\n",
    "    return text_features / torch.norm(text_features, p=2, dim=1, keepdim=True)\n"
   ],
   "id": "5b4b82f01c2ca14b",
   "outputs": [],
   "execution_count": 2
  },
  {
   "metadata": {},
   "cell_type": "markdown",
   "source": "# Run",
   "id": "6d42f4e095b6da6d"
  },
  {
   "metadata": {
    "ExecuteTime": {
     "end_time": "2025-07-05T17:22:17.467093Z",
     "start_time": "2025-07-05T17:22:17.261376Z"
    }
   },
   "cell_type": "code",
   "source": [
    "import torchaudio\n",
    "import torchaudio.transforms as T\n",
    "import pickle\n",
    "import os\n",
    "\n",
    "filename = '/Users/damian/2.current/clapSlice/outputs/Dua Lipa - Be The One (Official Music Video).mp3-sorted-cs2.742857142857143-smeared-sw5-spread0.waw.mp3'\n",
    "waveform, sampling_rate = torchaudio.load(filename)\n",
    "chunk_beats = 4\n",
    "bpm = 87.5\n",
    "window_width = 0\n",
    "chunk_size_seconds = chunk_beats*60/bpm\n",
    "\n",
    "if sampling_rate != feature_extractor.sampling_rate:\n",
    "    resampler = T.Resample(sampling_rate,  feature_extractor.sampling_rate, dtype=waveform.dtype)\n",
    "    waveform, sampling_rate = resampler(waveform), feature_extractor.sampling_rate\n",
    "\n",
    "print(sampling_rate, waveform.shape, chunk_size_seconds)\n",
    "\n",
    "left_chunks_window = list(get_audio_chunks(waveform[0], chunk_size_seconds=chunk_size_seconds, window_width=window_width))[:-1]\n",
    "right_chunks_window = list(get_audio_chunks(waveform[1], chunk_size_seconds=chunk_size_seconds, window_width=window_width))[:-1]\n",
    "mono_chunks = [(left_chunks_window[i] + right_chunks_window[i]) / 2 for i in range(len(left_chunks_window))]\n",
    "\n",
    "left_chunks_no_window = list(get_audio_chunks(waveform[0], chunk_size_seconds=chunk_size_seconds, window_width=window_width, include_window=False))[:-1]\n",
    "right_chunks_no_window = list(get_audio_chunks(waveform[1], chunk_size_seconds=chunk_size_seconds, window_width=window_width, include_window=False))[:-1]\n",
    "stereo_chunks_no_window = [torch.stack([left_chunks_no_window[index], right_chunks_no_window[index]])\n",
    "    for index in range(len(left_chunks_no_window))]\n",
    "features_pickle_filename = filename + f'.clap-norm-bpm{bpm}-cb{chunk_beats}-ww{window_width}.pkl'\n",
    "if os.path.exists(features_pickle_filename):\n",
    "    with open(features_pickle_filename, 'rb') as f:\n",
    "        all_features = pickle.load(f)\n",
    "else:\n",
    "    all_features = torch.concat([get_audio_features(chunk, sampling_rate=sampling_rate) \n",
    "                             for chunk in tqdm(mono_chunks)])\n",
    "    with open(features_pickle_filename, 'wb') as f:\n",
    "        pickle.dump(all_features, f)\n"
   ],
   "id": "9707a03e43c2066d",
   "outputs": [
    {
     "name": "stdout",
     "output_type": "stream",
     "text": [
      "48000 torch.Size([2, 9742544]) 2.742857142857143\n"
     ]
    }
   ],
   "execution_count": 3
  },
  {
   "metadata": {},
   "cell_type": "markdown",
   "source": "## Remap",
   "id": "d9cc67c60388aec7"
  },
  {
   "metadata": {
    "ExecuteTime": {
     "end_time": "2025-07-05T17:22:19.206431Z",
     "start_time": "2025-07-05T17:22:19.178766Z"
    }
   },
   "cell_type": "code",
   "source": "from medoids_tsp import sort_tsp",
   "id": "154fc3254f4d1101",
   "outputs": [],
   "execution_count": 4
  },
  {
   "metadata": {
    "ExecuteTime": {
     "end_time": "2025-07-05T17:22:19.811709Z",
     "start_time": "2025-07-05T17:22:19.787716Z"
    }
   },
   "cell_type": "code",
   "source": [
    "import pickle\n",
    "original_filename = '/Users/damian/2.current/clapSlice/outputs/Dua Lipa - Be The One (Official Music Video).mp3.clap-cs2.742857142857143.pkl'\n",
    "\n",
    "with open(original_filename, 'rb') as f:\n",
    "    original_all_features = pickle.load(f)\n",
    "original_all_features = original_all_features[:all_features.shape[0]]\n",
    "print(original_all_features.shape)"
   ],
   "id": "2b80910f9a1106d1",
   "outputs": [
    {
     "name": "stdout",
     "output_type": "stream",
     "text": [
      "torch.Size([73, 512])\n"
     ]
    }
   ],
   "execution_count": 5
  },
  {
   "metadata": {
    "ExecuteTime": {
     "end_time": "2025-07-05T17:22:22.417612Z",
     "start_time": "2025-07-05T17:22:20.368283Z"
    }
   },
   "cell_type": "code",
   "source": [
    "sort_order = sort_tsp(original_all_features)\n",
    "print(sort_order)"
   ],
   "id": "fd7bd1a544980ed4",
   "outputs": [
    {
     "name": "stdout",
     "output_type": "stream",
     "text": [
      "computing distance matrix\n",
      "computing route\n",
      "tensor([24, 26, 70, 54, 55, 27, 71, 53, 69, 25, 67, 23, 51, 22, 50, 66, 64, 48,\n",
      "        20, 49, 21, 65, 46, 18, 47, 19,  0,  1,  2,  3,  7,  6, 10, 11,  8,  4,\n",
      "         9,  5, 61, 63, 57, 59, 58, 60, 62, 56, 72, 34, 38, 36, 33, 37, 35, 39,\n",
      "        44, 16, 12, 40, 13, 41, 17, 45, 15, 43, 42, 14, 32, 31, 29, 28, 30, 68,\n",
      "        52])\n"
     ]
    }
   ],
   "execution_count": 6
  },
  {
   "metadata": {
    "ExecuteTime": {
     "end_time": "2025-07-05T17:22:22.443554Z",
     "start_time": "2025-07-05T17:22:22.424292Z"
    }
   },
   "cell_type": "code",
   "source": [
    "from medoids_tsp import get_distance_matrix\n",
    "remap_distance_matrix = get_distance_matrix(original_all_features, all_features)\n",
    "remap_distance_matrix.cpu()"
   ],
   "id": "56f4afab6c1c437",
   "outputs": [
    {
     "data": {
      "text/plain": [
       "tensor([[0.2527, 0.2612, 0.2726,  ..., 0.2145, 0.2212, 0.2398],\n",
       "        [0.2672, 0.2849, 0.2949,  ..., 0.2411, 0.2395, 0.2470],\n",
       "        [0.2255, 0.2523, 0.2739,  ..., 0.2327, 0.2349, 0.2266],\n",
       "        ...,\n",
       "        [0.1177, 0.1361, 0.1312,  ..., 0.0939, 0.0988, 0.1216],\n",
       "        [0.1442, 0.1511, 0.1400,  ..., 0.1205, 0.1286, 0.1578],\n",
       "        [0.2681, 0.2884, 0.2867,  ..., 0.2747, 0.3007, 0.3134]])"
      ]
     },
     "execution_count": 7,
     "metadata": {},
     "output_type": "execute_result"
    }
   ],
   "execution_count": 7
  },
  {
   "metadata": {
    "ExecuteTime": {
     "end_time": "2025-07-05T17:22:22.537503Z",
     "start_time": "2025-07-05T17:22:22.504774Z"
    }
   },
   "cell_type": "code",
   "source": "torch.argmin(remap_distance_matrix, dim=1, keepdim=False)",
   "id": "4c144051de646d11",
   "outputs": [
    {
     "data": {
      "text/plain": [
       "tensor([34, 34, 34, 32, 38, 46, 38, 31, 47, 47, 27, 27, 51, 53, 59, 59, 27, 27,\n",
       "         0, 16, 27, 27, 12, 27, 27, 25, 25, 27, 70, 70, 70, 70, 65, 65, 67, 63,\n",
       "        65, 65, 67, 27, 52, 53, 59, 59, 27, 27,  0,  0,  6, 27, 12,  6, 27, 27,\n",
       "        27, 27, 37, 37, 38, 38, 38, 38, 38, 38,  6, 27, 12, 27, 27, 27, 25, 27,\n",
       "        37], device='mps:0')"
      ]
     },
     "execution_count": 8,
     "metadata": {},
     "output_type": "execute_result"
    }
   ],
   "execution_count": 8
  },
  {
   "metadata": {
    "ExecuteTime": {
     "end_time": "2025-07-05T17:22:23.200599Z",
     "start_time": "2025-07-05T17:22:22.552841Z"
    }
   },
   "cell_type": "code",
   "source": [
    "from hungarian import hungarian_algorithm\n",
    "assignment = hungarian_algorithm(remap_distance_matrix).int()\n",
    "assignment.shape, assignment.cpu()"
   ],
   "id": "c456b1e2e47120f1",
   "outputs": [
    {
     "data": {
      "text/plain": [
       "  0%|          | 0/73 [00:00<?, ?it/s]"
      ],
      "application/vnd.jupyter.widget-view+json": {
       "version_major": 2,
       "version_minor": 0,
       "model_id": "47aa855e7abb415ba92b3e41d0819675"
      }
     },
     "metadata": {},
     "output_type": "display_data"
    },
    {
     "name": "stdout",
     "output_type": "stream",
     "text": [
      "stuck with 18/73 non-zero entries\n"
     ]
    },
    {
     "data": {
      "text/plain": [
       "(torch.Size([43, 2]),\n",
       " tensor([[ 0, 34],\n",
       "         [ 4, 38],\n",
       "         [ 7, 31],\n",
       "         [ 9, 47],\n",
       "         [ 8, 48],\n",
       "         [10, 27],\n",
       "         [13, 53],\n",
       "         [14, 59],\n",
       "         [16, 49],\n",
       "         [18,  0],\n",
       "         [22, 12],\n",
       "         [23, 14],\n",
       "         [26, 25],\n",
       "         [25, 26],\n",
       "         [28, 70],\n",
       "         [29, 69],\n",
       "         [30, 71],\n",
       "         [32, 65],\n",
       "         [34, 67],\n",
       "         [36, 66],\n",
       "         [37, 64],\n",
       "         [40, 52],\n",
       "         [48,  6],\n",
       "         [56, 37],\n",
       "         [64,  7],\n",
       "         [65,  4],\n",
       "         [70, 24],\n",
       "         [72, 36],\n",
       "         [12, 50],\n",
       "         [46,  1],\n",
       "         [47, 22],\n",
       "         [51,  3],\n",
       "         [55, 19],\n",
       "         [ 3, 32],\n",
       "         [ 6, 28],\n",
       "         [17, 54],\n",
       "         [19, 15],\n",
       "         [27, 17],\n",
       "         [35, 61],\n",
       "         [61, 39],\n",
       "         [43, 57],\n",
       "         [ 5, 40],\n",
       "         [50,  8]], dtype=torch.int32))"
      ]
     },
     "execution_count": 9,
     "metadata": {},
     "output_type": "execute_result"
    }
   ],
   "execution_count": 9
  },
  {
   "metadata": {
    "ExecuteTime": {
     "end_time": "2025-07-05T17:22:23.476250Z",
     "start_time": "2025-07-05T17:22:23.211227Z"
    }
   },
   "cell_type": "code",
   "source": [
    "next_chunk = [None] * len(original_all_features)\n",
    "for original, arranged in assignment:\n",
    "    print(original, arranged)\n",
    "    try:\n",
    "        #print(arranged, assignment[:, 1], assignment[:, 1].tolist().index(arranged+1))\n",
    "        arranged_f_index = assignment[:, 1].tolist().index(arranged+1)\n",
    "        #print(arranged_f_index)\n",
    "    except ValueError:\n",
    "        continue\n",
    "    next_chunk[original] = assignment[arranged_f_index, 0].item()\n",
    "print(next)\n",
    "\n",
    "#inverse_assignment = torch.argsort(assignment)\n",
    "hungarian_boost = 1 + torch.zeros_like(remap_distance_matrix)\n",
    "for a, b in enumerate(next_chunk):\n",
    "    if b is None:\n",
    "        continue\n",
    "    #print(a, b)\n",
    "    hungarian_boost[a, b] -= 1\n",
    "    #hungarian_boost[b, a] -= 1\n",
    "\n",
    "for a, b in assignment:\n",
    "    #if a == 0:\n",
    "    #    hungarian_boost[:, b] = 100\n",
    "    #    hungarian_boost[b, b] = 0\n",
    "    if b == 0:\n",
    "        hungarian_boost[:, a] = 1\n",
    "    #    #hungarian_boost[a, :] = -100\n",
    "    #    hungarian_boost[a, a] = 0\n",
    "    #    #hungarian_boost[]\n",
    "    #hungarian_boost[b, a] += 0.1\n",
    "hungarian_boost.cpu()\n"
   ],
   "id": "af52514e4579c371",
   "outputs": [
    {
     "name": "stdout",
     "output_type": "stream",
     "text": [
      "tensor(0, device='mps:0', dtype=torch.int32) tensor(34, device='mps:0', dtype=torch.int32)\n",
      "tensor(4, device='mps:0', dtype=torch.int32) tensor(38, device='mps:0', dtype=torch.int32)\n",
      "tensor(7, device='mps:0', dtype=torch.int32) tensor(31, device='mps:0', dtype=torch.int32)\n",
      "tensor(9, device='mps:0', dtype=torch.int32) tensor(47, device='mps:0', dtype=torch.int32)\n",
      "tensor(8, device='mps:0', dtype=torch.int32) tensor(48, device='mps:0', dtype=torch.int32)\n",
      "tensor(10, device='mps:0', dtype=torch.int32) tensor(27, device='mps:0', dtype=torch.int32)\n",
      "tensor(13, device='mps:0', dtype=torch.int32) tensor(53, device='mps:0', dtype=torch.int32)\n",
      "tensor(14, device='mps:0', dtype=torch.int32) tensor(59, device='mps:0', dtype=torch.int32)\n",
      "tensor(16, device='mps:0', dtype=torch.int32) tensor(49, device='mps:0', dtype=torch.int32)\n",
      "tensor(18, device='mps:0', dtype=torch.int32) tensor(0, device='mps:0', dtype=torch.int32)\n",
      "tensor(22, device='mps:0', dtype=torch.int32) tensor(12, device='mps:0', dtype=torch.int32)\n",
      "tensor(23, device='mps:0', dtype=torch.int32) tensor(14, device='mps:0', dtype=torch.int32)\n",
      "tensor(26, device='mps:0', dtype=torch.int32) tensor(25, device='mps:0', dtype=torch.int32)\n",
      "tensor(25, device='mps:0', dtype=torch.int32) tensor(26, device='mps:0', dtype=torch.int32)\n",
      "tensor(28, device='mps:0', dtype=torch.int32) tensor(70, device='mps:0', dtype=torch.int32)\n",
      "tensor(29, device='mps:0', dtype=torch.int32) tensor(69, device='mps:0', dtype=torch.int32)\n",
      "tensor(30, device='mps:0', dtype=torch.int32) tensor(71, device='mps:0', dtype=torch.int32)\n",
      "tensor(32, device='mps:0', dtype=torch.int32) tensor(65, device='mps:0', dtype=torch.int32)\n",
      "tensor(34, device='mps:0', dtype=torch.int32) tensor(67, device='mps:0', dtype=torch.int32)\n",
      "tensor(36, device='mps:0', dtype=torch.int32) tensor(66, device='mps:0', dtype=torch.int32)\n",
      "tensor(37, device='mps:0', dtype=torch.int32) tensor(64, device='mps:0', dtype=torch.int32)\n",
      "tensor(40, device='mps:0', dtype=torch.int32) tensor(52, device='mps:0', dtype=torch.int32)\n",
      "tensor(48, device='mps:0', dtype=torch.int32) tensor(6, device='mps:0', dtype=torch.int32)\n",
      "tensor(56, device='mps:0', dtype=torch.int32) tensor(37, device='mps:0', dtype=torch.int32)\n",
      "tensor(64, device='mps:0', dtype=torch.int32) tensor(7, device='mps:0', dtype=torch.int32)\n",
      "tensor(65, device='mps:0', dtype=torch.int32) tensor(4, device='mps:0', dtype=torch.int32)\n",
      "tensor(70, device='mps:0', dtype=torch.int32) tensor(24, device='mps:0', dtype=torch.int32)\n",
      "tensor(72, device='mps:0', dtype=torch.int32) tensor(36, device='mps:0', dtype=torch.int32)\n",
      "tensor(12, device='mps:0', dtype=torch.int32) tensor(50, device='mps:0', dtype=torch.int32)\n",
      "tensor(46, device='mps:0', dtype=torch.int32) tensor(1, device='mps:0', dtype=torch.int32)\n",
      "tensor(47, device='mps:0', dtype=torch.int32) tensor(22, device='mps:0', dtype=torch.int32)\n",
      "tensor(51, device='mps:0', dtype=torch.int32) tensor(3, device='mps:0', dtype=torch.int32)\n",
      "tensor(55, device='mps:0', dtype=torch.int32) tensor(19, device='mps:0', dtype=torch.int32)\n",
      "tensor(3, device='mps:0', dtype=torch.int32) tensor(32, device='mps:0', dtype=torch.int32)\n",
      "tensor(6, device='mps:0', dtype=torch.int32) tensor(28, device='mps:0', dtype=torch.int32)\n",
      "tensor(17, device='mps:0', dtype=torch.int32) tensor(54, device='mps:0', dtype=torch.int32)\n",
      "tensor(19, device='mps:0', dtype=torch.int32) tensor(15, device='mps:0', dtype=torch.int32)\n",
      "tensor(27, device='mps:0', dtype=torch.int32) tensor(17, device='mps:0', dtype=torch.int32)\n",
      "tensor(35, device='mps:0', dtype=torch.int32) tensor(61, device='mps:0', dtype=torch.int32)\n",
      "tensor(61, device='mps:0', dtype=torch.int32) tensor(39, device='mps:0', dtype=torch.int32)\n",
      "tensor(43, device='mps:0', dtype=torch.int32) tensor(57, device='mps:0', dtype=torch.int32)\n",
      "tensor(5, device='mps:0', dtype=torch.int32) tensor(40, device='mps:0', dtype=torch.int32)\n",
      "tensor(50, device='mps:0', dtype=torch.int32) tensor(8, device='mps:0', dtype=torch.int32)\n",
      "<built-in function next>\n"
     ]
    },
    {
     "data": {
      "text/plain": [
       "tensor([[1., 1., 1.,  ..., 1., 1., 1.],\n",
       "        [1., 1., 1.,  ..., 1., 1., 1.],\n",
       "        [1., 1., 1.,  ..., 1., 1., 1.],\n",
       "        ...,\n",
       "        [1., 1., 1.,  ..., 1., 1., 1.],\n",
       "        [1., 1., 1.,  ..., 1., 1., 1.],\n",
       "        [1., 1., 1.,  ..., 1., 1., 1.]])"
      ]
     },
     "execution_count": 10,
     "metadata": {},
     "output_type": "execute_result"
    }
   ],
   "execution_count": 10
  },
  {
   "metadata": {
    "ExecuteTime": {
     "end_time": "2025-07-05T17:22:26.510157Z",
     "start_time": "2025-07-05T17:22:24.480531Z"
    }
   },
   "cell_type": "code",
   "source": [
    "sort_order = sort_tsp(original_all_features, dist_matrix_offset=hungarian_boost)\n",
    "print(sort_order)"
   ],
   "id": "753f0b309a33b03",
   "outputs": [
    {
     "name": "stdout",
     "output_type": "stream",
     "text": [
      "computing distance matrix\n",
      "computing route\n",
      "tensor([ 0,  1,  2,  3,  4, 61,  5,  9,  8, 16, 12, 40, 13, 17, 45, 41, 14, 42,\n",
      "        39, 35, 37, 32, 36, 34, 38, 33, 27, 71, 53, 69, 25, 10,  6, 11, 24, 52,\n",
      "        68, 26, 70, 54, 55, 21, 49, 65, 67, 23, 19, 47, 18, 46, 20, 48, 64, 50,\n",
      "        66, 22, 51, 44, 15, 43, 30, 28, 29, 31,  7, 57, 59, 58, 62, 60, 56, 63,\n",
      "        72])\n"
     ]
    }
   ],
   "execution_count": 11
  },
  {
   "metadata": {
    "ExecuteTime": {
     "end_time": "2025-07-05T17:22:26.599381Z",
     "start_time": "2025-07-05T17:22:26.576900Z"
    }
   },
   "cell_type": "code",
   "source": [
    "from torch_linear_assignment import batch_linear_assignment\n",
    "assignment = batch_linear_assignment(remap_distance_matrix.unsqueeze(0).cpu())\n",
    "print(assignment)"
   ],
   "id": "1ebdd22d0e7edf1f",
   "outputs": [
    {
     "name": "stdout",
     "output_type": "stream",
     "text": [
      "tensor([[35, 33, 34, 32, 29, 45, 30, 31, 48, 46, 47, 28, 51, 53, 60, 58, 49, 56,\n",
      "          1, 22,  4,  6,  9, 14, 25, 20, 21, 16, 72, 69, 71, 70, 63, 65, 68, 62,\n",
      "         66, 64, 67, 61, 52, 54, 59, 57, 50, 55,  2,  0,  8,  5, 10, 13, 27, 17,\n",
      "         23, 19, 37, 42, 40, 41, 39, 44, 38, 43,  7,  3, 11, 12, 26, 15, 24, 18,\n",
      "         36]])\n"
     ]
    }
   ],
   "execution_count": 12
  },
  {
   "metadata": {},
   "cell_type": "markdown",
   "source": "# Video",
   "id": "183eba1c89470f32"
  },
  {
   "metadata": {
    "ExecuteTime": {
     "end_time": "2025-07-05T17:23:47.684232Z",
     "start_time": "2025-07-05T17:23:47.630060Z"
    }
   },
   "cell_type": "code",
   "source": [
    "from video_chunk_cache import VideoChunkCache\n",
    "from pytorchvideo.data.encoded_video import EncodedVideo\n",
    "from pytorchvideo.data.encoded_video_pyav import EncodedVideoPyAV\n",
    "video_path = '/Users/damian/2.current/clapSlice/outputs/Dua Lipa - Be The One (Official Music Video) (1080p_25fps_H264-128kbit_AAC).mp4'\n",
    "video: EncodedVideoPyAV = EncodedVideo.from_path(video_path)\n"
   ],
   "id": "93ab1302eb4c189c",
   "outputs": [],
   "execution_count": 13
  },
  {
   "metadata": {
    "ExecuteTime": {
     "end_time": "2025-07-05T17:26:21.932Z",
     "start_time": "2025-07-05T17:26:21.904007Z"
    }
   },
   "cell_type": "code",
   "source": [
    "try:\n",
    "    del video_chunk_cache\n",
    "except NameError:\n",
    "    pass\n",
    "video_chunk_cache = VideoChunkCache(video=video, chunk_size_seconds=chunk_size_seconds, max_cache_size=20)\n"
   ],
   "id": "4d5338e18442d157",
   "outputs": [],
   "execution_count": 18
  },
  {
   "metadata": {
    "ExecuteTime": {
     "end_time": "2025-07-05T17:26:23.109367Z",
     "start_time": "2025-07-05T17:26:23.086942Z"
    }
   },
   "cell_type": "code",
   "source": "float(video.duration) / chunk_size_seconds",
   "id": "dc73e9415e7af83e",
   "outputs": [
    {
     "data": {
      "text/plain": [
       "74.48042328042328"
      ]
     },
     "execution_count": 19,
     "metadata": {},
     "output_type": "execute_result"
    }
   ],
   "execution_count": 19
  },
  {
   "metadata": {
    "ExecuteTime": {
     "end_time": "2025-07-05T17:26:23.679377Z",
     "start_time": "2025-07-05T17:26:23.651723Z"
    }
   },
   "cell_type": "code",
   "source": [
    "from chunk_smearer import get_smear_source_list\n",
    "from video_builder import VideoWriter\n",
    "\n",
    "inverse_assignment = torch.argsort(assignment[0])\n",
    "\n",
    "all_chunks_sources = get_smear_source_list(len(assignment[0]),\n",
    "                                sort_order=inverse_assignment,\n",
    "                                smear_width=5,\n",
    "                                spread=0)\n",
    "print(all_chunks_sources)"
   ],
   "id": "12de3484d36c06dc",
   "outputs": [
    {
     "name": "stdout",
     "output_type": "stream",
     "text": [
      "[47, 18, 46, 65, 20, 49, 21, 64, 48, 22, 50, 66, 67, 51, 23, 69, 27, 53, 71, 55, 25, 26, 19, 54, 70, 24, 68, 52, 11, 4, 6, 7, 3, 1, 2, 0, 72, 56, 62, 60, 58, 59, 57, 63, 61, 5, 9, 10, 8, 16, 44, 12, 40, 13, 41, 45, 17, 43, 15, 42, 14, 39, 35, 32, 37, 33, 36, 38, 34, 29, 31, 30, 28]\n",
      "[[Smear(18 * 0.18090170621871948), Smear(20 * 0.019098300486803055), Smear(28 * 0.1809016913175583), Smear(29 * 0.019098276272416115), Smear(30 * 0.13090170919895172), Smear(31 * 0.06909828633069992), Smear(34 * 0.0), Smear(46 * 0.13090170919895172), Smear(47 * 0.20000000298023224), Smear(49 * 0.0), Smear(65 * 0.06909830868244171)], [Smear(18 * 0.20000000298023224), Smear(20 * 0.06909830868244171), Smear(21 * 0.0), Smear(28 * 0.13090170919895172), Smear(29 * 0.0), Smear(30 * 0.06909828633069992), Smear(31 * 0.019098276272416115), Smear(46 * 0.18090170621871948), Smear(47 * 0.1809016913175583), Smear(49 * 0.019098300486803055), Smear(65 * 0.13090170919895172)], [Smear(18 * 0.1809016913175583), Smear(20 * 0.13090170919895172), Smear(21 * 0.019098300486803055), Smear(28 * 0.06909828633069992), Smear(30 * 0.019098276272416115), Smear(31 * 0.0), Smear(46 * 0.20000000298023224), Smear(47 * 0.13090170919895172), Smear(49 * 0.06909830868244171), Smear(64 * 0.0), Smear(65 * 0.18090170621871948)], [Smear(18 * 0.13090170919895172), Smear(20 * 0.18090170621871948), Smear(21 * 0.06909830868244171), Smear(28 * 0.019098276272416115), Smear(30 * 0.0), Smear(46 * 0.1809016913175583), Smear(47 * 0.06909828633069992), Smear(48 * 0.0), Smear(49 * 0.13090170919895172), Smear(64 * 0.019098300486803055), Smear(65 * 0.20000000298023224)], [Smear(18 * 0.06909828633069992), Smear(20 * 0.20000000298023224), Smear(21 * 0.13090170919895172), Smear(22 * 0.0), Smear(28 * 0.0), Smear(46 * 0.13090170919895172), Smear(47 * 0.019098276272416115), Smear(48 * 0.019098300486803055), Smear(49 * 0.18090170621871948), Smear(64 * 0.06909830868244171), Smear(65 * 0.1809016913175583)], [Smear(18 * 0.019098276272416115), Smear(20 * 0.1809016913175583), Smear(21 * 0.18090170621871948), Smear(22 * 0.019098300486803055), Smear(46 * 0.06909828633069992), Smear(47 * 0.0), Smear(48 * 0.06909830868244171), Smear(49 * 0.20000000298023224), Smear(50 * 0.0), Smear(64 * 0.13090170919895172), Smear(65 * 0.13090170919895172)], [Smear(18 * 0.0), Smear(20 * 0.13090170919895172), Smear(21 * 0.20000000298023224), Smear(22 * 0.06909830868244171), Smear(46 * 0.019098276272416115), Smear(48 * 0.13090170919895172), Smear(49 * 0.1809016913175583), Smear(50 * 0.019098300486803055), Smear(64 * 0.18090170621871948), Smear(65 * 0.06909828633069992), Smear(66 * 0.0)], [Smear(20 * 0.06909828633069992), Smear(21 * 0.1809016913175583), Smear(22 * 0.13090170919895172), Smear(46 * 0.0), Smear(48 * 0.18090170621871948), Smear(49 * 0.13090170919895172), Smear(50 * 0.06909830868244171), Smear(64 * 0.20000000298023224), Smear(65 * 0.019098276272416115), Smear(66 * 0.019098300486803055), Smear(67 * 0.0)], [Smear(20 * 0.019098276272416115), Smear(21 * 0.13090170919895172), Smear(22 * 0.18090170621871948), Smear(48 * 0.20000000298023224), Smear(49 * 0.06909828633069992), Smear(50 * 0.13090170919895172), Smear(51 * 0.0), Smear(64 * 0.1809016913175583), Smear(65 * 0.0), Smear(66 * 0.06909830868244171), Smear(67 * 0.019098300486803055)], [Smear(20 * 0.0), Smear(21 * 0.06909828633069992), Smear(22 * 0.20000000298023224), Smear(23 * 0.0), Smear(48 * 0.1809016913175583), Smear(49 * 0.019098276272416115), Smear(50 * 0.18090170621871948), Smear(51 * 0.019098300486803055), Smear(64 * 0.13090170919895172), Smear(66 * 0.13090170919895172), Smear(67 * 0.06909830868244171)], [Smear(21 * 0.019098276272416115), Smear(22 * 0.1809016913175583), Smear(23 * 0.019098300486803055), Smear(48 * 0.13090170919895172), Smear(49 * 0.0), Smear(50 * 0.20000000298023224), Smear(51 * 0.06909830868244171), Smear(64 * 0.06909828633069992), Smear(66 * 0.18090170621871948), Smear(67 * 0.13090170919895172), Smear(69 * 0.0)], [Smear(21 * 0.0), Smear(22 * 0.13090170919895172), Smear(23 * 0.06909830868244171), Smear(27 * 0.0), Smear(48 * 0.06909828633069992), Smear(50 * 0.1809016913175583), Smear(51 * 0.13090170919895172), Smear(64 * 0.019098276272416115), Smear(66 * 0.20000000298023224), Smear(67 * 0.18090170621871948), Smear(69 * 0.019098300486803055)], [Smear(22 * 0.06909828633069992), Smear(23 * 0.13090170919895172), Smear(27 * 0.019098300486803055), Smear(48 * 0.019098276272416115), Smear(50 * 0.13090170919895172), Smear(51 * 0.18090170621871948), Smear(53 * 0.0), Smear(64 * 0.0), Smear(66 * 0.1809016913175583), Smear(67 * 0.20000000298023224), Smear(69 * 0.06909830868244171)], [Smear(22 * 0.019098276272416115), Smear(23 * 0.18090170621871948), Smear(27 * 0.06909830868244171), Smear(48 * 0.0), Smear(50 * 0.06909828633069992), Smear(51 * 0.20000000298023224), Smear(53 * 0.019098300486803055), Smear(66 * 0.13090170919895172), Smear(67 * 0.1809016913175583), Smear(69 * 0.13090170919895172), Smear(71 * 0.0)], [Smear(22 * 0.0), Smear(23 * 0.20000000298023224), Smear(27 * 0.13090170919895172), Smear(50 * 0.019098276272416115), Smear(51 * 0.1809016913175583), Smear(53 * 0.06909830868244171), Smear(55 * 0.0), Smear(66 * 0.06909828633069992), Smear(67 * 0.13090170919895172), Smear(69 * 0.18090170621871948), Smear(71 * 0.019098300486803055)], [Smear(23 * 0.1809016913175583), Smear(25 * 0.0), Smear(27 * 0.18090170621871948), Smear(50 * 0.0), Smear(51 * 0.13090170919895172), Smear(53 * 0.13090170919895172), Smear(55 * 0.019098300486803055), Smear(66 * 0.019098276272416115), Smear(67 * 0.06909828633069992), Smear(69 * 0.20000000298023224), Smear(71 * 0.06909830868244171)], [Smear(23 * 0.13090170919895172), Smear(25 * 0.019098300486803055), Smear(26 * 0.0), Smear(27 * 0.20000000298023224), Smear(51 * 0.06909828633069992), Smear(53 * 0.18090170621871948), Smear(55 * 0.06909830868244171), Smear(66 * 0.0), Smear(67 * 0.019098276272416115), Smear(69 * 0.1809016913175583), Smear(71 * 0.13090170919895172)], [Smear(19 * 0.0), Smear(23 * 0.06909828633069992), Smear(25 * 0.06909830868244171), Smear(26 * 0.019098300486803055), Smear(27 * 0.1809016913175583), Smear(51 * 0.019098276272416115), Smear(53 * 0.20000000298023224), Smear(55 * 0.13090170919895172), Smear(67 * 0.0), Smear(69 * 0.13090170919895172), Smear(71 * 0.18090170621871948)], [Smear(19 * 0.019098300486803055), Smear(23 * 0.019098276272416115), Smear(25 * 0.13090170919895172), Smear(26 * 0.06909830868244171), Smear(27 * 0.13090170919895172), Smear(51 * 0.0), Smear(53 * 0.1809016913175583), Smear(54 * 0.0), Smear(55 * 0.18090170621871948), Smear(69 * 0.06909828633069992), Smear(71 * 0.20000000298023224)], [Smear(19 * 0.06909830868244171), Smear(23 * 0.0), Smear(25 * 0.18090170621871948), Smear(26 * 0.13090170919895172), Smear(27 * 0.06909828633069992), Smear(53 * 0.13090170919895172), Smear(54 * 0.019098300486803055), Smear(55 * 0.20000000298023224), Smear(69 * 0.019098276272416115), Smear(70 * 0.0), Smear(71 * 0.1809016913175583)], [Smear(19 * 0.13090170919895172), Smear(24 * 0.0), Smear(25 * 0.20000000298023224), Smear(26 * 0.18090170621871948), Smear(27 * 0.019098276272416115), Smear(53 * 0.06909828633069992), Smear(54 * 0.06909830868244171), Smear(55 * 0.1809016913175583), Smear(69 * 0.0), Smear(70 * 0.019098300486803055), Smear(71 * 0.13090170919895172)], [Smear(19 * 0.18090170621871948), Smear(24 * 0.019098300486803055), Smear(25 * 0.1809016913175583), Smear(26 * 0.20000000298023224), Smear(27 * 0.0), Smear(53 * 0.019098276272416115), Smear(54 * 0.13090170919895172), Smear(55 * 0.13090170919895172), Smear(68 * 0.0), Smear(70 * 0.06909830868244171), Smear(71 * 0.06909828633069992)], [Smear(19 * 0.20000000298023224), Smear(24 * 0.06909830868244171), Smear(25 * 0.13090170919895172), Smear(26 * 0.1809016913175583), Smear(52 * 0.0), Smear(53 * 0.0), Smear(54 * 0.18090170621871948), Smear(55 * 0.06909828633069992), Smear(68 * 0.019098300486803055), Smear(70 * 0.13090170919895172), Smear(71 * 0.019098276272416115)], [Smear(11 * 0.0), Smear(19 * 0.1809016913175583), Smear(24 * 0.13090170919895172), Smear(25 * 0.06909828633069992), Smear(26 * 0.13090170919895172), Smear(52 * 0.019098300486803055), Smear(54 * 0.20000000298023224), Smear(55 * 0.019098276272416115), Smear(68 * 0.06909830868244171), Smear(70 * 0.18090170621871948), Smear(71 * 0.0)], [Smear(4 * 0.0), Smear(11 * 0.019098300486803055), Smear(19 * 0.13090170919895172), Smear(24 * 0.18090170621871948), Smear(25 * 0.019098276272416115), Smear(26 * 0.06909828633069992), Smear(52 * 0.06909830868244171), Smear(54 * 0.1809016913175583), Smear(55 * 0.0), Smear(68 * 0.13090170919895172), Smear(70 * 0.20000000298023224)], [Smear(4 * 0.019098300486803055), Smear(6 * 0.0), Smear(11 * 0.06909830868244171), Smear(19 * 0.06909828633069992), Smear(24 * 0.20000000298023224), Smear(25 * 0.0), Smear(26 * 0.019098276272416115), Smear(52 * 0.13090170919895172), Smear(54 * 0.13090170919895172), Smear(68 * 0.18090170621871948), Smear(70 * 0.1809016913175583)], [Smear(4 * 0.06909830868244171), Smear(6 * 0.019098300486803055), Smear(7 * 0.0), Smear(11 * 0.13090170919895172), Smear(19 * 0.019098276272416115), Smear(24 * 0.1809016913175583), Smear(26 * 0.0), Smear(52 * 0.18090170621871948), Smear(54 * 0.06909828633069992), Smear(68 * 0.20000000298023224), Smear(70 * 0.13090170919895172)], [Smear(3 * 0.0), Smear(4 * 0.13090170919895172), Smear(6 * 0.06909830868244171), Smear(7 * 0.019098300486803055), Smear(11 * 0.18090170621871948), Smear(19 * 0.0), Smear(24 * 0.13090170919895172), Smear(52 * 0.20000000298023224), Smear(54 * 0.019098276272416115), Smear(68 * 0.1809016913175583), Smear(70 * 0.06909828633069992)], [Smear(1 * 0.0), Smear(3 * 0.019098300486803055), Smear(4 * 0.18090170621871948), Smear(6 * 0.13090170919895172), Smear(7 * 0.06909830868244171), Smear(11 * 0.20000000298023224), Smear(24 * 0.06909828633069992), Smear(52 * 0.1809016913175583), Smear(54 * 0.0), Smear(68 * 0.13090170919895172), Smear(70 * 0.019098276272416115)], [Smear(1 * 0.019098300486803055), Smear(2 * 0.0), Smear(3 * 0.06909830868244171), Smear(4 * 0.20000000298023224), Smear(6 * 0.18090170621871948), Smear(7 * 0.13090170919895172), Smear(11 * 0.1809016913175583), Smear(24 * 0.019098276272416115), Smear(52 * 0.13090170919895172), Smear(68 * 0.06909828633069992), Smear(70 * 0.0)], [Smear(0 * 0.0), Smear(1 * 0.06909830868244171), Smear(2 * 0.019098300486803055), Smear(3 * 0.13090170919895172), Smear(4 * 0.1809016913175583), Smear(6 * 0.20000000298023224), Smear(7 * 0.18090170621871948), Smear(11 * 0.13090170919895172), Smear(24 * 0.0), Smear(52 * 0.06909828633069992), Smear(68 * 0.019098276272416115)], [Smear(0 * 0.019098300486803055), Smear(1 * 0.13090170919895172), Smear(2 * 0.06909830868244171), Smear(3 * 0.18090170621871948), Smear(4 * 0.13090170919895172), Smear(6 * 0.1809016913175583), Smear(7 * 0.20000000298023224), Smear(11 * 0.06909828633069992), Smear(52 * 0.019098276272416115), Smear(68 * 0.0), Smear(72 * 0.0)], [Smear(0 * 0.06909830868244171), Smear(1 * 0.18090170621871948), Smear(2 * 0.13090170919895172), Smear(3 * 0.20000000298023224), Smear(4 * 0.06909828633069992), Smear(6 * 0.13090170919895172), Smear(7 * 0.1809016913175583), Smear(11 * 0.019098276272416115), Smear(52 * 0.0), Smear(56 * 0.0), Smear(72 * 0.019098300486803055)], [Smear(0 * 0.13090170919895172), Smear(1 * 0.20000000298023224), Smear(2 * 0.18090170621871948), Smear(3 * 0.1809016913175583), Smear(4 * 0.019098276272416115), Smear(6 * 0.06909828633069992), Smear(7 * 0.13090170919895172), Smear(11 * 0.0), Smear(56 * 0.019098300486803055), Smear(62 * 0.0), Smear(72 * 0.06909830868244171)], [Smear(0 * 0.18090170621871948), Smear(1 * 0.1809016913175583), Smear(2 * 0.20000000298023224), Smear(3 * 0.13090170919895172), Smear(4 * 0.0), Smear(6 * 0.019098276272416115), Smear(7 * 0.06909828633069992), Smear(56 * 0.06909830868244171), Smear(60 * 0.0), Smear(62 * 0.019098300486803055), Smear(72 * 0.13090170919895172)], [Smear(0 * 0.20000000298023224), Smear(1 * 0.13090170919895172), Smear(2 * 0.1809016913175583), Smear(3 * 0.06909828633069992), Smear(6 * 0.0), Smear(7 * 0.019098276272416115), Smear(56 * 0.13090170919895172), Smear(58 * 0.0), Smear(60 * 0.019098300486803055), Smear(62 * 0.06909830868244171), Smear(72 * 0.18090170621871948)], [Smear(0 * 0.1809016913175583), Smear(1 * 0.06909828633069992), Smear(2 * 0.13090170919895172), Smear(3 * 0.019098276272416115), Smear(7 * 0.0), Smear(56 * 0.18090170621871948), Smear(58 * 0.019098300486803055), Smear(59 * 0.0), Smear(60 * 0.06909830868244171), Smear(62 * 0.13090170919895172), Smear(72 * 0.20000000298023224)], [Smear(0 * 0.13090170919895172), Smear(1 * 0.019098276272416115), Smear(2 * 0.06909828633069992), Smear(3 * 0.0), Smear(56 * 0.20000000298023224), Smear(57 * 0.0), Smear(58 * 0.06909830868244171), Smear(59 * 0.019098300486803055), Smear(60 * 0.13090170919895172), Smear(62 * 0.18090170621871948), Smear(72 * 0.1809016913175583)], [Smear(0 * 0.06909828633069992), Smear(1 * 0.0), Smear(2 * 0.019098276272416115), Smear(56 * 0.1809016913175583), Smear(57 * 0.019098300486803055), Smear(58 * 0.13090170919895172), Smear(59 * 0.06909830868244171), Smear(60 * 0.18090170621871948), Smear(62 * 0.20000000298023224), Smear(63 * 0.0), Smear(72 * 0.13090170919895172)], [Smear(0 * 0.019098276272416115), Smear(2 * 0.0), Smear(56 * 0.13090170919895172), Smear(57 * 0.06909830868244171), Smear(58 * 0.18090170621871948), Smear(59 * 0.13090170919895172), Smear(60 * 0.20000000298023224), Smear(61 * 0.0), Smear(62 * 0.1809016913175583), Smear(63 * 0.019098300486803055), Smear(72 * 0.06909828633069992)], [Smear(0 * 0.0), Smear(5 * 0.0), Smear(56 * 0.06909828633069992), Smear(57 * 0.13090170919895172), Smear(58 * 0.20000000298023224), Smear(59 * 0.18090170621871948), Smear(60 * 0.1809016913175583), Smear(61 * 0.019098300486803055), Smear(62 * 0.13090170919895172), Smear(63 * 0.06909830868244171), Smear(72 * 0.019098276272416115)], [Smear(5 * 0.019098300486803055), Smear(9 * 0.0), Smear(56 * 0.019098276272416115), Smear(57 * 0.18090170621871948), Smear(58 * 0.1809016913175583), Smear(59 * 0.20000000298023224), Smear(60 * 0.13090170919895172), Smear(61 * 0.06909830868244171), Smear(62 * 0.06909828633069992), Smear(63 * 0.13090170919895172), Smear(72 * 0.0)], [Smear(5 * 0.06909830868244171), Smear(9 * 0.019098300486803055), Smear(10 * 0.0), Smear(56 * 0.0), Smear(57 * 0.20000000298023224), Smear(58 * 0.13090170919895172), Smear(59 * 0.1809016913175583), Smear(60 * 0.06909828633069992), Smear(61 * 0.13090170919895172), Smear(62 * 0.019098276272416115), Smear(63 * 0.18090170621871948)], [Smear(5 * 0.13090170919895172), Smear(8 * 0.0), Smear(9 * 0.06909830868244171), Smear(10 * 0.019098300486803055), Smear(57 * 0.1809016913175583), Smear(58 * 0.06909828633069992), Smear(59 * 0.13090170919895172), Smear(60 * 0.019098276272416115), Smear(61 * 0.18090170621871948), Smear(62 * 0.0), Smear(63 * 0.20000000298023224)], [Smear(5 * 0.18090170621871948), Smear(8 * 0.019098300486803055), Smear(9 * 0.13090170919895172), Smear(10 * 0.06909830868244171), Smear(16 * 0.0), Smear(57 * 0.13090170919895172), Smear(58 * 0.019098276272416115), Smear(59 * 0.06909828633069992), Smear(60 * 0.0), Smear(61 * 0.20000000298023224), Smear(63 * 0.1809016913175583)], [Smear(5 * 0.20000000298023224), Smear(8 * 0.06909830868244171), Smear(9 * 0.18090170621871948), Smear(10 * 0.13090170919895172), Smear(16 * 0.019098300486803055), Smear(44 * 0.0), Smear(57 * 0.06909828633069992), Smear(58 * 0.0), Smear(59 * 0.019098276272416115), Smear(61 * 0.1809016913175583), Smear(63 * 0.13090170919895172)], [Smear(5 * 0.1809016913175583), Smear(8 * 0.13090170919895172), Smear(9 * 0.20000000298023224), Smear(10 * 0.18090170621871948), Smear(12 * 0.0), Smear(16 * 0.06909830868244171), Smear(44 * 0.019098300486803055), Smear(57 * 0.019098276272416115), Smear(59 * 0.0), Smear(61 * 0.13090170919895172), Smear(63 * 0.06909828633069992)], [Smear(5 * 0.13090170919895172), Smear(8 * 0.18090170621871948), Smear(9 * 0.1809016913175583), Smear(10 * 0.20000000298023224), Smear(12 * 0.019098300486803055), Smear(16 * 0.13090170919895172), Smear(40 * 0.0), Smear(44 * 0.06909830868244171), Smear(57 * 0.0), Smear(61 * 0.06909828633069992), Smear(63 * 0.019098276272416115)], [Smear(5 * 0.06909828633069992), Smear(8 * 0.20000000298023224), Smear(9 * 0.13090170919895172), Smear(10 * 0.1809016913175583), Smear(12 * 0.06909830868244171), Smear(13 * 0.0), Smear(16 * 0.18090170621871948), Smear(40 * 0.019098300486803055), Smear(44 * 0.13090170919895172), Smear(61 * 0.019098276272416115), Smear(63 * 0.0)], [Smear(5 * 0.019098276272416115), Smear(8 * 0.1809016913175583), Smear(9 * 0.06909828633069992), Smear(10 * 0.13090170919895172), Smear(12 * 0.13090170919895172), Smear(13 * 0.019098300486803055), Smear(16 * 0.20000000298023224), Smear(40 * 0.06909830868244171), Smear(41 * 0.0), Smear(44 * 0.18090170621871948), Smear(61 * 0.0)], [Smear(5 * 0.0), Smear(8 * 0.13090170919895172), Smear(9 * 0.019098276272416115), Smear(10 * 0.06909828633069992), Smear(12 * 0.18090170621871948), Smear(13 * 0.06909830868244171), Smear(16 * 0.1809016913175583), Smear(40 * 0.13090170919895172), Smear(41 * 0.019098300486803055), Smear(44 * 0.20000000298023224), Smear(45 * 0.0)], [Smear(8 * 0.06909828633069992), Smear(9 * 0.0), Smear(10 * 0.019098276272416115), Smear(12 * 0.20000000298023224), Smear(13 * 0.13090170919895172), Smear(16 * 0.13090170919895172), Smear(17 * 0.0), Smear(40 * 0.18090170621871948), Smear(41 * 0.06909830868244171), Smear(44 * 0.1809016913175583), Smear(45 * 0.019098300486803055)], [Smear(8 * 0.019098276272416115), Smear(10 * 0.0), Smear(12 * 0.1809016913175583), Smear(13 * 0.18090170621871948), Smear(16 * 0.06909828633069992), Smear(17 * 0.019098300486803055), Smear(40 * 0.20000000298023224), Smear(41 * 0.13090170919895172), Smear(43 * 0.0), Smear(44 * 0.13090170919895172), Smear(45 * 0.06909830868244171)], [Smear(8 * 0.0), Smear(12 * 0.13090170919895172), Smear(13 * 0.20000000298023224), Smear(15 * 0.0), Smear(16 * 0.019098276272416115), Smear(17 * 0.06909830868244171), Smear(40 * 0.1809016913175583), Smear(41 * 0.18090170621871948), Smear(43 * 0.019098300486803055), Smear(44 * 0.06909828633069992), Smear(45 * 0.13090170919895172)], [Smear(12 * 0.06909828633069992), Smear(13 * 0.1809016913175583), Smear(15 * 0.019098300486803055), Smear(16 * 0.0), Smear(17 * 0.13090170919895172), Smear(40 * 0.13090170919895172), Smear(41 * 0.20000000298023224), Smear(42 * 0.0), Smear(43 * 0.06909830868244171), Smear(44 * 0.019098276272416115), Smear(45 * 0.18090170621871948)], [Smear(12 * 0.019098276272416115), Smear(13 * 0.13090170919895172), Smear(14 * 0.0), Smear(15 * 0.06909830868244171), Smear(17 * 0.18090170621871948), Smear(40 * 0.06909828633069992), Smear(41 * 0.1809016913175583), Smear(42 * 0.019098300486803055), Smear(43 * 0.13090170919895172), Smear(44 * 0.0), Smear(45 * 0.20000000298023224)], [Smear(12 * 0.0), Smear(13 * 0.06909828633069992), Smear(14 * 0.019098300486803055), Smear(15 * 0.13090170919895172), Smear(17 * 0.20000000298023224), Smear(39 * 0.0), Smear(40 * 0.019098276272416115), Smear(41 * 0.13090170919895172), Smear(42 * 0.06909830868244171), Smear(43 * 0.18090170621871948), Smear(45 * 0.1809016913175583)], [Smear(13 * 0.019098276272416115), Smear(14 * 0.06909830868244171), Smear(15 * 0.18090170621871948), Smear(17 * 0.1809016913175583), Smear(35 * 0.0), Smear(39 * 0.019098300486803055), Smear(40 * 0.0), Smear(41 * 0.06909828633069992), Smear(42 * 0.13090170919895172), Smear(43 * 0.20000000298023224), Smear(45 * 0.13090170919895172)], [Smear(13 * 0.0), Smear(14 * 0.13090170919895172), Smear(15 * 0.20000000298023224), Smear(17 * 0.13090170919895172), Smear(32 * 0.0), Smear(35 * 0.019098300486803055), Smear(39 * 0.06909830868244171), Smear(41 * 0.019098276272416115), Smear(42 * 0.18090170621871948), Smear(43 * 0.1809016913175583), Smear(45 * 0.06909828633069992)], [Smear(14 * 0.18090170621871948), Smear(15 * 0.1809016913175583), Smear(17 * 0.06909828633069992), Smear(32 * 0.019098300486803055), Smear(35 * 0.06909830868244171), Smear(37 * 0.0), Smear(39 * 0.13090170919895172), Smear(41 * 0.0), Smear(42 * 0.20000000298023224), Smear(43 * 0.13090170919895172), Smear(45 * 0.019098276272416115)], [Smear(14 * 0.20000000298023224), Smear(15 * 0.13090170919895172), Smear(17 * 0.019098276272416115), Smear(32 * 0.06909830868244171), Smear(33 * 0.0), Smear(35 * 0.13090170919895172), Smear(37 * 0.019098300486803055), Smear(39 * 0.18090170621871948), Smear(42 * 0.1809016913175583), Smear(43 * 0.06909828633069992), Smear(45 * 0.0)], [Smear(14 * 0.1809016913175583), Smear(15 * 0.06909828633069992), Smear(17 * 0.0), Smear(32 * 0.13090170919895172), Smear(33 * 0.019098300486803055), Smear(35 * 0.18090170621871948), Smear(36 * 0.0), Smear(37 * 0.06909830868244171), Smear(39 * 0.20000000298023224), Smear(42 * 0.13090170919895172), Smear(43 * 0.019098276272416115)], [Smear(14 * 0.13090170919895172), Smear(15 * 0.019098276272416115), Smear(32 * 0.18090170621871948), Smear(33 * 0.06909830868244171), Smear(35 * 0.20000000298023224), Smear(36 * 0.019098300486803055), Smear(37 * 0.13090170919895172), Smear(38 * 0.0), Smear(39 * 0.1809016913175583), Smear(42 * 0.06909828633069992), Smear(43 * 0.0)], [Smear(14 * 0.06909828633069992), Smear(15 * 0.0), Smear(32 * 0.20000000298023224), Smear(33 * 0.13090170919895172), Smear(34 * 0.0), Smear(35 * 0.1809016913175583), Smear(36 * 0.06909830868244171), Smear(37 * 0.18090170621871948), Smear(38 * 0.019098300486803055), Smear(39 * 0.13090170919895172), Smear(42 * 0.019098276272416115)], [Smear(14 * 0.019098276272416115), Smear(29 * 0.0), Smear(32 * 0.1809016913175583), Smear(33 * 0.18090170621871948), Smear(34 * 0.019098300486803055), Smear(35 * 0.13090170919895172), Smear(36 * 0.13090170919895172), Smear(37 * 0.20000000298023224), Smear(38 * 0.06909830868244171), Smear(39 * 0.06909828633069992), Smear(42 * 0.0)], [Smear(14 * 0.0), Smear(29 * 0.019098300486803055), Smear(31 * 0.0), Smear(32 * 0.13090170919895172), Smear(33 * 0.20000000298023224), Smear(34 * 0.06909830868244171), Smear(35 * 0.06909828633069992), Smear(36 * 0.18090170621871948), Smear(37 * 0.1809016913175583), Smear(38 * 0.13090170919895172), Smear(39 * 0.019098276272416115)], [Smear(29 * 0.06909830868244171), Smear(30 * 0.0), Smear(31 * 0.019098300486803055), Smear(32 * 0.06909828633069992), Smear(33 * 0.1809016913175583), Smear(34 * 0.13090170919895172), Smear(35 * 0.019098276272416115), Smear(36 * 0.20000000298023224), Smear(37 * 0.13090170919895172), Smear(38 * 0.18090170621871948), Smear(39 * 0.0)], [Smear(28 * 0.0), Smear(29 * 0.13090170919895172), Smear(30 * 0.019098300486803055), Smear(31 * 0.06909830868244171), Smear(32 * 0.019098276272416115), Smear(33 * 0.13090170919895172), Smear(34 * 0.18090170621871948), Smear(35 * 0.0), Smear(36 * 0.1809016913175583), Smear(37 * 0.06909828633069992), Smear(38 * 0.20000000298023224)], [Smear(28 * 0.019098300486803055), Smear(29 * 0.18090170621871948), Smear(30 * 0.06909830868244171), Smear(31 * 0.13090170919895172), Smear(32 * 0.0), Smear(33 * 0.06909828633069992), Smear(34 * 0.20000000298023224), Smear(36 * 0.13090170919895172), Smear(37 * 0.019098276272416115), Smear(38 * 0.1809016913175583), Smear(47 * 0.0)], [Smear(18 * 0.0), Smear(28 * 0.06909830868244171), Smear(29 * 0.20000000298023224), Smear(30 * 0.13090170919895172), Smear(31 * 0.18090170621871948), Smear(33 * 0.019098276272416115), Smear(34 * 0.1809016913175583), Smear(36 * 0.06909828633069992), Smear(37 * 0.0), Smear(38 * 0.13090170919895172), Smear(47 * 0.019098300486803055)], [Smear(18 * 0.019098300486803055), Smear(28 * 0.13090170919895172), Smear(29 * 0.1809016913175583), Smear(30 * 0.18090170621871948), Smear(31 * 0.20000000298023224), Smear(33 * 0.0), Smear(34 * 0.13090170919895172), Smear(36 * 0.019098276272416115), Smear(38 * 0.06909828633069992), Smear(46 * 0.0), Smear(47 * 0.06909830868244171)], [Smear(18 * 0.06909830868244171), Smear(28 * 0.18090170621871948), Smear(29 * 0.13090170919895172), Smear(30 * 0.20000000298023224), Smear(31 * 0.1809016913175583), Smear(34 * 0.06909828633069992), Smear(36 * 0.0), Smear(38 * 0.019098276272416115), Smear(46 * 0.019098300486803055), Smear(47 * 0.13090170919895172), Smear(65 * 0.0)], [Smear(18 * 0.13090170919895172), Smear(20 * 0.0), Smear(28 * 0.20000000298023224), Smear(29 * 0.06909828633069992), Smear(30 * 0.1809016913175583), Smear(31 * 0.13090170919895172), Smear(34 * 0.019098276272416115), Smear(38 * 0.0), Smear(46 * 0.06909830868244171), Smear(47 * 0.18090170621871948), Smear(65 * 0.019098300486803055)]]\n"
     ]
    }
   ],
   "execution_count": 20
  },
  {
   "metadata": {
    "ExecuteTime": {
     "end_time": "2025-07-05T17:40:13.308811Z",
     "start_time": "2025-07-05T17:28:42.594192Z"
    }
   },
   "cell_type": "code",
   "source": [
    "from video_builder import add_frames_to_output\n",
    "\n",
    "video_writer = VideoWriter(output_path = filename + '.mp4',\n",
    "                           fps=25,\n",
    "                           width=1920,\n",
    "                           height=1080)\n",
    "\n",
    "previous_source_indices = set()\n",
    "max_chunks_to_write = None\n",
    "for output_chunk_index, chunk_sources in enumerate(tqdm(all_chunks_sources)):\n",
    "    this_source_indices = {sd.source_chunk_index for sd in chunk_sources}\n",
    "    handle_first = previous_source_indices.intersection(this_source_indices)\n",
    "    handle_next = this_source_indices.difference(previous_source_indices)\n",
    "    # todo: priority\n",
    "    output_frames = None\n",
    "    for source_index in tqdm(list(sorted(handle_first) + sorted(handle_next)), leave=False):\n",
    "        smear_details = next(sd for sd in chunk_sources\n",
    "                          if sd.source_chunk_index == source_index)\n",
    "        chunk = video_chunk_cache.get_chunk(source_index)\n",
    "        output_frames = add_frames_to_output(output_frames, chunk, smear_details.amplitude)\n",
    "\n",
    "    video_writer.append_frames(output_frames)\n",
    "\n",
    "    if max_chunks_to_write is not None and output_chunk_index >= max_chunks_to_write-1:\n",
    "        break\n",
    "\n",
    "video_writer.close()\n"
   ],
   "id": "9100f81cdcfb2ac5",
   "outputs": [
    {
     "data": {
      "text/plain": [
       "  0%|          | 0/73 [00:00<?, ?it/s]"
      ],
      "application/vnd.jupyter.widget-view+json": {
       "version_major": 2,
       "version_minor": 0,
       "model_id": "f2e29ae308b34cfa810f22370cceedb4"
      }
     },
     "metadata": {},
     "output_type": "display_data"
    },
    {
     "data": {
      "text/plain": [
       "  0%|          | 0/11 [00:00<?, ?it/s]"
      ],
      "application/vnd.jupyter.widget-view+json": {
       "version_major": 2,
       "version_minor": 0,
       "model_id": "da272b3d81ce451da47c522cddeb3caf"
      }
     },
     "metadata": {},
     "output_type": "display_data"
    },
    {
     "data": {
      "text/plain": [
       "  0%|          | 0/69 [00:00<?, ?it/s]"
      ],
      "application/vnd.jupyter.widget-view+json": {
       "version_major": 2,
       "version_minor": 0,
       "model_id": "98c8d95c57504e6fa92a276c928c57d5"
      }
     },
     "metadata": {},
     "output_type": "display_data"
    },
    {
     "data": {
      "text/plain": [
       "  0%|          | 0/11 [00:00<?, ?it/s]"
      ],
      "application/vnd.jupyter.widget-view+json": {
       "version_major": 2,
       "version_minor": 0,
       "model_id": "c682d8b2eece4a30b95d772320109ae0"
      }
     },
     "metadata": {},
     "output_type": "display_data"
    },
    {
     "data": {
      "text/plain": [
       "  0%|          | 0/69 [00:00<?, ?it/s]"
      ],
      "application/vnd.jupyter.widget-view+json": {
       "version_major": 2,
       "version_minor": 0,
       "model_id": "b040dae1002c49b9a7cf7e81f9eecc78"
      }
     },
     "metadata": {},
     "output_type": "display_data"
    },
    {
     "data": {
      "text/plain": [
       "  0%|          | 0/11 [00:00<?, ?it/s]"
      ],
      "application/vnd.jupyter.widget-view+json": {
       "version_major": 2,
       "version_minor": 0,
       "model_id": "d16d919c74094c3284cc71d677e80e51"
      }
     },
     "metadata": {},
     "output_type": "display_data"
    },
    {
     "data": {
      "text/plain": [
       "  0%|          | 0/69 [00:00<?, ?it/s]"
      ],
      "application/vnd.jupyter.widget-view+json": {
       "version_major": 2,
       "version_minor": 0,
       "model_id": "c54ea05c23d9466db23c8cdf5a12c5c8"
      }
     },
     "metadata": {},
     "output_type": "display_data"
    },
    {
     "data": {
      "text/plain": [
       "  0%|          | 0/11 [00:00<?, ?it/s]"
      ],
      "application/vnd.jupyter.widget-view+json": {
       "version_major": 2,
       "version_minor": 0,
       "model_id": "513e1d226e8a42dc9cebf2e7ddf789f4"
      }
     },
     "metadata": {},
     "output_type": "display_data"
    },
    {
     "data": {
      "text/plain": [
       "  0%|          | 0/69 [00:00<?, ?it/s]"
      ],
      "application/vnd.jupyter.widget-view+json": {
       "version_major": 2,
       "version_minor": 0,
       "model_id": "728485802c7349e6bff745a1e537be5c"
      }
     },
     "metadata": {},
     "output_type": "display_data"
    },
    {
     "data": {
      "text/plain": [
       "  0%|          | 0/11 [00:00<?, ?it/s]"
      ],
      "application/vnd.jupyter.widget-view+json": {
       "version_major": 2,
       "version_minor": 0,
       "model_id": "a16c302935b94c788244fe0dc3fea9ff"
      }
     },
     "metadata": {},
     "output_type": "display_data"
    },
    {
     "data": {
      "text/plain": [
       "  0%|          | 0/69 [00:00<?, ?it/s]"
      ],
      "application/vnd.jupyter.widget-view+json": {
       "version_major": 2,
       "version_minor": 0,
       "model_id": "5faac88874424745b8f7c7518c24dca6"
      }
     },
     "metadata": {},
     "output_type": "display_data"
    },
    {
     "data": {
      "text/plain": [
       "  0%|          | 0/11 [00:00<?, ?it/s]"
      ],
      "application/vnd.jupyter.widget-view+json": {
       "version_major": 2,
       "version_minor": 0,
       "model_id": "e045cf8927aa4f3ea9f0c3532043c9a6"
      }
     },
     "metadata": {},
     "output_type": "display_data"
    },
    {
     "data": {
      "text/plain": [
       "  0%|          | 0/69 [00:00<?, ?it/s]"
      ],
      "application/vnd.jupyter.widget-view+json": {
       "version_major": 2,
       "version_minor": 0,
       "model_id": "3c35ef670eb94d369a270600912b7088"
      }
     },
     "metadata": {},
     "output_type": "display_data"
    },
    {
     "data": {
      "text/plain": [
       "  0%|          | 0/11 [00:00<?, ?it/s]"
      ],
      "application/vnd.jupyter.widget-view+json": {
       "version_major": 2,
       "version_minor": 0,
       "model_id": "28386ee3a9de4df8adff4181719eaf5d"
      }
     },
     "metadata": {},
     "output_type": "display_data"
    },
    {
     "data": {
      "text/plain": [
       "  0%|          | 0/69 [00:00<?, ?it/s]"
      ],
      "application/vnd.jupyter.widget-view+json": {
       "version_major": 2,
       "version_minor": 0,
       "model_id": "0da05b318c364bb8af8f6bddccb84e0d"
      }
     },
     "metadata": {},
     "output_type": "display_data"
    },
    {
     "data": {
      "text/plain": [
       "  0%|          | 0/11 [00:00<?, ?it/s]"
      ],
      "application/vnd.jupyter.widget-view+json": {
       "version_major": 2,
       "version_minor": 0,
       "model_id": "9a101259730a4060b58aca224a54bf29"
      }
     },
     "metadata": {},
     "output_type": "display_data"
    },
    {
     "data": {
      "text/plain": [
       "  0%|          | 0/69 [00:00<?, ?it/s]"
      ],
      "application/vnd.jupyter.widget-view+json": {
       "version_major": 2,
       "version_minor": 0,
       "model_id": "5c68ff2227514ebf9ecc6501d76570b7"
      }
     },
     "metadata": {},
     "output_type": "display_data"
    },
    {
     "data": {
      "text/plain": [
       "  0%|          | 0/11 [00:00<?, ?it/s]"
      ],
      "application/vnd.jupyter.widget-view+json": {
       "version_major": 2,
       "version_minor": 0,
       "model_id": "642297a4ed1b4fdc9618acc4d3c16379"
      }
     },
     "metadata": {},
     "output_type": "display_data"
    },
    {
     "data": {
      "text/plain": [
       "  0%|          | 0/69 [00:00<?, ?it/s]"
      ],
      "application/vnd.jupyter.widget-view+json": {
       "version_major": 2,
       "version_minor": 0,
       "model_id": "b7320d6214364da2bae8d70c23cd1730"
      }
     },
     "metadata": {},
     "output_type": "display_data"
    },
    {
     "data": {
      "text/plain": [
       "  0%|          | 0/11 [00:00<?, ?it/s]"
      ],
      "application/vnd.jupyter.widget-view+json": {
       "version_major": 2,
       "version_minor": 0,
       "model_id": "3ba65090f70f48b09c641327d9f656c0"
      }
     },
     "metadata": {},
     "output_type": "display_data"
    },
    {
     "data": {
      "text/plain": [
       "  0%|          | 0/69 [00:00<?, ?it/s]"
      ],
      "application/vnd.jupyter.widget-view+json": {
       "version_major": 2,
       "version_minor": 0,
       "model_id": "31de7e7a11c347569885c6c45a5bdce4"
      }
     },
     "metadata": {},
     "output_type": "display_data"
    },
    {
     "data": {
      "text/plain": [
       "  0%|          | 0/11 [00:00<?, ?it/s]"
      ],
      "application/vnd.jupyter.widget-view+json": {
       "version_major": 2,
       "version_minor": 0,
       "model_id": "14a36a0c076a4dfebdcd675412e0a9d5"
      }
     },
     "metadata": {},
     "output_type": "display_data"
    },
    {
     "data": {
      "text/plain": [
       "  0%|          | 0/69 [00:00<?, ?it/s]"
      ],
      "application/vnd.jupyter.widget-view+json": {
       "version_major": 2,
       "version_minor": 0,
       "model_id": "48d0c8bd4d144f88a3e22cc3ad3d959b"
      }
     },
     "metadata": {},
     "output_type": "display_data"
    },
    {
     "data": {
      "text/plain": [
       "  0%|          | 0/11 [00:00<?, ?it/s]"
      ],
      "application/vnd.jupyter.widget-view+json": {
       "version_major": 2,
       "version_minor": 0,
       "model_id": "3441279e063e458b8955b6f4c14fbe43"
      }
     },
     "metadata": {},
     "output_type": "display_data"
    },
    {
     "data": {
      "text/plain": [
       "  0%|          | 0/69 [00:00<?, ?it/s]"
      ],
      "application/vnd.jupyter.widget-view+json": {
       "version_major": 2,
       "version_minor": 0,
       "model_id": "da90f6ac714c42edb8bb33662d2950da"
      }
     },
     "metadata": {},
     "output_type": "display_data"
    },
    {
     "data": {
      "text/plain": [
       "  0%|          | 0/11 [00:00<?, ?it/s]"
      ],
      "application/vnd.jupyter.widget-view+json": {
       "version_major": 2,
       "version_minor": 0,
       "model_id": "4834a235c2a44a6aae3587cf734a5c8a"
      }
     },
     "metadata": {},
     "output_type": "display_data"
    },
    {
     "data": {
      "text/plain": [
       "  0%|          | 0/69 [00:00<?, ?it/s]"
      ],
      "application/vnd.jupyter.widget-view+json": {
       "version_major": 2,
       "version_minor": 0,
       "model_id": "27762df5f6074dc8869e0b8b2e947490"
      }
     },
     "metadata": {},
     "output_type": "display_data"
    },
    {
     "data": {
      "text/plain": [
       "  0%|          | 0/11 [00:00<?, ?it/s]"
      ],
      "application/vnd.jupyter.widget-view+json": {
       "version_major": 2,
       "version_minor": 0,
       "model_id": "0f30e485dd724b35870a55cb830c0eeb"
      }
     },
     "metadata": {},
     "output_type": "display_data"
    },
    {
     "data": {
      "text/plain": [
       "  0%|          | 0/69 [00:00<?, ?it/s]"
      ],
      "application/vnd.jupyter.widget-view+json": {
       "version_major": 2,
       "version_minor": 0,
       "model_id": "0088244bb82b427bb36364ea3622065a"
      }
     },
     "metadata": {},
     "output_type": "display_data"
    },
    {
     "data": {
      "text/plain": [
       "  0%|          | 0/11 [00:00<?, ?it/s]"
      ],
      "application/vnd.jupyter.widget-view+json": {
       "version_major": 2,
       "version_minor": 0,
       "model_id": "bcd72875931f46d68aa6ae260378b6bc"
      }
     },
     "metadata": {},
     "output_type": "display_data"
    },
    {
     "data": {
      "text/plain": [
       "  0%|          | 0/69 [00:00<?, ?it/s]"
      ],
      "application/vnd.jupyter.widget-view+json": {
       "version_major": 2,
       "version_minor": 0,
       "model_id": "a7fc9dde73d74e9bbae18eed385a4de0"
      }
     },
     "metadata": {},
     "output_type": "display_data"
    },
    {
     "data": {
      "text/plain": [
       "  0%|          | 0/11 [00:00<?, ?it/s]"
      ],
      "application/vnd.jupyter.widget-view+json": {
       "version_major": 2,
       "version_minor": 0,
       "model_id": "3abe1360a4bf477f9dc653b0bccd855c"
      }
     },
     "metadata": {},
     "output_type": "display_data"
    },
    {
     "data": {
      "text/plain": [
       "  0%|          | 0/69 [00:00<?, ?it/s]"
      ],
      "application/vnd.jupyter.widget-view+json": {
       "version_major": 2,
       "version_minor": 0,
       "model_id": "c0b5e8a070054c699d7cc1fd14321e0b"
      }
     },
     "metadata": {},
     "output_type": "display_data"
    },
    {
     "data": {
      "text/plain": [
       "  0%|          | 0/11 [00:00<?, ?it/s]"
      ],
      "application/vnd.jupyter.widget-view+json": {
       "version_major": 2,
       "version_minor": 0,
       "model_id": "1e41c1e57c4f43c982f78a08010f23a0"
      }
     },
     "metadata": {},
     "output_type": "display_data"
    },
    {
     "data": {
      "text/plain": [
       "  0%|          | 0/69 [00:00<?, ?it/s]"
      ],
      "application/vnd.jupyter.widget-view+json": {
       "version_major": 2,
       "version_minor": 0,
       "model_id": "9a504faad80b486eb2dbbbb412a24352"
      }
     },
     "metadata": {},
     "output_type": "display_data"
    },
    {
     "data": {
      "text/plain": [
       "  0%|          | 0/11 [00:00<?, ?it/s]"
      ],
      "application/vnd.jupyter.widget-view+json": {
       "version_major": 2,
       "version_minor": 0,
       "model_id": "167d982badd24e2aaf4cb7dc8a4a7ae8"
      }
     },
     "metadata": {},
     "output_type": "display_data"
    },
    {
     "data": {
      "text/plain": [
       "  0%|          | 0/69 [00:00<?, ?it/s]"
      ],
      "application/vnd.jupyter.widget-view+json": {
       "version_major": 2,
       "version_minor": 0,
       "model_id": "358eff7f8e274089b7d6b7189240d6a7"
      }
     },
     "metadata": {},
     "output_type": "display_data"
    },
    {
     "data": {
      "text/plain": [
       "  0%|          | 0/11 [00:00<?, ?it/s]"
      ],
      "application/vnd.jupyter.widget-view+json": {
       "version_major": 2,
       "version_minor": 0,
       "model_id": "c1f72e8399d04bf1b5ab3d0797f925c6"
      }
     },
     "metadata": {},
     "output_type": "display_data"
    },
    {
     "data": {
      "text/plain": [
       "  0%|          | 0/69 [00:00<?, ?it/s]"
      ],
      "application/vnd.jupyter.widget-view+json": {
       "version_major": 2,
       "version_minor": 0,
       "model_id": "f1eb6c4080914bbb9242a719c98c964f"
      }
     },
     "metadata": {},
     "output_type": "display_data"
    },
    {
     "data": {
      "text/plain": [
       "  0%|          | 0/11 [00:00<?, ?it/s]"
      ],
      "application/vnd.jupyter.widget-view+json": {
       "version_major": 2,
       "version_minor": 0,
       "model_id": "25b155ba8aea431499d2900c14a6bf29"
      }
     },
     "metadata": {},
     "output_type": "display_data"
    },
    {
     "data": {
      "text/plain": [
       "  0%|          | 0/69 [00:00<?, ?it/s]"
      ],
      "application/vnd.jupyter.widget-view+json": {
       "version_major": 2,
       "version_minor": 0,
       "model_id": "e303cedc0b96469c82853fe4835d44df"
      }
     },
     "metadata": {},
     "output_type": "display_data"
    },
    {
     "data": {
      "text/plain": [
       "  0%|          | 0/11 [00:00<?, ?it/s]"
      ],
      "application/vnd.jupyter.widget-view+json": {
       "version_major": 2,
       "version_minor": 0,
       "model_id": "120ce57f6cf94db79160d317e228bfaf"
      }
     },
     "metadata": {},
     "output_type": "display_data"
    },
    {
     "data": {
      "text/plain": [
       "  0%|          | 0/69 [00:00<?, ?it/s]"
      ],
      "application/vnd.jupyter.widget-view+json": {
       "version_major": 2,
       "version_minor": 0,
       "model_id": "423114429d4f44708e5d361df8c05f28"
      }
     },
     "metadata": {},
     "output_type": "display_data"
    },
    {
     "data": {
      "text/plain": [
       "  0%|          | 0/11 [00:00<?, ?it/s]"
      ],
      "application/vnd.jupyter.widget-view+json": {
       "version_major": 2,
       "version_minor": 0,
       "model_id": "acb92df573b5469da51aca4d495224af"
      }
     },
     "metadata": {},
     "output_type": "display_data"
    },
    {
     "data": {
      "text/plain": [
       "  0%|          | 0/69 [00:00<?, ?it/s]"
      ],
      "application/vnd.jupyter.widget-view+json": {
       "version_major": 2,
       "version_minor": 0,
       "model_id": "4672ee3efd79460db150778000176118"
      }
     },
     "metadata": {},
     "output_type": "display_data"
    },
    {
     "data": {
      "text/plain": [
       "  0%|          | 0/11 [00:00<?, ?it/s]"
      ],
      "application/vnd.jupyter.widget-view+json": {
       "version_major": 2,
       "version_minor": 0,
       "model_id": "761ba2fb8a4e44be8069fcd5ec08958a"
      }
     },
     "metadata": {},
     "output_type": "display_data"
    },
    {
     "data": {
      "text/plain": [
       "  0%|          | 0/69 [00:00<?, ?it/s]"
      ],
      "application/vnd.jupyter.widget-view+json": {
       "version_major": 2,
       "version_minor": 0,
       "model_id": "8defd8a9848a4c09adf98920ef72eb4b"
      }
     },
     "metadata": {},
     "output_type": "display_data"
    },
    {
     "data": {
      "text/plain": [
       "  0%|          | 0/11 [00:00<?, ?it/s]"
      ],
      "application/vnd.jupyter.widget-view+json": {
       "version_major": 2,
       "version_minor": 0,
       "model_id": "90de00e5494844dd9f233bb95fb05796"
      }
     },
     "metadata": {},
     "output_type": "display_data"
    },
    {
     "data": {
      "text/plain": [
       "  0%|          | 0/69 [00:00<?, ?it/s]"
      ],
      "application/vnd.jupyter.widget-view+json": {
       "version_major": 2,
       "version_minor": 0,
       "model_id": "dcbfe99a4a4448a59524735f44c2e936"
      }
     },
     "metadata": {},
     "output_type": "display_data"
    },
    {
     "data": {
      "text/plain": [
       "  0%|          | 0/11 [00:00<?, ?it/s]"
      ],
      "application/vnd.jupyter.widget-view+json": {
       "version_major": 2,
       "version_minor": 0,
       "model_id": "f7a246f0354647c6bcdef8ab20bf746a"
      }
     },
     "metadata": {},
     "output_type": "display_data"
    },
    {
     "data": {
      "text/plain": [
       "  0%|          | 0/69 [00:00<?, ?it/s]"
      ],
      "application/vnd.jupyter.widget-view+json": {
       "version_major": 2,
       "version_minor": 0,
       "model_id": "8b5c45c5e36544708167e02eeedeb69f"
      }
     },
     "metadata": {},
     "output_type": "display_data"
    },
    {
     "data": {
      "text/plain": [
       "  0%|          | 0/11 [00:00<?, ?it/s]"
      ],
      "application/vnd.jupyter.widget-view+json": {
       "version_major": 2,
       "version_minor": 0,
       "model_id": "08f89b8daac649f4af6b939dad6cffba"
      }
     },
     "metadata": {},
     "output_type": "display_data"
    },
    {
     "data": {
      "text/plain": [
       "  0%|          | 0/69 [00:00<?, ?it/s]"
      ],
      "application/vnd.jupyter.widget-view+json": {
       "version_major": 2,
       "version_minor": 0,
       "model_id": "b96fba0547574a0d8bb60962391628c6"
      }
     },
     "metadata": {},
     "output_type": "display_data"
    },
    {
     "data": {
      "text/plain": [
       "  0%|          | 0/11 [00:00<?, ?it/s]"
      ],
      "application/vnd.jupyter.widget-view+json": {
       "version_major": 2,
       "version_minor": 0,
       "model_id": "70156316be3148d99bf6af624d844501"
      }
     },
     "metadata": {},
     "output_type": "display_data"
    },
    {
     "data": {
      "text/plain": [
       "  0%|          | 0/69 [00:00<?, ?it/s]"
      ],
      "application/vnd.jupyter.widget-view+json": {
       "version_major": 2,
       "version_minor": 0,
       "model_id": "6da405f817fb4c0fbe199def70a19a5e"
      }
     },
     "metadata": {},
     "output_type": "display_data"
    },
    {
     "data": {
      "text/plain": [
       "  0%|          | 0/11 [00:00<?, ?it/s]"
      ],
      "application/vnd.jupyter.widget-view+json": {
       "version_major": 2,
       "version_minor": 0,
       "model_id": "9d1e8e7d4c344e2c9abe8fa2a8f1f885"
      }
     },
     "metadata": {},
     "output_type": "display_data"
    },
    {
     "data": {
      "text/plain": [
       "  0%|          | 0/69 [00:00<?, ?it/s]"
      ],
      "application/vnd.jupyter.widget-view+json": {
       "version_major": 2,
       "version_minor": 0,
       "model_id": "e7726526b53247529140788ab06cc696"
      }
     },
     "metadata": {},
     "output_type": "display_data"
    },
    {
     "data": {
      "text/plain": [
       "  0%|          | 0/11 [00:00<?, ?it/s]"
      ],
      "application/vnd.jupyter.widget-view+json": {
       "version_major": 2,
       "version_minor": 0,
       "model_id": "9b4179def97c4260870f7b8bb95f6388"
      }
     },
     "metadata": {},
     "output_type": "display_data"
    },
    {
     "data": {
      "text/plain": [
       "  0%|          | 0/69 [00:00<?, ?it/s]"
      ],
      "application/vnd.jupyter.widget-view+json": {
       "version_major": 2,
       "version_minor": 0,
       "model_id": "0ce6bc3b1dd0424aaf4f40a7bfd36a75"
      }
     },
     "metadata": {},
     "output_type": "display_data"
    },
    {
     "data": {
      "text/plain": [
       "  0%|          | 0/11 [00:00<?, ?it/s]"
      ],
      "application/vnd.jupyter.widget-view+json": {
       "version_major": 2,
       "version_minor": 0,
       "model_id": "60b8b356913b4ff7ae04b6c1bc0ddb55"
      }
     },
     "metadata": {},
     "output_type": "display_data"
    },
    {
     "data": {
      "text/plain": [
       "  0%|          | 0/69 [00:00<?, ?it/s]"
      ],
      "application/vnd.jupyter.widget-view+json": {
       "version_major": 2,
       "version_minor": 0,
       "model_id": "4ad55e7f40004cefa3a94ed97d37ae2e"
      }
     },
     "metadata": {},
     "output_type": "display_data"
    },
    {
     "data": {
      "text/plain": [
       "  0%|          | 0/11 [00:00<?, ?it/s]"
      ],
      "application/vnd.jupyter.widget-view+json": {
       "version_major": 2,
       "version_minor": 0,
       "model_id": "8bd4acfea143408b91b0fff0436cbe7c"
      }
     },
     "metadata": {},
     "output_type": "display_data"
    },
    {
     "data": {
      "text/plain": [
       "  0%|          | 0/69 [00:00<?, ?it/s]"
      ],
      "application/vnd.jupyter.widget-view+json": {
       "version_major": 2,
       "version_minor": 0,
       "model_id": "ab3bd265b75c4e09b3b7a970ab5833c7"
      }
     },
     "metadata": {},
     "output_type": "display_data"
    },
    {
     "data": {
      "text/plain": [
       "  0%|          | 0/11 [00:00<?, ?it/s]"
      ],
      "application/vnd.jupyter.widget-view+json": {
       "version_major": 2,
       "version_minor": 0,
       "model_id": "ff64777b1c204db5a814ad7473917cec"
      }
     },
     "metadata": {},
     "output_type": "display_data"
    },
    {
     "data": {
      "text/plain": [
       "  0%|          | 0/69 [00:00<?, ?it/s]"
      ],
      "application/vnd.jupyter.widget-view+json": {
       "version_major": 2,
       "version_minor": 0,
       "model_id": "9cd95b553c434a35bff5e013cc909ea7"
      }
     },
     "metadata": {},
     "output_type": "display_data"
    },
    {
     "data": {
      "text/plain": [
       "  0%|          | 0/11 [00:00<?, ?it/s]"
      ],
      "application/vnd.jupyter.widget-view+json": {
       "version_major": 2,
       "version_minor": 0,
       "model_id": "1915e0cc30fe415a8a502b0a291413ec"
      }
     },
     "metadata": {},
     "output_type": "display_data"
    },
    {
     "data": {
      "text/plain": [
       "  0%|          | 0/69 [00:00<?, ?it/s]"
      ],
      "application/vnd.jupyter.widget-view+json": {
       "version_major": 2,
       "version_minor": 0,
       "model_id": "a912c914cddd4b58a6b4b6411d0c4079"
      }
     },
     "metadata": {},
     "output_type": "display_data"
    },
    {
     "data": {
      "text/plain": [
       "  0%|          | 0/11 [00:00<?, ?it/s]"
      ],
      "application/vnd.jupyter.widget-view+json": {
       "version_major": 2,
       "version_minor": 0,
       "model_id": "5e634b50757145b5b0f6f5241193037b"
      }
     },
     "metadata": {},
     "output_type": "display_data"
    },
    {
     "data": {
      "text/plain": [
       "  0%|          | 0/69 [00:00<?, ?it/s]"
      ],
      "application/vnd.jupyter.widget-view+json": {
       "version_major": 2,
       "version_minor": 0,
       "model_id": "b244c094ae55439c89f9b51cf9558fc8"
      }
     },
     "metadata": {},
     "output_type": "display_data"
    },
    {
     "data": {
      "text/plain": [
       "  0%|          | 0/11 [00:00<?, ?it/s]"
      ],
      "application/vnd.jupyter.widget-view+json": {
       "version_major": 2,
       "version_minor": 0,
       "model_id": "e5ab4ac0c8b04cef986db2a06259cba9"
      }
     },
     "metadata": {},
     "output_type": "display_data"
    },
    {
     "data": {
      "text/plain": [
       "  0%|          | 0/69 [00:00<?, ?it/s]"
      ],
      "application/vnd.jupyter.widget-view+json": {
       "version_major": 2,
       "version_minor": 0,
       "model_id": "73ac9fea8dc241e3b27cd954dbede2d3"
      }
     },
     "metadata": {},
     "output_type": "display_data"
    },
    {
     "data": {
      "text/plain": [
       "  0%|          | 0/11 [00:00<?, ?it/s]"
      ],
      "application/vnd.jupyter.widget-view+json": {
       "version_major": 2,
       "version_minor": 0,
       "model_id": "3a00fc2ca0de4ce39fb98913d5ebe514"
      }
     },
     "metadata": {},
     "output_type": "display_data"
    },
    {
     "data": {
      "text/plain": [
       "  0%|          | 0/69 [00:00<?, ?it/s]"
      ],
      "application/vnd.jupyter.widget-view+json": {
       "version_major": 2,
       "version_minor": 0,
       "model_id": "273f147c23644ae495ea8580a4aa95e3"
      }
     },
     "metadata": {},
     "output_type": "display_data"
    },
    {
     "data": {
      "text/plain": [
       "  0%|          | 0/11 [00:00<?, ?it/s]"
      ],
      "application/vnd.jupyter.widget-view+json": {
       "version_major": 2,
       "version_minor": 0,
       "model_id": "b171db2d0a3042c896bbd8b664e569f3"
      }
     },
     "metadata": {},
     "output_type": "display_data"
    },
    {
     "data": {
      "text/plain": [
       "  0%|          | 0/69 [00:00<?, ?it/s]"
      ],
      "application/vnd.jupyter.widget-view+json": {
       "version_major": 2,
       "version_minor": 0,
       "model_id": "7ff7103040d94735a7c3e6adebf40549"
      }
     },
     "metadata": {},
     "output_type": "display_data"
    },
    {
     "data": {
      "text/plain": [
       "  0%|          | 0/11 [00:00<?, ?it/s]"
      ],
      "application/vnd.jupyter.widget-view+json": {
       "version_major": 2,
       "version_minor": 0,
       "model_id": "4847ac728481476cad78145024ece2b7"
      }
     },
     "metadata": {},
     "output_type": "display_data"
    },
    {
     "data": {
      "text/plain": [
       "  0%|          | 0/69 [00:00<?, ?it/s]"
      ],
      "application/vnd.jupyter.widget-view+json": {
       "version_major": 2,
       "version_minor": 0,
       "model_id": "07db2932a81a4edab2a50ad78f8cf5e1"
      }
     },
     "metadata": {},
     "output_type": "display_data"
    },
    {
     "data": {
      "text/plain": [
       "  0%|          | 0/11 [00:00<?, ?it/s]"
      ],
      "application/vnd.jupyter.widget-view+json": {
       "version_major": 2,
       "version_minor": 0,
       "model_id": "a079bdb3538748eda3c6dcccb11052fb"
      }
     },
     "metadata": {},
     "output_type": "display_data"
    },
    {
     "data": {
      "text/plain": [
       "  0%|          | 0/69 [00:00<?, ?it/s]"
      ],
      "application/vnd.jupyter.widget-view+json": {
       "version_major": 2,
       "version_minor": 0,
       "model_id": "b5fb1f55d9d047939ed4d2af92218a21"
      }
     },
     "metadata": {},
     "output_type": "display_data"
    },
    {
     "data": {
      "text/plain": [
       "  0%|          | 0/11 [00:00<?, ?it/s]"
      ],
      "application/vnd.jupyter.widget-view+json": {
       "version_major": 2,
       "version_minor": 0,
       "model_id": "9d41512c4d574b289c990d549316992f"
      }
     },
     "metadata": {},
     "output_type": "display_data"
    },
    {
     "data": {
      "text/plain": [
       "  0%|          | 0/69 [00:00<?, ?it/s]"
      ],
      "application/vnd.jupyter.widget-view+json": {
       "version_major": 2,
       "version_minor": 0,
       "model_id": "4fd0001b139147d88664c1da5b32904d"
      }
     },
     "metadata": {},
     "output_type": "display_data"
    },
    {
     "data": {
      "text/plain": [
       "  0%|          | 0/11 [00:00<?, ?it/s]"
      ],
      "application/vnd.jupyter.widget-view+json": {
       "version_major": 2,
       "version_minor": 0,
       "model_id": "75729087edc2453aa878a548e8608051"
      }
     },
     "metadata": {},
     "output_type": "display_data"
    },
    {
     "data": {
      "text/plain": [
       "  0%|          | 0/69 [00:00<?, ?it/s]"
      ],
      "application/vnd.jupyter.widget-view+json": {
       "version_major": 2,
       "version_minor": 0,
       "model_id": "afa5d474f9dc42458e4be75ac9fc484b"
      }
     },
     "metadata": {},
     "output_type": "display_data"
    },
    {
     "data": {
      "text/plain": [
       "  0%|          | 0/11 [00:00<?, ?it/s]"
      ],
      "application/vnd.jupyter.widget-view+json": {
       "version_major": 2,
       "version_minor": 0,
       "model_id": "f4cdd5bd3d8d464994055ae34cff85b3"
      }
     },
     "metadata": {},
     "output_type": "display_data"
    },
    {
     "data": {
      "text/plain": [
       "  0%|          | 0/69 [00:00<?, ?it/s]"
      ],
      "application/vnd.jupyter.widget-view+json": {
       "version_major": 2,
       "version_minor": 0,
       "model_id": "0da6fc34207c4980949d636dd288db0d"
      }
     },
     "metadata": {},
     "output_type": "display_data"
    },
    {
     "data": {
      "text/plain": [
       "  0%|          | 0/11 [00:00<?, ?it/s]"
      ],
      "application/vnd.jupyter.widget-view+json": {
       "version_major": 2,
       "version_minor": 0,
       "model_id": "2e3d941e5992439fb8781e577f6d59ac"
      }
     },
     "metadata": {},
     "output_type": "display_data"
    },
    {
     "data": {
      "text/plain": [
       "  0%|          | 0/69 [00:00<?, ?it/s]"
      ],
      "application/vnd.jupyter.widget-view+json": {
       "version_major": 2,
       "version_minor": 0,
       "model_id": "df3f9cf5b13f4757908f256b4ee036b8"
      }
     },
     "metadata": {},
     "output_type": "display_data"
    },
    {
     "data": {
      "text/plain": [
       "  0%|          | 0/11 [00:00<?, ?it/s]"
      ],
      "application/vnd.jupyter.widget-view+json": {
       "version_major": 2,
       "version_minor": 0,
       "model_id": "7ee55735ee064e54aa881277734d0707"
      }
     },
     "metadata": {},
     "output_type": "display_data"
    },
    {
     "data": {
      "text/plain": [
       "  0%|          | 0/69 [00:00<?, ?it/s]"
      ],
      "application/vnd.jupyter.widget-view+json": {
       "version_major": 2,
       "version_minor": 0,
       "model_id": "f02abf972a8743ca8c6c922c9e56bc2e"
      }
     },
     "metadata": {},
     "output_type": "display_data"
    },
    {
     "data": {
      "text/plain": [
       "  0%|          | 0/11 [00:00<?, ?it/s]"
      ],
      "application/vnd.jupyter.widget-view+json": {
       "version_major": 2,
       "version_minor": 0,
       "model_id": "6bd89b7e324f413c80e9d53c6fb825fe"
      }
     },
     "metadata": {},
     "output_type": "display_data"
    },
    {
     "data": {
      "text/plain": [
       "  0%|          | 0/69 [00:00<?, ?it/s]"
      ],
      "application/vnd.jupyter.widget-view+json": {
       "version_major": 2,
       "version_minor": 0,
       "model_id": "eecbf0429edf40cea4d4f4c7bbfe26f8"
      }
     },
     "metadata": {},
     "output_type": "display_data"
    },
    {
     "data": {
      "text/plain": [
       "  0%|          | 0/11 [00:00<?, ?it/s]"
      ],
      "application/vnd.jupyter.widget-view+json": {
       "version_major": 2,
       "version_minor": 0,
       "model_id": "d320f9e5d4fa484081b0e332704d3fa0"
      }
     },
     "metadata": {},
     "output_type": "display_data"
    },
    {
     "data": {
      "text/plain": [
       "  0%|          | 0/69 [00:00<?, ?it/s]"
      ],
      "application/vnd.jupyter.widget-view+json": {
       "version_major": 2,
       "version_minor": 0,
       "model_id": "f419309966cc41628a138f52ae06fac1"
      }
     },
     "metadata": {},
     "output_type": "display_data"
    },
    {
     "data": {
      "text/plain": [
       "  0%|          | 0/11 [00:00<?, ?it/s]"
      ],
      "application/vnd.jupyter.widget-view+json": {
       "version_major": 2,
       "version_minor": 0,
       "model_id": "2e13efa6b1f447f18ff4e1f80fe3072a"
      }
     },
     "metadata": {},
     "output_type": "display_data"
    },
    {
     "data": {
      "text/plain": [
       "  0%|          | 0/69 [00:00<?, ?it/s]"
      ],
      "application/vnd.jupyter.widget-view+json": {
       "version_major": 2,
       "version_minor": 0,
       "model_id": "cc580353c45845cc8f1a19180d903e25"
      }
     },
     "metadata": {},
     "output_type": "display_data"
    },
    {
     "data": {
      "text/plain": [
       "  0%|          | 0/11 [00:00<?, ?it/s]"
      ],
      "application/vnd.jupyter.widget-view+json": {
       "version_major": 2,
       "version_minor": 0,
       "model_id": "cd34503db12a4224920a5d3ea703f101"
      }
     },
     "metadata": {},
     "output_type": "display_data"
    },
    {
     "data": {
      "text/plain": [
       "  0%|          | 0/69 [00:00<?, ?it/s]"
      ],
      "application/vnd.jupyter.widget-view+json": {
       "version_major": 2,
       "version_minor": 0,
       "model_id": "d92f3d832ec04a8eb9907f9fae3eb39b"
      }
     },
     "metadata": {},
     "output_type": "display_data"
    },
    {
     "data": {
      "text/plain": [
       "  0%|          | 0/11 [00:00<?, ?it/s]"
      ],
      "application/vnd.jupyter.widget-view+json": {
       "version_major": 2,
       "version_minor": 0,
       "model_id": "8a7dc2b07fe54cc08d60fe4ef9d30410"
      }
     },
     "metadata": {},
     "output_type": "display_data"
    },
    {
     "data": {
      "text/plain": [
       "  0%|          | 0/69 [00:00<?, ?it/s]"
      ],
      "application/vnd.jupyter.widget-view+json": {
       "version_major": 2,
       "version_minor": 0,
       "model_id": "00f7541d6f9d46b5b14f24e19975c1bb"
      }
     },
     "metadata": {},
     "output_type": "display_data"
    },
    {
     "data": {
      "text/plain": [
       "  0%|          | 0/11 [00:00<?, ?it/s]"
      ],
      "application/vnd.jupyter.widget-view+json": {
       "version_major": 2,
       "version_minor": 0,
       "model_id": "d1953fc534c24455ae74d55d5423ba1e"
      }
     },
     "metadata": {},
     "output_type": "display_data"
    },
    {
     "data": {
      "text/plain": [
       "  0%|          | 0/69 [00:00<?, ?it/s]"
      ],
      "application/vnd.jupyter.widget-view+json": {
       "version_major": 2,
       "version_minor": 0,
       "model_id": "54ae1ec4b4b84a328d78a3b55d8ee5e4"
      }
     },
     "metadata": {},
     "output_type": "display_data"
    },
    {
     "data": {
      "text/plain": [
       "  0%|          | 0/11 [00:00<?, ?it/s]"
      ],
      "application/vnd.jupyter.widget-view+json": {
       "version_major": 2,
       "version_minor": 0,
       "model_id": "70ec1fc3bb584fc882d04554994ab384"
      }
     },
     "metadata": {},
     "output_type": "display_data"
    },
    {
     "data": {
      "text/plain": [
       "  0%|          | 0/69 [00:00<?, ?it/s]"
      ],
      "application/vnd.jupyter.widget-view+json": {
       "version_major": 2,
       "version_minor": 0,
       "model_id": "a046e9dc4c8543ae9e539c34b0698733"
      }
     },
     "metadata": {},
     "output_type": "display_data"
    },
    {
     "data": {
      "text/plain": [
       "  0%|          | 0/11 [00:00<?, ?it/s]"
      ],
      "application/vnd.jupyter.widget-view+json": {
       "version_major": 2,
       "version_minor": 0,
       "model_id": "947edf4bb5534f15831cf1efef4aa18d"
      }
     },
     "metadata": {},
     "output_type": "display_data"
    },
    {
     "data": {
      "text/plain": [
       "  0%|          | 0/69 [00:00<?, ?it/s]"
      ],
      "application/vnd.jupyter.widget-view+json": {
       "version_major": 2,
       "version_minor": 0,
       "model_id": "2e6c00b58bd5418eacf94f07f786ecc3"
      }
     },
     "metadata": {},
     "output_type": "display_data"
    },
    {
     "data": {
      "text/plain": [
       "  0%|          | 0/11 [00:00<?, ?it/s]"
      ],
      "application/vnd.jupyter.widget-view+json": {
       "version_major": 2,
       "version_minor": 0,
       "model_id": "ed377525346949b986bdb53fbfe211e7"
      }
     },
     "metadata": {},
     "output_type": "display_data"
    },
    {
     "data": {
      "text/plain": [
       "  0%|          | 0/69 [00:00<?, ?it/s]"
      ],
      "application/vnd.jupyter.widget-view+json": {
       "version_major": 2,
       "version_minor": 0,
       "model_id": "230b51e9fcf44433970cec1c8ddaa2a4"
      }
     },
     "metadata": {},
     "output_type": "display_data"
    },
    {
     "data": {
      "text/plain": [
       "  0%|          | 0/11 [00:00<?, ?it/s]"
      ],
      "application/vnd.jupyter.widget-view+json": {
       "version_major": 2,
       "version_minor": 0,
       "model_id": "65b9c8031a3c460b9c88f77646a73573"
      }
     },
     "metadata": {},
     "output_type": "display_data"
    },
    {
     "data": {
      "text/plain": [
       "  0%|          | 0/69 [00:00<?, ?it/s]"
      ],
      "application/vnd.jupyter.widget-view+json": {
       "version_major": 2,
       "version_minor": 0,
       "model_id": "6a45bb54fa1c427ca08d2a2e059ae1de"
      }
     },
     "metadata": {},
     "output_type": "display_data"
    },
    {
     "data": {
      "text/plain": [
       "  0%|          | 0/11 [00:00<?, ?it/s]"
      ],
      "application/vnd.jupyter.widget-view+json": {
       "version_major": 2,
       "version_minor": 0,
       "model_id": "f1e00191e8ef4a9e8a84cc518ed9f71e"
      }
     },
     "metadata": {},
     "output_type": "display_data"
    },
    {
     "data": {
      "text/plain": [
       "  0%|          | 0/69 [00:00<?, ?it/s]"
      ],
      "application/vnd.jupyter.widget-view+json": {
       "version_major": 2,
       "version_minor": 0,
       "model_id": "1824bc476d8547619741fad320bd596a"
      }
     },
     "metadata": {},
     "output_type": "display_data"
    },
    {
     "data": {
      "text/plain": [
       "  0%|          | 0/11 [00:00<?, ?it/s]"
      ],
      "application/vnd.jupyter.widget-view+json": {
       "version_major": 2,
       "version_minor": 0,
       "model_id": "b6e2ebe1bc704fb1a29ad105492a1562"
      }
     },
     "metadata": {},
     "output_type": "display_data"
    },
    {
     "data": {
      "text/plain": [
       "  0%|          | 0/69 [00:00<?, ?it/s]"
      ],
      "application/vnd.jupyter.widget-view+json": {
       "version_major": 2,
       "version_minor": 0,
       "model_id": "4f8f4b8d321a4508af20a5c6432dc00b"
      }
     },
     "metadata": {},
     "output_type": "display_data"
    },
    {
     "data": {
      "text/plain": [
       "  0%|          | 0/11 [00:00<?, ?it/s]"
      ],
      "application/vnd.jupyter.widget-view+json": {
       "version_major": 2,
       "version_minor": 0,
       "model_id": "b3f518fc875e4e609e2ddbd161275837"
      }
     },
     "metadata": {},
     "output_type": "display_data"
    },
    {
     "data": {
      "text/plain": [
       "  0%|          | 0/69 [00:00<?, ?it/s]"
      ],
      "application/vnd.jupyter.widget-view+json": {
       "version_major": 2,
       "version_minor": 0,
       "model_id": "7c06048b0acb4612a56e17d4bb9ac88a"
      }
     },
     "metadata": {},
     "output_type": "display_data"
    },
    {
     "data": {
      "text/plain": [
       "  0%|          | 0/11 [00:00<?, ?it/s]"
      ],
      "application/vnd.jupyter.widget-view+json": {
       "version_major": 2,
       "version_minor": 0,
       "model_id": "6dea8bafa6ab43b193a0562daa60abe5"
      }
     },
     "metadata": {},
     "output_type": "display_data"
    },
    {
     "data": {
      "text/plain": [
       "  0%|          | 0/69 [00:00<?, ?it/s]"
      ],
      "application/vnd.jupyter.widget-view+json": {
       "version_major": 2,
       "version_minor": 0,
       "model_id": "2b2ebeb44f6a41e0b4050ae816550057"
      }
     },
     "metadata": {},
     "output_type": "display_data"
    },
    {
     "data": {
      "text/plain": [
       "  0%|          | 0/11 [00:00<?, ?it/s]"
      ],
      "application/vnd.jupyter.widget-view+json": {
       "version_major": 2,
       "version_minor": 0,
       "model_id": "7204e9f8e2674b8892a4668e5fe8c571"
      }
     },
     "metadata": {},
     "output_type": "display_data"
    },
    {
     "data": {
      "text/plain": [
       "  0%|          | 0/69 [00:00<?, ?it/s]"
      ],
      "application/vnd.jupyter.widget-view+json": {
       "version_major": 2,
       "version_minor": 0,
       "model_id": "2d671aede7fc46eca4d0a6145d3f0f5d"
      }
     },
     "metadata": {},
     "output_type": "display_data"
    },
    {
     "data": {
      "text/plain": [
       "  0%|          | 0/11 [00:00<?, ?it/s]"
      ],
      "application/vnd.jupyter.widget-view+json": {
       "version_major": 2,
       "version_minor": 0,
       "model_id": "29138a5b21a74bf8b33de12a3fe15459"
      }
     },
     "metadata": {},
     "output_type": "display_data"
    },
    {
     "data": {
      "text/plain": [
       "  0%|          | 0/69 [00:00<?, ?it/s]"
      ],
      "application/vnd.jupyter.widget-view+json": {
       "version_major": 2,
       "version_minor": 0,
       "model_id": "1575e483862d4e2bb6112424f0056b06"
      }
     },
     "metadata": {},
     "output_type": "display_data"
    },
    {
     "data": {
      "text/plain": [
       "  0%|          | 0/11 [00:00<?, ?it/s]"
      ],
      "application/vnd.jupyter.widget-view+json": {
       "version_major": 2,
       "version_minor": 0,
       "model_id": "89430f9267f44e72a68a09bc53718937"
      }
     },
     "metadata": {},
     "output_type": "display_data"
    },
    {
     "data": {
      "text/plain": [
       "  0%|          | 0/69 [00:00<?, ?it/s]"
      ],
      "application/vnd.jupyter.widget-view+json": {
       "version_major": 2,
       "version_minor": 0,
       "model_id": "c42c64d7d71c4d709bd869a5e7658d2b"
      }
     },
     "metadata": {},
     "output_type": "display_data"
    },
    {
     "data": {
      "text/plain": [
       "  0%|          | 0/11 [00:00<?, ?it/s]"
      ],
      "application/vnd.jupyter.widget-view+json": {
       "version_major": 2,
       "version_minor": 0,
       "model_id": "a1277b2088824f55be8fbb1c5eaca6f9"
      }
     },
     "metadata": {},
     "output_type": "display_data"
    },
    {
     "data": {
      "text/plain": [
       "  0%|          | 0/69 [00:00<?, ?it/s]"
      ],
      "application/vnd.jupyter.widget-view+json": {
       "version_major": 2,
       "version_minor": 0,
       "model_id": "bff2d0b5ef59483096ae2a5151e6b5fc"
      }
     },
     "metadata": {},
     "output_type": "display_data"
    },
    {
     "data": {
      "text/plain": [
       "  0%|          | 0/11 [00:00<?, ?it/s]"
      ],
      "application/vnd.jupyter.widget-view+json": {
       "version_major": 2,
       "version_minor": 0,
       "model_id": "3b24cdda597048aaba3378f00f7ce2be"
      }
     },
     "metadata": {},
     "output_type": "display_data"
    },
    {
     "data": {
      "text/plain": [
       "  0%|          | 0/69 [00:00<?, ?it/s]"
      ],
      "application/vnd.jupyter.widget-view+json": {
       "version_major": 2,
       "version_minor": 0,
       "model_id": "a878e878c796464a8fb0f7738dafd545"
      }
     },
     "metadata": {},
     "output_type": "display_data"
    },
    {
     "data": {
      "text/plain": [
       "  0%|          | 0/11 [00:00<?, ?it/s]"
      ],
      "application/vnd.jupyter.widget-view+json": {
       "version_major": 2,
       "version_minor": 0,
       "model_id": "09d85c9f90394633aa96568e9e4f9a79"
      }
     },
     "metadata": {},
     "output_type": "display_data"
    },
    {
     "data": {
      "text/plain": [
       "  0%|          | 0/69 [00:00<?, ?it/s]"
      ],
      "application/vnd.jupyter.widget-view+json": {
       "version_major": 2,
       "version_minor": 0,
       "model_id": "3883a331204a486db06f81ac7731cda4"
      }
     },
     "metadata": {},
     "output_type": "display_data"
    },
    {
     "data": {
      "text/plain": [
       "  0%|          | 0/11 [00:00<?, ?it/s]"
      ],
      "application/vnd.jupyter.widget-view+json": {
       "version_major": 2,
       "version_minor": 0,
       "model_id": "77e4398c7b6a4605b83841694229c224"
      }
     },
     "metadata": {},
     "output_type": "display_data"
    },
    {
     "data": {
      "text/plain": [
       "  0%|          | 0/69 [00:00<?, ?it/s]"
      ],
      "application/vnd.jupyter.widget-view+json": {
       "version_major": 2,
       "version_minor": 0,
       "model_id": "7b58066051954910be5904c0b34001d3"
      }
     },
     "metadata": {},
     "output_type": "display_data"
    },
    {
     "data": {
      "text/plain": [
       "  0%|          | 0/11 [00:00<?, ?it/s]"
      ],
      "application/vnd.jupyter.widget-view+json": {
       "version_major": 2,
       "version_minor": 0,
       "model_id": "98b522bf771149e7a6d0f3227580f793"
      }
     },
     "metadata": {},
     "output_type": "display_data"
    },
    {
     "data": {
      "text/plain": [
       "  0%|          | 0/69 [00:00<?, ?it/s]"
      ],
      "application/vnd.jupyter.widget-view+json": {
       "version_major": 2,
       "version_minor": 0,
       "model_id": "868e09fd33b8497ea797bd5597900cef"
      }
     },
     "metadata": {},
     "output_type": "display_data"
    },
    {
     "data": {
      "text/plain": [
       "  0%|          | 0/11 [00:00<?, ?it/s]"
      ],
      "application/vnd.jupyter.widget-view+json": {
       "version_major": 2,
       "version_minor": 0,
       "model_id": "aed596bb5be9466498433e2bd1e798f2"
      }
     },
     "metadata": {},
     "output_type": "display_data"
    },
    {
     "data": {
      "text/plain": [
       "  0%|          | 0/69 [00:00<?, ?it/s]"
      ],
      "application/vnd.jupyter.widget-view+json": {
       "version_major": 2,
       "version_minor": 0,
       "model_id": "7b977d8015944d8d8d2a2ea256de8346"
      }
     },
     "metadata": {},
     "output_type": "display_data"
    },
    {
     "data": {
      "text/plain": [
       "  0%|          | 0/11 [00:00<?, ?it/s]"
      ],
      "application/vnd.jupyter.widget-view+json": {
       "version_major": 2,
       "version_minor": 0,
       "model_id": "99ba9076aa494c4981174dd956ad2556"
      }
     },
     "metadata": {},
     "output_type": "display_data"
    },
    {
     "data": {
      "text/plain": [
       "  0%|          | 0/69 [00:00<?, ?it/s]"
      ],
      "application/vnd.jupyter.widget-view+json": {
       "version_major": 2,
       "version_minor": 0,
       "model_id": "5e47946b84ab428fbfb4dc666adda2b9"
      }
     },
     "metadata": {},
     "output_type": "display_data"
    },
    {
     "data": {
      "text/plain": [
       "  0%|          | 0/11 [00:00<?, ?it/s]"
      ],
      "application/vnd.jupyter.widget-view+json": {
       "version_major": 2,
       "version_minor": 0,
       "model_id": "39365c3e4fe54252ad612d3e218e2fc1"
      }
     },
     "metadata": {},
     "output_type": "display_data"
    },
    {
     "data": {
      "text/plain": [
       "  0%|          | 0/69 [00:00<?, ?it/s]"
      ],
      "application/vnd.jupyter.widget-view+json": {
       "version_major": 2,
       "version_minor": 0,
       "model_id": "aea19368d1de455eae4826f9aa21247c"
      }
     },
     "metadata": {},
     "output_type": "display_data"
    },
    {
     "data": {
      "text/plain": [
       "  0%|          | 0/11 [00:00<?, ?it/s]"
      ],
      "application/vnd.jupyter.widget-view+json": {
       "version_major": 2,
       "version_minor": 0,
       "model_id": "61ceda295b634eb6b0fec58a03c401c5"
      }
     },
     "metadata": {},
     "output_type": "display_data"
    },
    {
     "data": {
      "text/plain": [
       "  0%|          | 0/69 [00:00<?, ?it/s]"
      ],
      "application/vnd.jupyter.widget-view+json": {
       "version_major": 2,
       "version_minor": 0,
       "model_id": "2dadaf385afe47b68f022271df258c20"
      }
     },
     "metadata": {},
     "output_type": "display_data"
    },
    {
     "data": {
      "text/plain": [
       "  0%|          | 0/11 [00:00<?, ?it/s]"
      ],
      "application/vnd.jupyter.widget-view+json": {
       "version_major": 2,
       "version_minor": 0,
       "model_id": "f17af57fb2f84c7e9bc85c07a9a57683"
      }
     },
     "metadata": {},
     "output_type": "display_data"
    },
    {
     "data": {
      "text/plain": [
       "  0%|          | 0/69 [00:00<?, ?it/s]"
      ],
      "application/vnd.jupyter.widget-view+json": {
       "version_major": 2,
       "version_minor": 0,
       "model_id": "3dc12ab2133d4f8983bb3f676bdb3a54"
      }
     },
     "metadata": {},
     "output_type": "display_data"
    },
    {
     "data": {
      "text/plain": [
       "  0%|          | 0/11 [00:00<?, ?it/s]"
      ],
      "application/vnd.jupyter.widget-view+json": {
       "version_major": 2,
       "version_minor": 0,
       "model_id": "ab3c7282ea944cfbb1e99efcc249bb4f"
      }
     },
     "metadata": {},
     "output_type": "display_data"
    },
    {
     "data": {
      "text/plain": [
       "  0%|          | 0/69 [00:00<?, ?it/s]"
      ],
      "application/vnd.jupyter.widget-view+json": {
       "version_major": 2,
       "version_minor": 0,
       "model_id": "f8b8f5577a2d41b9965e1666480efea0"
      }
     },
     "metadata": {},
     "output_type": "display_data"
    },
    {
     "data": {
      "text/plain": [
       "  0%|          | 0/11 [00:00<?, ?it/s]"
      ],
      "application/vnd.jupyter.widget-view+json": {
       "version_major": 2,
       "version_minor": 0,
       "model_id": "50d9309ca8fa4cdcb563cc9a4c6e529d"
      }
     },
     "metadata": {},
     "output_type": "display_data"
    },
    {
     "data": {
      "text/plain": [
       "  0%|          | 0/69 [00:00<?, ?it/s]"
      ],
      "application/vnd.jupyter.widget-view+json": {
       "version_major": 2,
       "version_minor": 0,
       "model_id": "9ff92bcd33264eae90593c27e59f23c2"
      }
     },
     "metadata": {},
     "output_type": "display_data"
    }
   ],
   "execution_count": 22
  },
  {
   "metadata": {},
   "cell_type": "code",
   "outputs": [
    {
     "data": {
      "text/plain": [
       "  0%|          | 0/74 [00:00<?, ?it/s]"
      ],
      "application/vnd.jupyter.widget-view+json": {
       "version_major": 2,
       "version_minor": 0,
       "model_id": "7c1d9d9403264ac59f6bfa3a87687cbd"
      }
     },
     "metadata": {},
     "output_type": "display_data"
    },
    {
     "data": {
      "text/plain": [
       "  0%|          | 0/69 [00:00<?, ?it/s]"
      ],
      "application/vnd.jupyter.widget-view+json": {
       "version_major": 2,
       "version_minor": 0,
       "model_id": "090702b7205e4915ac24f6daf23cbdaf"
      }
     },
     "metadata": {},
     "output_type": "display_data"
    },
    {
     "data": {
      "text/plain": [
       "  0%|          | 0/68 [00:00<?, ?it/s]"
      ],
      "application/vnd.jupyter.widget-view+json": {
       "version_major": 2,
       "version_minor": 0,
       "model_id": "b3488d7de6124d2db573f1921a2b5a8e"
      }
     },
     "metadata": {},
     "output_type": "display_data"
    },
    {
     "data": {
      "text/plain": [
       "  0%|          | 0/68 [00:00<?, ?it/s]"
      ],
      "application/vnd.jupyter.widget-view+json": {
       "version_major": 2,
       "version_minor": 0,
       "model_id": "ac5f62d2029b46bda101595087cf1c1b"
      }
     },
     "metadata": {},
     "output_type": "display_data"
    },
    {
     "data": {
      "text/plain": [
       "  0%|          | 0/68 [00:00<?, ?it/s]"
      ],
      "application/vnd.jupyter.widget-view+json": {
       "version_major": 2,
       "version_minor": 0,
       "model_id": "4d68eb19b07648ba9f40143b5f86e5e4"
      }
     },
     "metadata": {},
     "output_type": "display_data"
    },
    {
     "data": {
      "text/plain": [
       "  0%|          | 0/68 [00:00<?, ?it/s]"
      ],
      "application/vnd.jupyter.widget-view+json": {
       "version_major": 2,
       "version_minor": 0,
       "model_id": "85878d6bda974ce39a8fc7703d683ade"
      }
     },
     "metadata": {},
     "output_type": "display_data"
    },
    {
     "data": {
      "text/plain": [
       "  0%|          | 0/69 [00:00<?, ?it/s]"
      ],
      "application/vnd.jupyter.widget-view+json": {
       "version_major": 2,
       "version_minor": 0,
       "model_id": "a1c0b1a581c347c88b15aaea02cc74a3"
      }
     },
     "metadata": {},
     "output_type": "display_data"
    },
    {
     "data": {
      "text/plain": [
       "  0%|          | 0/69 [00:00<?, ?it/s]"
      ],
      "application/vnd.jupyter.widget-view+json": {
       "version_major": 2,
       "version_minor": 0,
       "model_id": "875eaaccd8e446aeaaba2fbbb2d3b5e9"
      }
     },
     "metadata": {},
     "output_type": "display_data"
    },
    {
     "data": {
      "text/plain": [
       "  0%|          | 0/69 [00:00<?, ?it/s]"
      ],
      "application/vnd.jupyter.widget-view+json": {
       "version_major": 2,
       "version_minor": 0,
       "model_id": "2a7ba4deb34e49968785fb4651d7a45e"
      }
     },
     "metadata": {},
     "output_type": "display_data"
    },
    {
     "data": {
      "text/plain": [
       "  0%|          | 0/68 [00:00<?, ?it/s]"
      ],
      "application/vnd.jupyter.widget-view+json": {
       "version_major": 2,
       "version_minor": 0,
       "model_id": "88c572e988d04b60bc92b7e58c5e9bdd"
      }
     },
     "metadata": {},
     "output_type": "display_data"
    },
    {
     "data": {
      "text/plain": [
       "  0%|          | 0/69 [00:00<?, ?it/s]"
      ],
      "application/vnd.jupyter.widget-view+json": {
       "version_major": 2,
       "version_minor": 0,
       "model_id": "cf67bb12bc8448fbac5eddbf915d4a65"
      }
     },
     "metadata": {},
     "output_type": "display_data"
    },
    {
     "data": {
      "text/plain": [
       "  0%|          | 0/69 [00:00<?, ?it/s]"
      ],
      "application/vnd.jupyter.widget-view+json": {
       "version_major": 2,
       "version_minor": 0,
       "model_id": "b606072ff26d4a41a51b58a2598dd423"
      }
     },
     "metadata": {},
     "output_type": "display_data"
    },
    {
     "data": {
      "text/plain": [
       "  0%|          | 0/69 [00:00<?, ?it/s]"
      ],
      "application/vnd.jupyter.widget-view+json": {
       "version_major": 2,
       "version_minor": 0,
       "model_id": "430536ae049c4d04a38e5f6b843199e8"
      }
     },
     "metadata": {},
     "output_type": "display_data"
    },
    {
     "data": {
      "text/plain": [
       "  0%|          | 0/68 [00:00<?, ?it/s]"
      ],
      "application/vnd.jupyter.widget-view+json": {
       "version_major": 2,
       "version_minor": 0,
       "model_id": "b6ae8ca50d3a41b383ee0571db07872b"
      }
     },
     "metadata": {},
     "output_type": "display_data"
    },
    {
     "data": {
      "text/plain": [
       "  0%|          | 0/68 [00:00<?, ?it/s]"
      ],
      "application/vnd.jupyter.widget-view+json": {
       "version_major": 2,
       "version_minor": 0,
       "model_id": "a160a4f6e8cc488b904aa243b510b942"
      }
     },
     "metadata": {},
     "output_type": "display_data"
    },
    {
     "data": {
      "text/plain": [
       "  0%|          | 0/68 [00:00<?, ?it/s]"
      ],
      "application/vnd.jupyter.widget-view+json": {
       "version_major": 2,
       "version_minor": 0,
       "model_id": "125cb5663043479dae0387f9a9bb421d"
      }
     },
     "metadata": {},
     "output_type": "display_data"
    },
    {
     "data": {
      "text/plain": [
       "  0%|          | 0/68 [00:00<?, ?it/s]"
      ],
      "application/vnd.jupyter.widget-view+json": {
       "version_major": 2,
       "version_minor": 0,
       "model_id": "1eba935f09b941e688d9d77b3de8eba2"
      }
     },
     "metadata": {},
     "output_type": "display_data"
    },
    {
     "data": {
      "text/plain": [
       "  0%|          | 0/69 [00:00<?, ?it/s]"
      ],
      "application/vnd.jupyter.widget-view+json": {
       "version_major": 2,
       "version_minor": 0,
       "model_id": "c8f3ff5a15ad497db9e41a025fa79254"
      }
     },
     "metadata": {},
     "output_type": "display_data"
    },
    {
     "data": {
      "text/plain": [
       "  0%|          | 0/68 [00:00<?, ?it/s]"
      ],
      "application/vnd.jupyter.widget-view+json": {
       "version_major": 2,
       "version_minor": 0,
       "model_id": "53afe5234cd348d99d3dbe37b5ec2ffc"
      }
     },
     "metadata": {},
     "output_type": "display_data"
    },
    {
     "data": {
      "text/plain": [
       "  0%|          | 0/69 [00:00<?, ?it/s]"
      ],
      "application/vnd.jupyter.widget-view+json": {
       "version_major": 2,
       "version_minor": 0,
       "model_id": "41e3d80f6c794d6285859128315c03e0"
      }
     },
     "metadata": {},
     "output_type": "display_data"
    },
    {
     "data": {
      "text/plain": [
       "  0%|          | 0/68 [00:00<?, ?it/s]"
      ],
      "application/vnd.jupyter.widget-view+json": {
       "version_major": 2,
       "version_minor": 0,
       "model_id": "5dc6c41022624fb8a549180690b16d7c"
      }
     },
     "metadata": {},
     "output_type": "display_data"
    },
    {
     "data": {
      "text/plain": [
       "  0%|          | 0/68 [00:00<?, ?it/s]"
      ],
      "application/vnd.jupyter.widget-view+json": {
       "version_major": 2,
       "version_minor": 0,
       "model_id": "140a43996dee436a893da3f02051a733"
      }
     },
     "metadata": {},
     "output_type": "display_data"
    },
    {
     "data": {
      "text/plain": [
       "  0%|          | 0/69 [00:00<?, ?it/s]"
      ],
      "application/vnd.jupyter.widget-view+json": {
       "version_major": 2,
       "version_minor": 0,
       "model_id": "75b74857107a4ddeaf3e5d712935948c"
      }
     },
     "metadata": {},
     "output_type": "display_data"
    },
    {
     "data": {
      "text/plain": [
       "  0%|          | 0/69 [00:00<?, ?it/s]"
      ],
      "application/vnd.jupyter.widget-view+json": {
       "version_major": 2,
       "version_minor": 0,
       "model_id": "e47a60d3515440b6a2524e267f5d5c78"
      }
     },
     "metadata": {},
     "output_type": "display_data"
    },
    {
     "data": {
      "text/plain": [
       "  0%|          | 0/69 [00:00<?, ?it/s]"
      ],
      "application/vnd.jupyter.widget-view+json": {
       "version_major": 2,
       "version_minor": 0,
       "model_id": "5ecdc6b8fa33408c80892e1d92ffb500"
      }
     },
     "metadata": {},
     "output_type": "display_data"
    },
    {
     "data": {
      "text/plain": [
       "  0%|          | 0/69 [00:00<?, ?it/s]"
      ],
      "application/vnd.jupyter.widget-view+json": {
       "version_major": 2,
       "version_minor": 0,
       "model_id": "508d2caec2894b06ac6ac76529005e3d"
      }
     },
     "metadata": {},
     "output_type": "display_data"
    },
    {
     "data": {
      "text/plain": [
       "  0%|          | 0/69 [00:00<?, ?it/s]"
      ],
      "application/vnd.jupyter.widget-view+json": {
       "version_major": 2,
       "version_minor": 0,
       "model_id": "2b1fa59a573e4118aac1e5f6a1867e19"
      }
     },
     "metadata": {},
     "output_type": "display_data"
    },
    {
     "data": {
      "text/plain": [
       "  0%|          | 0/69 [00:00<?, ?it/s]"
      ],
      "application/vnd.jupyter.widget-view+json": {
       "version_major": 2,
       "version_minor": 0,
       "model_id": "78183ba650a54f32aa38430c7bd3e1a3"
      }
     },
     "metadata": {},
     "output_type": "display_data"
    },
    {
     "data": {
      "text/plain": [
       "  0%|          | 0/69 [00:00<?, ?it/s]"
      ],
      "application/vnd.jupyter.widget-view+json": {
       "version_major": 2,
       "version_minor": 0,
       "model_id": "cc694916dc134093a9f3953c49cc32d7"
      }
     },
     "metadata": {},
     "output_type": "display_data"
    },
    {
     "data": {
      "text/plain": [
       "  0%|          | 0/68 [00:00<?, ?it/s]"
      ],
      "application/vnd.jupyter.widget-view+json": {
       "version_major": 2,
       "version_minor": 0,
       "model_id": "c5594b9b16d54cd6bad6c698be618f08"
      }
     },
     "metadata": {},
     "output_type": "display_data"
    },
    {
     "data": {
      "text/plain": [
       "  0%|          | 0/68 [00:00<?, ?it/s]"
      ],
      "application/vnd.jupyter.widget-view+json": {
       "version_major": 2,
       "version_minor": 0,
       "model_id": "1e5b7d604dae41cd8645e2ae1db6b6b8"
      }
     },
     "metadata": {},
     "output_type": "display_data"
    },
    {
     "data": {
      "text/plain": [
       "  0%|          | 0/68 [00:00<?, ?it/s]"
      ],
      "application/vnd.jupyter.widget-view+json": {
       "version_major": 2,
       "version_minor": 0,
       "model_id": "91f427efe2754e0b855d7a46a5d88ac8"
      }
     },
     "metadata": {},
     "output_type": "display_data"
    },
    {
     "data": {
      "text/plain": [
       "  0%|          | 0/69 [00:00<?, ?it/s]"
      ],
      "application/vnd.jupyter.widget-view+json": {
       "version_major": 2,
       "version_minor": 0,
       "model_id": "b75667ebc4d34e9ea32bc192be76369f"
      }
     },
     "metadata": {},
     "output_type": "display_data"
    },
    {
     "data": {
      "text/plain": [
       "  0%|          | 0/69 [00:00<?, ?it/s]"
      ],
      "application/vnd.jupyter.widget-view+json": {
       "version_major": 2,
       "version_minor": 0,
       "model_id": "e27ea09c73ee472489582378785329eb"
      }
     },
     "metadata": {},
     "output_type": "display_data"
    },
    {
     "data": {
      "text/plain": [
       "  0%|          | 0/69 [00:00<?, ?it/s]"
      ],
      "application/vnd.jupyter.widget-view+json": {
       "version_major": 2,
       "version_minor": 0,
       "model_id": "a985b31dd5204b0695706854b67ef404"
      }
     },
     "metadata": {},
     "output_type": "display_data"
    },
    {
     "data": {
      "text/plain": [
       "  0%|          | 0/68 [00:00<?, ?it/s]"
      ],
      "application/vnd.jupyter.widget-view+json": {
       "version_major": 2,
       "version_minor": 0,
       "model_id": "ede3a8995c0243029ad5fa3b78267a47"
      }
     },
     "metadata": {},
     "output_type": "display_data"
    },
    {
     "data": {
      "text/plain": [
       "  0%|          | 0/69 [00:00<?, ?it/s]"
      ],
      "application/vnd.jupyter.widget-view+json": {
       "version_major": 2,
       "version_minor": 0,
       "model_id": "06f503588ef6422099eb3f4407ef4fdd"
      }
     },
     "metadata": {},
     "output_type": "display_data"
    },
    {
     "data": {
      "text/plain": [
       "  0%|          | 0/68 [00:00<?, ?it/s]"
      ],
      "application/vnd.jupyter.widget-view+json": {
       "version_major": 2,
       "version_minor": 0,
       "model_id": "02eb6a3bf9d04cb5a886c5f9e8e51977"
      }
     },
     "metadata": {},
     "output_type": "display_data"
    },
    {
     "data": {
      "text/plain": [
       "  0%|          | 0/69 [00:00<?, ?it/s]"
      ],
      "application/vnd.jupyter.widget-view+json": {
       "version_major": 2,
       "version_minor": 0,
       "model_id": "8db27cad9b3745758ddcd83c4a5e98af"
      }
     },
     "metadata": {},
     "output_type": "display_data"
    },
    {
     "data": {
      "text/plain": [
       "  0%|          | 0/68 [00:00<?, ?it/s]"
      ],
      "application/vnd.jupyter.widget-view+json": {
       "version_major": 2,
       "version_minor": 0,
       "model_id": "24e055c124184afdb00a9bfe1869d872"
      }
     },
     "metadata": {},
     "output_type": "display_data"
    },
    {
     "data": {
      "text/plain": [
       "  0%|          | 0/68 [00:00<?, ?it/s]"
      ],
      "application/vnd.jupyter.widget-view+json": {
       "version_major": 2,
       "version_minor": 0,
       "model_id": "4f25d634f99c45c78f498826d986d278"
      }
     },
     "metadata": {},
     "output_type": "display_data"
    },
    {
     "data": {
      "text/plain": [
       "  0%|          | 0/68 [00:00<?, ?it/s]"
      ],
      "application/vnd.jupyter.widget-view+json": {
       "version_major": 2,
       "version_minor": 0,
       "model_id": "42eb293b0983439d984d0c53c7cb0674"
      }
     },
     "metadata": {},
     "output_type": "display_data"
    },
    {
     "data": {
      "text/plain": [
       "  0%|          | 0/69 [00:00<?, ?it/s]"
      ],
      "application/vnd.jupyter.widget-view+json": {
       "version_major": 2,
       "version_minor": 0,
       "model_id": "2e6eabf6ae034396806e2162f17624b3"
      }
     },
     "metadata": {},
     "output_type": "display_data"
    },
    {
     "data": {
      "text/plain": [
       "  0%|          | 0/69 [00:00<?, ?it/s]"
      ],
      "application/vnd.jupyter.widget-view+json": {
       "version_major": 2,
       "version_minor": 0,
       "model_id": "6271db1125bd43939f4bc0abd50433fd"
      }
     },
     "metadata": {},
     "output_type": "display_data"
    },
    {
     "data": {
      "text/plain": [
       "  0%|          | 0/69 [00:00<?, ?it/s]"
      ],
      "application/vnd.jupyter.widget-view+json": {
       "version_major": 2,
       "version_minor": 0,
       "model_id": "405c1ed594a54f41b472db7469a44e75"
      }
     },
     "metadata": {},
     "output_type": "display_data"
    },
    {
     "data": {
      "text/plain": [
       "  0%|          | 0/69 [00:00<?, ?it/s]"
      ],
      "application/vnd.jupyter.widget-view+json": {
       "version_major": 2,
       "version_minor": 0,
       "model_id": "1660ece740b14c4a9dc6be3f5b14dcc0"
      }
     },
     "metadata": {},
     "output_type": "display_data"
    },
    {
     "data": {
      "text/plain": [
       "  0%|          | 0/69 [00:00<?, ?it/s]"
      ],
      "application/vnd.jupyter.widget-view+json": {
       "version_major": 2,
       "version_minor": 0,
       "model_id": "72ab8fa3ea684740a3359697fa29f134"
      }
     },
     "metadata": {},
     "output_type": "display_data"
    },
    {
     "data": {
      "text/plain": [
       "  0%|          | 0/68 [00:00<?, ?it/s]"
      ],
      "application/vnd.jupyter.widget-view+json": {
       "version_major": 2,
       "version_minor": 0,
       "model_id": "196fe3b395ba4dda9e53e7c2340aba63"
      }
     },
     "metadata": {},
     "output_type": "display_data"
    },
    {
     "data": {
      "text/plain": [
       "  0%|          | 0/69 [00:00<?, ?it/s]"
      ],
      "application/vnd.jupyter.widget-view+json": {
       "version_major": 2,
       "version_minor": 0,
       "model_id": "ee617b3eea5d4ea790d486c690aad12c"
      }
     },
     "metadata": {},
     "output_type": "display_data"
    },
    {
     "data": {
      "text/plain": [
       "  0%|          | 0/69 [00:00<?, ?it/s]"
      ],
      "application/vnd.jupyter.widget-view+json": {
       "version_major": 2,
       "version_minor": 0,
       "model_id": "324a802e8679487b949b909c27d93bee"
      }
     },
     "metadata": {},
     "output_type": "display_data"
    },
    {
     "data": {
      "text/plain": [
       "  0%|          | 0/68 [00:00<?, ?it/s]"
      ],
      "application/vnd.jupyter.widget-view+json": {
       "version_major": 2,
       "version_minor": 0,
       "model_id": "0f11e32486024c69954f2528d596d840"
      }
     },
     "metadata": {},
     "output_type": "display_data"
    },
    {
     "data": {
      "text/plain": [
       "  0%|          | 0/68 [00:00<?, ?it/s]"
      ],
      "application/vnd.jupyter.widget-view+json": {
       "version_major": 2,
       "version_minor": 0,
       "model_id": "d0f7dd186749433cb5239a26a01e84e3"
      }
     },
     "metadata": {},
     "output_type": "display_data"
    },
    {
     "data": {
      "text/plain": [
       "  0%|          | 0/69 [00:00<?, ?it/s]"
      ],
      "application/vnd.jupyter.widget-view+json": {
       "version_major": 2,
       "version_minor": 0,
       "model_id": "3fee382d8ce14d58b13d257a6bc6b864"
      }
     },
     "metadata": {},
     "output_type": "display_data"
    },
    {
     "data": {
      "text/plain": [
       "  0%|          | 0/69 [00:00<?, ?it/s]"
      ],
      "application/vnd.jupyter.widget-view+json": {
       "version_major": 2,
       "version_minor": 0,
       "model_id": "2eba3116a2084b3db073a3127c8db162"
      }
     },
     "metadata": {},
     "output_type": "display_data"
    },
    {
     "data": {
      "text/plain": [
       "  0%|          | 0/68 [00:00<?, ?it/s]"
      ],
      "application/vnd.jupyter.widget-view+json": {
       "version_major": 2,
       "version_minor": 0,
       "model_id": "551deaec148e493cb992549414e4cd42"
      }
     },
     "metadata": {},
     "output_type": "display_data"
    },
    {
     "data": {
      "text/plain": [
       "  0%|          | 0/68 [00:00<?, ?it/s]"
      ],
      "application/vnd.jupyter.widget-view+json": {
       "version_major": 2,
       "version_minor": 0,
       "model_id": "5b7654b5ec36434db406385e84e4d668"
      }
     },
     "metadata": {},
     "output_type": "display_data"
    },
    {
     "data": {
      "text/plain": [
       "  0%|          | 0/69 [00:00<?, ?it/s]"
      ],
      "application/vnd.jupyter.widget-view+json": {
       "version_major": 2,
       "version_minor": 0,
       "model_id": "410824fc67b549e0ba7eff992220ddc1"
      }
     },
     "metadata": {},
     "output_type": "display_data"
    },
    {
     "data": {
      "text/plain": [
       "  0%|          | 0/69 [00:00<?, ?it/s]"
      ],
      "application/vnd.jupyter.widget-view+json": {
       "version_major": 2,
       "version_minor": 0,
       "model_id": "d6c66e82fd274d07b3f5cf192b70d890"
      }
     },
     "metadata": {},
     "output_type": "display_data"
    },
    {
     "data": {
      "text/plain": [
       "  0%|          | 0/69 [00:00<?, ?it/s]"
      ],
      "application/vnd.jupyter.widget-view+json": {
       "version_major": 2,
       "version_minor": 0,
       "model_id": "26aad869dfef40d9b6e7876adacdd707"
      }
     },
     "metadata": {},
     "output_type": "display_data"
    },
    {
     "data": {
      "text/plain": [
       "  0%|          | 0/69 [00:00<?, ?it/s]"
      ],
      "application/vnd.jupyter.widget-view+json": {
       "version_major": 2,
       "version_minor": 0,
       "model_id": "889d71d6db744aa1b55da4b4bcd22715"
      }
     },
     "metadata": {},
     "output_type": "display_data"
    },
    {
     "data": {
      "text/plain": [
       "  0%|          | 0/69 [00:00<?, ?it/s]"
      ],
      "application/vnd.jupyter.widget-view+json": {
       "version_major": 2,
       "version_minor": 0,
       "model_id": "0bd35ca1cb4b47609e457552aa245fc7"
      }
     },
     "metadata": {},
     "output_type": "display_data"
    },
    {
     "data": {
      "text/plain": [
       "  0%|          | 0/69 [00:00<?, ?it/s]"
      ],
      "application/vnd.jupyter.widget-view+json": {
       "version_major": 2,
       "version_minor": 0,
       "model_id": "774eade4b24b49aa8412f2135f44a193"
      }
     },
     "metadata": {},
     "output_type": "display_data"
    },
    {
     "data": {
      "text/plain": [
       "  0%|          | 0/68 [00:00<?, ?it/s]"
      ],
      "application/vnd.jupyter.widget-view+json": {
       "version_major": 2,
       "version_minor": 0,
       "model_id": "b234c090a6d446a3a0fefc244ecb3736"
      }
     },
     "metadata": {},
     "output_type": "display_data"
    },
    {
     "data": {
      "text/plain": [
       "  0%|          | 0/69 [00:00<?, ?it/s]"
      ],
      "application/vnd.jupyter.widget-view+json": {
       "version_major": 2,
       "version_minor": 0,
       "model_id": "f261a57079e6424aacca58fc4a6d6ad7"
      }
     },
     "metadata": {},
     "output_type": "display_data"
    },
    {
     "data": {
      "text/plain": [
       "  0%|          | 0/68 [00:00<?, ?it/s]"
      ],
      "application/vnd.jupyter.widget-view+json": {
       "version_major": 2,
       "version_minor": 0,
       "model_id": "003a82ecd6ed4774b09bb98d944b5015"
      }
     },
     "metadata": {},
     "output_type": "display_data"
    },
    {
     "data": {
      "text/plain": [
       "  0%|          | 0/68 [00:00<?, ?it/s]"
      ],
      "application/vnd.jupyter.widget-view+json": {
       "version_major": 2,
       "version_minor": 0,
       "model_id": "c513e254b961444d8be98bec6f2b1f31"
      }
     },
     "metadata": {},
     "output_type": "display_data"
    },
    {
     "data": {
      "text/plain": [
       "  0%|          | 0/69 [00:00<?, ?it/s]"
      ],
      "application/vnd.jupyter.widget-view+json": {
       "version_major": 2,
       "version_minor": 0,
       "model_id": "a5084ae8c367435f8f05e4e3de7f9197"
      }
     },
     "metadata": {},
     "output_type": "display_data"
    },
    {
     "data": {
      "text/plain": [
       "  0%|          | 0/69 [00:00<?, ?it/s]"
      ],
      "application/vnd.jupyter.widget-view+json": {
       "version_major": 2,
       "version_minor": 0,
       "model_id": "85bc6df25f5d48a283fcdc0124f856f0"
      }
     },
     "metadata": {},
     "output_type": "display_data"
    },
    {
     "data": {
      "text/plain": [
       "  0%|          | 0/69 [00:00<?, ?it/s]"
      ],
      "application/vnd.jupyter.widget-view+json": {
       "version_major": 2,
       "version_minor": 0,
       "model_id": "bdb0282c69744a1e8f10a09ed84dbf7d"
      }
     },
     "metadata": {},
     "output_type": "display_data"
    },
    {
     "data": {
      "text/plain": [
       "  0%|          | 0/68 [00:00<?, ?it/s]"
      ],
      "application/vnd.jupyter.widget-view+json": {
       "version_major": 2,
       "version_minor": 0,
       "model_id": "b4c22f5db2e54e2faaf4f69e03b6d3af"
      }
     },
     "metadata": {},
     "output_type": "display_data"
    },
    {
     "data": {
      "text/plain": [
       "  0%|          | 0/69 [00:00<?, ?it/s]"
      ],
      "application/vnd.jupyter.widget-view+json": {
       "version_major": 2,
       "version_minor": 0,
       "model_id": "64ce88b6f8e64eb08392dd64b0c6082c"
      }
     },
     "metadata": {},
     "output_type": "display_data"
    },
    {
     "data": {
      "text/plain": [
       "  0%|          | 0/69 [00:00<?, ?it/s]"
      ],
      "application/vnd.jupyter.widget-view+json": {
       "version_major": 2,
       "version_minor": 0,
       "model_id": "0e2f78c7e018418ab68646bb27ca0c60"
      }
     },
     "metadata": {},
     "output_type": "display_data"
    },
    {
     "data": {
      "text/plain": [
       "  0%|          | 0/68 [00:00<?, ?it/s]"
      ],
      "application/vnd.jupyter.widget-view+json": {
       "version_major": 2,
       "version_minor": 0,
       "model_id": "110eee1c84fc4b178bd37f5f2d4fc9e4"
      }
     },
     "metadata": {},
     "output_type": "display_data"
    },
    {
     "data": {
      "text/plain": [
       "  0%|          | 0/69 [00:00<?, ?it/s]"
      ],
      "application/vnd.jupyter.widget-view+json": {
       "version_major": 2,
       "version_minor": 0,
       "model_id": "9bd548fe6e4244a0ba0a9b257f4468dd"
      }
     },
     "metadata": {},
     "output_type": "display_data"
    }
   ],
   "execution_count": 39,
   "source": [
    "\n",
    "\n",
    "for target_index in tqdm(range(len(assignment[0]))):\n",
    "    source_index = inverse_assignment[target_index].item()\n",
    "    if assignment[0, source_index] < 0:\n",
    "        continue\n",
    "    chunk_start_s = source_index * chunk_size_seconds\n",
    "    chunk_end_s = chunk_start_s + chunk_size_seconds\n",
    "    #print(source_index, chunk_start_s, chunk_end_s)\n",
    "    video_data = video.get_clip(start_sec = chunk_start_s, end_sec = chunk_end_s)\n",
    "    #print(video_data['video'].shape)\n",
    "    video_frames = video_data['video']\n",
    "    for frame_index in tqdm(range(video_frames.shape[1]), leave=False):\n",
    "        frame_data = video_frames[:, frame_index].byte().permute(1, 2, 0)\n",
    "        #print(frame_data.shape, frame_data[0][0])\n",
    "        frame = av.VideoFrame.from_ndarray(frame_data.numpy(), format=\"rgb24\")\n",
    "        frame.pts = None\n",
    "        video_output.mux(stream.encode(frame))\n",
    "        del frame\n",
    "    del video_data\n",
    "\n",
    "video_output.close()\n"
   ],
   "id": "916e95e7cb9d4eeb"
  },
  {
   "metadata": {
    "ExecuteTime": {
     "end_time": "2025-07-04T09:58:02.143148Z",
     "start_time": "2025-07-04T09:58:02.101763Z"
    }
   },
   "cell_type": "code",
   "source": "print(float(video.duration))",
   "id": "92b7041cb00f7abc",
   "outputs": [
    {
     "name": "stdout",
     "output_type": "stream",
     "text": [
      "2252288/11025\n"
     ]
    }
   ],
   "execution_count": 50
  },
  {
   "metadata": {
    "ExecuteTime": {
     "end_time": "2025-07-04T09:55:33.525701Z",
     "start_time": "2025-07-04T09:55:33.463269Z"
    }
   },
   "cell_type": "code",
   "source": [
    "\n",
    "assignment[0], torch.unique(assignment[0])[1:] == torch.arange(len(assignment[0])-1)"
   ],
   "id": "36e943b87dad48ec",
   "outputs": [
    {
     "data": {
      "text/plain": [
       "(tensor([35, 33, 34, 32, 29, 45, 30, 31, 48, 46, 47, 28, 51, 53, 60, 58, 49, 56,\n",
       "          1, 22,  4,  6,  9, 14, 25, 20, 21, 16, 72, 69, 71, 70, 63, 65, 68, 62,\n",
       "         66, 64, 67, 61, 52, 54, 59, 57, 50, 55,  2,  0,  8,  5, 10, 13, 27, 17,\n",
       "         23, 19, 37, 42, 40, 41, 39, 44, 38, 43,  7,  3, 11, 12, 26, 15, 24, 18,\n",
       "         36, -1]),\n",
       " tensor([True, True, True, True, True, True, True, True, True, True, True, True,\n",
       "         True, True, True, True, True, True, True, True, True, True, True, True,\n",
       "         True, True, True, True, True, True, True, True, True, True, True, True,\n",
       "         True, True, True, True, True, True, True, True, True, True, True, True,\n",
       "         True, True, True, True, True, True, True, True, True, True, True, True,\n",
       "         True, True, True, True, True, True, True, True, True, True, True, True,\n",
       "         True]))"
      ]
     },
     "execution_count": 42,
     "metadata": {},
     "output_type": "execute_result"
    }
   ],
   "execution_count": 42
  },
  {
   "metadata": {
    "ExecuteTime": {
     "end_time": "2025-07-05T07:25:03.309664Z",
     "start_time": "2025-07-05T07:25:03.204217Z"
    }
   },
   "cell_type": "code",
   "source": [
    "inverse_assignment = torch.argsort(assignment[0])\n",
    "inverse_assignment"
   ],
   "id": "bd9bd412ca89f30",
   "outputs": [
    {
     "data": {
      "text/plain": [
       "tensor([47, 18, 46, 65, 20, 49, 21, 64, 48, 22, 50, 66, 67, 51, 23, 69, 27, 53,\n",
       "        71, 55, 25, 26, 19, 54, 70, 24, 68, 52, 11,  4,  6,  7,  3,  1,  2,  0,\n",
       "        72, 56, 62, 60, 58, 59, 57, 63, 61,  5,  9, 10,  8, 16, 44, 12, 40, 13,\n",
       "        41, 45, 17, 43, 15, 42, 14, 39, 35, 32, 37, 33, 36, 38, 34, 29, 31, 30,\n",
       "        28])"
      ]
     },
     "execution_count": 28,
     "metadata": {},
     "output_type": "execute_result"
    }
   ],
   "execution_count": 28
  },
  {
   "metadata": {
    "ExecuteTime": {
     "end_time": "2025-07-04T09:49:41.040517Z",
     "start_time": "2025-07-04T09:49:40.936108Z"
    }
   },
   "cell_type": "code",
   "source": [
    "a = torch.tensor([0, 4, 2, 1, 3])\n",
    "torch.argsort(a)"
   ],
   "id": "f3a090e7532c1220",
   "outputs": [
    {
     "data": {
      "text/plain": [
       "tensor([0, 3, 2, 4, 1])"
      ]
     },
     "execution_count": 23,
     "metadata": {},
     "output_type": "execute_result"
    }
   ],
   "execution_count": 23
  },
  {
   "metadata": {
    "ExecuteTime": {
     "end_time": "2025-07-04T09:59:34.191969Z",
     "start_time": "2025-07-04T09:59:32.714488Z"
    }
   },
   "cell_type": "code",
   "source": [
    "clip_start_sec = 0.0 # secs\n",
    "clip_duration = 2.0 # secs\n",
    "video_data = video.get_clip(start_sec=clip_start_sec, end_sec=clip_start_sec + clip_duration)"
   ],
   "id": "dc7c8f7395c480c3",
   "outputs": [],
   "execution_count": 12
  },
  {
   "metadata": {
    "ExecuteTime": {
     "end_time": "2025-07-04T09:59:35.794944Z",
     "start_time": "2025-07-04T09:59:35.747888Z"
    }
   },
   "cell_type": "code",
   "source": "video_data['video'].shape",
   "id": "2feb8451631c1cd0",
   "outputs": [
    {
     "data": {
      "text/plain": [
       "torch.Size([3, 50, 1080, 1920])"
      ]
     },
     "execution_count": 13,
     "metadata": {},
     "output_type": "execute_result"
    }
   ],
   "execution_count": 13
  },
  {
   "metadata": {
    "ExecuteTime": {
     "end_time": "2025-07-04T17:02:27.183440Z",
     "start_time": "2025-07-04T17:01:35.434796Z"
    }
   },
   "cell_type": "code",
   "source": [
    "import tracemalloc\n",
    "from tqdm.auto import tqdm\n",
    "try:\n",
    "    tracemalloc.start()\n",
    "    print(\"start:\", torch.mps.current_allocated_memory()/(1024*1024), tracemalloc.get_traced_memory()[0]/(1024*1024))\n",
    "    video_chunks = [None] * len(assignment[0])\n",
    "    for source_index, target_index in enumerate(tqdm(assignment[0])):\n",
    "        chunk_start_s = source_index * chunk_size_seconds\n",
    "        chunk_end_s = chunk_start_s + chunk_size_seconds\n",
    "        video_data = video.get_clip(start_sec = chunk_start_s, end_sec = chunk_end_s)\n",
    "        video_chunks[target_index] = video_data['video'].byte()\n",
    "        print(\"after chunk\", source_index, \":\", torch.mps.current_allocated_memory()/(1024*1024), tracemalloc.get_traced_memory()[0]/(1024*1024))\n",
    "        del video_data\n",
    "finally:\n",
    "    tracemalloc.stop()\n"
   ],
   "id": "a3e7179f6ad5efef",
   "outputs": [
    {
     "name": "stdout",
     "output_type": "stream",
     "text": [
      "start: 587.101806640625 0.0\n"
     ]
    },
    {
     "data": {
      "text/plain": [
       "  0%|          | 0/74 [00:00<?, ?it/s]"
      ],
      "application/vnd.jupyter.widget-view+json": {
       "version_major": 2,
       "version_minor": 0,
       "model_id": "c67058c6c2b04fb99a78d34bd3cea543"
      }
     },
     "metadata": {},
     "output_type": "display_data"
    },
    {
     "name": "stdout",
     "output_type": "stream",
     "text": [
      "after chunk 0 : 587.101806640625 0.6500930786132812\n",
      "after chunk 1 : 587.101806640625 0.6857318878173828\n",
      "after chunk 2 : 587.101806640625 0.7408819198608398\n",
      "after chunk 3 : 587.101806640625 0.6764802932739258\n",
      "after chunk 4 : 587.101806640625 0.7214689254760742\n",
      "after chunk 5 : 587.101806640625 0.7545967102050781\n"
     ]
    },
    {
     "name": "stderr",
     "output_type": "stream",
     "text": [
      "mmco: unref short failure\n"
     ]
    },
    {
     "name": "stdout",
     "output_type": "stream",
     "text": [
      "after chunk 6 : 587.101806640625 0.8030595779418945\n",
      "after chunk 7 : 587.101806640625 0.8352193832397461\n",
      "after chunk 8 : 587.101806640625 0.7493391036987305\n",
      "after chunk 9 : 587.101806640625 0.788111686706543\n",
      "after chunk 10 : 587.101806640625 0.8159360885620117\n",
      "after chunk 11 : 587.101806640625 0.869598388671875\n",
      "after chunk 12 : 587.101806640625 0.8976469039916992\n",
      "after chunk 13 : 587.101806640625 0.7922000885009766\n"
     ]
    },
    {
     "ename": "KeyboardInterrupt",
     "evalue": "",
     "output_type": "error",
     "traceback": [
      "\u001B[31m---------------------------------------------------------------------------\u001B[39m",
      "\u001B[31mKeyboardInterrupt\u001B[39m                         Traceback (most recent call last)",
      "\u001B[36mCell\u001B[39m\u001B[36m \u001B[39m\u001B[32mIn[54]\u001B[39m\u001B[32m, line 10\u001B[39m\n\u001B[32m      8\u001B[39m chunk_start_s = source_index * chunk_size_seconds\n\u001B[32m      9\u001B[39m chunk_end_s = chunk_start_s + chunk_size_seconds\n\u001B[32m---> \u001B[39m\u001B[32m10\u001B[39m video_data = \u001B[43mvideo\u001B[49m\u001B[43m.\u001B[49m\u001B[43mget_clip\u001B[49m\u001B[43m(\u001B[49m\u001B[43mstart_sec\u001B[49m\u001B[43m \u001B[49m\u001B[43m=\u001B[49m\u001B[43m \u001B[49m\u001B[43mchunk_start_s\u001B[49m\u001B[43m,\u001B[49m\u001B[43m \u001B[49m\u001B[43mend_sec\u001B[49m\u001B[43m \u001B[49m\u001B[43m=\u001B[49m\u001B[43m \u001B[49m\u001B[43mchunk_end_s\u001B[49m\u001B[43m)\u001B[49m\n\u001B[32m     11\u001B[39m video_chunks[target_index] = video_data[\u001B[33m'\u001B[39m\u001B[33mvideo\u001B[39m\u001B[33m'\u001B[39m].byte()\n\u001B[32m     12\u001B[39m \u001B[38;5;28mprint\u001B[39m(\u001B[33m\"\u001B[39m\u001B[33mafter chunk\u001B[39m\u001B[33m\"\u001B[39m, source_index, \u001B[33m\"\u001B[39m\u001B[33m:\u001B[39m\u001B[33m\"\u001B[39m, torch.mps.current_allocated_memory()/(\u001B[32m1024\u001B[39m*\u001B[32m1024\u001B[39m), tracemalloc.get_traced_memory()[\u001B[32m0\u001B[39m]/(\u001B[32m1024\u001B[39m*\u001B[32m1024\u001B[39m))\n",
      "\u001B[36mFile \u001B[39m\u001B[32m~/2.current/clapSlice/venv/lib/python3.12/site-packages/pytorchvideo/data/encoded_video_pyav.py:202\u001B[39m, in \u001B[36mEncodedVideoPyAV.get_clip\u001B[39m\u001B[34m(self, start_sec, end_sec)\u001B[39m\n\u001B[32m    199\u001B[39m     video_frames = \u001B[38;5;28;01mNone\u001B[39;00m\n\u001B[32m    201\u001B[39m \u001B[38;5;28;01mif\u001B[39;00m video_frames \u001B[38;5;129;01mis\u001B[39;00m \u001B[38;5;129;01mnot\u001B[39;00m \u001B[38;5;28;01mNone\u001B[39;00m:\n\u001B[32m--> \u001B[39m\u001B[32m202\u001B[39m     video_frames = thwc_to_cthw(\u001B[43mtorch\u001B[49m\u001B[43m.\u001B[49m\u001B[43mstack\u001B[49m\u001B[43m(\u001B[49m\u001B[43mvideo_frames\u001B[49m\u001B[43m)\u001B[49m).to(torch.float32)\n\u001B[32m    204\u001B[39m \u001B[38;5;28;01mreturn\u001B[39;00m {\n\u001B[32m    205\u001B[39m     \u001B[33m\"\u001B[39m\u001B[33mvideo\u001B[39m\u001B[33m\"\u001B[39m: video_frames,\n\u001B[32m    206\u001B[39m     \u001B[33m\"\u001B[39m\u001B[33maudio\u001B[39m\u001B[33m\"\u001B[39m: audio_samples,\n\u001B[32m    207\u001B[39m }\n",
      "\u001B[31mKeyboardInterrupt\u001B[39m: "
     ]
    }
   ],
   "execution_count": 54
  },
  {
   "metadata": {
    "ExecuteTime": {
     "end_time": "2025-07-04T17:02:31.532058Z",
     "start_time": "2025-07-04T17:02:31.489166Z"
    }
   },
   "cell_type": "code",
   "source": "tracemalloc.get_traced_memory()",
   "id": "3e046f81db5a866a",
   "outputs": [
    {
     "data": {
      "text/plain": [
       "(0, 0)"
      ]
     },
     "execution_count": 55,
     "metadata": {},
     "output_type": "execute_result"
    }
   ],
   "execution_count": 55
  },
  {
   "metadata": {
    "ExecuteTime": {
     "end_time": "2025-07-04T16:59:14.139088Z",
     "start_time": "2025-07-04T16:59:13.611348Z"
    }
   },
   "cell_type": "code",
   "source": "del video_chunks",
   "id": "e3eab8c83dbee63b",
   "outputs": [],
   "execution_count": 50
  },
  {
   "metadata": {
    "ExecuteTime": {
     "end_time": "2025-07-04T09:30:49.862153Z",
     "start_time": "2025-07-04T09:30:49.814809Z"
    }
   },
   "cell_type": "code",
   "source": "assignment.shape",
   "id": "eb48259d0314601a",
   "outputs": [
    {
     "data": {
      "text/plain": [
       "torch.Size([1, 74])"
      ]
     },
     "execution_count": 26,
     "metadata": {},
     "output_type": "execute_result"
    }
   ],
   "execution_count": 26
  },
  {
   "metadata": {},
   "cell_type": "code",
   "outputs": [],
   "execution_count": null,
   "source": "",
   "id": "51a7e31530bf44a9"
  }
 ],
 "metadata": {
  "kernelspec": {
   "display_name": "Python 3 (ipykernel)",
   "language": "python",
   "name": "python3"
  },
  "language_info": {
   "codemirror_mode": {
    "name": "ipython",
    "version": 3
   },
   "file_extension": ".py",
   "mimetype": "text/x-python",
   "name": "python",
   "nbconvert_exporter": "python",
   "pygments_lexer": "ipython3",
   "version": "3.12.1"
  }
 },
 "nbformat": 4,
 "nbformat_minor": 5
}
